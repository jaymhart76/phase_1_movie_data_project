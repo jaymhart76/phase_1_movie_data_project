{
 "cells": [
  {
   "cell_type": "markdown",
   "metadata": {},
   "source": [
    " ### Microsoft Movie Proposal\n",
    "The purpose of this project is to determine the Ideal movie budget, Genre,\\\n",
    "Release month and the effect of the reviews on the movies ROI and profitability\n"
   ]
  },
  {
   "cell_type": "markdown",
   "metadata": {},
   "source": [
    "In this review, we will look at the data to determine how we can produce a movie\\\n",
    "with the highest profitability and ROI"
   ]
  },
  {
   "cell_type": "markdown",
   "metadata": {},
   "source": [
    "First we must import all our packages for use in the review of the data"
   ]
  },
  {
   "cell_type": "code",
   "execution_count": 1,
   "metadata": {
    "ExecuteTime": {
     "end_time": "2022-05-31T11:01:03.739175Z",
     "start_time": "2022-05-31T11:01:02.971045Z"
    }
   },
   "outputs": [],
   "source": [
    "import numpy as np\n",
    "import pandas as pd\n",
    "import sqlite3\n",
    "import matplotlib.pyplot as plt\n",
    "import csv\n",
    "import seaborn as sns\n",
    "%matplotlib inline\n",
    "import datetime"
   ]
  },
  {
   "cell_type": "markdown",
   "metadata": {},
   "source": [
    "We are bringing in all the data for review"
   ]
  },
  {
   "cell_type": "code",
   "execution_count": 2,
   "metadata": {
    "ExecuteTime": {
     "end_time": "2022-05-31T11:01:03.752058Z",
     "start_time": "2022-05-31T11:01:03.740622Z"
    }
   },
   "outputs": [],
   "source": [
    "movie_budgets_tn = pd.read_csv('/Users/jasonhart/Desktop/flatiron/Phase_1/\\\n",
    "project_folder/tn.movie_budgets.csv', header = 1)"
   ]
  },
  {
   "cell_type": "code",
   "execution_count": 3,
   "metadata": {
    "ExecuteTime": {
     "end_time": "2022-05-31T11:01:03.759247Z",
     "start_time": "2022-05-31T11:01:03.753430Z"
    }
   },
   "outputs": [],
   "source": [
    "movie_budgets_bom = pd.read_csv('/Users/jasonhart/Desktop/flatiron/Phase_1/\\\n",
    "project_folder/bom.movie_gross.csv', header = 1)\n",
    "    "
   ]
  },
  {
   "cell_type": "code",
   "execution_count": 4,
   "metadata": {
    "ExecuteTime": {
     "end_time": "2022-05-31T11:01:03.801017Z",
     "start_time": "2022-05-31T11:01:03.760407Z"
    }
   },
   "outputs": [],
   "source": [
    "tmb_movies = pd.read_csv('/Users/jasonhart/Desktop/flatiron/Phase_1/\\\n",
    "project_folder/tmdb.movies.csv', header = 1)"
   ]
  },
  {
   "cell_type": "code",
   "execution_count": 5,
   "metadata": {
    "ExecuteTime": {
     "end_time": "2022-05-31T11:01:03.906119Z",
     "start_time": "2022-05-31T11:01:03.802012Z"
    }
   },
   "outputs": [],
   "source": [
    "rt_reviews = pd.read_csv('/Users/jasonhart/Desktop/flatiron/Phase_1/project_folder/rt.reviews.csv', header = 1)"
   ]
  },
  {
   "cell_type": "code",
   "execution_count": 6,
   "metadata": {
    "ExecuteTime": {
     "end_time": "2022-05-31T11:01:03.908583Z",
     "start_time": "2022-05-31T11:01:03.906983Z"
    }
   },
   "outputs": [],
   "source": [
    "db_conn = sqlite3.connect('/Users/jasonhart/Desktop/flatiron/Phase_1/project_folder/im.db')\n"
   ]
  },
  {
   "cell_type": "code",
   "execution_count": 7,
   "metadata": {
    "ExecuteTime": {
     "end_time": "2022-05-31T11:01:03.910731Z",
     "start_time": "2022-05-31T11:01:03.909456Z"
    }
   },
   "outputs": [],
   "source": [
    "cur = db_conn.cursor()"
   ]
  },
  {
   "cell_type": "code",
   "execution_count": 8,
   "metadata": {
    "ExecuteTime": {
     "end_time": "2022-05-31T11:01:03.916043Z",
     "start_time": "2022-05-31T11:01:03.912593Z"
    }
   },
   "outputs": [
    {
     "data": {
      "text/plain": [
       "<sqlite3.Cursor at 0x7f9339e6a1f0>"
      ]
     },
     "execution_count": 8,
     "metadata": {},
     "output_type": "execute_result"
    }
   ],
   "source": [
    "cur.execute(\"\"\"SELECT name FROM sqlite_master WHERE type = 'table';\"\"\")\n"
   ]
  },
  {
   "cell_type": "markdown",
   "metadata": {
    "ExecuteTime": {
     "end_time": "2022-05-18T10:34:50.085565Z",
     "start_time": "2022-05-18T10:34:49.727858Z"
    }
   },
   "source": [
    "Data brought into the notebook and begining the data cleaning process"
   ]
  },
  {
   "cell_type": "code",
   "execution_count": 9,
   "metadata": {
    "ExecuteTime": {
     "end_time": "2022-05-31T11:01:03.923819Z",
     "start_time": "2022-05-31T11:01:03.917416Z"
    }
   },
   "outputs": [
    {
     "data": {
      "text/html": [
       "<div>\n",
       "<style scoped>\n",
       "    .dataframe tbody tr th:only-of-type {\n",
       "        vertical-align: middle;\n",
       "    }\n",
       "\n",
       "    .dataframe tbody tr th {\n",
       "        vertical-align: top;\n",
       "    }\n",
       "\n",
       "    .dataframe thead th {\n",
       "        text-align: right;\n",
       "    }\n",
       "</style>\n",
       "<table border=\"1\" class=\"dataframe\">\n",
       "  <thead>\n",
       "    <tr style=\"text-align: right;\">\n",
       "      <th></th>\n",
       "      <th>id</th>\n",
       "      <th>release_date</th>\n",
       "      <th>movie</th>\n",
       "      <th>production_budget</th>\n",
       "      <th>domestic_gross</th>\n",
       "      <th>worldwide_gross</th>\n",
       "    </tr>\n",
       "  </thead>\n",
       "  <tbody>\n",
       "    <tr>\n",
       "      <th>0</th>\n",
       "      <td>1</td>\n",
       "      <td>Dec 18, 2009</td>\n",
       "      <td>Avatar</td>\n",
       "      <td>$425,000,000.00</td>\n",
       "      <td>$760,507,625.00</td>\n",
       "      <td>$2,776,345,279.00</td>\n",
       "    </tr>\n",
       "    <tr>\n",
       "      <th>1</th>\n",
       "      <td>2</td>\n",
       "      <td>May 20, 2011</td>\n",
       "      <td>Pirates of the Caribbean: On Stranger Tides</td>\n",
       "      <td>$410,600,000.00</td>\n",
       "      <td>$241,063,875.00</td>\n",
       "      <td>$1,045,663,875.00</td>\n",
       "    </tr>\n",
       "    <tr>\n",
       "      <th>2</th>\n",
       "      <td>3</td>\n",
       "      <td>Jun 7, 2019</td>\n",
       "      <td>Dark Phoenix</td>\n",
       "      <td>$350,000,000.00</td>\n",
       "      <td>$42,762,350.00</td>\n",
       "      <td>$149,762,350.00</td>\n",
       "    </tr>\n",
       "    <tr>\n",
       "      <th>3</th>\n",
       "      <td>4</td>\n",
       "      <td>May 1, 2015</td>\n",
       "      <td>Avengers: Age of Ultron</td>\n",
       "      <td>$330,600,000.00</td>\n",
       "      <td>$459,005,868.00</td>\n",
       "      <td>$1,403,013,963.00</td>\n",
       "    </tr>\n",
       "    <tr>\n",
       "      <th>4</th>\n",
       "      <td>5</td>\n",
       "      <td>Dec 15, 2017</td>\n",
       "      <td>Star Wars Ep. VIII: The Last Jedi</td>\n",
       "      <td>$317,000,000.00</td>\n",
       "      <td>$620,181,382.00</td>\n",
       "      <td>$1,316,721,747.00</td>\n",
       "    </tr>\n",
       "  </tbody>\n",
       "</table>\n",
       "</div>"
      ],
      "text/plain": [
       "   id  release_date                                        movie  \\\n",
       "0   1  Dec 18, 2009                                       Avatar   \n",
       "1   2  May 20, 2011  Pirates of the Caribbean: On Stranger Tides   \n",
       "2   3   Jun 7, 2019                                 Dark Phoenix   \n",
       "3   4   May 1, 2015                      Avengers: Age of Ultron   \n",
       "4   5  Dec 15, 2017            Star Wars Ep. VIII: The Last Jedi   \n",
       "\n",
       "  production_budget   domestic_gross    worldwide_gross  \n",
       "0   $425,000,000.00  $760,507,625.00  $2,776,345,279.00  \n",
       "1   $410,600,000.00  $241,063,875.00  $1,045,663,875.00  \n",
       "2   $350,000,000.00   $42,762,350.00    $149,762,350.00  \n",
       "3   $330,600,000.00  $459,005,868.00  $1,403,013,963.00  \n",
       "4   $317,000,000.00  $620,181,382.00  $1,316,721,747.00  "
      ]
     },
     "execution_count": 9,
     "metadata": {},
     "output_type": "execute_result"
    }
   ],
   "source": [
    "movie_budgets_tn.head()"
   ]
  },
  {
   "cell_type": "markdown",
   "metadata": {},
   "source": [
    "Taking the monetary data from object type to a numerical type"
   ]
  },
  {
   "cell_type": "code",
   "execution_count": 10,
   "metadata": {
    "ExecuteTime": {
     "end_time": "2022-05-31T11:01:03.930751Z",
     "start_time": "2022-05-31T11:01:03.924628Z"
    }
   },
   "outputs": [],
   "source": [
    "movie_budgets_tn['production_budget'] = movie_budgets_tn['production_budget']\\\n",
    ".str.replace('$',\"\").str.replace(\",\",'').astype(float)\n"
   ]
  },
  {
   "cell_type": "code",
   "execution_count": 11,
   "metadata": {
    "ExecuteTime": {
     "end_time": "2022-05-31T11:01:03.937312Z",
     "start_time": "2022-05-31T11:01:03.931493Z"
    }
   },
   "outputs": [],
   "source": [
    "movie_budgets_tn['domestic_gross']=movie_budgets_tn['domestic_gross']\\\n",
    ".str.replace('$','').str.replace(\",\",'').astype(float)"
   ]
  },
  {
   "cell_type": "code",
   "execution_count": 12,
   "metadata": {
    "ExecuteTime": {
     "end_time": "2022-05-31T11:01:03.944016Z",
     "start_time": "2022-05-31T11:01:03.938087Z"
    }
   },
   "outputs": [],
   "source": [
    "movie_budgets_tn['worldwide_gross']=movie_budgets_tn['worldwide_gross']\\\n",
    ".str.replace('$','').str.replace(\",\",'').astype(float)"
   ]
  },
  {
   "cell_type": "markdown",
   "metadata": {},
   "source": [
    "Setting index = movie title"
   ]
  },
  {
   "cell_type": "code",
   "execution_count": 13,
   "metadata": {
    "ExecuteTime": {
     "end_time": "2022-05-31T11:01:03.948008Z",
     "start_time": "2022-05-31T11:01:03.944831Z"
    }
   },
   "outputs": [],
   "source": [
    "movie_budgets_tn = movie_budgets_tn.set_index('movie').drop('id', axis = 1)"
   ]
  },
  {
   "cell_type": "code",
   "execution_count": 14,
   "metadata": {
    "ExecuteTime": {
     "end_time": "2022-05-31T11:01:03.953715Z",
     "start_time": "2022-05-31T11:01:03.948801Z"
    }
   },
   "outputs": [
    {
     "data": {
      "text/html": [
       "<div>\n",
       "<style scoped>\n",
       "    .dataframe tbody tr th:only-of-type {\n",
       "        vertical-align: middle;\n",
       "    }\n",
       "\n",
       "    .dataframe tbody tr th {\n",
       "        vertical-align: top;\n",
       "    }\n",
       "\n",
       "    .dataframe thead th {\n",
       "        text-align: right;\n",
       "    }\n",
       "</style>\n",
       "<table border=\"1\" class=\"dataframe\">\n",
       "  <thead>\n",
       "    <tr style=\"text-align: right;\">\n",
       "      <th></th>\n",
       "      <th>release_date</th>\n",
       "      <th>production_budget</th>\n",
       "      <th>domestic_gross</th>\n",
       "      <th>worldwide_gross</th>\n",
       "    </tr>\n",
       "    <tr>\n",
       "      <th>movie</th>\n",
       "      <th></th>\n",
       "      <th></th>\n",
       "      <th></th>\n",
       "      <th></th>\n",
       "    </tr>\n",
       "  </thead>\n",
       "  <tbody>\n",
       "    <tr>\n",
       "      <th>Avatar</th>\n",
       "      <td>Dec 18, 2009</td>\n",
       "      <td>425000000.0</td>\n",
       "      <td>760507625.0</td>\n",
       "      <td>2.776345e+09</td>\n",
       "    </tr>\n",
       "    <tr>\n",
       "      <th>Pirates of the Caribbean: On Stranger Tides</th>\n",
       "      <td>May 20, 2011</td>\n",
       "      <td>410600000.0</td>\n",
       "      <td>241063875.0</td>\n",
       "      <td>1.045664e+09</td>\n",
       "    </tr>\n",
       "    <tr>\n",
       "      <th>Dark Phoenix</th>\n",
       "      <td>Jun 7, 2019</td>\n",
       "      <td>350000000.0</td>\n",
       "      <td>42762350.0</td>\n",
       "      <td>1.497624e+08</td>\n",
       "    </tr>\n",
       "    <tr>\n",
       "      <th>Avengers: Age of Ultron</th>\n",
       "      <td>May 1, 2015</td>\n",
       "      <td>330600000.0</td>\n",
       "      <td>459005868.0</td>\n",
       "      <td>1.403014e+09</td>\n",
       "    </tr>\n",
       "    <tr>\n",
       "      <th>Star Wars Ep. VIII: The Last Jedi</th>\n",
       "      <td>Dec 15, 2017</td>\n",
       "      <td>317000000.0</td>\n",
       "      <td>620181382.0</td>\n",
       "      <td>1.316722e+09</td>\n",
       "    </tr>\n",
       "  </tbody>\n",
       "</table>\n",
       "</div>"
      ],
      "text/plain": [
       "                                             release_date  production_budget  \\\n",
       "movie                                                                          \n",
       "Avatar                                       Dec 18, 2009        425000000.0   \n",
       "Pirates of the Caribbean: On Stranger Tides  May 20, 2011        410600000.0   \n",
       "Dark Phoenix                                  Jun 7, 2019        350000000.0   \n",
       "Avengers: Age of Ultron                       May 1, 2015        330600000.0   \n",
       "Star Wars Ep. VIII: The Last Jedi            Dec 15, 2017        317000000.0   \n",
       "\n",
       "                                             domestic_gross  worldwide_gross  \n",
       "movie                                                                         \n",
       "Avatar                                          760507625.0     2.776345e+09  \n",
       "Pirates of the Caribbean: On Stranger Tides     241063875.0     1.045664e+09  \n",
       "Dark Phoenix                                     42762350.0     1.497624e+08  \n",
       "Avengers: Age of Ultron                         459005868.0     1.403014e+09  \n",
       "Star Wars Ep. VIII: The Last Jedi               620181382.0     1.316722e+09  "
      ]
     },
     "execution_count": 14,
     "metadata": {},
     "output_type": "execute_result"
    }
   ],
   "source": [
    "movie_budgets_tn.head()"
   ]
  },
  {
   "cell_type": "markdown",
   "metadata": {},
   "source": [
    "Utilizing the title as the index"
   ]
  },
  {
   "cell_type": "code",
   "execution_count": 15,
   "metadata": {
    "ExecuteTime": {
     "end_time": "2022-05-31T11:01:03.956526Z",
     "start_time": "2022-05-31T11:01:03.954580Z"
    }
   },
   "outputs": [],
   "source": [
    "movie_budgets_bom.set_index('title', inplace = True)"
   ]
  },
  {
   "cell_type": "code",
   "execution_count": 16,
   "metadata": {
    "ExecuteTime": {
     "end_time": "2022-05-31T11:01:03.961670Z",
     "start_time": "2022-05-31T11:01:03.957345Z"
    }
   },
   "outputs": [
    {
     "data": {
      "text/html": [
       "<div>\n",
       "<style scoped>\n",
       "    .dataframe tbody tr th:only-of-type {\n",
       "        vertical-align: middle;\n",
       "    }\n",
       "\n",
       "    .dataframe tbody tr th {\n",
       "        vertical-align: top;\n",
       "    }\n",
       "\n",
       "    .dataframe thead th {\n",
       "        text-align: right;\n",
       "    }\n",
       "</style>\n",
       "<table border=\"1\" class=\"dataframe\">\n",
       "  <thead>\n",
       "    <tr style=\"text-align: right;\">\n",
       "      <th></th>\n",
       "      <th>studio</th>\n",
       "      <th>domestic_gross</th>\n",
       "      <th>foreign_gross</th>\n",
       "      <th>year</th>\n",
       "    </tr>\n",
       "    <tr>\n",
       "      <th>title</th>\n",
       "      <th></th>\n",
       "      <th></th>\n",
       "      <th></th>\n",
       "      <th></th>\n",
       "    </tr>\n",
       "  </thead>\n",
       "  <tbody>\n",
       "    <tr>\n",
       "      <th>Toy Story 3</th>\n",
       "      <td>BV</td>\n",
       "      <td>415000000.0</td>\n",
       "      <td>652000000</td>\n",
       "      <td>2010</td>\n",
       "    </tr>\n",
       "    <tr>\n",
       "      <th>Alice in Wonderland (2010)</th>\n",
       "      <td>BV</td>\n",
       "      <td>334200000.0</td>\n",
       "      <td>691300000</td>\n",
       "      <td>2010</td>\n",
       "    </tr>\n",
       "    <tr>\n",
       "      <th>Harry Potter and the Deathly Hallows Part 1</th>\n",
       "      <td>WB</td>\n",
       "      <td>296000000.0</td>\n",
       "      <td>664300000</td>\n",
       "      <td>2010</td>\n",
       "    </tr>\n",
       "    <tr>\n",
       "      <th>Inception</th>\n",
       "      <td>WB</td>\n",
       "      <td>292600000.0</td>\n",
       "      <td>535700000</td>\n",
       "      <td>2010</td>\n",
       "    </tr>\n",
       "    <tr>\n",
       "      <th>Shrek Forever After</th>\n",
       "      <td>P/DW</td>\n",
       "      <td>238700000.0</td>\n",
       "      <td>513900000</td>\n",
       "      <td>2010</td>\n",
       "    </tr>\n",
       "  </tbody>\n",
       "</table>\n",
       "</div>"
      ],
      "text/plain": [
       "                                            studio  domestic_gross  \\\n",
       "title                                                                \n",
       "Toy Story 3                                     BV     415000000.0   \n",
       "Alice in Wonderland (2010)                      BV     334200000.0   \n",
       "Harry Potter and the Deathly Hallows Part 1     WB     296000000.0   \n",
       "Inception                                       WB     292600000.0   \n",
       "Shrek Forever After                           P/DW     238700000.0   \n",
       "\n",
       "                                            foreign_gross  year  \n",
       "title                                                            \n",
       "Toy Story 3                                     652000000  2010  \n",
       "Alice in Wonderland (2010)                      691300000  2010  \n",
       "Harry Potter and the Deathly Hallows Part 1     664300000  2010  \n",
       "Inception                                       535700000  2010  \n",
       "Shrek Forever After                             513900000  2010  "
      ]
     },
     "execution_count": 16,
     "metadata": {},
     "output_type": "execute_result"
    }
   ],
   "source": [
    "movie_budgets_bom.head()"
   ]
  },
  {
   "cell_type": "code",
   "execution_count": null,
   "metadata": {
    "ExecuteTime": {
     "end_time": "2022-05-26T14:33:36.670110Z",
     "start_time": "2022-05-26T14:33:36.621964Z"
    }
   },
   "outputs": [],
   "source": []
  },
  {
   "cell_type": "code",
   "execution_count": null,
   "metadata": {
    "ExecuteTime": {
     "end_time": "2022-05-26T13:22:20.532877Z",
     "start_time": "2022-05-26T13:22:20.525459Z"
    }
   },
   "outputs": [],
   "source": []
  },
  {
   "cell_type": "code",
   "execution_count": null,
   "metadata": {
    "ExecuteTime": {
     "end_time": "2022-05-26T13:22:20.540862Z",
     "start_time": "2022-05-26T13:22:20.534508Z"
    }
   },
   "outputs": [],
   "source": []
  },
  {
   "cell_type": "markdown",
   "metadata": {
    "ExecuteTime": {
     "end_time": "2022-05-23T11:11:17.117456Z",
     "start_time": "2022-05-23T11:11:17.111394Z"
    }
   },
   "source": [
    "Creating a profit and ROI column to perform comparison"
   ]
  },
  {
   "cell_type": "code",
   "execution_count": 17,
   "metadata": {
    "ExecuteTime": {
     "end_time": "2022-05-31T11:01:03.967156Z",
     "start_time": "2022-05-31T11:01:03.962472Z"
    }
   },
   "outputs": [
    {
     "data": {
      "text/html": [
       "<div>\n",
       "<style scoped>\n",
       "    .dataframe tbody tr th:only-of-type {\n",
       "        vertical-align: middle;\n",
       "    }\n",
       "\n",
       "    .dataframe tbody tr th {\n",
       "        vertical-align: top;\n",
       "    }\n",
       "\n",
       "    .dataframe thead th {\n",
       "        text-align: right;\n",
       "    }\n",
       "</style>\n",
       "<table border=\"1\" class=\"dataframe\">\n",
       "  <thead>\n",
       "    <tr style=\"text-align: right;\">\n",
       "      <th></th>\n",
       "      <th>release_date</th>\n",
       "      <th>production_budget</th>\n",
       "      <th>domestic_gross</th>\n",
       "      <th>worldwide_gross</th>\n",
       "    </tr>\n",
       "    <tr>\n",
       "      <th>movie</th>\n",
       "      <th></th>\n",
       "      <th></th>\n",
       "      <th></th>\n",
       "      <th></th>\n",
       "    </tr>\n",
       "  </thead>\n",
       "  <tbody>\n",
       "    <tr>\n",
       "      <th>Avatar</th>\n",
       "      <td>Dec 18, 2009</td>\n",
       "      <td>425000000.0</td>\n",
       "      <td>760507625.0</td>\n",
       "      <td>2.776345e+09</td>\n",
       "    </tr>\n",
       "    <tr>\n",
       "      <th>Pirates of the Caribbean: On Stranger Tides</th>\n",
       "      <td>May 20, 2011</td>\n",
       "      <td>410600000.0</td>\n",
       "      <td>241063875.0</td>\n",
       "      <td>1.045664e+09</td>\n",
       "    </tr>\n",
       "    <tr>\n",
       "      <th>Dark Phoenix</th>\n",
       "      <td>Jun 7, 2019</td>\n",
       "      <td>350000000.0</td>\n",
       "      <td>42762350.0</td>\n",
       "      <td>1.497624e+08</td>\n",
       "    </tr>\n",
       "    <tr>\n",
       "      <th>Avengers: Age of Ultron</th>\n",
       "      <td>May 1, 2015</td>\n",
       "      <td>330600000.0</td>\n",
       "      <td>459005868.0</td>\n",
       "      <td>1.403014e+09</td>\n",
       "    </tr>\n",
       "    <tr>\n",
       "      <th>Star Wars Ep. VIII: The Last Jedi</th>\n",
       "      <td>Dec 15, 2017</td>\n",
       "      <td>317000000.0</td>\n",
       "      <td>620181382.0</td>\n",
       "      <td>1.316722e+09</td>\n",
       "    </tr>\n",
       "  </tbody>\n",
       "</table>\n",
       "</div>"
      ],
      "text/plain": [
       "                                             release_date  production_budget  \\\n",
       "movie                                                                          \n",
       "Avatar                                       Dec 18, 2009        425000000.0   \n",
       "Pirates of the Caribbean: On Stranger Tides  May 20, 2011        410600000.0   \n",
       "Dark Phoenix                                  Jun 7, 2019        350000000.0   \n",
       "Avengers: Age of Ultron                       May 1, 2015        330600000.0   \n",
       "Star Wars Ep. VIII: The Last Jedi            Dec 15, 2017        317000000.0   \n",
       "\n",
       "                                             domestic_gross  worldwide_gross  \n",
       "movie                                                                         \n",
       "Avatar                                          760507625.0     2.776345e+09  \n",
       "Pirates of the Caribbean: On Stranger Tides     241063875.0     1.045664e+09  \n",
       "Dark Phoenix                                     42762350.0     1.497624e+08  \n",
       "Avengers: Age of Ultron                         459005868.0     1.403014e+09  \n",
       "Star Wars Ep. VIII: The Last Jedi               620181382.0     1.316722e+09  "
      ]
     },
     "execution_count": 17,
     "metadata": {},
     "output_type": "execute_result"
    }
   ],
   "source": [
    "movie_budgets_tn.head()"
   ]
  },
  {
   "cell_type": "code",
   "execution_count": 18,
   "metadata": {
    "ExecuteTime": {
     "end_time": "2022-05-31T11:01:03.970976Z",
     "start_time": "2022-05-31T11:01:03.967969Z"
    }
   },
   "outputs": [],
   "source": [
    "movie_budgets_tn['profit']=(movie_budgets_tn['worldwide_gross']+\\\n",
    "movie_budgets_tn['domestic_gross'])-movie_budgets_tn['production_budget']"
   ]
  },
  {
   "cell_type": "code",
   "execution_count": 19,
   "metadata": {
    "ExecuteTime": {
     "end_time": "2022-05-31T11:01:03.979793Z",
     "start_time": "2022-05-31T11:01:03.971779Z"
    }
   },
   "outputs": [
    {
     "data": {
      "text/html": [
       "<div>\n",
       "<style scoped>\n",
       "    .dataframe tbody tr th:only-of-type {\n",
       "        vertical-align: middle;\n",
       "    }\n",
       "\n",
       "    .dataframe tbody tr th {\n",
       "        vertical-align: top;\n",
       "    }\n",
       "\n",
       "    .dataframe thead th {\n",
       "        text-align: right;\n",
       "    }\n",
       "</style>\n",
       "<table border=\"1\" class=\"dataframe\">\n",
       "  <thead>\n",
       "    <tr style=\"text-align: right;\">\n",
       "      <th></th>\n",
       "      <th>release_date</th>\n",
       "      <th>production_budget</th>\n",
       "      <th>domestic_gross</th>\n",
       "      <th>worldwide_gross</th>\n",
       "      <th>profit</th>\n",
       "    </tr>\n",
       "    <tr>\n",
       "      <th>movie</th>\n",
       "      <th></th>\n",
       "      <th></th>\n",
       "      <th></th>\n",
       "      <th></th>\n",
       "      <th></th>\n",
       "    </tr>\n",
       "  </thead>\n",
       "  <tbody>\n",
       "    <tr>\n",
       "      <th>Avatar</th>\n",
       "      <td>Dec 18, 2009</td>\n",
       "      <td>425000000.0</td>\n",
       "      <td>760507625.0</td>\n",
       "      <td>2.776345e+09</td>\n",
       "      <td>3.111853e+09</td>\n",
       "    </tr>\n",
       "    <tr>\n",
       "      <th>Star Wars Ep. VII: The Force Awakens</th>\n",
       "      <td>Dec 18, 2015</td>\n",
       "      <td>306000000.0</td>\n",
       "      <td>936662225.0</td>\n",
       "      <td>2.053311e+09</td>\n",
       "      <td>2.683973e+09</td>\n",
       "    </tr>\n",
       "    <tr>\n",
       "      <th>Titanic</th>\n",
       "      <td>Dec 19, 1997</td>\n",
       "      <td>200000000.0</td>\n",
       "      <td>659363944.0</td>\n",
       "      <td>2.208208e+09</td>\n",
       "      <td>2.667572e+09</td>\n",
       "    </tr>\n",
       "    <tr>\n",
       "      <th>Avengers: Infinity War</th>\n",
       "      <td>Apr 27, 2018</td>\n",
       "      <td>300000000.0</td>\n",
       "      <td>678815482.0</td>\n",
       "      <td>2.048134e+09</td>\n",
       "      <td>2.426950e+09</td>\n",
       "    </tr>\n",
       "    <tr>\n",
       "      <th>Jurassic World</th>\n",
       "      <td>Jun 12, 2015</td>\n",
       "      <td>215000000.0</td>\n",
       "      <td>652270625.0</td>\n",
       "      <td>1.648855e+09</td>\n",
       "      <td>2.086125e+09</td>\n",
       "    </tr>\n",
       "    <tr>\n",
       "      <th>...</th>\n",
       "      <td>...</td>\n",
       "      <td>...</td>\n",
       "      <td>...</td>\n",
       "      <td>...</td>\n",
       "      <td>...</td>\n",
       "    </tr>\n",
       "    <tr>\n",
       "      <th>Army of the Dead</th>\n",
       "      <td>Dec 31, 2019</td>\n",
       "      <td>90000000.0</td>\n",
       "      <td>0.0</td>\n",
       "      <td>0.000000e+00</td>\n",
       "      <td>-9.000000e+07</td>\n",
       "    </tr>\n",
       "    <tr>\n",
       "      <th>Bright</th>\n",
       "      <td>Dec 13, 2017</td>\n",
       "      <td>90000000.0</td>\n",
       "      <td>0.0</td>\n",
       "      <td>0.000000e+00</td>\n",
       "      <td>-9.000000e+07</td>\n",
       "    </tr>\n",
       "    <tr>\n",
       "      <th>Men in Black: International</th>\n",
       "      <td>Jun 14, 2019</td>\n",
       "      <td>110000000.0</td>\n",
       "      <td>3100000.0</td>\n",
       "      <td>3.100000e+06</td>\n",
       "      <td>-1.038000e+08</td>\n",
       "    </tr>\n",
       "    <tr>\n",
       "      <th>Moonfall</th>\n",
       "      <td>Dec 31, 2020</td>\n",
       "      <td>150000000.0</td>\n",
       "      <td>0.0</td>\n",
       "      <td>0.000000e+00</td>\n",
       "      <td>-1.500000e+08</td>\n",
       "    </tr>\n",
       "    <tr>\n",
       "      <th>Dark Phoenix</th>\n",
       "      <td>Jun 7, 2019</td>\n",
       "      <td>350000000.0</td>\n",
       "      <td>42762350.0</td>\n",
       "      <td>1.497624e+08</td>\n",
       "      <td>-1.574753e+08</td>\n",
       "    </tr>\n",
       "  </tbody>\n",
       "</table>\n",
       "<p>5782 rows × 5 columns</p>\n",
       "</div>"
      ],
      "text/plain": [
       "                                      release_date  production_budget  \\\n",
       "movie                                                                   \n",
       "Avatar                                Dec 18, 2009        425000000.0   \n",
       "Star Wars Ep. VII: The Force Awakens  Dec 18, 2015        306000000.0   \n",
       "Titanic                               Dec 19, 1997        200000000.0   \n",
       "Avengers: Infinity War                Apr 27, 2018        300000000.0   \n",
       "Jurassic World                        Jun 12, 2015        215000000.0   \n",
       "...                                            ...                ...   \n",
       "Army of the Dead                      Dec 31, 2019         90000000.0   \n",
       "Bright                                Dec 13, 2017         90000000.0   \n",
       "Men in Black: International           Jun 14, 2019        110000000.0   \n",
       "Moonfall                              Dec 31, 2020        150000000.0   \n",
       "Dark Phoenix                           Jun 7, 2019        350000000.0   \n",
       "\n",
       "                                      domestic_gross  worldwide_gross  \\\n",
       "movie                                                                   \n",
       "Avatar                                   760507625.0     2.776345e+09   \n",
       "Star Wars Ep. VII: The Force Awakens     936662225.0     2.053311e+09   \n",
       "Titanic                                  659363944.0     2.208208e+09   \n",
       "Avengers: Infinity War                   678815482.0     2.048134e+09   \n",
       "Jurassic World                           652270625.0     1.648855e+09   \n",
       "...                                              ...              ...   \n",
       "Army of the Dead                                 0.0     0.000000e+00   \n",
       "Bright                                           0.0     0.000000e+00   \n",
       "Men in Black: International                3100000.0     3.100000e+06   \n",
       "Moonfall                                         0.0     0.000000e+00   \n",
       "Dark Phoenix                              42762350.0     1.497624e+08   \n",
       "\n",
       "                                            profit  \n",
       "movie                                               \n",
       "Avatar                                3.111853e+09  \n",
       "Star Wars Ep. VII: The Force Awakens  2.683973e+09  \n",
       "Titanic                               2.667572e+09  \n",
       "Avengers: Infinity War                2.426950e+09  \n",
       "Jurassic World                        2.086125e+09  \n",
       "...                                            ...  \n",
       "Army of the Dead                     -9.000000e+07  \n",
       "Bright                               -9.000000e+07  \n",
       "Men in Black: International          -1.038000e+08  \n",
       "Moonfall                             -1.500000e+08  \n",
       "Dark Phoenix                         -1.574753e+08  \n",
       "\n",
       "[5782 rows x 5 columns]"
      ]
     },
     "execution_count": 19,
     "metadata": {},
     "output_type": "execute_result"
    }
   ],
   "source": [
    "movie_budgets_tn.sort_values('profit', ascending = False)"
   ]
  },
  {
   "cell_type": "code",
   "execution_count": 20,
   "metadata": {
    "ExecuteTime": {
     "end_time": "2022-05-31T11:01:03.989961Z",
     "start_time": "2022-05-31T11:01:03.980646Z"
    }
   },
   "outputs": [
    {
     "data": {
      "text/html": [
       "<div>\n",
       "<style scoped>\n",
       "    .dataframe tbody tr th:only-of-type {\n",
       "        vertical-align: middle;\n",
       "    }\n",
       "\n",
       "    .dataframe tbody tr th {\n",
       "        vertical-align: top;\n",
       "    }\n",
       "\n",
       "    .dataframe thead th {\n",
       "        text-align: right;\n",
       "    }\n",
       "</style>\n",
       "<table border=\"1\" class=\"dataframe\">\n",
       "  <thead>\n",
       "    <tr style=\"text-align: right;\">\n",
       "      <th></th>\n",
       "      <th>release_date</th>\n",
       "      <th>production_budget</th>\n",
       "      <th>domestic_gross</th>\n",
       "      <th>worldwide_gross</th>\n",
       "      <th>profit</th>\n",
       "      <th>roi</th>\n",
       "    </tr>\n",
       "    <tr>\n",
       "      <th>movie</th>\n",
       "      <th></th>\n",
       "      <th></th>\n",
       "      <th></th>\n",
       "      <th></th>\n",
       "      <th></th>\n",
       "      <th></th>\n",
       "    </tr>\n",
       "  </thead>\n",
       "  <tbody>\n",
       "    <tr>\n",
       "      <th>Avatar</th>\n",
       "      <td>Dec 18, 2009</td>\n",
       "      <td>425000000.0</td>\n",
       "      <td>760507625.0</td>\n",
       "      <td>2.776345e+09</td>\n",
       "      <td>3.111853e+09</td>\n",
       "      <td>7.322007</td>\n",
       "    </tr>\n",
       "    <tr>\n",
       "      <th>Pirates of the Caribbean: On Stranger Tides</th>\n",
       "      <td>May 20, 2011</td>\n",
       "      <td>410600000.0</td>\n",
       "      <td>241063875.0</td>\n",
       "      <td>1.045664e+09</td>\n",
       "      <td>8.761278e+08</td>\n",
       "      <td>2.133774</td>\n",
       "    </tr>\n",
       "    <tr>\n",
       "      <th>Dark Phoenix</th>\n",
       "      <td>Jun 7, 2019</td>\n",
       "      <td>350000000.0</td>\n",
       "      <td>42762350.0</td>\n",
       "      <td>1.497624e+08</td>\n",
       "      <td>-1.574753e+08</td>\n",
       "      <td>-0.449929</td>\n",
       "    </tr>\n",
       "    <tr>\n",
       "      <th>Avengers: Age of Ultron</th>\n",
       "      <td>May 1, 2015</td>\n",
       "      <td>330600000.0</td>\n",
       "      <td>459005868.0</td>\n",
       "      <td>1.403014e+09</td>\n",
       "      <td>1.531420e+09</td>\n",
       "      <td>4.632244</td>\n",
       "    </tr>\n",
       "    <tr>\n",
       "      <th>Star Wars Ep. VIII: The Last Jedi</th>\n",
       "      <td>Dec 15, 2017</td>\n",
       "      <td>317000000.0</td>\n",
       "      <td>620181382.0</td>\n",
       "      <td>1.316722e+09</td>\n",
       "      <td>1.619903e+09</td>\n",
       "      <td>5.110105</td>\n",
       "    </tr>\n",
       "    <tr>\n",
       "      <th>...</th>\n",
       "      <td>...</td>\n",
       "      <td>...</td>\n",
       "      <td>...</td>\n",
       "      <td>...</td>\n",
       "      <td>...</td>\n",
       "      <td>...</td>\n",
       "    </tr>\n",
       "    <tr>\n",
       "      <th>Red 11</th>\n",
       "      <td>Dec 31, 2018</td>\n",
       "      <td>7000.0</td>\n",
       "      <td>0.0</td>\n",
       "      <td>0.000000e+00</td>\n",
       "      <td>-7.000000e+03</td>\n",
       "      <td>-1.000000</td>\n",
       "    </tr>\n",
       "    <tr>\n",
       "      <th>Following</th>\n",
       "      <td>Apr 2, 1999</td>\n",
       "      <td>6000.0</td>\n",
       "      <td>48482.0</td>\n",
       "      <td>2.404950e+05</td>\n",
       "      <td>2.829770e+05</td>\n",
       "      <td>47.162833</td>\n",
       "    </tr>\n",
       "    <tr>\n",
       "      <th>Return to the Land of Wonders</th>\n",
       "      <td>Jul 13, 2005</td>\n",
       "      <td>5000.0</td>\n",
       "      <td>1338.0</td>\n",
       "      <td>1.338000e+03</td>\n",
       "      <td>-2.324000e+03</td>\n",
       "      <td>-0.464800</td>\n",
       "    </tr>\n",
       "    <tr>\n",
       "      <th>A Plague So Pleasant</th>\n",
       "      <td>Sep 29, 2015</td>\n",
       "      <td>1400.0</td>\n",
       "      <td>0.0</td>\n",
       "      <td>0.000000e+00</td>\n",
       "      <td>-1.400000e+03</td>\n",
       "      <td>-1.000000</td>\n",
       "    </tr>\n",
       "    <tr>\n",
       "      <th>My Date With Drew</th>\n",
       "      <td>Aug 5, 2005</td>\n",
       "      <td>1100.0</td>\n",
       "      <td>181041.0</td>\n",
       "      <td>1.810410e+05</td>\n",
       "      <td>3.609820e+05</td>\n",
       "      <td>328.165455</td>\n",
       "    </tr>\n",
       "  </tbody>\n",
       "</table>\n",
       "<p>5782 rows × 6 columns</p>\n",
       "</div>"
      ],
      "text/plain": [
       "                                             release_date  production_budget  \\\n",
       "movie                                                                          \n",
       "Avatar                                       Dec 18, 2009        425000000.0   \n",
       "Pirates of the Caribbean: On Stranger Tides  May 20, 2011        410600000.0   \n",
       "Dark Phoenix                                  Jun 7, 2019        350000000.0   \n",
       "Avengers: Age of Ultron                       May 1, 2015        330600000.0   \n",
       "Star Wars Ep. VIII: The Last Jedi            Dec 15, 2017        317000000.0   \n",
       "...                                                   ...                ...   \n",
       "Red 11                                       Dec 31, 2018             7000.0   \n",
       "Following                                     Apr 2, 1999             6000.0   \n",
       "Return to the Land of Wonders                Jul 13, 2005             5000.0   \n",
       "A Plague So Pleasant                         Sep 29, 2015             1400.0   \n",
       "My Date With Drew                             Aug 5, 2005             1100.0   \n",
       "\n",
       "                                             domestic_gross  worldwide_gross  \\\n",
       "movie                                                                          \n",
       "Avatar                                          760507625.0     2.776345e+09   \n",
       "Pirates of the Caribbean: On Stranger Tides     241063875.0     1.045664e+09   \n",
       "Dark Phoenix                                     42762350.0     1.497624e+08   \n",
       "Avengers: Age of Ultron                         459005868.0     1.403014e+09   \n",
       "Star Wars Ep. VIII: The Last Jedi               620181382.0     1.316722e+09   \n",
       "...                                                     ...              ...   \n",
       "Red 11                                                  0.0     0.000000e+00   \n",
       "Following                                           48482.0     2.404950e+05   \n",
       "Return to the Land of Wonders                        1338.0     1.338000e+03   \n",
       "A Plague So Pleasant                                    0.0     0.000000e+00   \n",
       "My Date With Drew                                  181041.0     1.810410e+05   \n",
       "\n",
       "                                                   profit         roi  \n",
       "movie                                                                  \n",
       "Avatar                                       3.111853e+09    7.322007  \n",
       "Pirates of the Caribbean: On Stranger Tides  8.761278e+08    2.133774  \n",
       "Dark Phoenix                                -1.574753e+08   -0.449929  \n",
       "Avengers: Age of Ultron                      1.531420e+09    4.632244  \n",
       "Star Wars Ep. VIII: The Last Jedi            1.619903e+09    5.110105  \n",
       "...                                                   ...         ...  \n",
       "Red 11                                      -7.000000e+03   -1.000000  \n",
       "Following                                    2.829770e+05   47.162833  \n",
       "Return to the Land of Wonders               -2.324000e+03   -0.464800  \n",
       "A Plague So Pleasant                        -1.400000e+03   -1.000000  \n",
       "My Date With Drew                            3.609820e+05  328.165455  \n",
       "\n",
       "[5782 rows x 6 columns]"
      ]
     },
     "execution_count": 20,
     "metadata": {},
     "output_type": "execute_result"
    }
   ],
   "source": [
    "movie_budgets_tn['roi']=movie_budgets_tn['profit']/movie_budgets_tn['production_budget']\n",
    "movie_budgets_tn"
   ]
  },
  {
   "cell_type": "code",
   "execution_count": 21,
   "metadata": {
    "ExecuteTime": {
     "end_time": "2022-05-31T11:01:03.998797Z",
     "start_time": "2022-05-31T11:01:03.990780Z"
    }
   },
   "outputs": [
    {
     "data": {
      "text/html": [
       "<div>\n",
       "<style scoped>\n",
       "    .dataframe tbody tr th:only-of-type {\n",
       "        vertical-align: middle;\n",
       "    }\n",
       "\n",
       "    .dataframe tbody tr th {\n",
       "        vertical-align: top;\n",
       "    }\n",
       "\n",
       "    .dataframe thead th {\n",
       "        text-align: right;\n",
       "    }\n",
       "</style>\n",
       "<table border=\"1\" class=\"dataframe\">\n",
       "  <thead>\n",
       "    <tr style=\"text-align: right;\">\n",
       "      <th></th>\n",
       "      <th>release_date</th>\n",
       "      <th>production_budget</th>\n",
       "      <th>domestic_gross</th>\n",
       "      <th>worldwide_gross</th>\n",
       "      <th>profit</th>\n",
       "      <th>roi</th>\n",
       "    </tr>\n",
       "    <tr>\n",
       "      <th>movie</th>\n",
       "      <th></th>\n",
       "      <th></th>\n",
       "      <th></th>\n",
       "      <th></th>\n",
       "      <th></th>\n",
       "      <th></th>\n",
       "    </tr>\n",
       "  </thead>\n",
       "  <tbody>\n",
       "    <tr>\n",
       "      <th>Deep Throat</th>\n",
       "      <td>Jun 30, 1972</td>\n",
       "      <td>25000.0</td>\n",
       "      <td>45000000.0</td>\n",
       "      <td>45000000.0</td>\n",
       "      <td>89975000.0</td>\n",
       "      <td>3599.000000</td>\n",
       "    </tr>\n",
       "    <tr>\n",
       "      <th>Paranormal Activity</th>\n",
       "      <td>Sep 25, 2009</td>\n",
       "      <td>450000.0</td>\n",
       "      <td>107918810.0</td>\n",
       "      <td>194183034.0</td>\n",
       "      <td>301651844.0</td>\n",
       "      <td>670.337431</td>\n",
       "    </tr>\n",
       "    <tr>\n",
       "      <th>The Blair Witch Project</th>\n",
       "      <td>Jul 14, 1999</td>\n",
       "      <td>600000.0</td>\n",
       "      <td>140539099.0</td>\n",
       "      <td>248300000.0</td>\n",
       "      <td>388239099.0</td>\n",
       "      <td>647.065165</td>\n",
       "    </tr>\n",
       "    <tr>\n",
       "      <th>The Gallows</th>\n",
       "      <td>Jul 10, 2015</td>\n",
       "      <td>100000.0</td>\n",
       "      <td>22764410.0</td>\n",
       "      <td>41656474.0</td>\n",
       "      <td>64320884.0</td>\n",
       "      <td>643.208840</td>\n",
       "    </tr>\n",
       "    <tr>\n",
       "      <th>El Mariachi</th>\n",
       "      <td>Feb 26, 1993</td>\n",
       "      <td>7000.0</td>\n",
       "      <td>2040920.0</td>\n",
       "      <td>2041928.0</td>\n",
       "      <td>4075848.0</td>\n",
       "      <td>582.264000</td>\n",
       "    </tr>\n",
       "    <tr>\n",
       "      <th>...</th>\n",
       "      <td>...</td>\n",
       "      <td>...</td>\n",
       "      <td>...</td>\n",
       "      <td>...</td>\n",
       "      <td>...</td>\n",
       "      <td>...</td>\n",
       "    </tr>\n",
       "    <tr>\n",
       "      <th>The Lion of Judah</th>\n",
       "      <td>Jun 3, 2011</td>\n",
       "      <td>1500000.0</td>\n",
       "      <td>0.0</td>\n",
       "      <td>0.0</td>\n",
       "      <td>-1500000.0</td>\n",
       "      <td>-1.000000</td>\n",
       "    </tr>\n",
       "    <tr>\n",
       "      <th>Fetching Cody</th>\n",
       "      <td>Mar 17, 2006</td>\n",
       "      <td>1500000.0</td>\n",
       "      <td>0.0</td>\n",
       "      <td>0.0</td>\n",
       "      <td>-1500000.0</td>\n",
       "      <td>-1.000000</td>\n",
       "    </tr>\n",
       "    <tr>\n",
       "      <th>The Kingâs Thief</th>\n",
       "      <td>Aug 5, 1955</td>\n",
       "      <td>1577000.0</td>\n",
       "      <td>0.0</td>\n",
       "      <td>0.0</td>\n",
       "      <td>-1577000.0</td>\n",
       "      <td>-1.000000</td>\n",
       "    </tr>\n",
       "    <tr>\n",
       "      <th>Living Dark: The Story of Ted the Caver</th>\n",
       "      <td>Apr 23, 2019</td>\n",
       "      <td>1750000.0</td>\n",
       "      <td>0.0</td>\n",
       "      <td>0.0</td>\n",
       "      <td>-1750000.0</td>\n",
       "      <td>-1.000000</td>\n",
       "    </tr>\n",
       "    <tr>\n",
       "      <th>Midway</th>\n",
       "      <td>Nov 8, 2019</td>\n",
       "      <td>59500000.0</td>\n",
       "      <td>0.0</td>\n",
       "      <td>0.0</td>\n",
       "      <td>-59500000.0</td>\n",
       "      <td>-1.000000</td>\n",
       "    </tr>\n",
       "  </tbody>\n",
       "</table>\n",
       "<p>5782 rows × 6 columns</p>\n",
       "</div>"
      ],
      "text/plain": [
       "                                         release_date  production_budget  \\\n",
       "movie                                                                      \n",
       "Deep Throat                              Jun 30, 1972            25000.0   \n",
       "Paranormal Activity                      Sep 25, 2009           450000.0   \n",
       "The Blair Witch Project                  Jul 14, 1999           600000.0   \n",
       "The Gallows                              Jul 10, 2015           100000.0   \n",
       "El Mariachi                              Feb 26, 1993             7000.0   \n",
       "...                                               ...                ...   \n",
       "The Lion of Judah                         Jun 3, 2011          1500000.0   \n",
       "Fetching Cody                            Mar 17, 2006          1500000.0   \n",
       "The Kingâs Thief                        Aug 5, 1955          1577000.0   \n",
       "Living Dark: The Story of Ted the Caver  Apr 23, 2019          1750000.0   \n",
       "Midway                                    Nov 8, 2019         59500000.0   \n",
       "\n",
       "                                         domestic_gross  worldwide_gross  \\\n",
       "movie                                                                      \n",
       "Deep Throat                                  45000000.0       45000000.0   \n",
       "Paranormal Activity                         107918810.0      194183034.0   \n",
       "The Blair Witch Project                     140539099.0      248300000.0   \n",
       "The Gallows                                  22764410.0       41656474.0   \n",
       "El Mariachi                                   2040920.0        2041928.0   \n",
       "...                                                 ...              ...   \n",
       "The Lion of Judah                                   0.0              0.0   \n",
       "Fetching Cody                                       0.0              0.0   \n",
       "The Kingâs Thief                                  0.0              0.0   \n",
       "Living Dark: The Story of Ted the Caver             0.0              0.0   \n",
       "Midway                                              0.0              0.0   \n",
       "\n",
       "                                              profit          roi  \n",
       "movie                                                              \n",
       "Deep Throat                               89975000.0  3599.000000  \n",
       "Paranormal Activity                      301651844.0   670.337431  \n",
       "The Blair Witch Project                  388239099.0   647.065165  \n",
       "The Gallows                               64320884.0   643.208840  \n",
       "El Mariachi                                4075848.0   582.264000  \n",
       "...                                              ...          ...  \n",
       "The Lion of Judah                         -1500000.0    -1.000000  \n",
       "Fetching Cody                             -1500000.0    -1.000000  \n",
       "The Kingâs Thief                        -1577000.0    -1.000000  \n",
       "Living Dark: The Story of Ted the Caver   -1750000.0    -1.000000  \n",
       "Midway                                   -59500000.0    -1.000000  \n",
       "\n",
       "[5782 rows x 6 columns]"
      ]
     },
     "execution_count": 21,
     "metadata": {},
     "output_type": "execute_result"
    }
   ],
   "source": [
    "movie_budgets_tn.sort_values('roi', ascending = False)"
   ]
  },
  {
   "cell_type": "markdown",
   "metadata": {},
   "source": [
    "Determining how to restict the data to eliminate outlyers"
   ]
  },
  {
   "cell_type": "code",
   "execution_count": 22,
   "metadata": {
    "ExecuteTime": {
     "end_time": "2022-05-31T11:01:04.011671Z",
     "start_time": "2022-05-31T11:01:03.999588Z"
    }
   },
   "outputs": [
    {
     "data": {
      "text/html": [
       "<div>\n",
       "<style scoped>\n",
       "    .dataframe tbody tr th:only-of-type {\n",
       "        vertical-align: middle;\n",
       "    }\n",
       "\n",
       "    .dataframe tbody tr th {\n",
       "        vertical-align: top;\n",
       "    }\n",
       "\n",
       "    .dataframe thead th {\n",
       "        text-align: right;\n",
       "    }\n",
       "</style>\n",
       "<table border=\"1\" class=\"dataframe\">\n",
       "  <thead>\n",
       "    <tr style=\"text-align: right;\">\n",
       "      <th></th>\n",
       "      <th>production_budget</th>\n",
       "      <th>domestic_gross</th>\n",
       "      <th>worldwide_gross</th>\n",
       "      <th>profit</th>\n",
       "      <th>roi</th>\n",
       "    </tr>\n",
       "  </thead>\n",
       "  <tbody>\n",
       "    <tr>\n",
       "      <th>count</th>\n",
       "      <td>5.782000e+03</td>\n",
       "      <td>5.782000e+03</td>\n",
       "      <td>5.782000e+03</td>\n",
       "      <td>5.782000e+03</td>\n",
       "      <td>5782.000000</td>\n",
       "    </tr>\n",
       "    <tr>\n",
       "      <th>mean</th>\n",
       "      <td>3.158776e+07</td>\n",
       "      <td>4.187333e+07</td>\n",
       "      <td>9.148746e+07</td>\n",
       "      <td>1.017730e+08</td>\n",
       "      <td>6.783702</td>\n",
       "    </tr>\n",
       "    <tr>\n",
       "      <th>std</th>\n",
       "      <td>4.181208e+07</td>\n",
       "      <td>6.824060e+07</td>\n",
       "      <td>1.747200e+08</td>\n",
       "      <td>2.108880e+08</td>\n",
       "      <td>54.922090</td>\n",
       "    </tr>\n",
       "    <tr>\n",
       "      <th>min</th>\n",
       "      <td>1.100000e+03</td>\n",
       "      <td>0.000000e+00</td>\n",
       "      <td>0.000000e+00</td>\n",
       "      <td>-1.574753e+08</td>\n",
       "      <td>-1.000000</td>\n",
       "    </tr>\n",
       "    <tr>\n",
       "      <th>25%</th>\n",
       "      <td>5.000000e+06</td>\n",
       "      <td>1.429534e+06</td>\n",
       "      <td>4.125415e+06</td>\n",
       "      <td>-3.098222e+05</td>\n",
       "      <td>-0.202878</td>\n",
       "    </tr>\n",
       "    <tr>\n",
       "      <th>50%</th>\n",
       "      <td>1.700000e+07</td>\n",
       "      <td>1.722594e+07</td>\n",
       "      <td>2.798445e+07</td>\n",
       "      <td>2.499538e+07</td>\n",
       "      <td>1.659315</td>\n",
       "    </tr>\n",
       "    <tr>\n",
       "      <th>75%</th>\n",
       "      <td>4.000000e+07</td>\n",
       "      <td>5.234866e+07</td>\n",
       "      <td>9.764584e+07</td>\n",
       "      <td>1.111648e+08</td>\n",
       "      <td>4.893170</td>\n",
       "    </tr>\n",
       "    <tr>\n",
       "      <th>max</th>\n",
       "      <td>4.250000e+08</td>\n",
       "      <td>9.366622e+08</td>\n",
       "      <td>2.776345e+09</td>\n",
       "      <td>3.111853e+09</td>\n",
       "      <td>3599.000000</td>\n",
       "    </tr>\n",
       "  </tbody>\n",
       "</table>\n",
       "</div>"
      ],
      "text/plain": [
       "       production_budget  domestic_gross  worldwide_gross        profit  \\\n",
       "count       5.782000e+03    5.782000e+03     5.782000e+03  5.782000e+03   \n",
       "mean        3.158776e+07    4.187333e+07     9.148746e+07  1.017730e+08   \n",
       "std         4.181208e+07    6.824060e+07     1.747200e+08  2.108880e+08   \n",
       "min         1.100000e+03    0.000000e+00     0.000000e+00 -1.574753e+08   \n",
       "25%         5.000000e+06    1.429534e+06     4.125415e+06 -3.098222e+05   \n",
       "50%         1.700000e+07    1.722594e+07     2.798445e+07  2.499538e+07   \n",
       "75%         4.000000e+07    5.234866e+07     9.764584e+07  1.111648e+08   \n",
       "max         4.250000e+08    9.366622e+08     2.776345e+09  3.111853e+09   \n",
       "\n",
       "               roi  \n",
       "count  5782.000000  \n",
       "mean      6.783702  \n",
       "std      54.922090  \n",
       "min      -1.000000  \n",
       "25%      -0.202878  \n",
       "50%       1.659315  \n",
       "75%       4.893170  \n",
       "max    3599.000000  "
      ]
     },
     "execution_count": 22,
     "metadata": {},
     "output_type": "execute_result"
    }
   ],
   "source": [
    "movie_budgets_tn.describe()"
   ]
  },
  {
   "cell_type": "markdown",
   "metadata": {},
   "source": [
    "Restricting data to interquartile range to reduce outlyers and because\\\n",
    "Microsoft would not have a minimal or maximum budget for first movie"
   ]
  },
  {
   "cell_type": "code",
   "execution_count": 23,
   "metadata": {
    "ExecuteTime": {
     "end_time": "2022-05-31T11:01:04.018787Z",
     "start_time": "2022-05-31T11:01:04.015337Z"
    }
   },
   "outputs": [
    {
     "data": {
      "text/plain": [
       "40000000.0"
      ]
     },
     "execution_count": 23,
     "metadata": {},
     "output_type": "execute_result"
    }
   ],
   "source": [
    "pb_q1 = movie_budgets_tn['production_budget'].quantile(0.25)\n",
    "pb_q3 = movie_budgets_tn['production_budget'].quantile(0.75)\n",
    "pb_q3\n"
   ]
  },
  {
   "cell_type": "code",
   "execution_count": 24,
   "metadata": {
    "ExecuteTime": {
     "end_time": "2022-05-31T11:01:04.025444Z",
     "start_time": "2022-05-31T11:01:04.022192Z"
    }
   },
   "outputs": [],
   "source": [
    "movie_budgets_filtered_iqr = movie_budgets_tn.query('@pb_q1 <= production_budget <= @pb_q3')"
   ]
  },
  {
   "cell_type": "code",
   "execution_count": 25,
   "metadata": {
    "ExecuteTime": {
     "end_time": "2022-05-31T11:01:04.033983Z",
     "start_time": "2022-05-31T11:01:04.026254Z"
    }
   },
   "outputs": [
    {
     "data": {
      "text/html": [
       "<div>\n",
       "<style scoped>\n",
       "    .dataframe tbody tr th:only-of-type {\n",
       "        vertical-align: middle;\n",
       "    }\n",
       "\n",
       "    .dataframe tbody tr th {\n",
       "        vertical-align: top;\n",
       "    }\n",
       "\n",
       "    .dataframe thead th {\n",
       "        text-align: right;\n",
       "    }\n",
       "</style>\n",
       "<table border=\"1\" class=\"dataframe\">\n",
       "  <thead>\n",
       "    <tr style=\"text-align: right;\">\n",
       "      <th></th>\n",
       "      <th>release_date</th>\n",
       "      <th>production_budget</th>\n",
       "      <th>domestic_gross</th>\n",
       "      <th>worldwide_gross</th>\n",
       "      <th>profit</th>\n",
       "      <th>roi</th>\n",
       "    </tr>\n",
       "    <tr>\n",
       "      <th>movie</th>\n",
       "      <th></th>\n",
       "      <th></th>\n",
       "      <th></th>\n",
       "      <th></th>\n",
       "      <th></th>\n",
       "      <th></th>\n",
       "    </tr>\n",
       "  </thead>\n",
       "  <tbody>\n",
       "    <tr>\n",
       "      <th>Running Forever</th>\n",
       "      <td>Oct 27, 2015</td>\n",
       "      <td>5000000.0</td>\n",
       "      <td>0.0</td>\n",
       "      <td>0.0</td>\n",
       "      <td>-5000000.0</td>\n",
       "      <td>-1.000000</td>\n",
       "    </tr>\n",
       "    <tr>\n",
       "      <th>Nighthawks</th>\n",
       "      <td>Apr 10, 1981</td>\n",
       "      <td>5000000.0</td>\n",
       "      <td>14600000.0</td>\n",
       "      <td>19600000.0</td>\n",
       "      <td>29200000.0</td>\n",
       "      <td>5.840000</td>\n",
       "    </tr>\n",
       "    <tr>\n",
       "      <th>Eve's Bayou</th>\n",
       "      <td>Nov 7, 1997</td>\n",
       "      <td>5000000.0</td>\n",
       "      <td>14843425.0</td>\n",
       "      <td>14843425.0</td>\n",
       "      <td>24686850.0</td>\n",
       "      <td>4.937370</td>\n",
       "    </tr>\n",
       "    <tr>\n",
       "      <th>The Egyptian</th>\n",
       "      <td>Aug 24, 1954</td>\n",
       "      <td>5000000.0</td>\n",
       "      <td>15000000.0</td>\n",
       "      <td>15000000.0</td>\n",
       "      <td>25000000.0</td>\n",
       "      <td>5.000000</td>\n",
       "    </tr>\n",
       "    <tr>\n",
       "      <th>Halloween: The Curse of Michael Myers</th>\n",
       "      <td>Sep 29, 1995</td>\n",
       "      <td>5000000.0</td>\n",
       "      <td>15126948.0</td>\n",
       "      <td>15126948.0</td>\n",
       "      <td>25253896.0</td>\n",
       "      <td>5.050779</td>\n",
       "    </tr>\n",
       "    <tr>\n",
       "      <th>...</th>\n",
       "      <td>...</td>\n",
       "      <td>...</td>\n",
       "      <td>...</td>\n",
       "      <td>...</td>\n",
       "      <td>...</td>\n",
       "      <td>...</td>\n",
       "    </tr>\n",
       "    <tr>\n",
       "      <th>The Other Boleyn Girl</th>\n",
       "      <td>Feb 29, 2008</td>\n",
       "      <td>40000000.0</td>\n",
       "      <td>26814957.0</td>\n",
       "      <td>78269970.0</td>\n",
       "      <td>65084927.0</td>\n",
       "      <td>1.627123</td>\n",
       "    </tr>\n",
       "    <tr>\n",
       "      <th>Resident Evil: The Final Chapter</th>\n",
       "      <td>Jan 27, 2017</td>\n",
       "      <td>40000000.0</td>\n",
       "      <td>26844692.0</td>\n",
       "      <td>314101190.0</td>\n",
       "      <td>300945882.0</td>\n",
       "      <td>7.523647</td>\n",
       "    </tr>\n",
       "    <tr>\n",
       "      <th>The Musketeer</th>\n",
       "      <td>Sep 7, 2001</td>\n",
       "      <td>40000000.0</td>\n",
       "      <td>27053815.0</td>\n",
       "      <td>27053815.0</td>\n",
       "      <td>14107630.0</td>\n",
       "      <td>0.352691</td>\n",
       "    </tr>\n",
       "    <tr>\n",
       "      <th>Quest for Camelot</th>\n",
       "      <td>May 15, 1998</td>\n",
       "      <td>40000000.0</td>\n",
       "      <td>22772500.0</td>\n",
       "      <td>38172500.0</td>\n",
       "      <td>20945000.0</td>\n",
       "      <td>0.523625</td>\n",
       "    </tr>\n",
       "    <tr>\n",
       "      <th>The Sixth Sense</th>\n",
       "      <td>Aug 6, 1999</td>\n",
       "      <td>40000000.0</td>\n",
       "      <td>293506292.0</td>\n",
       "      <td>672806292.0</td>\n",
       "      <td>926312584.0</td>\n",
       "      <td>23.157815</td>\n",
       "    </tr>\n",
       "  </tbody>\n",
       "</table>\n",
       "<p>3026 rows × 6 columns</p>\n",
       "</div>"
      ],
      "text/plain": [
       "                                       release_date  production_budget  \\\n",
       "movie                                                                    \n",
       "Running Forever                        Oct 27, 2015          5000000.0   \n",
       "Nighthawks                             Apr 10, 1981          5000000.0   \n",
       "Eve's Bayou                             Nov 7, 1997          5000000.0   \n",
       "The Egyptian                           Aug 24, 1954          5000000.0   \n",
       "Halloween: The Curse of Michael Myers  Sep 29, 1995          5000000.0   \n",
       "...                                             ...                ...   \n",
       "The Other Boleyn Girl                  Feb 29, 2008         40000000.0   \n",
       "Resident Evil: The Final Chapter       Jan 27, 2017         40000000.0   \n",
       "The Musketeer                           Sep 7, 2001         40000000.0   \n",
       "Quest for Camelot                      May 15, 1998         40000000.0   \n",
       "The Sixth Sense                         Aug 6, 1999         40000000.0   \n",
       "\n",
       "                                       domestic_gross  worldwide_gross  \\\n",
       "movie                                                                    \n",
       "Running Forever                                   0.0              0.0   \n",
       "Nighthawks                                 14600000.0       19600000.0   \n",
       "Eve's Bayou                                14843425.0       14843425.0   \n",
       "The Egyptian                               15000000.0       15000000.0   \n",
       "Halloween: The Curse of Michael Myers      15126948.0       15126948.0   \n",
       "...                                               ...              ...   \n",
       "The Other Boleyn Girl                      26814957.0       78269970.0   \n",
       "Resident Evil: The Final Chapter           26844692.0      314101190.0   \n",
       "The Musketeer                              27053815.0       27053815.0   \n",
       "Quest for Camelot                          22772500.0       38172500.0   \n",
       "The Sixth Sense                           293506292.0      672806292.0   \n",
       "\n",
       "                                            profit        roi  \n",
       "movie                                                          \n",
       "Running Forever                         -5000000.0  -1.000000  \n",
       "Nighthawks                              29200000.0   5.840000  \n",
       "Eve's Bayou                             24686850.0   4.937370  \n",
       "The Egyptian                            25000000.0   5.000000  \n",
       "Halloween: The Curse of Michael Myers   25253896.0   5.050779  \n",
       "...                                            ...        ...  \n",
       "The Other Boleyn Girl                   65084927.0   1.627123  \n",
       "Resident Evil: The Final Chapter       300945882.0   7.523647  \n",
       "The Musketeer                           14107630.0   0.352691  \n",
       "Quest for Camelot                       20945000.0   0.523625  \n",
       "The Sixth Sense                        926312584.0  23.157815  \n",
       "\n",
       "[3026 rows x 6 columns]"
      ]
     },
     "execution_count": 25,
     "metadata": {},
     "output_type": "execute_result"
    }
   ],
   "source": [
    "movie_budgets_filtered_iqr.sort_values('production_budget')"
   ]
  },
  {
   "cell_type": "code",
   "execution_count": 26,
   "metadata": {
    "ExecuteTime": {
     "end_time": "2022-05-31T11:01:04.046360Z",
     "start_time": "2022-05-31T11:01:04.034908Z"
    }
   },
   "outputs": [
    {
     "data": {
      "text/html": [
       "<div>\n",
       "<style scoped>\n",
       "    .dataframe tbody tr th:only-of-type {\n",
       "        vertical-align: middle;\n",
       "    }\n",
       "\n",
       "    .dataframe tbody tr th {\n",
       "        vertical-align: top;\n",
       "    }\n",
       "\n",
       "    .dataframe thead th {\n",
       "        text-align: right;\n",
       "    }\n",
       "</style>\n",
       "<table border=\"1\" class=\"dataframe\">\n",
       "  <thead>\n",
       "    <tr style=\"text-align: right;\">\n",
       "      <th></th>\n",
       "      <th>production_budget</th>\n",
       "      <th>domestic_gross</th>\n",
       "      <th>worldwide_gross</th>\n",
       "      <th>profit</th>\n",
       "      <th>roi</th>\n",
       "    </tr>\n",
       "  </thead>\n",
       "  <tbody>\n",
       "    <tr>\n",
       "      <th>count</th>\n",
       "      <td>3.026000e+03</td>\n",
       "      <td>3.026000e+03</td>\n",
       "      <td>3.026000e+03</td>\n",
       "      <td>3.026000e+03</td>\n",
       "      <td>3026.000000</td>\n",
       "    </tr>\n",
       "    <tr>\n",
       "      <th>mean</th>\n",
       "      <td>1.890342e+07</td>\n",
       "      <td>3.026370e+07</td>\n",
       "      <td>5.396695e+07</td>\n",
       "      <td>6.532723e+07</td>\n",
       "      <td>4.020904</td>\n",
       "    </tr>\n",
       "    <tr>\n",
       "      <th>std</th>\n",
       "      <td>1.039523e+07</td>\n",
       "      <td>4.049290e+07</td>\n",
       "      <td>7.682826e+07</td>\n",
       "      <td>1.123250e+08</td>\n",
       "      <td>8.110522</td>\n",
       "    </tr>\n",
       "    <tr>\n",
       "      <th>min</th>\n",
       "      <td>5.000000e+06</td>\n",
       "      <td>0.000000e+00</td>\n",
       "      <td>0.000000e+00</td>\n",
       "      <td>-4.000000e+07</td>\n",
       "      <td>-1.000000</td>\n",
       "    </tr>\n",
       "    <tr>\n",
       "      <th>25%</th>\n",
       "      <td>1.000000e+07</td>\n",
       "      <td>4.019142e+06</td>\n",
       "      <td>8.845900e+06</td>\n",
       "      <td>-1.242596e+06</td>\n",
       "      <td>-0.085363</td>\n",
       "    </tr>\n",
       "    <tr>\n",
       "      <th>50%</th>\n",
       "      <td>1.700000e+07</td>\n",
       "      <td>1.725211e+07</td>\n",
       "      <td>2.810052e+07</td>\n",
       "      <td>2.836259e+07</td>\n",
       "      <td>1.736448</td>\n",
       "    </tr>\n",
       "    <tr>\n",
       "      <th>75%</th>\n",
       "      <td>2.600000e+07</td>\n",
       "      <td>4.082051e+07</td>\n",
       "      <td>6.782200e+07</td>\n",
       "      <td>8.762205e+07</td>\n",
       "      <td>4.984722</td>\n",
       "    </tr>\n",
       "    <tr>\n",
       "      <th>max</th>\n",
       "      <td>4.000000e+07</td>\n",
       "      <td>4.609980e+08</td>\n",
       "      <td>7.929653e+08</td>\n",
       "      <td>1.236596e+09</td>\n",
       "      <td>122.265648</td>\n",
       "    </tr>\n",
       "  </tbody>\n",
       "</table>\n",
       "</div>"
      ],
      "text/plain": [
       "       production_budget  domestic_gross  worldwide_gross        profit  \\\n",
       "count       3.026000e+03    3.026000e+03     3.026000e+03  3.026000e+03   \n",
       "mean        1.890342e+07    3.026370e+07     5.396695e+07  6.532723e+07   \n",
       "std         1.039523e+07    4.049290e+07     7.682826e+07  1.123250e+08   \n",
       "min         5.000000e+06    0.000000e+00     0.000000e+00 -4.000000e+07   \n",
       "25%         1.000000e+07    4.019142e+06     8.845900e+06 -1.242596e+06   \n",
       "50%         1.700000e+07    1.725211e+07     2.810052e+07  2.836259e+07   \n",
       "75%         2.600000e+07    4.082051e+07     6.782200e+07  8.762205e+07   \n",
       "max         4.000000e+07    4.609980e+08     7.929653e+08  1.236596e+09   \n",
       "\n",
       "               roi  \n",
       "count  3026.000000  \n",
       "mean      4.020904  \n",
       "std       8.110522  \n",
       "min      -1.000000  \n",
       "25%      -0.085363  \n",
       "50%       1.736448  \n",
       "75%       4.984722  \n",
       "max     122.265648  "
      ]
     },
     "execution_count": 26,
     "metadata": {},
     "output_type": "execute_result"
    }
   ],
   "source": [
    "movie_budgets_filtered_iqr.describe()"
   ]
  },
  {
   "cell_type": "code",
   "execution_count": 27,
   "metadata": {
    "ExecuteTime": {
     "end_time": "2022-05-31T11:01:04.068340Z",
     "start_time": "2022-05-31T11:01:04.047238Z"
    }
   },
   "outputs": [
    {
     "data": {
      "text/html": [
       "<div>\n",
       "<style scoped>\n",
       "    .dataframe tbody tr th:only-of-type {\n",
       "        vertical-align: middle;\n",
       "    }\n",
       "\n",
       "    .dataframe tbody tr th {\n",
       "        vertical-align: top;\n",
       "    }\n",
       "\n",
       "    .dataframe thead tr th {\n",
       "        text-align: left;\n",
       "    }\n",
       "</style>\n",
       "<table border=\"1\" class=\"dataframe\">\n",
       "  <thead>\n",
       "    <tr>\n",
       "      <th>roi</th>\n",
       "      <th colspan=\"10\" halign=\"left\">-1.000000</th>\n",
       "      <th>...</th>\n",
       "      <th>56.638059</th>\n",
       "      <th>57.042301</th>\n",
       "      <th>59.891667</th>\n",
       "      <th>61.213730</th>\n",
       "      <th>82.421278</th>\n",
       "      <th>85.281723</th>\n",
       "      <th>93.887325</th>\n",
       "      <th>112.417819</th>\n",
       "      <th>115.959608</th>\n",
       "      <th>122.265648</th>\n",
       "    </tr>\n",
       "    <tr>\n",
       "      <th>profit</th>\n",
       "      <th>-4.000000e+07</th>\n",
       "      <th>-3.500000e+07</th>\n",
       "      <th>-3.200000e+07</th>\n",
       "      <th>-3.000000e+07</th>\n",
       "      <th>-2.900000e+07</th>\n",
       "      <th>-2.700000e+07</th>\n",
       "      <th>-2.600000e+07</th>\n",
       "      <th>-2.500000e+07</th>\n",
       "      <th>-2.100000e+07</th>\n",
       "      <th>-2.000000e+07</th>\n",
       "      <th>...</th>\n",
       "      <th>3.964664e+08</th>\n",
       "      <th>3.137327e+08</th>\n",
       "      <th>7.187000e+08</th>\n",
       "      <th>3.060687e+08</th>\n",
       "      <th>4.121064e+08</th>\n",
       "      <th>4.264086e+08</th>\n",
       "      <th>5.633239e+08</th>\n",
       "      <th>1.236596e+09</th>\n",
       "      <th>1.217576e+09</th>\n",
       "      <th>6.113282e+08</th>\n",
       "    </tr>\n",
       "  </thead>\n",
       "  <tbody>\n",
       "    <tr>\n",
       "      <th>production_budget</th>\n",
       "      <td>40000000.0</td>\n",
       "      <td>35000000.0</td>\n",
       "      <td>32000000.0</td>\n",
       "      <td>30000000.0</td>\n",
       "      <td>29000000.0</td>\n",
       "      <td>27000000.0</td>\n",
       "      <td>26000000.0</td>\n",
       "      <td>25000000.0</td>\n",
       "      <td>21000000.0</td>\n",
       "      <td>20000000.0</td>\n",
       "      <td>...</td>\n",
       "      <td>7000000.0</td>\n",
       "      <td>5500000.0</td>\n",
       "      <td>12000000.0</td>\n",
       "      <td>5000000.0</td>\n",
       "      <td>5000000.0</td>\n",
       "      <td>5000000.0</td>\n",
       "      <td>6000000.0</td>\n",
       "      <td>11000000.0</td>\n",
       "      <td>10500000.0</td>\n",
       "      <td>5000000.0</td>\n",
       "    </tr>\n",
       "  </tbody>\n",
       "</table>\n",
       "<p>1 rows × 2978 columns</p>\n",
       "</div>"
      ],
      "text/plain": [
       "roi                 -1.000000                                              \\\n",
       "profit            -4.000000e+07 -3.500000e+07 -3.200000e+07 -3.000000e+07   \n",
       "production_budget    40000000.0    35000000.0    32000000.0    30000000.0   \n",
       "\n",
       "roi                                                                        \\\n",
       "profit            -2.900000e+07 -2.700000e+07 -2.600000e+07 -2.500000e+07   \n",
       "production_budget    29000000.0    27000000.0    26000000.0    25000000.0   \n",
       "\n",
       "roi                                            ...    56.638059   \\\n",
       "profit            -2.100000e+07 -2.000000e+07  ...  3.964664e+08   \n",
       "production_budget    21000000.0    20000000.0  ...     7000000.0   \n",
       "\n",
       "roi                  57.042301     59.891667     61.213730     82.421278   \\\n",
       "profit             3.137327e+08  7.187000e+08  3.060687e+08  4.121064e+08   \n",
       "production_budget     5500000.0    12000000.0     5000000.0     5000000.0   \n",
       "\n",
       "roi                  85.281723     93.887325     112.417819    115.959608  \\\n",
       "profit             4.264086e+08  5.633239e+08  1.236596e+09  1.217576e+09   \n",
       "production_budget     5000000.0     6000000.0    11000000.0    10500000.0   \n",
       "\n",
       "roi                  122.265648  \n",
       "profit             6.113282e+08  \n",
       "production_budget     5000000.0  \n",
       "\n",
       "[1 rows x 2978 columns]"
      ]
     },
     "execution_count": 27,
     "metadata": {},
     "output_type": "execute_result"
    }
   ],
   "source": [
    "movie_budgets_filtered_iqr_pivot = movie_budgets_filtered_iqr.pivot_table(columns =['roi', 'profit'], values= 'production_budget', aggfunc= 'mean')\n",
    "movie_budgets_filtered_iqr_pivot.head()"
   ]
  },
  {
   "cell_type": "code",
   "execution_count": 28,
   "metadata": {
    "ExecuteTime": {
     "end_time": "2022-05-31T11:01:04.070550Z",
     "start_time": "2022-05-31T11:01:04.069245Z"
    }
   },
   "outputs": [],
   "source": [
    "#sns.histplot( movie_budgets_filtered_iqr_pivot, x = 'roi', y = 'production_budget' )"
   ]
  },
  {
   "cell_type": "code",
   "execution_count": null,
   "metadata": {},
   "outputs": [],
   "source": []
  },
  {
   "cell_type": "code",
   "execution_count": null,
   "metadata": {},
   "outputs": [],
   "source": []
  },
  {
   "cell_type": "code",
   "execution_count": 29,
   "metadata": {
    "ExecuteTime": {
     "end_time": "2022-05-31T11:01:04.072697Z",
     "start_time": "2022-05-31T11:01:04.071309Z"
    }
   },
   "outputs": [],
   "source": [
    "movie_budgets_filtered_iqr.plot.kde\n",
    "plt.show()"
   ]
  },
  {
   "cell_type": "code",
   "execution_count": 30,
   "metadata": {
    "ExecuteTime": {
     "end_time": "2022-05-31T11:01:04.164039Z",
     "start_time": "2022-05-31T11:01:04.073613Z"
    }
   },
   "outputs": [
    {
     "data": {
      "image/png": "[encoded data removed]",
      "text/plain": [
       "<Figure size 432x288 with 1 Axes>"
      ]
     },
     "metadata": {
      "needs_background": "light"
     },
     "output_type": "display_data"
    }
   ],
   "source": [
    "profits_vis2 = sns.histplot(data = movie_budgets_filtered_iqr, y=\"roi\", x='production_budget', bins = 10 )\n",
    "plt.xlabel(\"Production Budget ($10s of millions)\")\n",
    "plt.ylabel('ROI')\n",
    "plt.show()"
   ]
  },
  {
   "cell_type": "code",
   "execution_count": 31,
   "metadata": {
    "ExecuteTime": {
     "end_time": "2022-05-31T11:01:04.166255Z",
     "start_time": "2022-05-31T11:01:04.164888Z"
    }
   },
   "outputs": [],
   "source": [
    "#sns.barplot(data = movie_budgets_filtered_iqr, x = 'profit', y = 'production_budget')\n"
   ]
  },
  {
   "cell_type": "code",
   "execution_count": 32,
   "metadata": {
    "ExecuteTime": {
     "end_time": "2022-05-31T11:01:04.168340Z",
     "start_time": "2022-05-31T11:01:04.167001Z"
    }
   },
   "outputs": [],
   "source": [
    "#sns.histplot(data =movie_budgets_filtered_iqr,y='roi',x = 'production_budget', bins = 20)"
   ]
  },
  {
   "cell_type": "code",
   "execution_count": null,
   "metadata": {},
   "outputs": [],
   "source": []
  },
  {
   "cell_type": "code",
   "execution_count": 33,
   "metadata": {
    "ExecuteTime": {
     "end_time": "2022-05-31T11:01:04.173868Z",
     "start_time": "2022-05-31T11:01:04.169107Z"
    }
   },
   "outputs": [
    {
     "name": "stdout",
     "output_type": "stream",
     "text": [
      "<class 'pandas.core.frame.DataFrame'>\n",
      "Index: 3387 entries, Toy Story 3 to An Actor Prepares\n",
      "Data columns (total 4 columns):\n",
      " #   Column          Non-Null Count  Dtype  \n",
      "---  ------          --------------  -----  \n",
      " 0   studio          3382 non-null   object \n",
      " 1   domestic_gross  3359 non-null   float64\n",
      " 2   foreign_gross   2037 non-null   object \n",
      " 3   year            3387 non-null   int64  \n",
      "dtypes: float64(1), int64(1), object(2)\n",
      "memory usage: 132.3+ KB\n"
     ]
    }
   ],
   "source": [
    "movie_budgets_bom.info()"
   ]
  },
  {
   "cell_type": "code",
   "execution_count": 34,
   "metadata": {
    "ExecuteTime": {
     "end_time": "2022-05-31T11:01:04.182747Z",
     "start_time": "2022-05-31T11:01:04.174706Z"
    }
   },
   "outputs": [
    {
     "data": {
      "text/html": [
       "<div>\n",
       "<style scoped>\n",
       "    .dataframe tbody tr th:only-of-type {\n",
       "        vertical-align: middle;\n",
       "    }\n",
       "\n",
       "    .dataframe tbody tr th {\n",
       "        vertical-align: top;\n",
       "    }\n",
       "\n",
       "    .dataframe thead th {\n",
       "        text-align: right;\n",
       "    }\n",
       "</style>\n",
       "<table border=\"1\" class=\"dataframe\">\n",
       "  <thead>\n",
       "    <tr style=\"text-align: right;\">\n",
       "      <th></th>\n",
       "      <th>studio</th>\n",
       "      <th>domestic_gross</th>\n",
       "      <th>foreign_gross</th>\n",
       "      <th>year</th>\n",
       "    </tr>\n",
       "    <tr>\n",
       "      <th>title</th>\n",
       "      <th></th>\n",
       "      <th></th>\n",
       "      <th></th>\n",
       "      <th></th>\n",
       "    </tr>\n",
       "  </thead>\n",
       "  <tbody>\n",
       "    <tr>\n",
       "      <th>Toy Story 3</th>\n",
       "      <td>BV</td>\n",
       "      <td>415000000.0</td>\n",
       "      <td>652000000.0</td>\n",
       "      <td>2010</td>\n",
       "    </tr>\n",
       "    <tr>\n",
       "      <th>Alice in Wonderland (2010)</th>\n",
       "      <td>BV</td>\n",
       "      <td>334200000.0</td>\n",
       "      <td>691300000.0</td>\n",
       "      <td>2010</td>\n",
       "    </tr>\n",
       "    <tr>\n",
       "      <th>Harry Potter and the Deathly Hallows Part 1</th>\n",
       "      <td>WB</td>\n",
       "      <td>296000000.0</td>\n",
       "      <td>664300000.0</td>\n",
       "      <td>2010</td>\n",
       "    </tr>\n",
       "    <tr>\n",
       "      <th>Inception</th>\n",
       "      <td>WB</td>\n",
       "      <td>292600000.0</td>\n",
       "      <td>535700000.0</td>\n",
       "      <td>2010</td>\n",
       "    </tr>\n",
       "    <tr>\n",
       "      <th>Shrek Forever After</th>\n",
       "      <td>P/DW</td>\n",
       "      <td>238700000.0</td>\n",
       "      <td>513900000.0</td>\n",
       "      <td>2010</td>\n",
       "    </tr>\n",
       "    <tr>\n",
       "      <th>...</th>\n",
       "      <td>...</td>\n",
       "      <td>...</td>\n",
       "      <td>...</td>\n",
       "      <td>...</td>\n",
       "    </tr>\n",
       "    <tr>\n",
       "      <th>The Quake</th>\n",
       "      <td>Magn.</td>\n",
       "      <td>6200.0</td>\n",
       "      <td>NaN</td>\n",
       "      <td>2018</td>\n",
       "    </tr>\n",
       "    <tr>\n",
       "      <th>Edward II (2018 re-release)</th>\n",
       "      <td>FM</td>\n",
       "      <td>4800.0</td>\n",
       "      <td>NaN</td>\n",
       "      <td>2018</td>\n",
       "    </tr>\n",
       "    <tr>\n",
       "      <th>El Pacto</th>\n",
       "      <td>Sony</td>\n",
       "      <td>2500.0</td>\n",
       "      <td>NaN</td>\n",
       "      <td>2018</td>\n",
       "    </tr>\n",
       "    <tr>\n",
       "      <th>The Swan</th>\n",
       "      <td>Synergetic</td>\n",
       "      <td>2400.0</td>\n",
       "      <td>NaN</td>\n",
       "      <td>2018</td>\n",
       "    </tr>\n",
       "    <tr>\n",
       "      <th>An Actor Prepares</th>\n",
       "      <td>Grav.</td>\n",
       "      <td>1700.0</td>\n",
       "      <td>NaN</td>\n",
       "      <td>2018</td>\n",
       "    </tr>\n",
       "  </tbody>\n",
       "</table>\n",
       "<p>3387 rows × 4 columns</p>\n",
       "</div>"
      ],
      "text/plain": [
       "                                                 studio  domestic_gross  \\\n",
       "title                                                                     \n",
       "Toy Story 3                                          BV     415000000.0   \n",
       "Alice in Wonderland (2010)                           BV     334200000.0   \n",
       "Harry Potter and the Deathly Hallows Part 1          WB     296000000.0   \n",
       "Inception                                            WB     292600000.0   \n",
       "Shrek Forever After                                P/DW     238700000.0   \n",
       "...                                                 ...             ...   \n",
       "The Quake                                         Magn.          6200.0   \n",
       "Edward II (2018 re-release)                          FM          4800.0   \n",
       "El Pacto                                           Sony          2500.0   \n",
       "The Swan                                     Synergetic          2400.0   \n",
       "An Actor Prepares                                 Grav.          1700.0   \n",
       "\n",
       "                                             foreign_gross  year  \n",
       "title                                                             \n",
       "Toy Story 3                                    652000000.0  2010  \n",
       "Alice in Wonderland (2010)                     691300000.0  2010  \n",
       "Harry Potter and the Deathly Hallows Part 1    664300000.0  2010  \n",
       "Inception                                      535700000.0  2010  \n",
       "Shrek Forever After                            513900000.0  2010  \n",
       "...                                                    ...   ...  \n",
       "The Quake                                              NaN  2018  \n",
       "Edward II (2018 re-release)                            NaN  2018  \n",
       "El Pacto                                               NaN  2018  \n",
       "The Swan                                               NaN  2018  \n",
       "An Actor Prepares                                      NaN  2018  \n",
       "\n",
       "[3387 rows x 4 columns]"
      ]
     },
     "execution_count": 34,
     "metadata": {},
     "output_type": "execute_result"
    }
   ],
   "source": [
    "movie_budgets_bom['foreign_gross'] = movie_budgets_bom['foreign_gross'].str.replace(',','').astype(float)\n",
    "movie_budgets_bom"
   ]
  },
  {
   "cell_type": "code",
   "execution_count": 35,
   "metadata": {
    "ExecuteTime": {
     "end_time": "2022-05-31T11:01:04.185829Z",
     "start_time": "2022-05-31T11:01:04.183622Z"
    }
   },
   "outputs": [],
   "source": [
    "movie_budgets_bom.replace(np.nan, 0, inplace = True)"
   ]
  },
  {
   "cell_type": "code",
   "execution_count": 36,
   "metadata": {
    "ExecuteTime": {
     "end_time": "2022-05-31T11:01:04.192996Z",
     "start_time": "2022-05-31T11:01:04.186654Z"
    }
   },
   "outputs": [
    {
     "data": {
      "text/html": [
       "<div>\n",
       "<style scoped>\n",
       "    .dataframe tbody tr th:only-of-type {\n",
       "        vertical-align: middle;\n",
       "    }\n",
       "\n",
       "    .dataframe tbody tr th {\n",
       "        vertical-align: top;\n",
       "    }\n",
       "\n",
       "    .dataframe thead th {\n",
       "        text-align: right;\n",
       "    }\n",
       "</style>\n",
       "<table border=\"1\" class=\"dataframe\">\n",
       "  <thead>\n",
       "    <tr style=\"text-align: right;\">\n",
       "      <th></th>\n",
       "      <th>studio</th>\n",
       "      <th>domestic_gross</th>\n",
       "      <th>foreign_gross</th>\n",
       "      <th>year</th>\n",
       "    </tr>\n",
       "    <tr>\n",
       "      <th>title</th>\n",
       "      <th></th>\n",
       "      <th></th>\n",
       "      <th></th>\n",
       "      <th></th>\n",
       "    </tr>\n",
       "  </thead>\n",
       "  <tbody>\n",
       "    <tr>\n",
       "      <th>Toy Story 3</th>\n",
       "      <td>BV</td>\n",
       "      <td>415000000.0</td>\n",
       "      <td>652000000.0</td>\n",
       "      <td>2010</td>\n",
       "    </tr>\n",
       "    <tr>\n",
       "      <th>Flipped</th>\n",
       "      <td>WB</td>\n",
       "      <td>1800000.0</td>\n",
       "      <td>0.0</td>\n",
       "      <td>2010</td>\n",
       "    </tr>\n",
       "    <tr>\n",
       "      <th>Cairo Time</th>\n",
       "      <td>IFC</td>\n",
       "      <td>1600000.0</td>\n",
       "      <td>391000.0</td>\n",
       "      <td>2010</td>\n",
       "    </tr>\n",
       "    <tr>\n",
       "      <th>After.Life</th>\n",
       "      <td>Anch.</td>\n",
       "      <td>109000.0</td>\n",
       "      <td>1900000.0</td>\n",
       "      <td>2010</td>\n",
       "    </tr>\n",
       "    <tr>\n",
       "      <th>Golmaal 3</th>\n",
       "      <td>Eros</td>\n",
       "      <td>1100000.0</td>\n",
       "      <td>935000.0</td>\n",
       "      <td>2010</td>\n",
       "    </tr>\n",
       "    <tr>\n",
       "      <th>...</th>\n",
       "      <td>...</td>\n",
       "      <td>...</td>\n",
       "      <td>...</td>\n",
       "      <td>...</td>\n",
       "    </tr>\n",
       "    <tr>\n",
       "      <th>Mary Queen of Scots</th>\n",
       "      <td>Focus</td>\n",
       "      <td>16500000.0</td>\n",
       "      <td>29900000.0</td>\n",
       "      <td>2018</td>\n",
       "    </tr>\n",
       "    <tr>\n",
       "      <th>Tyler Perry's Acrimony</th>\n",
       "      <td>LGF</td>\n",
       "      <td>43500000.0</td>\n",
       "      <td>2900000.0</td>\n",
       "      <td>2018</td>\n",
       "    </tr>\n",
       "    <tr>\n",
       "      <th>Uncle Drew</th>\n",
       "      <td>LG/S</td>\n",
       "      <td>42500000.0</td>\n",
       "      <td>4200000.0</td>\n",
       "      <td>2018</td>\n",
       "    </tr>\n",
       "    <tr>\n",
       "      <th>Show Dogs</th>\n",
       "      <td>Global Road</td>\n",
       "      <td>17900000.0</td>\n",
       "      <td>21300000.0</td>\n",
       "      <td>2018</td>\n",
       "    </tr>\n",
       "    <tr>\n",
       "      <th>An Actor Prepares</th>\n",
       "      <td>Grav.</td>\n",
       "      <td>1700.0</td>\n",
       "      <td>0.0</td>\n",
       "      <td>2018</td>\n",
       "    </tr>\n",
       "  </tbody>\n",
       "</table>\n",
       "<p>3387 rows × 4 columns</p>\n",
       "</div>"
      ],
      "text/plain": [
       "                             studio  domestic_gross  foreign_gross  year\n",
       "title                                                                   \n",
       "Toy Story 3                      BV     415000000.0    652000000.0  2010\n",
       "Flipped                          WB       1800000.0            0.0  2010\n",
       "Cairo Time                      IFC       1600000.0       391000.0  2010\n",
       "After.Life                    Anch.        109000.0      1900000.0  2010\n",
       "Golmaal 3                      Eros       1100000.0       935000.0  2010\n",
       "...                             ...             ...            ...   ...\n",
       "Mary Queen of Scots           Focus      16500000.0     29900000.0  2018\n",
       "Tyler Perry's Acrimony          LGF      43500000.0      2900000.0  2018\n",
       "Uncle Drew                     LG/S      42500000.0      4200000.0  2018\n",
       "Show Dogs               Global Road      17900000.0     21300000.0  2018\n",
       "An Actor Prepares             Grav.          1700.0            0.0  2018\n",
       "\n",
       "[3387 rows x 4 columns]"
      ]
     },
     "execution_count": 36,
     "metadata": {},
     "output_type": "execute_result"
    }
   ],
   "source": [
    "movie_budgets_bom.sort_values('year')\n"
   ]
  },
  {
   "cell_type": "code",
   "execution_count": 37,
   "metadata": {
    "ExecuteTime": {
     "end_time": "2022-05-31T11:01:04.197916Z",
     "start_time": "2022-05-31T11:01:04.193737Z"
    }
   },
   "outputs": [
    {
     "name": "stdout",
     "output_type": "stream",
     "text": [
      "<class 'pandas.core.frame.DataFrame'>\n",
      "Index: 3387 entries, Toy Story 3 to An Actor Prepares\n",
      "Data columns (total 4 columns):\n",
      " #   Column          Non-Null Count  Dtype  \n",
      "---  ------          --------------  -----  \n",
      " 0   studio          3387 non-null   object \n",
      " 1   domestic_gross  3387 non-null   float64\n",
      " 2   foreign_gross   3387 non-null   float64\n",
      " 3   year            3387 non-null   int64  \n",
      "dtypes: float64(2), int64(1), object(1)\n",
      "memory usage: 132.3+ KB\n"
     ]
    }
   ],
   "source": [
    "movie_budgets_bom.info()"
   ]
  },
  {
   "cell_type": "code",
   "execution_count": 38,
   "metadata": {
    "ExecuteTime": {
     "end_time": "2022-05-31T11:01:04.200881Z",
     "start_time": "2022-05-31T11:01:04.198745Z"
    }
   },
   "outputs": [],
   "source": [
    "movie_budgets_bom['total_gross']=movie_budgets_bom['domestic_gross']+movie_budgets_bom['foreign_gross']"
   ]
  },
  {
   "cell_type": "code",
   "execution_count": 39,
   "metadata": {
    "ExecuteTime": {
     "end_time": "2022-05-31T11:01:04.211561Z",
     "start_time": "2022-05-31T11:01:04.201802Z"
    }
   },
   "outputs": [
    {
     "data": {
      "text/html": [
       "<div>\n",
       "<style scoped>\n",
       "    .dataframe tbody tr th:only-of-type {\n",
       "        vertical-align: middle;\n",
       "    }\n",
       "\n",
       "    .dataframe tbody tr th {\n",
       "        vertical-align: top;\n",
       "    }\n",
       "\n",
       "    .dataframe thead th {\n",
       "        text-align: right;\n",
       "    }\n",
       "</style>\n",
       "<table border=\"1\" class=\"dataframe\">\n",
       "  <thead>\n",
       "    <tr style=\"text-align: right;\">\n",
       "      <th></th>\n",
       "      <th>studio</th>\n",
       "      <th>domestic_gross</th>\n",
       "      <th>foreign_gross</th>\n",
       "      <th>year</th>\n",
       "      <th>total_gross</th>\n",
       "    </tr>\n",
       "    <tr>\n",
       "      <th>title</th>\n",
       "      <th></th>\n",
       "      <th></th>\n",
       "      <th></th>\n",
       "      <th></th>\n",
       "      <th></th>\n",
       "    </tr>\n",
       "  </thead>\n",
       "  <tbody>\n",
       "    <tr>\n",
       "      <th>'71</th>\n",
       "      <td>RAtt.</td>\n",
       "      <td>1300000.0</td>\n",
       "      <td>355000.0</td>\n",
       "      <td>2015</td>\n",
       "      <td>1.655000e+06</td>\n",
       "    </tr>\n",
       "    <tr>\n",
       "      <th>1,000 Times Good Night</th>\n",
       "      <td>FM</td>\n",
       "      <td>53900.0</td>\n",
       "      <td>0.0</td>\n",
       "      <td>2014</td>\n",
       "      <td>5.390000e+04</td>\n",
       "    </tr>\n",
       "    <tr>\n",
       "      <th>10 Cloverfield Lane</th>\n",
       "      <td>Par.</td>\n",
       "      <td>72100000.0</td>\n",
       "      <td>38100000.0</td>\n",
       "      <td>2016</td>\n",
       "      <td>1.102000e+08</td>\n",
       "    </tr>\n",
       "    <tr>\n",
       "      <th>10 Years</th>\n",
       "      <td>Anch.</td>\n",
       "      <td>203000.0</td>\n",
       "      <td>0.0</td>\n",
       "      <td>2012</td>\n",
       "      <td>2.030000e+05</td>\n",
       "    </tr>\n",
       "    <tr>\n",
       "      <th>1001 Grams</th>\n",
       "      <td>KL</td>\n",
       "      <td>11000.0</td>\n",
       "      <td>0.0</td>\n",
       "      <td>2015</td>\n",
       "      <td>1.100000e+04</td>\n",
       "    </tr>\n",
       "    <tr>\n",
       "      <th>...</th>\n",
       "      <td>...</td>\n",
       "      <td>...</td>\n",
       "      <td>...</td>\n",
       "      <td>...</td>\n",
       "      <td>...</td>\n",
       "    </tr>\n",
       "    <tr>\n",
       "      <th>Zoolander 2</th>\n",
       "      <td>Par.</td>\n",
       "      <td>28800000.0</td>\n",
       "      <td>27900000.0</td>\n",
       "      <td>2016</td>\n",
       "      <td>5.670000e+07</td>\n",
       "    </tr>\n",
       "    <tr>\n",
       "      <th>Zootopia</th>\n",
       "      <td>BV</td>\n",
       "      <td>341300000.0</td>\n",
       "      <td>682500000.0</td>\n",
       "      <td>2016</td>\n",
       "      <td>1.023800e+09</td>\n",
       "    </tr>\n",
       "    <tr>\n",
       "      <th>[Rec] 2</th>\n",
       "      <td>Magn.</td>\n",
       "      <td>27800.0</td>\n",
       "      <td>18500000.0</td>\n",
       "      <td>2010</td>\n",
       "      <td>1.852780e+07</td>\n",
       "    </tr>\n",
       "    <tr>\n",
       "      <th>mother!</th>\n",
       "      <td>Par.</td>\n",
       "      <td>17800000.0</td>\n",
       "      <td>26700000.0</td>\n",
       "      <td>2017</td>\n",
       "      <td>4.450000e+07</td>\n",
       "    </tr>\n",
       "    <tr>\n",
       "      <th>xXx: The Return of Xander Cage</th>\n",
       "      <td>Par.</td>\n",
       "      <td>44900000.0</td>\n",
       "      <td>301200000.0</td>\n",
       "      <td>2017</td>\n",
       "      <td>3.461000e+08</td>\n",
       "    </tr>\n",
       "  </tbody>\n",
       "</table>\n",
       "<p>3387 rows × 5 columns</p>\n",
       "</div>"
      ],
      "text/plain": [
       "                               studio  domestic_gross  foreign_gross  year  \\\n",
       "title                                                                        \n",
       "'71                             RAtt.       1300000.0       355000.0  2015   \n",
       "1,000 Times Good Night             FM         53900.0            0.0  2014   \n",
       "10 Cloverfield Lane              Par.      72100000.0     38100000.0  2016   \n",
       "10 Years                        Anch.        203000.0            0.0  2012   \n",
       "1001 Grams                         KL         11000.0            0.0  2015   \n",
       "...                               ...             ...            ...   ...   \n",
       "Zoolander 2                      Par.      28800000.0     27900000.0  2016   \n",
       "Zootopia                           BV     341300000.0    682500000.0  2016   \n",
       "[Rec] 2                         Magn.         27800.0     18500000.0  2010   \n",
       "mother!                          Par.      17800000.0     26700000.0  2017   \n",
       "xXx: The Return of Xander Cage   Par.      44900000.0    301200000.0  2017   \n",
       "\n",
       "                                 total_gross  \n",
       "title                                         \n",
       "'71                             1.655000e+06  \n",
       "1,000 Times Good Night          5.390000e+04  \n",
       "10 Cloverfield Lane             1.102000e+08  \n",
       "10 Years                        2.030000e+05  \n",
       "1001 Grams                      1.100000e+04  \n",
       "...                                      ...  \n",
       "Zoolander 2                     5.670000e+07  \n",
       "Zootopia                        1.023800e+09  \n",
       "[Rec] 2                         1.852780e+07  \n",
       "mother!                         4.450000e+07  \n",
       "xXx: The Return of Xander Cage  3.461000e+08  \n",
       "\n",
       "[3387 rows x 5 columns]"
      ]
     },
     "execution_count": 39,
     "metadata": {},
     "output_type": "execute_result"
    }
   ],
   "source": [
    "movie_budgets_bom.sort_values('title')"
   ]
  },
  {
   "cell_type": "code",
   "execution_count": 40,
   "metadata": {
    "ExecuteTime": {
     "end_time": "2022-05-31T11:01:04.217914Z",
     "start_time": "2022-05-31T11:01:04.212491Z"
    }
   },
   "outputs": [
    {
     "data": {
      "text/html": [
       "<div>\n",
       "<style scoped>\n",
       "    .dataframe tbody tr th:only-of-type {\n",
       "        vertical-align: middle;\n",
       "    }\n",
       "\n",
       "    .dataframe tbody tr th {\n",
       "        vertical-align: top;\n",
       "    }\n",
       "\n",
       "    .dataframe thead th {\n",
       "        text-align: right;\n",
       "    }\n",
       "</style>\n",
       "<table border=\"1\" class=\"dataframe\">\n",
       "  <thead>\n",
       "    <tr style=\"text-align: right;\">\n",
       "      <th></th>\n",
       "      <th>release_date</th>\n",
       "      <th>production_budget</th>\n",
       "      <th>domestic_gross</th>\n",
       "      <th>worldwide_gross</th>\n",
       "      <th>profit</th>\n",
       "      <th>roi</th>\n",
       "    </tr>\n",
       "    <tr>\n",
       "      <th>movie</th>\n",
       "      <th></th>\n",
       "      <th></th>\n",
       "      <th></th>\n",
       "      <th></th>\n",
       "      <th></th>\n",
       "      <th></th>\n",
       "    </tr>\n",
       "  </thead>\n",
       "  <tbody>\n",
       "    <tr>\n",
       "      <th>Avatar</th>\n",
       "      <td>Dec 18, 2009</td>\n",
       "      <td>425000000.0</td>\n",
       "      <td>760507625.0</td>\n",
       "      <td>2.776345e+09</td>\n",
       "      <td>3.111853e+09</td>\n",
       "      <td>7.322007</td>\n",
       "    </tr>\n",
       "    <tr>\n",
       "      <th>Pirates of the Caribbean: On Stranger Tides</th>\n",
       "      <td>May 20, 2011</td>\n",
       "      <td>410600000.0</td>\n",
       "      <td>241063875.0</td>\n",
       "      <td>1.045664e+09</td>\n",
       "      <td>8.761278e+08</td>\n",
       "      <td>2.133774</td>\n",
       "    </tr>\n",
       "    <tr>\n",
       "      <th>Dark Phoenix</th>\n",
       "      <td>Jun 7, 2019</td>\n",
       "      <td>350000000.0</td>\n",
       "      <td>42762350.0</td>\n",
       "      <td>1.497624e+08</td>\n",
       "      <td>-1.574753e+08</td>\n",
       "      <td>-0.449929</td>\n",
       "    </tr>\n",
       "    <tr>\n",
       "      <th>Avengers: Age of Ultron</th>\n",
       "      <td>May 1, 2015</td>\n",
       "      <td>330600000.0</td>\n",
       "      <td>459005868.0</td>\n",
       "      <td>1.403014e+09</td>\n",
       "      <td>1.531420e+09</td>\n",
       "      <td>4.632244</td>\n",
       "    </tr>\n",
       "    <tr>\n",
       "      <th>Star Wars Ep. VIII: The Last Jedi</th>\n",
       "      <td>Dec 15, 2017</td>\n",
       "      <td>317000000.0</td>\n",
       "      <td>620181382.0</td>\n",
       "      <td>1.316722e+09</td>\n",
       "      <td>1.619903e+09</td>\n",
       "      <td>5.110105</td>\n",
       "    </tr>\n",
       "  </tbody>\n",
       "</table>\n",
       "</div>"
      ],
      "text/plain": [
       "                                             release_date  production_budget  \\\n",
       "movie                                                                          \n",
       "Avatar                                       Dec 18, 2009        425000000.0   \n",
       "Pirates of the Caribbean: On Stranger Tides  May 20, 2011        410600000.0   \n",
       "Dark Phoenix                                  Jun 7, 2019        350000000.0   \n",
       "Avengers: Age of Ultron                       May 1, 2015        330600000.0   \n",
       "Star Wars Ep. VIII: The Last Jedi            Dec 15, 2017        317000000.0   \n",
       "\n",
       "                                             domestic_gross  worldwide_gross  \\\n",
       "movie                                                                          \n",
       "Avatar                                          760507625.0     2.776345e+09   \n",
       "Pirates of the Caribbean: On Stranger Tides     241063875.0     1.045664e+09   \n",
       "Dark Phoenix                                     42762350.0     1.497624e+08   \n",
       "Avengers: Age of Ultron                         459005868.0     1.403014e+09   \n",
       "Star Wars Ep. VIII: The Last Jedi               620181382.0     1.316722e+09   \n",
       "\n",
       "                                                   profit       roi  \n",
       "movie                                                                \n",
       "Avatar                                       3.111853e+09  7.322007  \n",
       "Pirates of the Caribbean: On Stranger Tides  8.761278e+08  2.133774  \n",
       "Dark Phoenix                                -1.574753e+08 -0.449929  \n",
       "Avengers: Age of Ultron                      1.531420e+09  4.632244  \n",
       "Star Wars Ep. VIII: The Last Jedi            1.619903e+09  5.110105  "
      ]
     },
     "execution_count": 40,
     "metadata": {},
     "output_type": "execute_result"
    }
   ],
   "source": [
    "movie_budgets_tn.head()"
   ]
  },
  {
   "cell_type": "code",
   "execution_count": 41,
   "metadata": {
    "ExecuteTime": {
     "end_time": "2022-05-31T11:01:04.228944Z",
     "start_time": "2022-05-31T11:01:04.218743Z"
    }
   },
   "outputs": [
    {
     "data": {
      "text/html": [
       "<div>\n",
       "<style scoped>\n",
       "    .dataframe tbody tr th:only-of-type {\n",
       "        vertical-align: middle;\n",
       "    }\n",
       "\n",
       "    .dataframe tbody tr th {\n",
       "        vertical-align: top;\n",
       "    }\n",
       "\n",
       "    .dataframe thead th {\n",
       "        text-align: right;\n",
       "    }\n",
       "</style>\n",
       "<table border=\"1\" class=\"dataframe\">\n",
       "  <thead>\n",
       "    <tr style=\"text-align: right;\">\n",
       "      <th></th>\n",
       "      <th>release_date</th>\n",
       "      <th>production_budget</th>\n",
       "      <th>domestic_gross</th>\n",
       "      <th>worldwide_gross</th>\n",
       "      <th>profit</th>\n",
       "      <th>roi</th>\n",
       "    </tr>\n",
       "    <tr>\n",
       "      <th>movie</th>\n",
       "      <th></th>\n",
       "      <th></th>\n",
       "      <th></th>\n",
       "      <th></th>\n",
       "      <th></th>\n",
       "      <th></th>\n",
       "    </tr>\n",
       "  </thead>\n",
       "  <tbody>\n",
       "    <tr>\n",
       "      <th>#Horror</th>\n",
       "      <td>Nov 20, 2015</td>\n",
       "      <td>1500000.0</td>\n",
       "      <td>0.0</td>\n",
       "      <td>0.0</td>\n",
       "      <td>-1500000.0</td>\n",
       "      <td>-1.000000</td>\n",
       "    </tr>\n",
       "    <tr>\n",
       "      <th>(500) Days of Summer</th>\n",
       "      <td>Jul 17, 2009</td>\n",
       "      <td>7500000.0</td>\n",
       "      <td>32425665.0</td>\n",
       "      <td>34439060.0</td>\n",
       "      <td>59364725.0</td>\n",
       "      <td>7.915297</td>\n",
       "    </tr>\n",
       "    <tr>\n",
       "      <th>10 Cloverfield Lane</th>\n",
       "      <td>Mar 11, 2016</td>\n",
       "      <td>5000000.0</td>\n",
       "      <td>72082999.0</td>\n",
       "      <td>108286422.0</td>\n",
       "      <td>175369421.0</td>\n",
       "      <td>35.073884</td>\n",
       "    </tr>\n",
       "    <tr>\n",
       "      <th>10 Days in a Madhouse</th>\n",
       "      <td>Nov 11, 2015</td>\n",
       "      <td>12000000.0</td>\n",
       "      <td>14616.0</td>\n",
       "      <td>14616.0</td>\n",
       "      <td>-11970768.0</td>\n",
       "      <td>-0.997564</td>\n",
       "    </tr>\n",
       "    <tr>\n",
       "      <th>10 Things I Hate About You</th>\n",
       "      <td>Mar 31, 1999</td>\n",
       "      <td>13000000.0</td>\n",
       "      <td>38177966.0</td>\n",
       "      <td>60413950.0</td>\n",
       "      <td>85591916.0</td>\n",
       "      <td>6.583994</td>\n",
       "    </tr>\n",
       "    <tr>\n",
       "      <th>...</th>\n",
       "      <td>...</td>\n",
       "      <td>...</td>\n",
       "      <td>...</td>\n",
       "      <td>...</td>\n",
       "      <td>...</td>\n",
       "      <td>...</td>\n",
       "    </tr>\n",
       "    <tr>\n",
       "      <th>mother!</th>\n",
       "      <td>Sep 15, 2017</td>\n",
       "      <td>30000000.0</td>\n",
       "      <td>17800004.0</td>\n",
       "      <td>42531076.0</td>\n",
       "      <td>30331080.0</td>\n",
       "      <td>1.011036</td>\n",
       "    </tr>\n",
       "    <tr>\n",
       "      <th>xXx</th>\n",
       "      <td>Aug 9, 2002</td>\n",
       "      <td>70000000.0</td>\n",
       "      <td>141930000.0</td>\n",
       "      <td>267200000.0</td>\n",
       "      <td>339130000.0</td>\n",
       "      <td>4.844714</td>\n",
       "    </tr>\n",
       "    <tr>\n",
       "      <th>xXx: Return of Xander Cage</th>\n",
       "      <td>Jan 20, 2017</td>\n",
       "      <td>85000000.0</td>\n",
       "      <td>44898413.0</td>\n",
       "      <td>345033359.0</td>\n",
       "      <td>304931772.0</td>\n",
       "      <td>3.587433</td>\n",
       "    </tr>\n",
       "    <tr>\n",
       "      <th>Ã l\\'intÃ©rieur</th>\n",
       "      <td>Apr 15, 2008</td>\n",
       "      <td>3000000.0</td>\n",
       "      <td>0.0</td>\n",
       "      <td>895932.0</td>\n",
       "      <td>-2104068.0</td>\n",
       "      <td>-0.701356</td>\n",
       "    </tr>\n",
       "    <tr>\n",
       "      <th>é·æ±ä¸è (CJ7)</th>\n",
       "      <td>Mar 7, 2008</td>\n",
       "      <td>20000000.0</td>\n",
       "      <td>206678.0</td>\n",
       "      <td>47300771.0</td>\n",
       "      <td>27507449.0</td>\n",
       "      <td>1.375372</td>\n",
       "    </tr>\n",
       "  </tbody>\n",
       "</table>\n",
       "<p>5782 rows × 6 columns</p>\n",
       "</div>"
      ],
      "text/plain": [
       "                            release_date  production_budget  domestic_gross  \\\n",
       "movie                                                                         \n",
       "#Horror                     Nov 20, 2015          1500000.0             0.0   \n",
       "(500) Days of Summer        Jul 17, 2009          7500000.0      32425665.0   \n",
       "10 Cloverfield Lane         Mar 11, 2016          5000000.0      72082999.0   \n",
       "10 Days in a Madhouse       Nov 11, 2015         12000000.0         14616.0   \n",
       "10 Things I Hate About You  Mar 31, 1999         13000000.0      38177966.0   \n",
       "...                                  ...                ...             ...   \n",
       "mother!                     Sep 15, 2017         30000000.0      17800004.0   \n",
       "xXx                          Aug 9, 2002         70000000.0     141930000.0   \n",
       "xXx: Return of Xander Cage  Jan 20, 2017         85000000.0      44898413.0   \n",
       "Ã l\\'intÃ©rieur             Apr 15, 2008          3000000.0             0.0   \n",
       "é·æ±ä¸è (CJ7)           Mar 7, 2008         20000000.0        206678.0   \n",
       "\n",
       "                            worldwide_gross       profit        roi  \n",
       "movie                                                                \n",
       "#Horror                                 0.0   -1500000.0  -1.000000  \n",
       "(500) Days of Summer             34439060.0   59364725.0   7.915297  \n",
       "10 Cloverfield Lane             108286422.0  175369421.0  35.073884  \n",
       "10 Days in a Madhouse               14616.0  -11970768.0  -0.997564  \n",
       "10 Things I Hate About You       60413950.0   85591916.0   6.583994  \n",
       "...                                     ...          ...        ...  \n",
       "mother!                          42531076.0   30331080.0   1.011036  \n",
       "xXx                             267200000.0  339130000.0   4.844714  \n",
       "xXx: Return of Xander Cage      345033359.0  304931772.0   3.587433  \n",
       "Ã l\\'intÃ©rieur                    895932.0   -2104068.0  -0.701356  \n",
       "é·æ±ä¸è (CJ7)               47300771.0   27507449.0   1.375372  \n",
       "\n",
       "[5782 rows x 6 columns]"
      ]
     },
     "execution_count": 41,
     "metadata": {},
     "output_type": "execute_result"
    }
   ],
   "source": [
    "movie_budgets_tn.sort_values('movie')"
   ]
  },
  {
   "cell_type": "code",
   "execution_count": null,
   "metadata": {
    "ExecuteTime": {
     "end_time": "2022-05-16T18:20:41.299358Z",
     "start_time": "2022-05-16T18:20:41.262052Z"
    }
   },
   "outputs": [],
   "source": []
  },
  {
   "cell_type": "code",
   "execution_count": 42,
   "metadata": {
    "ExecuteTime": {
     "end_time": "2022-05-31T11:01:04.235438Z",
     "start_time": "2022-05-31T11:01:04.229735Z"
    }
   },
   "outputs": [
    {
     "data": {
      "text/html": [
       "<div>\n",
       "<style scoped>\n",
       "    .dataframe tbody tr th:only-of-type {\n",
       "        vertical-align: middle;\n",
       "    }\n",
       "\n",
       "    .dataframe tbody tr th {\n",
       "        vertical-align: top;\n",
       "    }\n",
       "\n",
       "    .dataframe thead th {\n",
       "        text-align: right;\n",
       "    }\n",
       "</style>\n",
       "<table border=\"1\" class=\"dataframe\">\n",
       "  <thead>\n",
       "    <tr style=\"text-align: right;\">\n",
       "      <th></th>\n",
       "      <th>Unnamed: 0</th>\n",
       "      <th>genre_ids</th>\n",
       "      <th>id</th>\n",
       "      <th>original_language</th>\n",
       "      <th>original_title</th>\n",
       "      <th>popularity</th>\n",
       "      <th>release_date</th>\n",
       "      <th>title</th>\n",
       "      <th>vote_average</th>\n",
       "      <th>vote_count</th>\n",
       "    </tr>\n",
       "  </thead>\n",
       "  <tbody>\n",
       "    <tr>\n",
       "      <th>0</th>\n",
       "      <td>0</td>\n",
       "      <td>[12, 14, 10751]</td>\n",
       "      <td>12444</td>\n",
       "      <td>en</td>\n",
       "      <td>Harry Potter and the Deathly Hallows: Part 1</td>\n",
       "      <td>33.533</td>\n",
       "      <td>2010-11-19</td>\n",
       "      <td>Harry Potter and the Deathly Hallows: Part 1</td>\n",
       "      <td>7.7</td>\n",
       "      <td>10788</td>\n",
       "    </tr>\n",
       "    <tr>\n",
       "      <th>1</th>\n",
       "      <td>1</td>\n",
       "      <td>[14, 12, 16, 10751]</td>\n",
       "      <td>10191</td>\n",
       "      <td>en</td>\n",
       "      <td>How to Train Your Dragon</td>\n",
       "      <td>28.734</td>\n",
       "      <td>2010-03-26</td>\n",
       "      <td>How to Train Your Dragon</td>\n",
       "      <td>7.7</td>\n",
       "      <td>7610</td>\n",
       "    </tr>\n",
       "    <tr>\n",
       "      <th>2</th>\n",
       "      <td>2</td>\n",
       "      <td>[12, 28, 878]</td>\n",
       "      <td>10138</td>\n",
       "      <td>en</td>\n",
       "      <td>Iron Man 2</td>\n",
       "      <td>28.515</td>\n",
       "      <td>2010-05-07</td>\n",
       "      <td>Iron Man 2</td>\n",
       "      <td>6.8</td>\n",
       "      <td>12368</td>\n",
       "    </tr>\n",
       "    <tr>\n",
       "      <th>3</th>\n",
       "      <td>3</td>\n",
       "      <td>[16, 35, 10751]</td>\n",
       "      <td>862</td>\n",
       "      <td>en</td>\n",
       "      <td>Toy Story</td>\n",
       "      <td>28.005</td>\n",
       "      <td>1995-11-22</td>\n",
       "      <td>Toy Story</td>\n",
       "      <td>7.9</td>\n",
       "      <td>10174</td>\n",
       "    </tr>\n",
       "    <tr>\n",
       "      <th>4</th>\n",
       "      <td>4</td>\n",
       "      <td>[28, 878, 12]</td>\n",
       "      <td>27205</td>\n",
       "      <td>en</td>\n",
       "      <td>Inception</td>\n",
       "      <td>27.920</td>\n",
       "      <td>2010-07-16</td>\n",
       "      <td>Inception</td>\n",
       "      <td>8.3</td>\n",
       "      <td>22186</td>\n",
       "    </tr>\n",
       "  </tbody>\n",
       "</table>\n",
       "</div>"
      ],
      "text/plain": [
       "   Unnamed: 0            genre_ids     id original_language  \\\n",
       "0           0      [12, 14, 10751]  12444                en   \n",
       "1           1  [14, 12, 16, 10751]  10191                en   \n",
       "2           2        [12, 28, 878]  10138                en   \n",
       "3           3      [16, 35, 10751]    862                en   \n",
       "4           4        [28, 878, 12]  27205                en   \n",
       "\n",
       "                                 original_title  popularity release_date  \\\n",
       "0  Harry Potter and the Deathly Hallows: Part 1      33.533   2010-11-19   \n",
       "1                      How to Train Your Dragon      28.734   2010-03-26   \n",
       "2                                    Iron Man 2      28.515   2010-05-07   \n",
       "3                                     Toy Story      28.005   1995-11-22   \n",
       "4                                     Inception      27.920   2010-07-16   \n",
       "\n",
       "                                          title  vote_average  vote_count  \n",
       "0  Harry Potter and the Deathly Hallows: Part 1           7.7       10788  \n",
       "1                      How to Train Your Dragon           7.7        7610  \n",
       "2                                    Iron Man 2           6.8       12368  \n",
       "3                                     Toy Story           7.9       10174  \n",
       "4                                     Inception           8.3       22186  "
      ]
     },
     "execution_count": 42,
     "metadata": {},
     "output_type": "execute_result"
    }
   ],
   "source": [
    "tmb_movies.head()"
   ]
  },
  {
   "cell_type": "code",
   "execution_count": 43,
   "metadata": {
    "ExecuteTime": {
     "end_time": "2022-05-31T11:01:04.249303Z",
     "start_time": "2022-05-31T11:01:04.236272Z"
    }
   },
   "outputs": [
    {
     "data": {
      "text/html": [
       "<div>\n",
       "<style scoped>\n",
       "    .dataframe tbody tr th:only-of-type {\n",
       "        vertical-align: middle;\n",
       "    }\n",
       "\n",
       "    .dataframe tbody tr th {\n",
       "        vertical-align: top;\n",
       "    }\n",
       "\n",
       "    .dataframe thead th {\n",
       "        text-align: right;\n",
       "    }\n",
       "</style>\n",
       "<table border=\"1\" class=\"dataframe\">\n",
       "  <thead>\n",
       "    <tr style=\"text-align: right;\">\n",
       "      <th></th>\n",
       "      <th>Unnamed: 0</th>\n",
       "      <th>genre_ids</th>\n",
       "      <th>id</th>\n",
       "      <th>original_language</th>\n",
       "      <th>original_title</th>\n",
       "      <th>popularity</th>\n",
       "      <th>release_date</th>\n",
       "      <th>title</th>\n",
       "      <th>vote_average</th>\n",
       "      <th>vote_count</th>\n",
       "    </tr>\n",
       "  </thead>\n",
       "  <tbody>\n",
       "    <tr>\n",
       "      <th>13258</th>\n",
       "      <td>13258</td>\n",
       "      <td>[99]</td>\n",
       "      <td>403294</td>\n",
       "      <td>en</td>\n",
       "      <td>9/11: Simulations</td>\n",
       "      <td>0.600</td>\n",
       "      <td>2014-07-04</td>\n",
       "      <td>9/11: Simulations</td>\n",
       "      <td>10.0</td>\n",
       "      <td>1</td>\n",
       "    </tr>\n",
       "    <tr>\n",
       "      <th>22787</th>\n",
       "      <td>22787</td>\n",
       "      <td>[27, 35]</td>\n",
       "      <td>444170</td>\n",
       "      <td>en</td>\n",
       "      <td>Lasagna Cat - Telephone Sex Survey Results</td>\n",
       "      <td>0.722</td>\n",
       "      <td>2017-02-23</td>\n",
       "      <td>Lasagna Cat - Telephone Sex Survey Results</td>\n",
       "      <td>10.0</td>\n",
       "      <td>1</td>\n",
       "    </tr>\n",
       "    <tr>\n",
       "      <th>22592</th>\n",
       "      <td>22592</td>\n",
       "      <td>[99]</td>\n",
       "      <td>488357</td>\n",
       "      <td>en</td>\n",
       "      <td>MOTO 9: The Movie</td>\n",
       "      <td>0.900</td>\n",
       "      <td>2017-11-21</td>\n",
       "      <td>MOTO 9: The Movie</td>\n",
       "      <td>10.0</td>\n",
       "      <td>1</td>\n",
       "    </tr>\n",
       "    <tr>\n",
       "      <th>22607</th>\n",
       "      <td>22607</td>\n",
       "      <td>[]</td>\n",
       "      <td>437448</td>\n",
       "      <td>en</td>\n",
       "      <td>The Letter Carrier</td>\n",
       "      <td>0.895</td>\n",
       "      <td>2017-01-27</td>\n",
       "      <td>The Letter Carrier</td>\n",
       "      <td>10.0</td>\n",
       "      <td>1</td>\n",
       "    </tr>\n",
       "    <tr>\n",
       "      <th>22610</th>\n",
       "      <td>22610</td>\n",
       "      <td>[9648, 37, 18, 10402]</td>\n",
       "      <td>463601</td>\n",
       "      <td>en</td>\n",
       "      <td>Hope This Goes Over Well/Living in an Empty World</td>\n",
       "      <td>0.894</td>\n",
       "      <td>2017-06-26</td>\n",
       "      <td>Hope This Goes Over Well/Living in an Empty World</td>\n",
       "      <td>10.0</td>\n",
       "      <td>1</td>\n",
       "    </tr>\n",
       "    <tr>\n",
       "      <th>...</th>\n",
       "      <td>...</td>\n",
       "      <td>...</td>\n",
       "      <td>...</td>\n",
       "      <td>...</td>\n",
       "      <td>...</td>\n",
       "      <td>...</td>\n",
       "      <td>...</td>\n",
       "      <td>...</td>\n",
       "      <td>...</td>\n",
       "      <td>...</td>\n",
       "    </tr>\n",
       "    <tr>\n",
       "      <th>11018</th>\n",
       "      <td>11018</td>\n",
       "      <td>[]</td>\n",
       "      <td>124727</td>\n",
       "      <td>en</td>\n",
       "      <td>Darkchylde</td>\n",
       "      <td>0.600</td>\n",
       "      <td>2013-08-09</td>\n",
       "      <td>Darkchylde</td>\n",
       "      <td>0.0</td>\n",
       "      <td>1</td>\n",
       "    </tr>\n",
       "    <tr>\n",
       "      <th>14168</th>\n",
       "      <td>14168</td>\n",
       "      <td>[]</td>\n",
       "      <td>167531</td>\n",
       "      <td>en</td>\n",
       "      <td>Summer Snow</td>\n",
       "      <td>0.600</td>\n",
       "      <td>2014-07-25</td>\n",
       "      <td>Summer Snow</td>\n",
       "      <td>0.0</td>\n",
       "      <td>1</td>\n",
       "    </tr>\n",
       "    <tr>\n",
       "      <th>14167</th>\n",
       "      <td>14167</td>\n",
       "      <td>[99, 10402]</td>\n",
       "      <td>221918</td>\n",
       "      <td>en</td>\n",
       "      <td>Butch Walker:  Out of Focus</td>\n",
       "      <td>0.600</td>\n",
       "      <td>2014-08-05</td>\n",
       "      <td>Butch Walker:  Out of Focus</td>\n",
       "      <td>0.0</td>\n",
       "      <td>1</td>\n",
       "    </tr>\n",
       "    <tr>\n",
       "      <th>20601</th>\n",
       "      <td>20601</td>\n",
       "      <td>[18, 35]</td>\n",
       "      <td>448105</td>\n",
       "      <td>en</td>\n",
       "      <td>The Angry Man</td>\n",
       "      <td>0.600</td>\n",
       "      <td>2017-04-08</td>\n",
       "      <td>The Angry Man</td>\n",
       "      <td>0.0</td>\n",
       "      <td>1</td>\n",
       "    </tr>\n",
       "    <tr>\n",
       "      <th>26516</th>\n",
       "      <td>26516</td>\n",
       "      <td>[53, 27]</td>\n",
       "      <td>309885</td>\n",
       "      <td>en</td>\n",
       "      <td>The Church</td>\n",
       "      <td>0.600</td>\n",
       "      <td>2018-10-05</td>\n",
       "      <td>The Church</td>\n",
       "      <td>0.0</td>\n",
       "      <td>1</td>\n",
       "    </tr>\n",
       "  </tbody>\n",
       "</table>\n",
       "<p>26517 rows × 10 columns</p>\n",
       "</div>"
      ],
      "text/plain": [
       "       Unnamed: 0              genre_ids      id original_language  \\\n",
       "13258       13258                   [99]  403294                en   \n",
       "22787       22787               [27, 35]  444170                en   \n",
       "22592       22592                   [99]  488357                en   \n",
       "22607       22607                     []  437448                en   \n",
       "22610       22610  [9648, 37, 18, 10402]  463601                en   \n",
       "...           ...                    ...     ...               ...   \n",
       "11018       11018                     []  124727                en   \n",
       "14168       14168                     []  167531                en   \n",
       "14167       14167            [99, 10402]  221918                en   \n",
       "20601       20601               [18, 35]  448105                en   \n",
       "26516       26516               [53, 27]  309885                en   \n",
       "\n",
       "                                          original_title  popularity  \\\n",
       "13258                                  9/11: Simulations       0.600   \n",
       "22787         Lasagna Cat - Telephone Sex Survey Results       0.722   \n",
       "22592                                  MOTO 9: The Movie       0.900   \n",
       "22607                                 The Letter Carrier       0.895   \n",
       "22610  Hope This Goes Over Well/Living in an Empty World       0.894   \n",
       "...                                                  ...         ...   \n",
       "11018                                         Darkchylde       0.600   \n",
       "14168                                        Summer Snow       0.600   \n",
       "14167                        Butch Walker:  Out of Focus       0.600   \n",
       "20601                                      The Angry Man       0.600   \n",
       "26516                                         The Church       0.600   \n",
       "\n",
       "      release_date                                              title  \\\n",
       "13258   2014-07-04                                  9/11: Simulations   \n",
       "22787   2017-02-23         Lasagna Cat - Telephone Sex Survey Results   \n",
       "22592   2017-11-21                                  MOTO 9: The Movie   \n",
       "22607   2017-01-27                                 The Letter Carrier   \n",
       "22610   2017-06-26  Hope This Goes Over Well/Living in an Empty World   \n",
       "...            ...                                                ...   \n",
       "11018   2013-08-09                                         Darkchylde   \n",
       "14168   2014-07-25                                        Summer Snow   \n",
       "14167   2014-08-05                        Butch Walker:  Out of Focus   \n",
       "20601   2017-04-08                                      The Angry Man   \n",
       "26516   2018-10-05                                         The Church   \n",
       "\n",
       "       vote_average  vote_count  \n",
       "13258          10.0           1  \n",
       "22787          10.0           1  \n",
       "22592          10.0           1  \n",
       "22607          10.0           1  \n",
       "22610          10.0           1  \n",
       "...             ...         ...  \n",
       "11018           0.0           1  \n",
       "14168           0.0           1  \n",
       "14167           0.0           1  \n",
       "20601           0.0           1  \n",
       "26516           0.0           1  \n",
       "\n",
       "[26517 rows x 10 columns]"
      ]
     },
     "execution_count": 43,
     "metadata": {},
     "output_type": "execute_result"
    }
   ],
   "source": [
    "tmb_movies.sort_values('vote_average', ascending=False)"
   ]
  },
  {
   "cell_type": "code",
   "execution_count": 44,
   "metadata": {
    "ExecuteTime": {
     "end_time": "2022-05-31T11:01:04.389583Z",
     "start_time": "2022-05-31T11:01:04.250093Z"
    }
   },
   "outputs": [
    {
     "name": "stdout",
     "output_type": "stream",
     "text": [
      "README.md                   rt.movie_info.numbers\r\n",
      "bom.movie_gross (1).numbers rt.reviews.numbers\r\n",
      "im.db                       tmdb.movies (1).numbers\r\n",
      "phase_1 project.ipynb       tn.movie_budgets.numbers\r\n"
     ]
    }
   ],
   "source": [
    "! ls"
   ]
  },
  {
   "cell_type": "code",
   "execution_count": null,
   "metadata": {
    "ExecuteTime": {
     "end_time": "2022-05-17T10:52:26.925371Z",
     "start_time": "2022-05-17T10:52:25.966Z"
    }
   },
   "outputs": [],
   "source": []
  },
  {
   "cell_type": "code",
   "execution_count": null,
   "metadata": {
    "ExecuteTime": {
     "end_time": "2022-05-17T10:52:26.925923Z",
     "start_time": "2022-05-17T10:52:25.966Z"
    }
   },
   "outputs": [],
   "source": []
  },
  {
   "cell_type": "code",
   "execution_count": null,
   "metadata": {
    "ExecuteTime": {
     "end_time": "2022-05-26T14:42:29.223277Z",
     "start_time": "2022-05-26T14:42:29.219799Z"
    }
   },
   "outputs": [],
   "source": []
  },
  {
   "cell_type": "code",
   "execution_count": null,
   "metadata": {
    "ExecuteTime": {
     "end_time": "2022-05-16T18:20:41.837408Z",
     "start_time": "2022-05-16T18:20:41.474219Z"
    },
    "scrolled": true
   },
   "outputs": [],
   "source": []
  },
  {
   "cell_type": "code",
   "execution_count": null,
   "metadata": {},
   "outputs": [],
   "source": []
  },
  {
   "cell_type": "code",
   "execution_count": null,
   "metadata": {},
   "outputs": [],
   "source": []
  },
  {
   "cell_type": "code",
   "execution_count": null,
   "metadata": {
    "ExecuteTime": {
     "end_time": "2022-05-16T18:20:41.943550Z",
     "start_time": "2022-05-16T18:20:41.838248Z"
    }
   },
   "outputs": [],
   "source": []
  },
  {
   "cell_type": "code",
   "execution_count": 45,
   "metadata": {
    "ExecuteTime": {
     "end_time": "2022-05-31T11:01:04.403745Z",
     "start_time": "2022-05-31T11:01:04.392069Z"
    }
   },
   "outputs": [
    {
     "data": {
      "text/html": [
       "<div>\n",
       "<style scoped>\n",
       "    .dataframe tbody tr th:only-of-type {\n",
       "        vertical-align: middle;\n",
       "    }\n",
       "\n",
       "    .dataframe tbody tr th {\n",
       "        vertical-align: top;\n",
       "    }\n",
       "\n",
       "    .dataframe thead th {\n",
       "        text-align: right;\n",
       "    }\n",
       "</style>\n",
       "<table border=\"1\" class=\"dataframe\">\n",
       "  <thead>\n",
       "    <tr style=\"text-align: right;\">\n",
       "      <th></th>\n",
       "      <th>Unnamed: 0</th>\n",
       "      <th>genre_ids</th>\n",
       "      <th>id</th>\n",
       "      <th>original_language</th>\n",
       "      <th>original_title</th>\n",
       "      <th>popularity</th>\n",
       "      <th>release_date</th>\n",
       "      <th>title</th>\n",
       "      <th>vote_average</th>\n",
       "      <th>vote_count</th>\n",
       "    </tr>\n",
       "  </thead>\n",
       "  <tbody>\n",
       "    <tr>\n",
       "      <th>0</th>\n",
       "      <td>0</td>\n",
       "      <td>[12, 14, 10751]</td>\n",
       "      <td>12444</td>\n",
       "      <td>en</td>\n",
       "      <td>Harry Potter and the Deathly Hallows: Part 1</td>\n",
       "      <td>33.533</td>\n",
       "      <td>2010-11-19</td>\n",
       "      <td>Harry Potter and the Deathly Hallows: Part 1</td>\n",
       "      <td>7.7</td>\n",
       "      <td>10788</td>\n",
       "    </tr>\n",
       "    <tr>\n",
       "      <th>1</th>\n",
       "      <td>1</td>\n",
       "      <td>[14, 12, 16, 10751]</td>\n",
       "      <td>10191</td>\n",
       "      <td>en</td>\n",
       "      <td>How to Train Your Dragon</td>\n",
       "      <td>28.734</td>\n",
       "      <td>2010-03-26</td>\n",
       "      <td>How to Train Your Dragon</td>\n",
       "      <td>7.7</td>\n",
       "      <td>7610</td>\n",
       "    </tr>\n",
       "    <tr>\n",
       "      <th>2</th>\n",
       "      <td>2</td>\n",
       "      <td>[12, 28, 878]</td>\n",
       "      <td>10138</td>\n",
       "      <td>en</td>\n",
       "      <td>Iron Man 2</td>\n",
       "      <td>28.515</td>\n",
       "      <td>2010-05-07</td>\n",
       "      <td>Iron Man 2</td>\n",
       "      <td>6.8</td>\n",
       "      <td>12368</td>\n",
       "    </tr>\n",
       "    <tr>\n",
       "      <th>3</th>\n",
       "      <td>3</td>\n",
       "      <td>[16, 35, 10751]</td>\n",
       "      <td>862</td>\n",
       "      <td>en</td>\n",
       "      <td>Toy Story</td>\n",
       "      <td>28.005</td>\n",
       "      <td>1995-11-22</td>\n",
       "      <td>Toy Story</td>\n",
       "      <td>7.9</td>\n",
       "      <td>10174</td>\n",
       "    </tr>\n",
       "    <tr>\n",
       "      <th>4</th>\n",
       "      <td>4</td>\n",
       "      <td>[28, 878, 12]</td>\n",
       "      <td>27205</td>\n",
       "      <td>en</td>\n",
       "      <td>Inception</td>\n",
       "      <td>27.920</td>\n",
       "      <td>2010-07-16</td>\n",
       "      <td>Inception</td>\n",
       "      <td>8.3</td>\n",
       "      <td>22186</td>\n",
       "    </tr>\n",
       "  </tbody>\n",
       "</table>\n",
       "</div>"
      ],
      "text/plain": [
       "   Unnamed: 0            genre_ids     id original_language  \\\n",
       "0           0      [12, 14, 10751]  12444                en   \n",
       "1           1  [14, 12, 16, 10751]  10191                en   \n",
       "2           2        [12, 28, 878]  10138                en   \n",
       "3           3      [16, 35, 10751]    862                en   \n",
       "4           4        [28, 878, 12]  27205                en   \n",
       "\n",
       "                                 original_title  popularity release_date  \\\n",
       "0  Harry Potter and the Deathly Hallows: Part 1      33.533   2010-11-19   \n",
       "1                      How to Train Your Dragon      28.734   2010-03-26   \n",
       "2                                    Iron Man 2      28.515   2010-05-07   \n",
       "3                                     Toy Story      28.005   1995-11-22   \n",
       "4                                     Inception      27.920   2010-07-16   \n",
       "\n",
       "                                          title  vote_average  vote_count  \n",
       "0  Harry Potter and the Deathly Hallows: Part 1           7.7       10788  \n",
       "1                      How to Train Your Dragon           7.7        7610  \n",
       "2                                    Iron Man 2           6.8       12368  \n",
       "3                                     Toy Story           7.9       10174  \n",
       "4                                     Inception           8.3       22186  "
      ]
     },
     "execution_count": 45,
     "metadata": {},
     "output_type": "execute_result"
    }
   ],
   "source": [
    "tmb_movies.head()"
   ]
  },
  {
   "cell_type": "code",
   "execution_count": 46,
   "metadata": {
    "ExecuteTime": {
     "end_time": "2022-05-31T11:01:04.411683Z",
     "start_time": "2022-05-31T11:01:04.404723Z"
    }
   },
   "outputs": [
    {
     "data": {
      "text/html": [
       "<div>\n",
       "<style scoped>\n",
       "    .dataframe tbody tr th:only-of-type {\n",
       "        vertical-align: middle;\n",
       "    }\n",
       "\n",
       "    .dataframe tbody tr th {\n",
       "        vertical-align: top;\n",
       "    }\n",
       "\n",
       "    .dataframe thead th {\n",
       "        text-align: right;\n",
       "    }\n",
       "</style>\n",
       "<table border=\"1\" class=\"dataframe\">\n",
       "  <thead>\n",
       "    <tr style=\"text-align: right;\">\n",
       "      <th></th>\n",
       "      <th>Unnamed: 0</th>\n",
       "      <th>genre_ids</th>\n",
       "      <th>id</th>\n",
       "      <th>original_language</th>\n",
       "      <th>original_title</th>\n",
       "      <th>popularity</th>\n",
       "      <th>release_date</th>\n",
       "      <th>title</th>\n",
       "      <th>vote_average</th>\n",
       "      <th>vote_count</th>\n",
       "    </tr>\n",
       "  </thead>\n",
       "  <tbody>\n",
       "    <tr>\n",
       "      <th>0</th>\n",
       "      <td>0</td>\n",
       "      <td>[12, 14, 10751]</td>\n",
       "      <td>12444</td>\n",
       "      <td>en</td>\n",
       "      <td>Harry Potter and the Deathly Hallows: Part 1</td>\n",
       "      <td>33.533</td>\n",
       "      <td>2010-11-19</td>\n",
       "      <td>Harry Potter and the Deathly Hallows: Part 1</td>\n",
       "      <td>7.7</td>\n",
       "      <td>10788</td>\n",
       "    </tr>\n",
       "    <tr>\n",
       "      <th>1</th>\n",
       "      <td>1</td>\n",
       "      <td>[14, 12, 16, 10751]</td>\n",
       "      <td>10191</td>\n",
       "      <td>en</td>\n",
       "      <td>How to Train Your Dragon</td>\n",
       "      <td>28.734</td>\n",
       "      <td>2010-03-26</td>\n",
       "      <td>How to Train Your Dragon</td>\n",
       "      <td>7.7</td>\n",
       "      <td>7610</td>\n",
       "    </tr>\n",
       "    <tr>\n",
       "      <th>2</th>\n",
       "      <td>2</td>\n",
       "      <td>[12, 28, 878]</td>\n",
       "      <td>10138</td>\n",
       "      <td>en</td>\n",
       "      <td>Iron Man 2</td>\n",
       "      <td>28.515</td>\n",
       "      <td>2010-05-07</td>\n",
       "      <td>Iron Man 2</td>\n",
       "      <td>6.8</td>\n",
       "      <td>12368</td>\n",
       "    </tr>\n",
       "    <tr>\n",
       "      <th>3</th>\n",
       "      <td>3</td>\n",
       "      <td>[16, 35, 10751]</td>\n",
       "      <td>862</td>\n",
       "      <td>en</td>\n",
       "      <td>Toy Story</td>\n",
       "      <td>28.005</td>\n",
       "      <td>1995-11-22</td>\n",
       "      <td>Toy Story</td>\n",
       "      <td>7.9</td>\n",
       "      <td>10174</td>\n",
       "    </tr>\n",
       "    <tr>\n",
       "      <th>4</th>\n",
       "      <td>4</td>\n",
       "      <td>[28, 878, 12]</td>\n",
       "      <td>27205</td>\n",
       "      <td>en</td>\n",
       "      <td>Inception</td>\n",
       "      <td>27.920</td>\n",
       "      <td>2010-07-16</td>\n",
       "      <td>Inception</td>\n",
       "      <td>8.3</td>\n",
       "      <td>22186</td>\n",
       "    </tr>\n",
       "  </tbody>\n",
       "</table>\n",
       "</div>"
      ],
      "text/plain": [
       "   Unnamed: 0            genre_ids     id original_language  \\\n",
       "0           0      [12, 14, 10751]  12444                en   \n",
       "1           1  [14, 12, 16, 10751]  10191                en   \n",
       "2           2        [12, 28, 878]  10138                en   \n",
       "3           3      [16, 35, 10751]    862                en   \n",
       "4           4        [28, 878, 12]  27205                en   \n",
       "\n",
       "                                 original_title  popularity release_date  \\\n",
       "0  Harry Potter and the Deathly Hallows: Part 1      33.533   2010-11-19   \n",
       "1                      How to Train Your Dragon      28.734   2010-03-26   \n",
       "2                                    Iron Man 2      28.515   2010-05-07   \n",
       "3                                     Toy Story      28.005   1995-11-22   \n",
       "4                                     Inception      27.920   2010-07-16   \n",
       "\n",
       "                                          title  vote_average  vote_count  \n",
       "0  Harry Potter and the Deathly Hallows: Part 1           7.7       10788  \n",
       "1                      How to Train Your Dragon           7.7        7610  \n",
       "2                                    Iron Man 2           6.8       12368  \n",
       "3                                     Toy Story           7.9       10174  \n",
       "4                                     Inception           8.3       22186  "
      ]
     },
     "execution_count": 46,
     "metadata": {},
     "output_type": "execute_result"
    }
   ],
   "source": [
    "tmb_movies.head()\n"
   ]
  },
  {
   "cell_type": "code",
   "execution_count": 47,
   "metadata": {
    "ExecuteTime": {
     "end_time": "2022-05-31T11:01:04.421102Z",
     "start_time": "2022-05-31T11:01:04.412764Z"
    }
   },
   "outputs": [
    {
     "data": {
      "text/html": [
       "<div>\n",
       "<style scoped>\n",
       "    .dataframe tbody tr th:only-of-type {\n",
       "        vertical-align: middle;\n",
       "    }\n",
       "\n",
       "    .dataframe tbody tr th {\n",
       "        vertical-align: top;\n",
       "    }\n",
       "\n",
       "    .dataframe thead th {\n",
       "        text-align: right;\n",
       "    }\n",
       "</style>\n",
       "<table border=\"1\" class=\"dataframe\">\n",
       "  <thead>\n",
       "    <tr style=\"text-align: right;\">\n",
       "      <th></th>\n",
       "      <th>release_date</th>\n",
       "      <th>production_budget</th>\n",
       "      <th>domestic_gross</th>\n",
       "      <th>worldwide_gross</th>\n",
       "      <th>profit</th>\n",
       "      <th>roi</th>\n",
       "    </tr>\n",
       "    <tr>\n",
       "      <th>movie</th>\n",
       "      <th></th>\n",
       "      <th></th>\n",
       "      <th></th>\n",
       "      <th></th>\n",
       "      <th></th>\n",
       "      <th></th>\n",
       "    </tr>\n",
       "  </thead>\n",
       "  <tbody>\n",
       "    <tr>\n",
       "      <th>The Sixth Sense</th>\n",
       "      <td>Aug 6, 1999</td>\n",
       "      <td>40000000.0</td>\n",
       "      <td>293506292.0</td>\n",
       "      <td>672806292.0</td>\n",
       "      <td>926312584.0</td>\n",
       "      <td>23.157815</td>\n",
       "    </tr>\n",
       "    <tr>\n",
       "      <th>Wedding Crashers</th>\n",
       "      <td>Jul 15, 2005</td>\n",
       "      <td>40000000.0</td>\n",
       "      <td>209218368.0</td>\n",
       "      <td>283218368.0</td>\n",
       "      <td>452436736.0</td>\n",
       "      <td>11.310918</td>\n",
       "    </tr>\n",
       "    <tr>\n",
       "      <th>The Karate Kid</th>\n",
       "      <td>Jun 11, 2010</td>\n",
       "      <td>40000000.0</td>\n",
       "      <td>176591618.0</td>\n",
       "      <td>351774938.0</td>\n",
       "      <td>488366556.0</td>\n",
       "      <td>12.209164</td>\n",
       "    </tr>\n",
       "    <tr>\n",
       "      <th>Fifty Shades of Grey</th>\n",
       "      <td>Feb 13, 2015</td>\n",
       "      <td>40000000.0</td>\n",
       "      <td>166167230.0</td>\n",
       "      <td>570998101.0</td>\n",
       "      <td>697165331.0</td>\n",
       "      <td>17.429133</td>\n",
       "    </tr>\n",
       "    <tr>\n",
       "      <th>The Proposal</th>\n",
       "      <td>Jun 19, 2009</td>\n",
       "      <td>40000000.0</td>\n",
       "      <td>163958031.0</td>\n",
       "      <td>314709717.0</td>\n",
       "      <td>438667748.0</td>\n",
       "      <td>10.966694</td>\n",
       "    </tr>\n",
       "    <tr>\n",
       "      <th>...</th>\n",
       "      <td>...</td>\n",
       "      <td>...</td>\n",
       "      <td>...</td>\n",
       "      <td>...</td>\n",
       "      <td>...</td>\n",
       "      <td>...</td>\n",
       "    </tr>\n",
       "    <tr>\n",
       "      <th>Should've Been Romeo</th>\n",
       "      <td>Dec 31, 2012</td>\n",
       "      <td>5000000.0</td>\n",
       "      <td>0.0</td>\n",
       "      <td>0.0</td>\n",
       "      <td>-5000000.0</td>\n",
       "      <td>-1.000000</td>\n",
       "    </tr>\n",
       "    <tr>\n",
       "      <th>Aztec Warrior</th>\n",
       "      <td>Dec 31, 2015</td>\n",
       "      <td>5000000.0</td>\n",
       "      <td>0.0</td>\n",
       "      <td>0.0</td>\n",
       "      <td>-5000000.0</td>\n",
       "      <td>-1.000000</td>\n",
       "    </tr>\n",
       "    <tr>\n",
       "      <th>Navy SEAL vs. Zombies</th>\n",
       "      <td>Sep 25, 2015</td>\n",
       "      <td>5000000.0</td>\n",
       "      <td>0.0</td>\n",
       "      <td>0.0</td>\n",
       "      <td>-5000000.0</td>\n",
       "      <td>-1.000000</td>\n",
       "    </tr>\n",
       "    <tr>\n",
       "      <th>The Hatching</th>\n",
       "      <td>Mar 15, 2016</td>\n",
       "      <td>5000000.0</td>\n",
       "      <td>0.0</td>\n",
       "      <td>0.0</td>\n",
       "      <td>-5000000.0</td>\n",
       "      <td>-1.000000</td>\n",
       "    </tr>\n",
       "    <tr>\n",
       "      <th>Running Forever</th>\n",
       "      <td>Oct 27, 2015</td>\n",
       "      <td>5000000.0</td>\n",
       "      <td>0.0</td>\n",
       "      <td>0.0</td>\n",
       "      <td>-5000000.0</td>\n",
       "      <td>-1.000000</td>\n",
       "    </tr>\n",
       "  </tbody>\n",
       "</table>\n",
       "<p>3026 rows × 6 columns</p>\n",
       "</div>"
      ],
      "text/plain": [
       "                       release_date  production_budget  domestic_gross  \\\n",
       "movie                                                                    \n",
       "The Sixth Sense         Aug 6, 1999         40000000.0     293506292.0   \n",
       "Wedding Crashers       Jul 15, 2005         40000000.0     209218368.0   \n",
       "The Karate Kid         Jun 11, 2010         40000000.0     176591618.0   \n",
       "Fifty Shades of Grey   Feb 13, 2015         40000000.0     166167230.0   \n",
       "The Proposal           Jun 19, 2009         40000000.0     163958031.0   \n",
       "...                             ...                ...             ...   \n",
       "Should've Been Romeo   Dec 31, 2012          5000000.0             0.0   \n",
       "Aztec Warrior          Dec 31, 2015          5000000.0             0.0   \n",
       "Navy SEAL vs. Zombies  Sep 25, 2015          5000000.0             0.0   \n",
       "The Hatching           Mar 15, 2016          5000000.0             0.0   \n",
       "Running Forever        Oct 27, 2015          5000000.0             0.0   \n",
       "\n",
       "                       worldwide_gross       profit        roi  \n",
       "movie                                                           \n",
       "The Sixth Sense            672806292.0  926312584.0  23.157815  \n",
       "Wedding Crashers           283218368.0  452436736.0  11.310918  \n",
       "The Karate Kid             351774938.0  488366556.0  12.209164  \n",
       "Fifty Shades of Grey       570998101.0  697165331.0  17.429133  \n",
       "The Proposal               314709717.0  438667748.0  10.966694  \n",
       "...                                ...          ...        ...  \n",
       "Should've Been Romeo               0.0   -5000000.0  -1.000000  \n",
       "Aztec Warrior                      0.0   -5000000.0  -1.000000  \n",
       "Navy SEAL vs. Zombies              0.0   -5000000.0  -1.000000  \n",
       "The Hatching                       0.0   -5000000.0  -1.000000  \n",
       "Running Forever                    0.0   -5000000.0  -1.000000  \n",
       "\n",
       "[3026 rows x 6 columns]"
      ]
     },
     "execution_count": 47,
     "metadata": {},
     "output_type": "execute_result"
    }
   ],
   "source": [
    "movie_budgets_filtered_iqr"
   ]
  },
  {
   "cell_type": "code",
   "execution_count": 48,
   "metadata": {
    "ExecuteTime": {
     "end_time": "2022-05-31T11:01:04.430119Z",
     "start_time": "2022-05-31T11:01:04.422132Z"
    }
   },
   "outputs": [
    {
     "data": {
      "text/html": [
       "<div>\n",
       "<style scoped>\n",
       "    .dataframe tbody tr th:only-of-type {\n",
       "        vertical-align: middle;\n",
       "    }\n",
       "\n",
       "    .dataframe tbody tr th {\n",
       "        vertical-align: top;\n",
       "    }\n",
       "\n",
       "    .dataframe thead th {\n",
       "        text-align: right;\n",
       "    }\n",
       "</style>\n",
       "<table border=\"1\" class=\"dataframe\">\n",
       "  <thead>\n",
       "    <tr style=\"text-align: right;\">\n",
       "      <th></th>\n",
       "      <th>release_date</th>\n",
       "      <th>production_budget</th>\n",
       "      <th>domestic_gross</th>\n",
       "      <th>worldwide_gross</th>\n",
       "      <th>profit</th>\n",
       "      <th>roi</th>\n",
       "    </tr>\n",
       "    <tr>\n",
       "      <th>movie</th>\n",
       "      <th></th>\n",
       "      <th></th>\n",
       "      <th></th>\n",
       "      <th></th>\n",
       "      <th></th>\n",
       "      <th></th>\n",
       "    </tr>\n",
       "  </thead>\n",
       "  <tbody>\n",
       "    <tr>\n",
       "      <th>The Sixth Sense</th>\n",
       "      <td>Aug 6, 1999</td>\n",
       "      <td>40000000.0</td>\n",
       "      <td>293506292.0</td>\n",
       "      <td>672806292.0</td>\n",
       "      <td>926312584.0</td>\n",
       "      <td>23.157815</td>\n",
       "    </tr>\n",
       "    <tr>\n",
       "      <th>Wedding Crashers</th>\n",
       "      <td>Jul 15, 2005</td>\n",
       "      <td>40000000.0</td>\n",
       "      <td>209218368.0</td>\n",
       "      <td>283218368.0</td>\n",
       "      <td>452436736.0</td>\n",
       "      <td>11.310918</td>\n",
       "    </tr>\n",
       "    <tr>\n",
       "      <th>The Karate Kid</th>\n",
       "      <td>Jun 11, 2010</td>\n",
       "      <td>40000000.0</td>\n",
       "      <td>176591618.0</td>\n",
       "      <td>351774938.0</td>\n",
       "      <td>488366556.0</td>\n",
       "      <td>12.209164</td>\n",
       "    </tr>\n",
       "    <tr>\n",
       "      <th>Fifty Shades of Grey</th>\n",
       "      <td>Feb 13, 2015</td>\n",
       "      <td>40000000.0</td>\n",
       "      <td>166167230.0</td>\n",
       "      <td>570998101.0</td>\n",
       "      <td>697165331.0</td>\n",
       "      <td>17.429133</td>\n",
       "    </tr>\n",
       "    <tr>\n",
       "      <th>The Proposal</th>\n",
       "      <td>Jun 19, 2009</td>\n",
       "      <td>40000000.0</td>\n",
       "      <td>163958031.0</td>\n",
       "      <td>314709717.0</td>\n",
       "      <td>438667748.0</td>\n",
       "      <td>10.966694</td>\n",
       "    </tr>\n",
       "    <tr>\n",
       "      <th>...</th>\n",
       "      <td>...</td>\n",
       "      <td>...</td>\n",
       "      <td>...</td>\n",
       "      <td>...</td>\n",
       "      <td>...</td>\n",
       "      <td>...</td>\n",
       "    </tr>\n",
       "    <tr>\n",
       "      <th>Should've Been Romeo</th>\n",
       "      <td>Dec 31, 2012</td>\n",
       "      <td>5000000.0</td>\n",
       "      <td>0.0</td>\n",
       "      <td>0.0</td>\n",
       "      <td>-5000000.0</td>\n",
       "      <td>-1.000000</td>\n",
       "    </tr>\n",
       "    <tr>\n",
       "      <th>Aztec Warrior</th>\n",
       "      <td>Dec 31, 2015</td>\n",
       "      <td>5000000.0</td>\n",
       "      <td>0.0</td>\n",
       "      <td>0.0</td>\n",
       "      <td>-5000000.0</td>\n",
       "      <td>-1.000000</td>\n",
       "    </tr>\n",
       "    <tr>\n",
       "      <th>Navy SEAL vs. Zombies</th>\n",
       "      <td>Sep 25, 2015</td>\n",
       "      <td>5000000.0</td>\n",
       "      <td>0.0</td>\n",
       "      <td>0.0</td>\n",
       "      <td>-5000000.0</td>\n",
       "      <td>-1.000000</td>\n",
       "    </tr>\n",
       "    <tr>\n",
       "      <th>The Hatching</th>\n",
       "      <td>Mar 15, 2016</td>\n",
       "      <td>5000000.0</td>\n",
       "      <td>0.0</td>\n",
       "      <td>0.0</td>\n",
       "      <td>-5000000.0</td>\n",
       "      <td>-1.000000</td>\n",
       "    </tr>\n",
       "    <tr>\n",
       "      <th>Running Forever</th>\n",
       "      <td>Oct 27, 2015</td>\n",
       "      <td>5000000.0</td>\n",
       "      <td>0.0</td>\n",
       "      <td>0.0</td>\n",
       "      <td>-5000000.0</td>\n",
       "      <td>-1.000000</td>\n",
       "    </tr>\n",
       "  </tbody>\n",
       "</table>\n",
       "<p>3026 rows × 6 columns</p>\n",
       "</div>"
      ],
      "text/plain": [
       "                       release_date  production_budget  domestic_gross  \\\n",
       "movie                                                                    \n",
       "The Sixth Sense         Aug 6, 1999         40000000.0     293506292.0   \n",
       "Wedding Crashers       Jul 15, 2005         40000000.0     209218368.0   \n",
       "The Karate Kid         Jun 11, 2010         40000000.0     176591618.0   \n",
       "Fifty Shades of Grey   Feb 13, 2015         40000000.0     166167230.0   \n",
       "The Proposal           Jun 19, 2009         40000000.0     163958031.0   \n",
       "...                             ...                ...             ...   \n",
       "Should've Been Romeo   Dec 31, 2012          5000000.0             0.0   \n",
       "Aztec Warrior          Dec 31, 2015          5000000.0             0.0   \n",
       "Navy SEAL vs. Zombies  Sep 25, 2015          5000000.0             0.0   \n",
       "The Hatching           Mar 15, 2016          5000000.0             0.0   \n",
       "Running Forever        Oct 27, 2015          5000000.0             0.0   \n",
       "\n",
       "                       worldwide_gross       profit        roi  \n",
       "movie                                                           \n",
       "The Sixth Sense            672806292.0  926312584.0  23.157815  \n",
       "Wedding Crashers           283218368.0  452436736.0  11.310918  \n",
       "The Karate Kid             351774938.0  488366556.0  12.209164  \n",
       "Fifty Shades of Grey       570998101.0  697165331.0  17.429133  \n",
       "The Proposal               314709717.0  438667748.0  10.966694  \n",
       "...                                ...          ...        ...  \n",
       "Should've Been Romeo               0.0   -5000000.0  -1.000000  \n",
       "Aztec Warrior                      0.0   -5000000.0  -1.000000  \n",
       "Navy SEAL vs. Zombies              0.0   -5000000.0  -1.000000  \n",
       "The Hatching                       0.0   -5000000.0  -1.000000  \n",
       "Running Forever                    0.0   -5000000.0  -1.000000  \n",
       "\n",
       "[3026 rows x 6 columns]"
      ]
     },
     "execution_count": 48,
     "metadata": {},
     "output_type": "execute_result"
    }
   ],
   "source": [
    "movie_budgets_filtered_iqr"
   ]
  },
  {
   "cell_type": "code",
   "execution_count": 49,
   "metadata": {
    "ExecuteTime": {
     "end_time": "2022-05-31T11:01:04.437138Z",
     "start_time": "2022-05-31T11:01:04.431032Z"
    }
   },
   "outputs": [
    {
     "data": {
      "text/html": [
       "<div>\n",
       "<style scoped>\n",
       "    .dataframe tbody tr th:only-of-type {\n",
       "        vertical-align: middle;\n",
       "    }\n",
       "\n",
       "    .dataframe tbody tr th {\n",
       "        vertical-align: top;\n",
       "    }\n",
       "\n",
       "    .dataframe thead th {\n",
       "        text-align: right;\n",
       "    }\n",
       "</style>\n",
       "<table border=\"1\" class=\"dataframe\">\n",
       "  <thead>\n",
       "    <tr style=\"text-align: right;\">\n",
       "      <th></th>\n",
       "      <th>release_date</th>\n",
       "      <th>production_budget</th>\n",
       "      <th>domestic_gross</th>\n",
       "      <th>worldwide_gross</th>\n",
       "      <th>profit</th>\n",
       "      <th>roi</th>\n",
       "    </tr>\n",
       "    <tr>\n",
       "      <th>movie</th>\n",
       "      <th></th>\n",
       "      <th></th>\n",
       "      <th></th>\n",
       "      <th></th>\n",
       "      <th></th>\n",
       "      <th></th>\n",
       "    </tr>\n",
       "  </thead>\n",
       "  <tbody>\n",
       "    <tr>\n",
       "      <th>Avatar</th>\n",
       "      <td>Dec 18, 2009</td>\n",
       "      <td>425000000.0</td>\n",
       "      <td>760507625.0</td>\n",
       "      <td>2.776345e+09</td>\n",
       "      <td>3.111853e+09</td>\n",
       "      <td>7.322007</td>\n",
       "    </tr>\n",
       "    <tr>\n",
       "      <th>Pirates of the Caribbean: On Stranger Tides</th>\n",
       "      <td>May 20, 2011</td>\n",
       "      <td>410600000.0</td>\n",
       "      <td>241063875.0</td>\n",
       "      <td>1.045664e+09</td>\n",
       "      <td>8.761278e+08</td>\n",
       "      <td>2.133774</td>\n",
       "    </tr>\n",
       "    <tr>\n",
       "      <th>Dark Phoenix</th>\n",
       "      <td>Jun 7, 2019</td>\n",
       "      <td>350000000.0</td>\n",
       "      <td>42762350.0</td>\n",
       "      <td>1.497624e+08</td>\n",
       "      <td>-1.574753e+08</td>\n",
       "      <td>-0.449929</td>\n",
       "    </tr>\n",
       "    <tr>\n",
       "      <th>Avengers: Age of Ultron</th>\n",
       "      <td>May 1, 2015</td>\n",
       "      <td>330600000.0</td>\n",
       "      <td>459005868.0</td>\n",
       "      <td>1.403014e+09</td>\n",
       "      <td>1.531420e+09</td>\n",
       "      <td>4.632244</td>\n",
       "    </tr>\n",
       "    <tr>\n",
       "      <th>Star Wars Ep. VIII: The Last Jedi</th>\n",
       "      <td>Dec 15, 2017</td>\n",
       "      <td>317000000.0</td>\n",
       "      <td>620181382.0</td>\n",
       "      <td>1.316722e+09</td>\n",
       "      <td>1.619903e+09</td>\n",
       "      <td>5.110105</td>\n",
       "    </tr>\n",
       "  </tbody>\n",
       "</table>\n",
       "</div>"
      ],
      "text/plain": [
       "                                             release_date  production_budget  \\\n",
       "movie                                                                          \n",
       "Avatar                                       Dec 18, 2009        425000000.0   \n",
       "Pirates of the Caribbean: On Stranger Tides  May 20, 2011        410600000.0   \n",
       "Dark Phoenix                                  Jun 7, 2019        350000000.0   \n",
       "Avengers: Age of Ultron                       May 1, 2015        330600000.0   \n",
       "Star Wars Ep. VIII: The Last Jedi            Dec 15, 2017        317000000.0   \n",
       "\n",
       "                                             domestic_gross  worldwide_gross  \\\n",
       "movie                                                                          \n",
       "Avatar                                          760507625.0     2.776345e+09   \n",
       "Pirates of the Caribbean: On Stranger Tides     241063875.0     1.045664e+09   \n",
       "Dark Phoenix                                     42762350.0     1.497624e+08   \n",
       "Avengers: Age of Ultron                         459005868.0     1.403014e+09   \n",
       "Star Wars Ep. VIII: The Last Jedi               620181382.0     1.316722e+09   \n",
       "\n",
       "                                                   profit       roi  \n",
       "movie                                                                \n",
       "Avatar                                       3.111853e+09  7.322007  \n",
       "Pirates of the Caribbean: On Stranger Tides  8.761278e+08  2.133774  \n",
       "Dark Phoenix                                -1.574753e+08 -0.449929  \n",
       "Avengers: Age of Ultron                      1.531420e+09  4.632244  \n",
       "Star Wars Ep. VIII: The Last Jedi            1.619903e+09  5.110105  "
      ]
     },
     "execution_count": 49,
     "metadata": {},
     "output_type": "execute_result"
    }
   ],
   "source": [
    "movie_budgets_tn.head()"
   ]
  },
  {
   "cell_type": "code",
   "execution_count": 50,
   "metadata": {
    "ExecuteTime": {
     "end_time": "2022-05-31T11:01:04.448367Z",
     "start_time": "2022-05-31T11:01:04.438119Z"
    }
   },
   "outputs": [
    {
     "data": {
      "text/html": [
       "<div>\n",
       "<style scoped>\n",
       "    .dataframe tbody tr th:only-of-type {\n",
       "        vertical-align: middle;\n",
       "    }\n",
       "\n",
       "    .dataframe tbody tr th {\n",
       "        vertical-align: top;\n",
       "    }\n",
       "\n",
       "    .dataframe thead th {\n",
       "        text-align: right;\n",
       "    }\n",
       "</style>\n",
       "<table border=\"1\" class=\"dataframe\">\n",
       "  <thead>\n",
       "    <tr style=\"text-align: right;\">\n",
       "      <th></th>\n",
       "      <th>Unnamed: 0</th>\n",
       "      <th>genre_ids</th>\n",
       "      <th>id</th>\n",
       "      <th>original_language</th>\n",
       "      <th>original_title</th>\n",
       "      <th>popularity</th>\n",
       "      <th>release_date</th>\n",
       "      <th>vote_average</th>\n",
       "      <th>vote_count</th>\n",
       "    </tr>\n",
       "    <tr>\n",
       "      <th>title</th>\n",
       "      <th></th>\n",
       "      <th></th>\n",
       "      <th></th>\n",
       "      <th></th>\n",
       "      <th></th>\n",
       "      <th></th>\n",
       "      <th></th>\n",
       "      <th></th>\n",
       "      <th></th>\n",
       "    </tr>\n",
       "  </thead>\n",
       "  <tbody>\n",
       "    <tr>\n",
       "      <th>Harry Potter and the Deathly Hallows: Part 1</th>\n",
       "      <td>0</td>\n",
       "      <td>[12, 14, 10751]</td>\n",
       "      <td>12444</td>\n",
       "      <td>en</td>\n",
       "      <td>Harry Potter and the Deathly Hallows: Part 1</td>\n",
       "      <td>33.533</td>\n",
       "      <td>2010-11-19</td>\n",
       "      <td>7.7</td>\n",
       "      <td>10788</td>\n",
       "    </tr>\n",
       "    <tr>\n",
       "      <th>How to Train Your Dragon</th>\n",
       "      <td>1</td>\n",
       "      <td>[14, 12, 16, 10751]</td>\n",
       "      <td>10191</td>\n",
       "      <td>en</td>\n",
       "      <td>How to Train Your Dragon</td>\n",
       "      <td>28.734</td>\n",
       "      <td>2010-03-26</td>\n",
       "      <td>7.7</td>\n",
       "      <td>7610</td>\n",
       "    </tr>\n",
       "    <tr>\n",
       "      <th>Iron Man 2</th>\n",
       "      <td>2</td>\n",
       "      <td>[12, 28, 878]</td>\n",
       "      <td>10138</td>\n",
       "      <td>en</td>\n",
       "      <td>Iron Man 2</td>\n",
       "      <td>28.515</td>\n",
       "      <td>2010-05-07</td>\n",
       "      <td>6.8</td>\n",
       "      <td>12368</td>\n",
       "    </tr>\n",
       "    <tr>\n",
       "      <th>Toy Story</th>\n",
       "      <td>3</td>\n",
       "      <td>[16, 35, 10751]</td>\n",
       "      <td>862</td>\n",
       "      <td>en</td>\n",
       "      <td>Toy Story</td>\n",
       "      <td>28.005</td>\n",
       "      <td>1995-11-22</td>\n",
       "      <td>7.9</td>\n",
       "      <td>10174</td>\n",
       "    </tr>\n",
       "    <tr>\n",
       "      <th>Inception</th>\n",
       "      <td>4</td>\n",
       "      <td>[28, 878, 12]</td>\n",
       "      <td>27205</td>\n",
       "      <td>en</td>\n",
       "      <td>Inception</td>\n",
       "      <td>27.920</td>\n",
       "      <td>2010-07-16</td>\n",
       "      <td>8.3</td>\n",
       "      <td>22186</td>\n",
       "    </tr>\n",
       "  </tbody>\n",
       "</table>\n",
       "</div>"
      ],
      "text/plain": [
       "                                              Unnamed: 0            genre_ids  \\\n",
       "title                                                                           \n",
       "Harry Potter and the Deathly Hallows: Part 1           0      [12, 14, 10751]   \n",
       "How to Train Your Dragon                               1  [14, 12, 16, 10751]   \n",
       "Iron Man 2                                             2        [12, 28, 878]   \n",
       "Toy Story                                              3      [16, 35, 10751]   \n",
       "Inception                                              4        [28, 878, 12]   \n",
       "\n",
       "                                                 id original_language  \\\n",
       "title                                                                   \n",
       "Harry Potter and the Deathly Hallows: Part 1  12444                en   \n",
       "How to Train Your Dragon                      10191                en   \n",
       "Iron Man 2                                    10138                en   \n",
       "Toy Story                                       862                en   \n",
       "Inception                                     27205                en   \n",
       "\n",
       "                                                                            original_title  \\\n",
       "title                                                                                        \n",
       "Harry Potter and the Deathly Hallows: Part 1  Harry Potter and the Deathly Hallows: Part 1   \n",
       "How to Train Your Dragon                                          How to Train Your Dragon   \n",
       "Iron Man 2                                                                      Iron Man 2   \n",
       "Toy Story                                                                        Toy Story   \n",
       "Inception                                                                        Inception   \n",
       "\n",
       "                                              popularity release_date  \\\n",
       "title                                                                   \n",
       "Harry Potter and the Deathly Hallows: Part 1      33.533   2010-11-19   \n",
       "How to Train Your Dragon                          28.734   2010-03-26   \n",
       "Iron Man 2                                        28.515   2010-05-07   \n",
       "Toy Story                                         28.005   1995-11-22   \n",
       "Inception                                         27.920   2010-07-16   \n",
       "\n",
       "                                              vote_average  vote_count  \n",
       "title                                                                   \n",
       "Harry Potter and the Deathly Hallows: Part 1           7.7       10788  \n",
       "How to Train Your Dragon                               7.7        7610  \n",
       "Iron Man 2                                             6.8       12368  \n",
       "Toy Story                                              7.9       10174  \n",
       "Inception                                              8.3       22186  "
      ]
     },
     "execution_count": 50,
     "metadata": {},
     "output_type": "execute_result"
    }
   ],
   "source": [
    "tmb_movies.set_index('title', inplace= True)\n",
    "tmb_movies.head()\n"
   ]
  },
  {
   "cell_type": "code",
   "execution_count": 51,
   "metadata": {
    "ExecuteTime": {
     "end_time": "2022-05-31T11:01:04.489235Z",
     "start_time": "2022-05-31T11:01:04.449301Z"
    }
   },
   "outputs": [],
   "source": [
    "movie_budgets_w_review = movie_budgets_filtered_iqr.merge(tmb_movies, left_index= True, right_index= True)\n"
   ]
  },
  {
   "cell_type": "code",
   "execution_count": 52,
   "metadata": {
    "ExecuteTime": {
     "end_time": "2022-05-31T11:01:04.499556Z",
     "start_time": "2022-05-31T11:01:04.490288Z"
    }
   },
   "outputs": [
    {
     "data": {
      "text/html": [
       "<div>\n",
       "<style scoped>\n",
       "    .dataframe tbody tr th:only-of-type {\n",
       "        vertical-align: middle;\n",
       "    }\n",
       "\n",
       "    .dataframe tbody tr th {\n",
       "        vertical-align: top;\n",
       "    }\n",
       "\n",
       "    .dataframe thead th {\n",
       "        text-align: right;\n",
       "    }\n",
       "</style>\n",
       "<table border=\"1\" class=\"dataframe\">\n",
       "  <thead>\n",
       "    <tr style=\"text-align: right;\">\n",
       "      <th></th>\n",
       "      <th>release_date_x</th>\n",
       "      <th>production_budget</th>\n",
       "      <th>domestic_gross</th>\n",
       "      <th>worldwide_gross</th>\n",
       "      <th>profit</th>\n",
       "      <th>roi</th>\n",
       "      <th>Unnamed: 0</th>\n",
       "      <th>genre_ids</th>\n",
       "      <th>id</th>\n",
       "      <th>original_language</th>\n",
       "      <th>original_title</th>\n",
       "      <th>popularity</th>\n",
       "      <th>release_date_y</th>\n",
       "      <th>vote_average</th>\n",
       "      <th>vote_count</th>\n",
       "    </tr>\n",
       "  </thead>\n",
       "  <tbody>\n",
       "    <tr>\n",
       "      <th>10 Cloverfield Lane</th>\n",
       "      <td>Mar 11, 2016</td>\n",
       "      <td>5000000.0</td>\n",
       "      <td>72082999.0</td>\n",
       "      <td>108286422.0</td>\n",
       "      <td>175369421.0</td>\n",
       "      <td>35.073884</td>\n",
       "      <td>17422</td>\n",
       "      <td>[53, 878, 18]</td>\n",
       "      <td>333371</td>\n",
       "      <td>en</td>\n",
       "      <td>10 Cloverfield Lane</td>\n",
       "      <td>17.892</td>\n",
       "      <td>2016-03-11</td>\n",
       "      <td>6.9</td>\n",
       "      <td>4629</td>\n",
       "    </tr>\n",
       "    <tr>\n",
       "      <th>10 Days in a Madhouse</th>\n",
       "      <td>Nov 11, 2015</td>\n",
       "      <td>12000000.0</td>\n",
       "      <td>14616.0</td>\n",
       "      <td>14616.0</td>\n",
       "      <td>-11970768.0</td>\n",
       "      <td>-0.997564</td>\n",
       "      <td>15907</td>\n",
       "      <td>[18]</td>\n",
       "      <td>345003</td>\n",
       "      <td>en</td>\n",
       "      <td>10 Days in a Madhouse</td>\n",
       "      <td>0.955</td>\n",
       "      <td>2015-11-20</td>\n",
       "      <td>5.4</td>\n",
       "      <td>7</td>\n",
       "    </tr>\n",
       "    <tr>\n",
       "      <th>12 Strong</th>\n",
       "      <td>Jan 19, 2018</td>\n",
       "      <td>35000000.0</td>\n",
       "      <td>45819713.0</td>\n",
       "      <td>71118378.0</td>\n",
       "      <td>81938091.0</td>\n",
       "      <td>2.341088</td>\n",
       "      <td>24032</td>\n",
       "      <td>[10752, 18, 36, 28]</td>\n",
       "      <td>429351</td>\n",
       "      <td>en</td>\n",
       "      <td>12 Strong</td>\n",
       "      <td>13.183</td>\n",
       "      <td>2018-01-19</td>\n",
       "      <td>5.6</td>\n",
       "      <td>1312</td>\n",
       "    </tr>\n",
       "    <tr>\n",
       "      <th>12 Years a Slave</th>\n",
       "      <td>Oct 18, 2013</td>\n",
       "      <td>20000000.0</td>\n",
       "      <td>56671993.0</td>\n",
       "      <td>181025343.0</td>\n",
       "      <td>217697336.0</td>\n",
       "      <td>10.884867</td>\n",
       "      <td>7911</td>\n",
       "      <td>[18, 36]</td>\n",
       "      <td>76203</td>\n",
       "      <td>en</td>\n",
       "      <td>12 Years a Slave</td>\n",
       "      <td>16.493</td>\n",
       "      <td>2013-10-30</td>\n",
       "      <td>7.9</td>\n",
       "      <td>6631</td>\n",
       "    </tr>\n",
       "    <tr>\n",
       "      <th>127 Hours</th>\n",
       "      <td>Nov 5, 2010</td>\n",
       "      <td>18000000.0</td>\n",
       "      <td>18335230.0</td>\n",
       "      <td>60217171.0</td>\n",
       "      <td>60552401.0</td>\n",
       "      <td>3.364022</td>\n",
       "      <td>93</td>\n",
       "      <td>[12, 18, 53]</td>\n",
       "      <td>44115</td>\n",
       "      <td>en</td>\n",
       "      <td>127 Hours</td>\n",
       "      <td>11.435</td>\n",
       "      <td>2010-11-05</td>\n",
       "      <td>7.0</td>\n",
       "      <td>4469</td>\n",
       "    </tr>\n",
       "  </tbody>\n",
       "</table>\n",
       "</div>"
      ],
      "text/plain": [
       "                      release_date_x  production_budget  domestic_gross  \\\n",
       "10 Cloverfield Lane     Mar 11, 2016          5000000.0      72082999.0   \n",
       "10 Days in a Madhouse   Nov 11, 2015         12000000.0         14616.0   \n",
       "12 Strong               Jan 19, 2018         35000000.0      45819713.0   \n",
       "12 Years a Slave        Oct 18, 2013         20000000.0      56671993.0   \n",
       "127 Hours                Nov 5, 2010         18000000.0      18335230.0   \n",
       "\n",
       "                       worldwide_gross       profit        roi  Unnamed: 0  \\\n",
       "10 Cloverfield Lane        108286422.0  175369421.0  35.073884       17422   \n",
       "10 Days in a Madhouse          14616.0  -11970768.0  -0.997564       15907   \n",
       "12 Strong                   71118378.0   81938091.0   2.341088       24032   \n",
       "12 Years a Slave           181025343.0  217697336.0  10.884867        7911   \n",
       "127 Hours                   60217171.0   60552401.0   3.364022          93   \n",
       "\n",
       "                                 genre_ids      id original_language  \\\n",
       "10 Cloverfield Lane          [53, 878, 18]  333371                en   \n",
       "10 Days in a Madhouse                 [18]  345003                en   \n",
       "12 Strong              [10752, 18, 36, 28]  429351                en   \n",
       "12 Years a Slave                  [18, 36]   76203                en   \n",
       "127 Hours                     [12, 18, 53]   44115                en   \n",
       "\n",
       "                              original_title  popularity release_date_y  \\\n",
       "10 Cloverfield Lane      10 Cloverfield Lane      17.892     2016-03-11   \n",
       "10 Days in a Madhouse  10 Days in a Madhouse       0.955     2015-11-20   \n",
       "12 Strong                          12 Strong      13.183     2018-01-19   \n",
       "12 Years a Slave            12 Years a Slave      16.493     2013-10-30   \n",
       "127 Hours                          127 Hours      11.435     2010-11-05   \n",
       "\n",
       "                       vote_average  vote_count  \n",
       "10 Cloverfield Lane             6.9        4629  \n",
       "10 Days in a Madhouse           5.4           7  \n",
       "12 Strong                       5.6        1312  \n",
       "12 Years a Slave                7.9        6631  \n",
       "127 Hours                       7.0        4469  "
      ]
     },
     "execution_count": 52,
     "metadata": {},
     "output_type": "execute_result"
    }
   ],
   "source": [
    "movie_budgets_w_review.head()"
   ]
  },
  {
   "cell_type": "code",
   "execution_count": 53,
   "metadata": {
    "ExecuteTime": {
     "end_time": "2022-05-31T11:01:04.506921Z",
     "start_time": "2022-05-31T11:01:04.500618Z"
    }
   },
   "outputs": [
    {
     "data": {
      "text/html": [
       "<div>\n",
       "<style scoped>\n",
       "    .dataframe tbody tr th:only-of-type {\n",
       "        vertical-align: middle;\n",
       "    }\n",
       "\n",
       "    .dataframe tbody tr th {\n",
       "        vertical-align: top;\n",
       "    }\n",
       "\n",
       "    .dataframe thead th {\n",
       "        text-align: right;\n",
       "    }\n",
       "</style>\n",
       "<table border=\"1\" class=\"dataframe\">\n",
       "  <thead>\n",
       "    <tr style=\"text-align: right;\">\n",
       "      <th></th>\n",
       "      <th>profit</th>\n",
       "      <th>roi</th>\n",
       "      <th>production_budget</th>\n",
       "      <th>vote_average</th>\n",
       "    </tr>\n",
       "  </thead>\n",
       "  <tbody>\n",
       "    <tr>\n",
       "      <th>10 Cloverfield Lane</th>\n",
       "      <td>175369421.0</td>\n",
       "      <td>35.073884</td>\n",
       "      <td>5000000.0</td>\n",
       "      <td>6.9</td>\n",
       "    </tr>\n",
       "    <tr>\n",
       "      <th>10 Days in a Madhouse</th>\n",
       "      <td>-11970768.0</td>\n",
       "      <td>-0.997564</td>\n",
       "      <td>12000000.0</td>\n",
       "      <td>5.4</td>\n",
       "    </tr>\n",
       "    <tr>\n",
       "      <th>12 Strong</th>\n",
       "      <td>81938091.0</td>\n",
       "      <td>2.341088</td>\n",
       "      <td>35000000.0</td>\n",
       "      <td>5.6</td>\n",
       "    </tr>\n",
       "    <tr>\n",
       "      <th>12 Years a Slave</th>\n",
       "      <td>217697336.0</td>\n",
       "      <td>10.884867</td>\n",
       "      <td>20000000.0</td>\n",
       "      <td>7.9</td>\n",
       "    </tr>\n",
       "    <tr>\n",
       "      <th>127 Hours</th>\n",
       "      <td>60552401.0</td>\n",
       "      <td>3.364022</td>\n",
       "      <td>18000000.0</td>\n",
       "      <td>7.0</td>\n",
       "    </tr>\n",
       "  </tbody>\n",
       "</table>\n",
       "</div>"
      ],
      "text/plain": [
       "                            profit        roi  production_budget  vote_average\n",
       "10 Cloverfield Lane    175369421.0  35.073884          5000000.0           6.9\n",
       "10 Days in a Madhouse  -11970768.0  -0.997564         12000000.0           5.4\n",
       "12 Strong               81938091.0   2.341088         35000000.0           5.6\n",
       "12 Years a Slave       217697336.0  10.884867         20000000.0           7.9\n",
       "127 Hours               60552401.0   3.364022         18000000.0           7.0"
      ]
     },
     "execution_count": 53,
     "metadata": {},
     "output_type": "execute_result"
    }
   ],
   "source": [
    "movie_budgets_w_review = movie_budgets_w_review[['profit', 'roi', 'production_budget', 'vote_average']]\n",
    "movie_budgets_w_review.head()"
   ]
  },
  {
   "cell_type": "code",
   "execution_count": 54,
   "metadata": {
    "ExecuteTime": {
     "end_time": "2022-05-31T11:01:04.512673Z",
     "start_time": "2022-05-31T11:01:04.507910Z"
    }
   },
   "outputs": [
    {
     "data": {
      "text/html": [
       "<div>\n",
       "<style scoped>\n",
       "    .dataframe tbody tr th:only-of-type {\n",
       "        vertical-align: middle;\n",
       "    }\n",
       "\n",
       "    .dataframe tbody tr th {\n",
       "        vertical-align: top;\n",
       "    }\n",
       "\n",
       "    .dataframe thead th {\n",
       "        text-align: right;\n",
       "    }\n",
       "</style>\n",
       "<table border=\"1\" class=\"dataframe\">\n",
       "  <thead>\n",
       "    <tr style=\"text-align: right;\">\n",
       "      <th></th>\n",
       "      <th>profit</th>\n",
       "      <th>roi</th>\n",
       "      <th>production_budget</th>\n",
       "      <th>vote_average</th>\n",
       "    </tr>\n",
       "  </thead>\n",
       "  <tbody>\n",
       "    <tr>\n",
       "      <th>10 Cloverfield Lane</th>\n",
       "      <td>175369421.0</td>\n",
       "      <td>35.073884</td>\n",
       "      <td>5000000.0</td>\n",
       "      <td>6.9</td>\n",
       "    </tr>\n",
       "    <tr>\n",
       "      <th>10 Days in a Madhouse</th>\n",
       "      <td>-11970768.0</td>\n",
       "      <td>-0.997564</td>\n",
       "      <td>12000000.0</td>\n",
       "      <td>5.4</td>\n",
       "    </tr>\n",
       "    <tr>\n",
       "      <th>12 Strong</th>\n",
       "      <td>81938091.0</td>\n",
       "      <td>2.341088</td>\n",
       "      <td>35000000.0</td>\n",
       "      <td>5.6</td>\n",
       "    </tr>\n",
       "    <tr>\n",
       "      <th>12 Years a Slave</th>\n",
       "      <td>217697336.0</td>\n",
       "      <td>10.884867</td>\n",
       "      <td>20000000.0</td>\n",
       "      <td>7.9</td>\n",
       "    </tr>\n",
       "    <tr>\n",
       "      <th>127 Hours</th>\n",
       "      <td>60552401.0</td>\n",
       "      <td>3.364022</td>\n",
       "      <td>18000000.0</td>\n",
       "      <td>7.0</td>\n",
       "    </tr>\n",
       "  </tbody>\n",
       "</table>\n",
       "</div>"
      ],
      "text/plain": [
       "                            profit        roi  production_budget  vote_average\n",
       "10 Cloverfield Lane    175369421.0  35.073884          5000000.0           6.9\n",
       "10 Days in a Madhouse  -11970768.0  -0.997564         12000000.0           5.4\n",
       "12 Strong               81938091.0   2.341088         35000000.0           5.6\n",
       "12 Years a Slave       217697336.0  10.884867         20000000.0           7.9\n",
       "127 Hours               60552401.0   3.364022         18000000.0           7.0"
      ]
     },
     "execution_count": 54,
     "metadata": {},
     "output_type": "execute_result"
    }
   ],
   "source": [
    "movie_budgets_w_review.head()\n"
   ]
  },
  {
   "cell_type": "code",
   "execution_count": 55,
   "metadata": {
    "ExecuteTime": {
     "end_time": "2022-05-31T11:01:04.697002Z",
     "start_time": "2022-05-31T11:01:04.513580Z"
    }
   },
   "outputs": [],
   "source": [
    "avg_rating = pd.read_sql(\"\"\"SELECT * FROM movie_ratings;\"\"\", db_conn)"
   ]
  },
  {
   "cell_type": "code",
   "execution_count": 56,
   "metadata": {
    "ExecuteTime": {
     "end_time": "2022-05-31T11:01:04.704821Z",
     "start_time": "2022-05-31T11:01:04.697994Z"
    }
   },
   "outputs": [
    {
     "data": {
      "text/html": [
       "<div>\n",
       "<style scoped>\n",
       "    .dataframe tbody tr th:only-of-type {\n",
       "        vertical-align: middle;\n",
       "    }\n",
       "\n",
       "    .dataframe tbody tr th {\n",
       "        vertical-align: top;\n",
       "    }\n",
       "\n",
       "    .dataframe thead th {\n",
       "        text-align: right;\n",
       "    }\n",
       "</style>\n",
       "<table border=\"1\" class=\"dataframe\">\n",
       "  <thead>\n",
       "    <tr style=\"text-align: right;\">\n",
       "      <th></th>\n",
       "      <th>movie_id</th>\n",
       "      <th>averagerating</th>\n",
       "      <th>numvotes</th>\n",
       "    </tr>\n",
       "  </thead>\n",
       "  <tbody>\n",
       "    <tr>\n",
       "      <th>0</th>\n",
       "      <td>tt10356526</td>\n",
       "      <td>8.3</td>\n",
       "      <td>31</td>\n",
       "    </tr>\n",
       "    <tr>\n",
       "      <th>1</th>\n",
       "      <td>tt10384606</td>\n",
       "      <td>8.9</td>\n",
       "      <td>559</td>\n",
       "    </tr>\n",
       "    <tr>\n",
       "      <th>2</th>\n",
       "      <td>tt1042974</td>\n",
       "      <td>6.4</td>\n",
       "      <td>20</td>\n",
       "    </tr>\n",
       "    <tr>\n",
       "      <th>3</th>\n",
       "      <td>tt1043726</td>\n",
       "      <td>4.2</td>\n",
       "      <td>50352</td>\n",
       "    </tr>\n",
       "    <tr>\n",
       "      <th>4</th>\n",
       "      <td>tt1060240</td>\n",
       "      <td>6.5</td>\n",
       "      <td>21</td>\n",
       "    </tr>\n",
       "    <tr>\n",
       "      <th>...</th>\n",
       "      <td>...</td>\n",
       "      <td>...</td>\n",
       "      <td>...</td>\n",
       "    </tr>\n",
       "    <tr>\n",
       "      <th>73851</th>\n",
       "      <td>tt9805820</td>\n",
       "      <td>8.1</td>\n",
       "      <td>25</td>\n",
       "    </tr>\n",
       "    <tr>\n",
       "      <th>73852</th>\n",
       "      <td>tt9844256</td>\n",
       "      <td>7.5</td>\n",
       "      <td>24</td>\n",
       "    </tr>\n",
       "    <tr>\n",
       "      <th>73853</th>\n",
       "      <td>tt9851050</td>\n",
       "      <td>4.7</td>\n",
       "      <td>14</td>\n",
       "    </tr>\n",
       "    <tr>\n",
       "      <th>73854</th>\n",
       "      <td>tt9886934</td>\n",
       "      <td>7.0</td>\n",
       "      <td>5</td>\n",
       "    </tr>\n",
       "    <tr>\n",
       "      <th>73855</th>\n",
       "      <td>tt9894098</td>\n",
       "      <td>6.3</td>\n",
       "      <td>128</td>\n",
       "    </tr>\n",
       "  </tbody>\n",
       "</table>\n",
       "<p>73856 rows × 3 columns</p>\n",
       "</div>"
      ],
      "text/plain": [
       "         movie_id  averagerating  numvotes\n",
       "0      tt10356526            8.3        31\n",
       "1      tt10384606            8.9       559\n",
       "2       tt1042974            6.4        20\n",
       "3       tt1043726            4.2     50352\n",
       "4       tt1060240            6.5        21\n",
       "...           ...            ...       ...\n",
       "73851   tt9805820            8.1        25\n",
       "73852   tt9844256            7.5        24\n",
       "73853   tt9851050            4.7        14\n",
       "73854   tt9886934            7.0         5\n",
       "73855   tt9894098            6.3       128\n",
       "\n",
       "[73856 rows x 3 columns]"
      ]
     },
     "execution_count": 56,
     "metadata": {},
     "output_type": "execute_result"
    }
   ],
   "source": [
    "avg_rating"
   ]
  },
  {
   "cell_type": "code",
   "execution_count": 57,
   "metadata": {
    "ExecuteTime": {
     "end_time": "2022-05-31T11:01:05.037806Z",
     "start_time": "2022-05-31T11:01:04.705867Z"
    }
   },
   "outputs": [],
   "source": [
    "avg_rating_genre=pd.read_sql(\"\"\"\n",
    "SELECT r.averagerating, primary_title, genres\n",
    "FROM movie_ratings r\n",
    "JOIN movie_basics b\n",
    "    ON r.movie_id = b.movie_id;\"\"\", db_conn)"
   ]
  },
  {
   "cell_type": "code",
   "execution_count": 58,
   "metadata": {
    "ExecuteTime": {
     "end_time": "2022-05-31T11:01:05.044466Z",
     "start_time": "2022-05-31T11:01:05.038973Z"
    }
   },
   "outputs": [],
   "source": [
    "avg_rating_genre.set_index('primary_title', inplace= True)"
   ]
  },
  {
   "cell_type": "code",
   "execution_count": 59,
   "metadata": {
    "ExecuteTime": {
     "end_time": "2022-05-31T11:01:05.054569Z",
     "start_time": "2022-05-31T11:01:05.045501Z"
    }
   },
   "outputs": [
    {
     "name": "stdout",
     "output_type": "stream",
     "text": [
      "<class 'pandas.core.frame.DataFrame'>\n",
      "Index: 73856 entries, Laiye Je Yaarian to Sathru\n",
      "Data columns (total 2 columns):\n",
      " #   Column         Non-Null Count  Dtype  \n",
      "---  ------         --------------  -----  \n",
      " 0   averagerating  73856 non-null  float64\n",
      " 1   genres         73052 non-null  object \n",
      "dtypes: float64(1), object(1)\n",
      "memory usage: 1.7+ MB\n"
     ]
    }
   ],
   "source": [
    "avg_rating_genre.info()"
   ]
  },
  {
   "cell_type": "code",
   "execution_count": 60,
   "metadata": {
    "ExecuteTime": {
     "end_time": "2022-05-31T11:01:05.401328Z",
     "start_time": "2022-05-31T11:01:05.309619Z"
    }
   },
   "outputs": [
    {
     "name": "stdout",
     "output_type": "stream",
     "text": [
      "<class 'pandas.core.frame.DataFrame'>\n",
      "Index: 1189 entries, 10 Cloverfield Lane to mother!\n",
      "Data columns (total 4 columns):\n",
      " #   Column             Non-Null Count  Dtype  \n",
      "---  ------             --------------  -----  \n",
      " 0   profit             1189 non-null   float64\n",
      " 1   roi                1189 non-null   float64\n",
      " 2   production_budget  1189 non-null   float64\n",
      " 3   vote_average       1189 non-null   float64\n",
      "dtypes: float64(4)\n",
      "memory usage: 46.4+ KB\n"
     ]
    }
   ],
   "source": [
    "movie_budgets_w_review.info()"
   ]
  },
  {
   "cell_type": "code",
   "execution_count": 61,
   "metadata": {
    "ExecuteTime": {
     "end_time": "2022-05-31T11:01:05.065683Z",
     "start_time": "2022-05-31T11:01:05.061740Z"
    }
   },
   "outputs": [
    {
     "data": {
      "text/plain": [
       "10 Cloverfield Lane             0.0\n",
       "10 Days in a Madhouse    10000000.0\n",
       "12 Strong                40000000.0\n",
       "12 Years a Slave         20000000.0\n",
       "127 Hours                20000000.0\n",
       "                            ...    \n",
       "Youth                    10000000.0\n",
       "Youth                    10000000.0\n",
       "Zambezia                 20000000.0\n",
       "Zoom                     40000000.0\n",
       "mother!                  30000000.0\n",
       "Name: production_budget, Length: 1189, dtype: float64"
      ]
     },
     "execution_count": 61,
     "metadata": {},
     "output_type": "execute_result"
    }
   ],
   "source": [
    "movie_budgets_w_review['production_budget'].round(decimals = -7)\n"
   ]
  },
  {
   "cell_type": "code",
   "execution_count": 62,
   "metadata": {
    "ExecuteTime": {
     "end_time": "2022-05-31T11:01:05.069065Z",
     "start_time": "2022-05-31T11:01:05.066590Z"
    }
   },
   "outputs": [],
   "source": [
    "movie_budgets_w_review['budget_group'] = movie_budgets_w_review['production_budget'].map(lambda x : x/5000000)\n",
    "    "
   ]
  },
  {
   "cell_type": "code",
   "execution_count": 63,
   "metadata": {
    "ExecuteTime": {
     "end_time": "2022-05-31T11:01:05.072187Z",
     "start_time": "2022-05-31T11:01:05.069992Z"
    }
   },
   "outputs": [],
   "source": [
    "movie_budgets_w_review['budget_group'] = movie_budgets_w_review['budget_group'].round(0)"
   ]
  },
  {
   "cell_type": "code",
   "execution_count": 64,
   "metadata": {
    "ExecuteTime": {
     "end_time": "2022-05-31T11:01:05.075436Z",
     "start_time": "2022-05-31T11:01:05.073286Z"
    }
   },
   "outputs": [],
   "source": [
    "movie_budgets_w_review.reset_index(inplace = True)"
   ]
  },
  {
   "cell_type": "code",
   "execution_count": 65,
   "metadata": {
    "ExecuteTime": {
     "end_time": "2022-05-31T11:01:05.078246Z",
     "start_time": "2022-05-31T11:01:05.076349Z"
    }
   },
   "outputs": [],
   "source": [
    "movie_budgets_w_review.rename(columns= {'index': 'movie'}, inplace = True)"
   ]
  },
  {
   "cell_type": "code",
   "execution_count": 66,
   "metadata": {
    "ExecuteTime": {
     "end_time": "2022-05-31T11:01:05.085190Z",
     "start_time": "2022-05-31T11:01:05.079325Z"
    }
   },
   "outputs": [
    {
     "data": {
      "text/html": [
       "<div>\n",
       "<style scoped>\n",
       "    .dataframe tbody tr th:only-of-type {\n",
       "        vertical-align: middle;\n",
       "    }\n",
       "\n",
       "    .dataframe tbody tr th {\n",
       "        vertical-align: top;\n",
       "    }\n",
       "\n",
       "    .dataframe thead th {\n",
       "        text-align: right;\n",
       "    }\n",
       "</style>\n",
       "<table border=\"1\" class=\"dataframe\">\n",
       "  <thead>\n",
       "    <tr style=\"text-align: right;\">\n",
       "      <th></th>\n",
       "      <th>movie</th>\n",
       "      <th>profit</th>\n",
       "      <th>roi</th>\n",
       "      <th>production_budget</th>\n",
       "      <th>vote_average</th>\n",
       "      <th>budget_group</th>\n",
       "    </tr>\n",
       "  </thead>\n",
       "  <tbody>\n",
       "    <tr>\n",
       "      <th>0</th>\n",
       "      <td>10 Cloverfield Lane</td>\n",
       "      <td>175369421.0</td>\n",
       "      <td>35.073884</td>\n",
       "      <td>5000000.0</td>\n",
       "      <td>6.9</td>\n",
       "      <td>1.0</td>\n",
       "    </tr>\n",
       "    <tr>\n",
       "      <th>1</th>\n",
       "      <td>10 Days in a Madhouse</td>\n",
       "      <td>-11970768.0</td>\n",
       "      <td>-0.997564</td>\n",
       "      <td>12000000.0</td>\n",
       "      <td>5.4</td>\n",
       "      <td>2.0</td>\n",
       "    </tr>\n",
       "    <tr>\n",
       "      <th>2</th>\n",
       "      <td>12 Strong</td>\n",
       "      <td>81938091.0</td>\n",
       "      <td>2.341088</td>\n",
       "      <td>35000000.0</td>\n",
       "      <td>5.6</td>\n",
       "      <td>7.0</td>\n",
       "    </tr>\n",
       "    <tr>\n",
       "      <th>3</th>\n",
       "      <td>12 Years a Slave</td>\n",
       "      <td>217697336.0</td>\n",
       "      <td>10.884867</td>\n",
       "      <td>20000000.0</td>\n",
       "      <td>7.9</td>\n",
       "      <td>4.0</td>\n",
       "    </tr>\n",
       "    <tr>\n",
       "      <th>4</th>\n",
       "      <td>127 Hours</td>\n",
       "      <td>60552401.0</td>\n",
       "      <td>3.364022</td>\n",
       "      <td>18000000.0</td>\n",
       "      <td>7.0</td>\n",
       "      <td>4.0</td>\n",
       "    </tr>\n",
       "  </tbody>\n",
       "</table>\n",
       "</div>"
      ],
      "text/plain": [
       "                   movie       profit        roi  production_budget  \\\n",
       "0    10 Cloverfield Lane  175369421.0  35.073884          5000000.0   \n",
       "1  10 Days in a Madhouse  -11970768.0  -0.997564         12000000.0   \n",
       "2              12 Strong   81938091.0   2.341088         35000000.0   \n",
       "3       12 Years a Slave  217697336.0  10.884867         20000000.0   \n",
       "4              127 Hours   60552401.0   3.364022         18000000.0   \n",
       "\n",
       "   vote_average  budget_group  \n",
       "0           6.9           1.0  \n",
       "1           5.4           2.0  \n",
       "2           5.6           7.0  \n",
       "3           7.9           4.0  \n",
       "4           7.0           4.0  "
      ]
     },
     "execution_count": 66,
     "metadata": {},
     "output_type": "execute_result"
    }
   ],
   "source": [
    "movie_budgets_w_review.head()"
   ]
  },
  {
   "cell_type": "code",
   "execution_count": null,
   "metadata": {
    "ExecuteTime": {
     "end_time": "2022-05-29T19:39:51.961489Z",
     "start_time": "2022-05-29T19:39:51.959173Z"
    }
   },
   "outputs": [],
   "source": []
  },
  {
   "cell_type": "code",
   "execution_count": null,
   "metadata": {
    "ExecuteTime": {
     "end_time": "2022-05-31T11:01:05.401328Z",
     "start_time": "2022-05-31T11:01:05.309619Z"
    }
   },
   "outputs": [],
   "source": []
  },
  {
   "cell_type": "code",
   "execution_count": 67,
   "metadata": {
    "ExecuteTime": {
     "end_time": "2022-05-31T11:01:05.401328Z",
     "start_time": "2022-05-31T11:01:05.309619Z"
    }
   },
   "outputs": [],
   "source": [
    "budget_group = movie_budgets_w_review.groupby(['budget_group']).agg('mean')"
   ]
  },
  {
   "cell_type": "code",
   "execution_count": 68,
   "metadata": {
    "ExecuteTime": {
     "end_time": "2022-05-31T11:01:05.104938Z",
     "start_time": "2022-05-31T11:01:05.100235Z"
    }
   },
   "outputs": [],
   "source": [
    "movie_budgets_pivot= movie_budgets_w_review.pivot_table(index = 'budget_group', values = ('profit', 'roi'), aggfunc= 'mean')"
   ]
  },
  {
   "cell_type": "code",
   "execution_count": 69,
   "metadata": {
    "ExecuteTime": {
     "end_time": "2022-05-31T11:01:05.115846Z",
     "start_time": "2022-05-31T11:01:05.110767Z"
    }
   },
   "outputs": [
    {
     "data": {
      "text/html": [
       "<div>\n",
       "<style scoped>\n",
       "    .dataframe tbody tr th:only-of-type {\n",
       "        vertical-align: middle;\n",
       "    }\n",
       "\n",
       "    .dataframe tbody tr th {\n",
       "        vertical-align: top;\n",
       "    }\n",
       "\n",
       "    .dataframe thead th {\n",
       "        text-align: right;\n",
       "    }\n",
       "</style>\n",
       "<table border=\"1\" class=\"dataframe\">\n",
       "  <thead>\n",
       "    <tr style=\"text-align: right;\">\n",
       "      <th></th>\n",
       "      <th>profit</th>\n",
       "      <th>roi</th>\n",
       "    </tr>\n",
       "    <tr>\n",
       "      <th>budget_group</th>\n",
       "      <th></th>\n",
       "      <th></th>\n",
       "    </tr>\n",
       "  </thead>\n",
       "  <tbody>\n",
       "    <tr>\n",
       "      <th>2.0</th>\n",
       "      <td>4.648407e+07</td>\n",
       "      <td>4.548705</td>\n",
       "    </tr>\n",
       "    <tr>\n",
       "      <th>1.0</th>\n",
       "      <td>4.703846e+07</td>\n",
       "      <td>8.841384</td>\n",
       "    </tr>\n",
       "    <tr>\n",
       "      <th>5.0</th>\n",
       "      <td>5.779423e+07</td>\n",
       "      <td>2.330625</td>\n",
       "    </tr>\n",
       "    <tr>\n",
       "      <th>3.0</th>\n",
       "      <td>5.908965e+07</td>\n",
       "      <td>4.044592</td>\n",
       "    </tr>\n",
       "    <tr>\n",
       "      <th>4.0</th>\n",
       "      <td>8.155366e+07</td>\n",
       "      <td>4.097472</td>\n",
       "    </tr>\n",
       "    <tr>\n",
       "      <th>6.0</th>\n",
       "      <td>9.543494e+07</td>\n",
       "      <td>3.209804</td>\n",
       "    </tr>\n",
       "    <tr>\n",
       "      <th>7.0</th>\n",
       "      <td>1.025647e+08</td>\n",
       "      <td>2.912725</td>\n",
       "    </tr>\n",
       "    <tr>\n",
       "      <th>8.0</th>\n",
       "      <td>1.270217e+08</td>\n",
       "      <td>3.205784</td>\n",
       "    </tr>\n",
       "  </tbody>\n",
       "</table>\n",
       "</div>"
      ],
      "text/plain": [
       "                    profit       roi\n",
       "budget_group                        \n",
       "2.0           4.648407e+07  4.548705\n",
       "1.0           4.703846e+07  8.841384\n",
       "5.0           5.779423e+07  2.330625\n",
       "3.0           5.908965e+07  4.044592\n",
       "4.0           8.155366e+07  4.097472\n",
       "6.0           9.543494e+07  3.209804\n",
       "7.0           1.025647e+08  2.912725\n",
       "8.0           1.270217e+08  3.205784"
      ]
     },
     "execution_count": 69,
     "metadata": {},
     "output_type": "execute_result"
    }
   ],
   "source": [
    "movie_budgets_pivot.sort_values('profit')"
   ]
  },
  {
   "cell_type": "code",
   "execution_count": 70,
   "metadata": {
    "ExecuteTime": {
     "end_time": "2022-05-31T11:01:05.401328Z",
     "start_time": "2022-05-31T11:01:05.309619Z"
    }
   },
   "outputs": [
    {
     "data": {
      "text/plain": [
       "<AxesSubplot:xlabel='budget_group'>"
      ]
     },
     "execution_count": 70,
     "metadata": {},
     "output_type": "execute_result"
    },
    {
     "data": {
      "image/png": "[encoded data removed]",
      "text/plain": [
       "<Figure size 432x288 with 1 Axes>"
      ]
     },
     "metadata": {
      "needs_background": "light"
     },
     "output_type": "display_data"
    }
   ],
   "source": [
    "movie_budgets_pivot.plot.bar( y = 'profit')\n"
   ]
  },
  {
   "cell_type": "code",
   "execution_count": 71,
   "metadata": {
    "ExecuteTime": {
     "end_time": "2022-05-31T11:01:05.302120Z",
     "start_time": "2022-05-31T11:01:05.218212Z"
    }
   },
   "outputs": [
    {
     "data": {
      "text/plain": [
       "<AxesSubplot:xlabel='budget_group'>"
      ]
     },
     "execution_count": 71,
     "metadata": {},
     "output_type": "execute_result"
    },
    {
     "data": {
      "image/png": "[encoded data removed]",
      "text/plain": [
       "<Figure size 432x288 with 1 Axes>"
      ]
     },
     "metadata": {
      "needs_background": "light"
     },
     "output_type": "display_data"
    }
   ],
   "source": [
    "movie_budgets_pivot.plot.bar(y = 'roi')"
   ]
  },
  {
   "cell_type": "code",
   "execution_count": 72,
   "metadata": {
    "ExecuteTime": {
     "end_time": "2022-05-31T11:01:05.308472Z",
     "start_time": "2022-05-31T11:01:05.303785Z"
    }
   },
   "outputs": [
    {
     "data": {
      "text/html": [
       "<div>\n",
       "<style scoped>\n",
       "    .dataframe tbody tr th:only-of-type {\n",
       "        vertical-align: middle;\n",
       "    }\n",
       "\n",
       "    .dataframe tbody tr th {\n",
       "        vertical-align: top;\n",
       "    }\n",
       "\n",
       "    .dataframe thead th {\n",
       "        text-align: right;\n",
       "    }\n",
       "</style>\n",
       "<table border=\"1\" class=\"dataframe\">\n",
       "  <thead>\n",
       "    <tr style=\"text-align: right;\">\n",
       "      <th></th>\n",
       "      <th>profit</th>\n",
       "      <th>roi</th>\n",
       "    </tr>\n",
       "    <tr>\n",
       "      <th>budget_group</th>\n",
       "      <th></th>\n",
       "      <th></th>\n",
       "    </tr>\n",
       "  </thead>\n",
       "  <tbody>\n",
       "    <tr>\n",
       "      <th>1.0</th>\n",
       "      <td>4.703846e+07</td>\n",
       "      <td>8.841384</td>\n",
       "    </tr>\n",
       "    <tr>\n",
       "      <th>2.0</th>\n",
       "      <td>4.648407e+07</td>\n",
       "      <td>4.548705</td>\n",
       "    </tr>\n",
       "    <tr>\n",
       "      <th>3.0</th>\n",
       "      <td>5.908965e+07</td>\n",
       "      <td>4.044592</td>\n",
       "    </tr>\n",
       "    <tr>\n",
       "      <th>4.0</th>\n",
       "      <td>8.155366e+07</td>\n",
       "      <td>4.097472</td>\n",
       "    </tr>\n",
       "    <tr>\n",
       "      <th>5.0</th>\n",
       "      <td>5.779423e+07</td>\n",
       "      <td>2.330625</td>\n",
       "    </tr>\n",
       "    <tr>\n",
       "      <th>6.0</th>\n",
       "      <td>9.543494e+07</td>\n",
       "      <td>3.209804</td>\n",
       "    </tr>\n",
       "    <tr>\n",
       "      <th>7.0</th>\n",
       "      <td>1.025647e+08</td>\n",
       "      <td>2.912725</td>\n",
       "    </tr>\n",
       "    <tr>\n",
       "      <th>8.0</th>\n",
       "      <td>1.270217e+08</td>\n",
       "      <td>3.205784</td>\n",
       "    </tr>\n",
       "  </tbody>\n",
       "</table>\n",
       "</div>"
      ],
      "text/plain": [
       "                    profit       roi\n",
       "budget_group                        \n",
       "1.0           4.703846e+07  8.841384\n",
       "2.0           4.648407e+07  4.548705\n",
       "3.0           5.908965e+07  4.044592\n",
       "4.0           8.155366e+07  4.097472\n",
       "5.0           5.779423e+07  2.330625\n",
       "6.0           9.543494e+07  3.209804\n",
       "7.0           1.025647e+08  2.912725\n",
       "8.0           1.270217e+08  3.205784"
      ]
     },
     "execution_count": 72,
     "metadata": {},
     "output_type": "execute_result"
    }
   ],
   "source": [
    "movie_budgets_pivot"
   ]
  },
  {
   "cell_type": "code",
   "execution_count": 73,
   "metadata": {
    "ExecuteTime": {
     "end_time": "2022-05-31T11:01:05.401328Z",
     "start_time": "2022-05-31T11:01:05.309619Z"
    }
   },
   "outputs": [
    {
     "data": {
      "text/plain": [
       "<AxesSubplot:xlabel='budget_group', ylabel='profit'>"
      ]
     },
     "execution_count": 73,
     "metadata": {},
     "output_type": "execute_result"
    },
    {
     "data": {
      "image/png": "[encoded data removed]",
      "text/plain": [
       "<Figure size 432x288 with 1 Axes>"
      ]
     },
     "metadata": {
      "needs_background": "light"
     },
     "output_type": "display_data"
    }
   ],
   "source": [
    "sns.scatterplot(data = movie_budgets_pivot, y = 'profit', x = 'budget_group')"
   ]
  },
  {
   "cell_type": "code",
   "execution_count": 74,
   "metadata": {
    "ExecuteTime": {
     "end_time": "2022-05-31T11:01:05.408725Z",
     "start_time": "2022-05-31T11:01:05.402657Z"
    }
   },
   "outputs": [
    {
     "data": {
      "text/html": [
       "<div>\n",
       "<style scoped>\n",
       "    .dataframe tbody tr th:only-of-type {\n",
       "        vertical-align: middle;\n",
       "    }\n",
       "\n",
       "    .dataframe tbody tr th {\n",
       "        vertical-align: top;\n",
       "    }\n",
       "\n",
       "    .dataframe thead th {\n",
       "        text-align: right;\n",
       "    }\n",
       "</style>\n",
       "<table border=\"1\" class=\"dataframe\">\n",
       "  <thead>\n",
       "    <tr style=\"text-align: right;\">\n",
       "      <th></th>\n",
       "      <th>averagerating</th>\n",
       "      <th>genres</th>\n",
       "    </tr>\n",
       "    <tr>\n",
       "      <th>primary_title</th>\n",
       "      <th></th>\n",
       "      <th></th>\n",
       "    </tr>\n",
       "  </thead>\n",
       "  <tbody>\n",
       "    <tr>\n",
       "      <th>Laiye Je Yaarian</th>\n",
       "      <td>8.3</td>\n",
       "      <td>Romance</td>\n",
       "    </tr>\n",
       "    <tr>\n",
       "      <th>Borderless</th>\n",
       "      <td>8.9</td>\n",
       "      <td>Documentary</td>\n",
       "    </tr>\n",
       "    <tr>\n",
       "      <th>Just Inès</th>\n",
       "      <td>6.4</td>\n",
       "      <td>Drama</td>\n",
       "    </tr>\n",
       "    <tr>\n",
       "      <th>The Legend of Hercules</th>\n",
       "      <td>4.2</td>\n",
       "      <td>Action,Adventure,Fantasy</td>\n",
       "    </tr>\n",
       "    <tr>\n",
       "      <th>Até Onde?</th>\n",
       "      <td>6.5</td>\n",
       "      <td>Mystery,Thriller</td>\n",
       "    </tr>\n",
       "    <tr>\n",
       "      <th>...</th>\n",
       "      <td>...</td>\n",
       "      <td>...</td>\n",
       "    </tr>\n",
       "    <tr>\n",
       "      <th>Caisa</th>\n",
       "      <td>8.1</td>\n",
       "      <td>Documentary</td>\n",
       "    </tr>\n",
       "    <tr>\n",
       "      <th>Code Geass: Lelouch of the Rebellion - Glorification</th>\n",
       "      <td>7.5</td>\n",
       "      <td>Action,Animation,Sci-Fi</td>\n",
       "    </tr>\n",
       "    <tr>\n",
       "      <th>Sisters</th>\n",
       "      <td>4.7</td>\n",
       "      <td>Action,Drama</td>\n",
       "    </tr>\n",
       "    <tr>\n",
       "      <th>The Projectionist</th>\n",
       "      <td>7.0</td>\n",
       "      <td>Documentary</td>\n",
       "    </tr>\n",
       "    <tr>\n",
       "      <th>Sathru</th>\n",
       "      <td>6.3</td>\n",
       "      <td>Thriller</td>\n",
       "    </tr>\n",
       "  </tbody>\n",
       "</table>\n",
       "<p>73856 rows × 2 columns</p>\n",
       "</div>"
      ],
      "text/plain": [
       "                                                    averagerating  \\\n",
       "primary_title                                                       \n",
       "Laiye Je Yaarian                                              8.3   \n",
       "Borderless                                                    8.9   \n",
       "Just Inès                                                     6.4   \n",
       "The Legend of Hercules                                        4.2   \n",
       "Até Onde?                                                     6.5   \n",
       "...                                                           ...   \n",
       "Caisa                                                         8.1   \n",
       "Code Geass: Lelouch of the Rebellion - Glorific...            7.5   \n",
       "Sisters                                                       4.7   \n",
       "The Projectionist                                             7.0   \n",
       "Sathru                                                        6.3   \n",
       "\n",
       "                                                                      genres  \n",
       "primary_title                                                                 \n",
       "Laiye Je Yaarian                                                     Romance  \n",
       "Borderless                                                       Documentary  \n",
       "Just Inès                                                              Drama  \n",
       "The Legend of Hercules                              Action,Adventure,Fantasy  \n",
       "Até Onde?                                                   Mystery,Thriller  \n",
       "...                                                                      ...  \n",
       "Caisa                                                            Documentary  \n",
       "Code Geass: Lelouch of the Rebellion - Glorific...   Action,Animation,Sci-Fi  \n",
       "Sisters                                                         Action,Drama  \n",
       "The Projectionist                                                Documentary  \n",
       "Sathru                                                              Thriller  \n",
       "\n",
       "[73856 rows x 2 columns]"
      ]
     },
     "execution_count": 74,
     "metadata": {},
     "output_type": "execute_result"
    }
   ],
   "source": [
    "avg_rating_genre"
   ]
  },
  {
   "cell_type": "code",
   "execution_count": 75,
   "metadata": {
    "ExecuteTime": {
     "end_time": "2022-05-31T11:01:05.412319Z",
     "start_time": "2022-05-31T11:01:05.409816Z"
    }
   },
   "outputs": [],
   "source": [
    "movie_budgets_w_review = movie_budgets_w_review.set_index('movie')"
   ]
  },
  {
   "cell_type": "code",
   "execution_count": 76,
   "metadata": {
    "ExecuteTime": {
     "end_time": "2022-05-31T11:01:05.518911Z",
     "start_time": "2022-05-31T11:01:05.413511Z"
    }
   },
   "outputs": [
    {
     "data": {
      "text/html": [
       "<div>\n",
       "<style scoped>\n",
       "    .dataframe tbody tr th:only-of-type {\n",
       "        vertical-align: middle;\n",
       "    }\n",
       "\n",
       "    .dataframe tbody tr th {\n",
       "        vertical-align: top;\n",
       "    }\n",
       "\n",
       "    .dataframe thead th {\n",
       "        text-align: right;\n",
       "    }\n",
       "</style>\n",
       "<table border=\"1\" class=\"dataframe\">\n",
       "  <thead>\n",
       "    <tr style=\"text-align: right;\">\n",
       "      <th></th>\n",
       "      <th>profit</th>\n",
       "      <th>roi</th>\n",
       "      <th>production_budget</th>\n",
       "      <th>vote_average</th>\n",
       "      <th>budget_group</th>\n",
       "      <th>averagerating</th>\n",
       "      <th>genres</th>\n",
       "    </tr>\n",
       "  </thead>\n",
       "  <tbody>\n",
       "    <tr>\n",
       "      <th>10 Cloverfield Lane</th>\n",
       "      <td>175369421.0</td>\n",
       "      <td>35.073884</td>\n",
       "      <td>5000000.0</td>\n",
       "      <td>6.9</td>\n",
       "      <td>1.0</td>\n",
       "      <td>7.2</td>\n",
       "      <td>Drama,Horror,Mystery</td>\n",
       "    </tr>\n",
       "    <tr>\n",
       "      <th>10 Days in a Madhouse</th>\n",
       "      <td>-11970768.0</td>\n",
       "      <td>-0.997564</td>\n",
       "      <td>12000000.0</td>\n",
       "      <td>5.4</td>\n",
       "      <td>2.0</td>\n",
       "      <td>6.7</td>\n",
       "      <td>Drama</td>\n",
       "    </tr>\n",
       "    <tr>\n",
       "      <th>12 Strong</th>\n",
       "      <td>81938091.0</td>\n",
       "      <td>2.341088</td>\n",
       "      <td>35000000.0</td>\n",
       "      <td>5.6</td>\n",
       "      <td>7.0</td>\n",
       "      <td>6.6</td>\n",
       "      <td>Action,Drama,History</td>\n",
       "    </tr>\n",
       "    <tr>\n",
       "      <th>12 Years a Slave</th>\n",
       "      <td>217697336.0</td>\n",
       "      <td>10.884867</td>\n",
       "      <td>20000000.0</td>\n",
       "      <td>7.9</td>\n",
       "      <td>4.0</td>\n",
       "      <td>8.1</td>\n",
       "      <td>Biography,Drama,History</td>\n",
       "    </tr>\n",
       "    <tr>\n",
       "      <th>127 Hours</th>\n",
       "      <td>60552401.0</td>\n",
       "      <td>3.364022</td>\n",
       "      <td>18000000.0</td>\n",
       "      <td>7.0</td>\n",
       "      <td>4.0</td>\n",
       "      <td>7.6</td>\n",
       "      <td>Adventure,Biography,Drama</td>\n",
       "    </tr>\n",
       "  </tbody>\n",
       "</table>\n",
       "</div>"
      ],
      "text/plain": [
       "                            profit        roi  production_budget  \\\n",
       "10 Cloverfield Lane    175369421.0  35.073884          5000000.0   \n",
       "10 Days in a Madhouse  -11970768.0  -0.997564         12000000.0   \n",
       "12 Strong               81938091.0   2.341088         35000000.0   \n",
       "12 Years a Slave       217697336.0  10.884867         20000000.0   \n",
       "127 Hours               60552401.0   3.364022         18000000.0   \n",
       "\n",
       "                       vote_average  budget_group  averagerating  \\\n",
       "10 Cloverfield Lane             6.9           1.0            7.2   \n",
       "10 Days in a Madhouse           5.4           2.0            6.7   \n",
       "12 Strong                       5.6           7.0            6.6   \n",
       "12 Years a Slave                7.9           4.0            8.1   \n",
       "127 Hours                       7.0           4.0            7.6   \n",
       "\n",
       "                                          genres  \n",
       "10 Cloverfield Lane         Drama,Horror,Mystery  \n",
       "10 Days in a Madhouse                      Drama  \n",
       "12 Strong                   Action,Drama,History  \n",
       "12 Years a Slave         Biography,Drama,History  \n",
       "127 Hours              Adventure,Biography,Drama  "
      ]
     },
     "execution_count": 76,
     "metadata": {},
     "output_type": "execute_result"
    }
   ],
   "source": [
    "movie_rating_review = movie_budgets_w_review.merge(avg_rating_genre, right_index= True, left_index= True)\n",
    "movie_rating_review.head()"
   ]
  },
  {
   "cell_type": "code",
   "execution_count": 77,
   "metadata": {
    "ExecuteTime": {
     "end_time": "2022-05-31T11:01:05.561458Z",
     "start_time": "2022-05-31T11:01:05.520125Z"
    }
   },
   "outputs": [],
   "source": [
    "movie_rating_review['genres'] = movie_rating_review['genres'].str.split(\",\")\n"
   ]
  },
  {
   "cell_type": "code",
   "execution_count": 78,
   "metadata": {
    "ExecuteTime": {
     "end_time": "2022-05-31T11:01:05.570540Z",
     "start_time": "2022-05-31T11:01:05.562704Z"
    }
   },
   "outputs": [
    {
     "data": {
      "text/html": [
       "<div>\n",
       "<style scoped>\n",
       "    .dataframe tbody tr th:only-of-type {\n",
       "        vertical-align: middle;\n",
       "    }\n",
       "\n",
       "    .dataframe tbody tr th {\n",
       "        vertical-align: top;\n",
       "    }\n",
       "\n",
       "    .dataframe thead th {\n",
       "        text-align: right;\n",
       "    }\n",
       "</style>\n",
       "<table border=\"1\" class=\"dataframe\">\n",
       "  <thead>\n",
       "    <tr style=\"text-align: right;\">\n",
       "      <th></th>\n",
       "      <th>profit</th>\n",
       "      <th>roi</th>\n",
       "      <th>production_budget</th>\n",
       "      <th>vote_average</th>\n",
       "      <th>budget_group</th>\n",
       "      <th>averagerating</th>\n",
       "      <th>genres</th>\n",
       "    </tr>\n",
       "  </thead>\n",
       "  <tbody>\n",
       "    <tr>\n",
       "      <th>10 Cloverfield Lane</th>\n",
       "      <td>175369421.0</td>\n",
       "      <td>35.073884</td>\n",
       "      <td>5000000.0</td>\n",
       "      <td>6.9</td>\n",
       "      <td>1.0</td>\n",
       "      <td>7.2</td>\n",
       "      <td>[Drama, Horror, Mystery]</td>\n",
       "    </tr>\n",
       "    <tr>\n",
       "      <th>10 Days in a Madhouse</th>\n",
       "      <td>-11970768.0</td>\n",
       "      <td>-0.997564</td>\n",
       "      <td>12000000.0</td>\n",
       "      <td>5.4</td>\n",
       "      <td>2.0</td>\n",
       "      <td>6.7</td>\n",
       "      <td>[Drama]</td>\n",
       "    </tr>\n",
       "    <tr>\n",
       "      <th>12 Strong</th>\n",
       "      <td>81938091.0</td>\n",
       "      <td>2.341088</td>\n",
       "      <td>35000000.0</td>\n",
       "      <td>5.6</td>\n",
       "      <td>7.0</td>\n",
       "      <td>6.6</td>\n",
       "      <td>[Action, Drama, History]</td>\n",
       "    </tr>\n",
       "    <tr>\n",
       "      <th>12 Years a Slave</th>\n",
       "      <td>217697336.0</td>\n",
       "      <td>10.884867</td>\n",
       "      <td>20000000.0</td>\n",
       "      <td>7.9</td>\n",
       "      <td>4.0</td>\n",
       "      <td>8.1</td>\n",
       "      <td>[Biography, Drama, History]</td>\n",
       "    </tr>\n",
       "    <tr>\n",
       "      <th>127 Hours</th>\n",
       "      <td>60552401.0</td>\n",
       "      <td>3.364022</td>\n",
       "      <td>18000000.0</td>\n",
       "      <td>7.0</td>\n",
       "      <td>4.0</td>\n",
       "      <td>7.6</td>\n",
       "      <td>[Adventure, Biography, Drama]</td>\n",
       "    </tr>\n",
       "  </tbody>\n",
       "</table>\n",
       "</div>"
      ],
      "text/plain": [
       "                            profit        roi  production_budget  \\\n",
       "10 Cloverfield Lane    175369421.0  35.073884          5000000.0   \n",
       "10 Days in a Madhouse  -11970768.0  -0.997564         12000000.0   \n",
       "12 Strong               81938091.0   2.341088         35000000.0   \n",
       "12 Years a Slave       217697336.0  10.884867         20000000.0   \n",
       "127 Hours               60552401.0   3.364022         18000000.0   \n",
       "\n",
       "                       vote_average  budget_group  averagerating  \\\n",
       "10 Cloverfield Lane             6.9           1.0            7.2   \n",
       "10 Days in a Madhouse           5.4           2.0            6.7   \n",
       "12 Strong                       5.6           7.0            6.6   \n",
       "12 Years a Slave                7.9           4.0            8.1   \n",
       "127 Hours                       7.0           4.0            7.6   \n",
       "\n",
       "                                              genres  \n",
       "10 Cloverfield Lane         [Drama, Horror, Mystery]  \n",
       "10 Days in a Madhouse                        [Drama]  \n",
       "12 Strong                   [Action, Drama, History]  \n",
       "12 Years a Slave         [Biography, Drama, History]  \n",
       "127 Hours              [Adventure, Biography, Drama]  "
      ]
     },
     "execution_count": 78,
     "metadata": {},
     "output_type": "execute_result"
    }
   ],
   "source": [
    "movie_rating_review.head()"
   ]
  },
  {
   "cell_type": "code",
   "execution_count": null,
   "metadata": {
    "ExecuteTime": {
     "end_time": "2022-05-29T12:28:27.991460Z",
     "start_time": "2022-05-29T12:28:27.984149Z"
    }
   },
   "outputs": [],
   "source": []
  },
  {
   "cell_type": "code",
   "execution_count": null,
   "metadata": {
    "ExecuteTime": {
     "end_time": "2022-05-23T13:26:30.515303Z",
     "start_time": "2022-05-23T13:26:30.503410Z"
    }
   },
   "outputs": [],
   "source": []
  },
  {
   "cell_type": "code",
   "execution_count": 79,
   "metadata": {
    "ExecuteTime": {
     "end_time": "2022-05-31T11:01:05.582160Z",
     "start_time": "2022-05-31T11:01:05.571497Z"
    }
   },
   "outputs": [
    {
     "data": {
      "text/html": [
       "<div>\n",
       "<style scoped>\n",
       "    .dataframe tbody tr th:only-of-type {\n",
       "        vertical-align: middle;\n",
       "    }\n",
       "\n",
       "    .dataframe tbody tr th {\n",
       "        vertical-align: top;\n",
       "    }\n",
       "\n",
       "    .dataframe thead th {\n",
       "        text-align: right;\n",
       "    }\n",
       "</style>\n",
       "<table border=\"1\" class=\"dataframe\">\n",
       "  <thead>\n",
       "    <tr style=\"text-align: right;\">\n",
       "      <th></th>\n",
       "      <th>profit</th>\n",
       "      <th>roi</th>\n",
       "      <th>production_budget</th>\n",
       "      <th>vote_average</th>\n",
       "      <th>budget_group</th>\n",
       "      <th>averagerating</th>\n",
       "      <th>genres</th>\n",
       "    </tr>\n",
       "  </thead>\n",
       "  <tbody>\n",
       "    <tr>\n",
       "      <th>10 Cloverfield Lane</th>\n",
       "      <td>175369421.0</td>\n",
       "      <td>35.073884</td>\n",
       "      <td>5000000.0</td>\n",
       "      <td>6.9</td>\n",
       "      <td>1.0</td>\n",
       "      <td>7.2</td>\n",
       "      <td>Drama</td>\n",
       "    </tr>\n",
       "    <tr>\n",
       "      <th>10 Cloverfield Lane</th>\n",
       "      <td>175369421.0</td>\n",
       "      <td>35.073884</td>\n",
       "      <td>5000000.0</td>\n",
       "      <td>6.9</td>\n",
       "      <td>1.0</td>\n",
       "      <td>7.2</td>\n",
       "      <td>Horror</td>\n",
       "    </tr>\n",
       "    <tr>\n",
       "      <th>10 Cloverfield Lane</th>\n",
       "      <td>175369421.0</td>\n",
       "      <td>35.073884</td>\n",
       "      <td>5000000.0</td>\n",
       "      <td>6.9</td>\n",
       "      <td>1.0</td>\n",
       "      <td>7.2</td>\n",
       "      <td>Mystery</td>\n",
       "    </tr>\n",
       "    <tr>\n",
       "      <th>10 Days in a Madhouse</th>\n",
       "      <td>-11970768.0</td>\n",
       "      <td>-0.997564</td>\n",
       "      <td>12000000.0</td>\n",
       "      <td>5.4</td>\n",
       "      <td>2.0</td>\n",
       "      <td>6.7</td>\n",
       "      <td>Drama</td>\n",
       "    </tr>\n",
       "    <tr>\n",
       "      <th>12 Strong</th>\n",
       "      <td>81938091.0</td>\n",
       "      <td>2.341088</td>\n",
       "      <td>35000000.0</td>\n",
       "      <td>5.6</td>\n",
       "      <td>7.0</td>\n",
       "      <td>6.6</td>\n",
       "      <td>Action</td>\n",
       "    </tr>\n",
       "  </tbody>\n",
       "</table>\n",
       "</div>"
      ],
      "text/plain": [
       "                            profit        roi  production_budget  \\\n",
       "10 Cloverfield Lane    175369421.0  35.073884          5000000.0   \n",
       "10 Cloverfield Lane    175369421.0  35.073884          5000000.0   \n",
       "10 Cloverfield Lane    175369421.0  35.073884          5000000.0   \n",
       "10 Days in a Madhouse  -11970768.0  -0.997564         12000000.0   \n",
       "12 Strong               81938091.0   2.341088         35000000.0   \n",
       "\n",
       "                       vote_average  budget_group  averagerating   genres  \n",
       "10 Cloverfield Lane             6.9           1.0            7.2    Drama  \n",
       "10 Cloverfield Lane             6.9           1.0            7.2   Horror  \n",
       "10 Cloverfield Lane             6.9           1.0            7.2  Mystery  \n",
       "10 Days in a Madhouse           5.4           2.0            6.7    Drama  \n",
       "12 Strong                       5.6           7.0            6.6   Action  "
      ]
     },
     "execution_count": 79,
     "metadata": {},
     "output_type": "execute_result"
    }
   ],
   "source": [
    "movie_rating_review_exploded = movie_rating_review.explode(\"genres\")\n",
    "movie_rating_review_exploded.head()"
   ]
  },
  {
   "cell_type": "code",
   "execution_count": 80,
   "metadata": {
    "ExecuteTime": {
     "end_time": "2022-05-31T11:01:05.591334Z",
     "start_time": "2022-05-31T11:01:05.583258Z"
    }
   },
   "outputs": [
    {
     "data": {
      "text/html": [
       "<div>\n",
       "<style scoped>\n",
       "    .dataframe tbody tr th:only-of-type {\n",
       "        vertical-align: middle;\n",
       "    }\n",
       "\n",
       "    .dataframe tbody tr th {\n",
       "        vertical-align: top;\n",
       "    }\n",
       "\n",
       "    .dataframe thead th {\n",
       "        text-align: right;\n",
       "    }\n",
       "</style>\n",
       "<table border=\"1\" class=\"dataframe\">\n",
       "  <thead>\n",
       "    <tr style=\"text-align: right;\">\n",
       "      <th></th>\n",
       "      <th>profit</th>\n",
       "      <th>roi</th>\n",
       "    </tr>\n",
       "    <tr>\n",
       "      <th>genres</th>\n",
       "      <th></th>\n",
       "      <th></th>\n",
       "    </tr>\n",
       "  </thead>\n",
       "  <tbody>\n",
       "    <tr>\n",
       "      <th>Action</th>\n",
       "      <td>6.069633e+07</td>\n",
       "      <td>4.240434</td>\n",
       "    </tr>\n",
       "    <tr>\n",
       "      <th>Adventure</th>\n",
       "      <td>5.102604e+07</td>\n",
       "      <td>2.615027</td>\n",
       "    </tr>\n",
       "    <tr>\n",
       "      <th>Animation</th>\n",
       "      <td>4.354921e+07</td>\n",
       "      <td>4.223576</td>\n",
       "    </tr>\n",
       "    <tr>\n",
       "      <th>Biography</th>\n",
       "      <td>5.388147e+07</td>\n",
       "      <td>3.187390</td>\n",
       "    </tr>\n",
       "    <tr>\n",
       "      <th>Comedy</th>\n",
       "      <td>7.026779e+07</td>\n",
       "      <td>4.503218</td>\n",
       "    </tr>\n",
       "  </tbody>\n",
       "</table>\n",
       "</div>"
      ],
      "text/plain": [
       "                 profit       roi\n",
       "genres                           \n",
       "Action     6.069633e+07  4.240434\n",
       "Adventure  5.102604e+07  2.615027\n",
       "Animation  4.354921e+07  4.223576\n",
       "Biography  5.388147e+07  3.187390\n",
       "Comedy     7.026779e+07  4.503218"
      ]
     },
     "execution_count": 80,
     "metadata": {},
     "output_type": "execute_result"
    }
   ],
   "source": [
    "genre_pivot = pd.pivot_table(movie_rating_review_exploded, index = 'genres', values = ['profit', 'roi'], aggfunc= 'mean')\n",
    "genre_pivot.head()\n"
   ]
  },
  {
   "cell_type": "code",
   "execution_count": 81,
   "metadata": {
    "ExecuteTime": {
     "end_time": "2022-05-31T11:01:05.724033Z",
     "start_time": "2022-05-31T11:01:05.592842Z"
    }
   },
   "outputs": [
    {
     "data": {
      "image/png": "[encoded data removed]",
      "text/plain": [
       "<Figure size 432x288 with 1 Axes>"
      ]
     },
     "metadata": {
      "needs_background": "light"
     },
     "output_type": "display_data"
    }
   ],
   "source": [
    "genre_pivot.plot.bar( y = 'roi')\n",
    "plt.show()"
   ]
  },
  {
   "cell_type": "code",
   "execution_count": 82,
   "metadata": {
    "ExecuteTime": {
     "end_time": "2022-05-31T11:01:05.858023Z",
     "start_time": "2022-05-31T11:01:05.725176Z"
    }
   },
   "outputs": [
    {
     "data": {
      "text/plain": [
       "<AxesSubplot:xlabel='genres'>"
      ]
     },
     "execution_count": 82,
     "metadata": {},
     "output_type": "execute_result"
    },
    {
     "data": {
      "image/png": "[encoded data removed]",
      "text/plain": [
       "<Figure size 432x288 with 1 Axes>"
      ]
     },
     "metadata": {
      "needs_background": "light"
     },
     "output_type": "display_data"
    }
   ],
   "source": [
    "genre_pivot.plot.bar(y = 'profit')"
   ]
  },
  {
   "cell_type": "code",
   "execution_count": 83,
   "metadata": {
    "ExecuteTime": {
     "end_time": "2022-05-31T11:01:05.996641Z",
     "start_time": "2022-05-31T11:01:05.859357Z"
    }
   },
   "outputs": [
    {
     "name": "stderr",
     "output_type": "stream",
     "text": [
      "<ipython-input-83-38653ed5efc0>:1: SettingWithCopyWarning: \n",
      "A value is trying to be set on a copy of a slice from a DataFrame.\n",
      "Try using .loc[row_indexer,col_indexer] = value instead\n",
      "\n",
      "See the caveats in the documentation: https://pandas.pydata.org/pandas-docs/stable/user_guide/indexing.html#returning-a-view-versus-a-copy\n",
      "  movie_budgets_filtered_iqr['release_date']=pd.to_datetime(movie_budgets_filtered_iqr['release_date'])\n"
     ]
    }
   ],
   "source": [
    "movie_budgets_filtered_iqr['release_date']=pd.to_datetime(movie_budgets_filtered_iqr['release_date'])"
   ]
  },
  {
   "cell_type": "code",
   "execution_count": 84,
   "metadata": {
    "ExecuteTime": {
     "end_time": "2022-05-31T11:01:06.001492Z",
     "start_time": "2022-05-31T11:01:05.998430Z"
    }
   },
   "outputs": [
    {
     "name": "stderr",
     "output_type": "stream",
     "text": [
      "<ipython-input-84-a392c75a5ea2>:1: SettingWithCopyWarning: \n",
      "A value is trying to be set on a copy of a slice from a DataFrame.\n",
      "Try using .loc[row_indexer,col_indexer] = value instead\n",
      "\n",
      "See the caveats in the documentation: https://pandas.pydata.org/pandas-docs/stable/user_guide/indexing.html#returning-a-view-versus-a-copy\n",
      "  movie_budgets_filtered_iqr['release_month'] = movie_budgets_filtered_iqr['release_date'].dt.month\n"
     ]
    }
   ],
   "source": [
    "movie_budgets_filtered_iqr['release_month'] = movie_budgets_filtered_iqr['release_date'].dt.month"
   ]
  },
  {
   "cell_type": "code",
   "execution_count": 85,
   "metadata": {
    "ExecuteTime": {
     "end_time": "2022-05-31T11:01:06.009493Z",
     "start_time": "2022-05-31T11:01:06.002656Z"
    }
   },
   "outputs": [
    {
     "data": {
      "text/html": [
       "<div>\n",
       "<style scoped>\n",
       "    .dataframe tbody tr th:only-of-type {\n",
       "        vertical-align: middle;\n",
       "    }\n",
       "\n",
       "    .dataframe tbody tr th {\n",
       "        vertical-align: top;\n",
       "    }\n",
       "\n",
       "    .dataframe thead th {\n",
       "        text-align: right;\n",
       "    }\n",
       "</style>\n",
       "<table border=\"1\" class=\"dataframe\">\n",
       "  <thead>\n",
       "    <tr style=\"text-align: right;\">\n",
       "      <th></th>\n",
       "      <th>release_date</th>\n",
       "      <th>production_budget</th>\n",
       "      <th>domestic_gross</th>\n",
       "      <th>worldwide_gross</th>\n",
       "      <th>profit</th>\n",
       "      <th>roi</th>\n",
       "      <th>release_month</th>\n",
       "    </tr>\n",
       "    <tr>\n",
       "      <th>movie</th>\n",
       "      <th></th>\n",
       "      <th></th>\n",
       "      <th></th>\n",
       "      <th></th>\n",
       "      <th></th>\n",
       "      <th></th>\n",
       "      <th></th>\n",
       "    </tr>\n",
       "  </thead>\n",
       "  <tbody>\n",
       "    <tr>\n",
       "      <th>The Sixth Sense</th>\n",
       "      <td>1999-08-06</td>\n",
       "      <td>40000000.0</td>\n",
       "      <td>293506292.0</td>\n",
       "      <td>672806292.0</td>\n",
       "      <td>926312584.0</td>\n",
       "      <td>23.157815</td>\n",
       "      <td>8</td>\n",
       "    </tr>\n",
       "    <tr>\n",
       "      <th>Wedding Crashers</th>\n",
       "      <td>2005-07-15</td>\n",
       "      <td>40000000.0</td>\n",
       "      <td>209218368.0</td>\n",
       "      <td>283218368.0</td>\n",
       "      <td>452436736.0</td>\n",
       "      <td>11.310918</td>\n",
       "      <td>7</td>\n",
       "    </tr>\n",
       "    <tr>\n",
       "      <th>The Karate Kid</th>\n",
       "      <td>2010-06-11</td>\n",
       "      <td>40000000.0</td>\n",
       "      <td>176591618.0</td>\n",
       "      <td>351774938.0</td>\n",
       "      <td>488366556.0</td>\n",
       "      <td>12.209164</td>\n",
       "      <td>6</td>\n",
       "    </tr>\n",
       "    <tr>\n",
       "      <th>Fifty Shades of Grey</th>\n",
       "      <td>2015-02-13</td>\n",
       "      <td>40000000.0</td>\n",
       "      <td>166167230.0</td>\n",
       "      <td>570998101.0</td>\n",
       "      <td>697165331.0</td>\n",
       "      <td>17.429133</td>\n",
       "      <td>2</td>\n",
       "    </tr>\n",
       "    <tr>\n",
       "      <th>The Proposal</th>\n",
       "      <td>2009-06-19</td>\n",
       "      <td>40000000.0</td>\n",
       "      <td>163958031.0</td>\n",
       "      <td>314709717.0</td>\n",
       "      <td>438667748.0</td>\n",
       "      <td>10.966694</td>\n",
       "      <td>6</td>\n",
       "    </tr>\n",
       "  </tbody>\n",
       "</table>\n",
       "</div>"
      ],
      "text/plain": [
       "                     release_date  production_budget  domestic_gross  \\\n",
       "movie                                                                  \n",
       "The Sixth Sense        1999-08-06         40000000.0     293506292.0   \n",
       "Wedding Crashers       2005-07-15         40000000.0     209218368.0   \n",
       "The Karate Kid         2010-06-11         40000000.0     176591618.0   \n",
       "Fifty Shades of Grey   2015-02-13         40000000.0     166167230.0   \n",
       "The Proposal           2009-06-19         40000000.0     163958031.0   \n",
       "\n",
       "                      worldwide_gross       profit        roi  release_month  \n",
       "movie                                                                         \n",
       "The Sixth Sense           672806292.0  926312584.0  23.157815              8  \n",
       "Wedding Crashers          283218368.0  452436736.0  11.310918              7  \n",
       "The Karate Kid            351774938.0  488366556.0  12.209164              6  \n",
       "Fifty Shades of Grey      570998101.0  697165331.0  17.429133              2  \n",
       "The Proposal              314709717.0  438667748.0  10.966694              6  "
      ]
     },
     "execution_count": 85,
     "metadata": {},
     "output_type": "execute_result"
    }
   ],
   "source": [
    "movie_budgets_filtered_iqr.head()"
   ]
  },
  {
   "cell_type": "code",
   "execution_count": 86,
   "metadata": {
    "ExecuteTime": {
     "end_time": "2022-05-31T11:01:06.016439Z",
     "start_time": "2022-05-31T11:01:06.010585Z"
    }
   },
   "outputs": [],
   "source": [
    "movie_budget_months = movie_budgets_filtered_iqr.pivot_table(index = 'release_month', values = ['roi', 'profit'], aggfunc= 'mean')"
   ]
  },
  {
   "cell_type": "code",
   "execution_count": 87,
   "metadata": {
    "ExecuteTime": {
     "end_time": "2022-05-31T11:01:06.022286Z",
     "start_time": "2022-05-31T11:01:06.017393Z"
    }
   },
   "outputs": [
    {
     "data": {
      "text/html": [
       "<div>\n",
       "<style scoped>\n",
       "    .dataframe tbody tr th:only-of-type {\n",
       "        vertical-align: middle;\n",
       "    }\n",
       "\n",
       "    .dataframe tbody tr th {\n",
       "        vertical-align: top;\n",
       "    }\n",
       "\n",
       "    .dataframe thead th {\n",
       "        text-align: right;\n",
       "    }\n",
       "</style>\n",
       "<table border=\"1\" class=\"dataframe\">\n",
       "  <thead>\n",
       "    <tr style=\"text-align: right;\">\n",
       "      <th></th>\n",
       "      <th>profit</th>\n",
       "      <th>roi</th>\n",
       "    </tr>\n",
       "    <tr>\n",
       "      <th>release_month</th>\n",
       "      <th></th>\n",
       "      <th></th>\n",
       "    </tr>\n",
       "  </thead>\n",
       "  <tbody>\n",
       "    <tr>\n",
       "      <th>1</th>\n",
       "      <td>5.937951e+07</td>\n",
       "      <td>3.823570</td>\n",
       "    </tr>\n",
       "    <tr>\n",
       "      <th>2</th>\n",
       "      <td>6.435417e+07</td>\n",
       "      <td>3.882778</td>\n",
       "    </tr>\n",
       "    <tr>\n",
       "      <th>3</th>\n",
       "      <td>4.914402e+07</td>\n",
       "      <td>3.524876</td>\n",
       "    </tr>\n",
       "    <tr>\n",
       "      <th>4</th>\n",
       "      <td>4.629670e+07</td>\n",
       "      <td>3.021822</td>\n",
       "    </tr>\n",
       "    <tr>\n",
       "      <th>5</th>\n",
       "      <td>7.346336e+07</td>\n",
       "      <td>4.430771</td>\n",
       "    </tr>\n",
       "  </tbody>\n",
       "</table>\n",
       "</div>"
      ],
      "text/plain": [
       "                     profit       roi\n",
       "release_month                        \n",
       "1              5.937951e+07  3.823570\n",
       "2              6.435417e+07  3.882778\n",
       "3              4.914402e+07  3.524876\n",
       "4              4.629670e+07  3.021822\n",
       "5              7.346336e+07  4.430771"
      ]
     },
     "execution_count": 87,
     "metadata": {},
     "output_type": "execute_result"
    }
   ],
   "source": [
    "movie_budget_months.head()"
   ]
  },
  {
   "cell_type": "code",
   "execution_count": 88,
   "metadata": {
    "ExecuteTime": {
     "end_time": "2022-05-31T11:01:06.119099Z",
     "start_time": "2022-05-31T11:01:06.023208Z"
    }
   },
   "outputs": [
    {
     "data": {
      "text/plain": [
       "<AxesSubplot:xlabel='release_month'>"
      ]
     },
     "execution_count": 88,
     "metadata": {},
     "output_type": "execute_result"
    },
    {
     "data": {
      "image/png": "[encoded data removed]",
      "text/plain": [
       "<Figure size 432x288 with 1 Axes>"
      ]
     },
     "metadata": {
      "needs_background": "light"
     },
     "output_type": "display_data"
    }
   ],
   "source": [
    "movie_budget_months.plot.bar( y = 'profit')"
   ]
  },
  {
   "cell_type": "code",
   "execution_count": 89,
   "metadata": {
    "ExecuteTime": {
     "end_time": "2022-05-31T11:01:06.214635Z",
     "start_time": "2022-05-31T11:01:06.120272Z"
    }
   },
   "outputs": [
    {
     "data": {
      "text/plain": [
       "<AxesSubplot:xlabel='release_month'>"
      ]
     },
     "execution_count": 89,
     "metadata": {},
     "output_type": "execute_result"
    },
    {
     "data": {
      "image/png": "[encoded data removed]",
      "text/plain": [
       "<Figure size 432x288 with 1 Axes>"
      ]
     },
     "metadata": {
      "needs_background": "light"
     },
     "output_type": "display_data"
    }
   ],
   "source": [
    "movie_budget_months.plot.bar(y = 'roi')"
   ]
  },
  {
   "cell_type": "code",
   "execution_count": null,
   "metadata": {},
   "outputs": [],
   "source": []
  }
 ],
 "metadata": {
  "kernelspec": {
   "display_name": "Python 3",
   "language": "python",
   "name": "python3"
  },
  "language_info": {
   "codemirror_mode": {
    "name": "ipython",
    "version": 3
   },
   "file_extension": ".py",
   "mimetype": "text/x-python",
   "name": "python",
   "nbconvert_exporter": "python",
   "pygments_lexer": "ipython3",
   "version": "3.8.5"
  },
  "toc": {
   "base_numbering": 1,
   "nav_menu": {},
   "number_sections": true,
   "sideBar": true,
   "skip_h1_title": false,
   "title_cell": "Table of Contents",
   "title_sidebar": "Contents",
   "toc_cell": false,
   "toc_position": {},
   "toc_section_display": true,
   "toc_window_display": true
  },
  "varInspector": {
   "cols": {
    "lenName": 16,
    "lenType": 16,
    "lenVar": 40
   },
   "kernels_config": {
    "python": {
     "delete_cmd_postfix": "",
     "delete_cmd_prefix": "del ",
     "library": "var_list.py",
     "varRefreshCmd": "print(var_dic_list())"
    },
    "r": {
     "delete_cmd_postfix": ") ",
     "delete_cmd_prefix": "rm(",
     "library": "var_list.r",
     "varRefreshCmd": "cat(var_dic_list()) "
    }
   },
   "position": {
    "height": "144.852px",
    "left": "951px",
    "right": "20px",
    "top": "-128px",
    "width": "350px"
   },
   "types_to_exclude": [
    "module",
    "function",
    "builtin_function_or_method",
    "instance",
    "_Feature"
   ],
   "window_display": true
  }
 },
 "nbformat": 4,
 "nbformat_minor": 4
}
