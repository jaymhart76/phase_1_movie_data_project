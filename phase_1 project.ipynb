{
 "cells": [
  {
   "cell_type": "markdown",
   "metadata": {},
   "source": [
    "# **Microsoft Movie Proposal**\n",
    "\n",
    "    Author: Jason Hart"
   ]
  },
  {
   "cell_type": "markdown",
   "metadata": {},
   "source": [
    "## Introduction:\n",
    "The purpose of this research is to determine the ideal release month, genre and production budget to maximize profit dollars and ROI.  We will compare the effect of Genre, production budget and release month the ROI and raw profit of movie releases since 1975.  This data will allow us to determine what type of movie we should release, how much we should spend producing it and what month we should release themovie in."
   ]
  },
  {
   "cell_type": "markdown",
   "metadata": {},
   "source": [
    "## How we are going to determine how much to spend, what type of movie to make and when to release it:\n",
    "    Utilizating the information from the movie data sets and data bases, we will compare the movievs based on \n",
    "    their raw profit dollars and their ROI.\n"
   ]
  },
  {
   "cell_type": "code",
   "execution_count": 1,
   "metadata": {
    "ExecuteTime": {
     "end_time": "2022-06-06T09:28:17.862330Z",
     "start_time": "2022-06-06T09:28:16.459366Z"
    }
   },
   "outputs": [],
   "source": [
    "import numpy as np\n",
    "import pandas as pd\n",
    "import sqlite3\n",
    "import matplotlib.pyplot as plt\n",
    "import csv\n",
    "import seaborn as sns\n",
    "%matplotlib inline\n",
    "import datetime"
   ]
  },
  {
   "cell_type": "markdown",
   "metadata": {},
   "source": [
    "# Data Cleaning"
   ]
  },
  {
   "cell_type": "markdown",
   "metadata": {},
   "source": [
    "We are bringing in all the data for review and set the tables so that we can \n",
    "visualize the data in terms of profit and ROI"
   ]
  },
  {
   "cell_type": "code",
   "execution_count": 2,
   "metadata": {
    "ExecuteTime": {
     "end_time": "2022-06-06T09:28:17.874654Z",
     "start_time": "2022-06-06T09:28:17.863408Z"
    }
   },
   "outputs": [],
   "source": [
    "movie_budgets_tn = (\n",
    "    pd.read_csv\n",
    "    ('/Users/jasonhart/Desktop/flatiron/Phase_1/project_folder/tn.movie_budgets.csv',\n",
    "     header = 1)\n",
    ")"
   ]
  },
  {
   "cell_type": "code",
   "execution_count": 3,
   "metadata": {
    "ExecuteTime": {
     "end_time": "2022-06-06T09:28:17.881548Z",
     "start_time": "2022-06-06T09:28:17.875709Z"
    }
   },
   "outputs": [],
   "source": [
    "movie_budgets_bom = (\n",
    "    pd.read_csv\n",
    "    ('/Users/jasonhart/Desktop/flatiron/Phase_1/project_folder/bom.movie_gross.csv',\n",
    "    header = 1)\n",
    "               )    "
   ]
  },
  {
   "cell_type": "code",
   "execution_count": 4,
   "metadata": {
    "ExecuteTime": {
     "end_time": "2022-06-06T09:28:17.921690Z",
     "start_time": "2022-06-06T09:28:17.883139Z"
    }
   },
   "outputs": [],
   "source": [
    "tmb_movies = (\n",
    "    pd.read_csv\n",
    "    ('/Users/jasonhart/Desktop/flatiron/Phase_1/project_folder/tmdb.movies.csv',\n",
    "     header = 1)\n",
    ")"
   ]
  },
  {
   "cell_type": "code",
   "execution_count": 5,
   "metadata": {
    "ExecuteTime": {
     "end_time": "2022-06-06T09:28:18.032012Z",
     "start_time": "2022-06-06T09:28:17.922523Z"
    }
   },
   "outputs": [],
   "source": [
    "rt_reviews = (\n",
    "    pd.read_csv\n",
    "    ('/Users/jasonhart/Desktop/flatiron/Phase_1/project_folder/rt.reviews.csv',\n",
    "     header = 1)\n",
    ")"
   ]
  },
  {
   "cell_type": "code",
   "execution_count": 6,
   "metadata": {
    "ExecuteTime": {
     "end_time": "2022-06-06T09:28:18.035355Z",
     "start_time": "2022-06-06T09:28:18.033124Z"
    }
   },
   "outputs": [],
   "source": [
    "db_conn = (\n",
    "    sqlite3.connect\n",
    "    ('/Users/jasonhart/Desktop/flatiron/Phase_1/project_folder/im.db')\n",
    ")"
   ]
  },
  {
   "cell_type": "code",
   "execution_count": 7,
   "metadata": {
    "ExecuteTime": {
     "end_time": "2022-06-06T09:28:18.037850Z",
     "start_time": "2022-06-06T09:28:18.036082Z"
    }
   },
   "outputs": [],
   "source": [
    "cur = db_conn.cursor()"
   ]
  },
  {
   "cell_type": "code",
   "execution_count": 8,
   "metadata": {
    "ExecuteTime": {
     "end_time": "2022-06-06T09:28:18.042802Z",
     "start_time": "2022-06-06T09:28:18.038718Z"
    }
   },
   "outputs": [
    {
     "data": {
      "text/plain": [
       "<sqlite3.Cursor at 0x7f86a91e7b20>"
      ]
     },
     "execution_count": 8,
     "metadata": {},
     "output_type": "execute_result"
    }
   ],
   "source": [
    "cur.execute(\"\"\"SELECT name FROM sqlite_master WHERE type = 'table';\"\"\")\n"
   ]
  },
  {
   "cell_type": "markdown",
   "metadata": {
    "ExecuteTime": {
     "end_time": "2022-05-18T10:34:50.085565Z",
     "start_time": "2022-05-18T10:34:49.727858Z"
    }
   },
   "source": [
    "Data brought into the notebook and begining the data cleaning process"
   ]
  },
  {
   "cell_type": "code",
   "execution_count": 9,
   "metadata": {
    "ExecuteTime": {
     "end_time": "2022-06-06T09:28:18.056009Z",
     "start_time": "2022-06-06T09:28:18.043734Z"
    }
   },
   "outputs": [
    {
     "data": {
      "text/html": [
       "<div>\n",
       "<style scoped>\n",
       "    .dataframe tbody tr th:only-of-type {\n",
       "        vertical-align: middle;\n",
       "    }\n",
       "\n",
       "    .dataframe tbody tr th {\n",
       "        vertical-align: top;\n",
       "    }\n",
       "\n",
       "    .dataframe thead th {\n",
       "        text-align: right;\n",
       "    }\n",
       "</style>\n",
       "<table border=\"1\" class=\"dataframe\">\n",
       "  <thead>\n",
       "    <tr style=\"text-align: right;\">\n",
       "      <th></th>\n",
       "      <th>id</th>\n",
       "      <th>release_date</th>\n",
       "      <th>movie</th>\n",
       "      <th>production_budget</th>\n",
       "      <th>domestic_gross</th>\n",
       "      <th>worldwide_gross</th>\n",
       "    </tr>\n",
       "  </thead>\n",
       "  <tbody>\n",
       "    <tr>\n",
       "      <th>5559</th>\n",
       "      <td>60</td>\n",
       "      <td>Apr 1, 1975</td>\n",
       "      <td>Death Race 2000</td>\n",
       "      <td>$300,000.00</td>\n",
       "      <td>$0.00</td>\n",
       "      <td>$0.00</td>\n",
       "    </tr>\n",
       "    <tr>\n",
       "      <th>5520</th>\n",
       "      <td>21</td>\n",
       "      <td>Apr 1, 1986</td>\n",
       "      <td>My Beautiful Laundrette</td>\n",
       "      <td>$400,000.00</td>\n",
       "      <td>$0.00</td>\n",
       "      <td>$0.00</td>\n",
       "    </tr>\n",
       "    <tr>\n",
       "      <th>2260</th>\n",
       "      <td>61</td>\n",
       "      <td>Apr 1, 1988</td>\n",
       "      <td>Bright Lights, Big City</td>\n",
       "      <td>$25,000,000.00</td>\n",
       "      <td>$16,118,077.00</td>\n",
       "      <td>$16,118,077.00</td>\n",
       "    </tr>\n",
       "    <tr>\n",
       "      <th>5769</th>\n",
       "      <td>70</td>\n",
       "      <td>Apr 1, 1996</td>\n",
       "      <td>Bang</td>\n",
       "      <td>$10,000.00</td>\n",
       "      <td>$527.00</td>\n",
       "      <td>$527.00</td>\n",
       "    </tr>\n",
       "    <tr>\n",
       "      <th>1408</th>\n",
       "      <td>9</td>\n",
       "      <td>Apr 1, 2005</td>\n",
       "      <td>Sin City</td>\n",
       "      <td>$40,000,000.00</td>\n",
       "      <td>$74,103,820.00</td>\n",
       "      <td>$158,527,918.00</td>\n",
       "    </tr>\n",
       "    <tr>\n",
       "      <th>...</th>\n",
       "      <td>...</td>\n",
       "      <td>...</td>\n",
       "      <td>...</td>\n",
       "      <td>...</td>\n",
       "      <td>...</td>\n",
       "      <td>...</td>\n",
       "    </tr>\n",
       "    <tr>\n",
       "      <th>849</th>\n",
       "      <td>50</td>\n",
       "      <td>Sep 9, 2016</td>\n",
       "      <td>Sully</td>\n",
       "      <td>$60,000,000.00</td>\n",
       "      <td>$125,070,033.00</td>\n",
       "      <td>$238,524,556.00</td>\n",
       "    </tr>\n",
       "    <tr>\n",
       "      <th>3287</th>\n",
       "      <td>88</td>\n",
       "      <td>Sep 9, 2016</td>\n",
       "      <td>Robinson Crusoe</td>\n",
       "      <td>$13,000,000.00</td>\n",
       "      <td>$8,005,586.00</td>\n",
       "      <td>$42,446,455.00</td>\n",
       "    </tr>\n",
       "    <tr>\n",
       "      <th>3712</th>\n",
       "      <td>13</td>\n",
       "      <td>Sep 9, 2016</td>\n",
       "      <td>Kicks</td>\n",
       "      <td>$10,000,000.00</td>\n",
       "      <td>$150,191.00</td>\n",
       "      <td>$150,191.00</td>\n",
       "    </tr>\n",
       "    <tr>\n",
       "      <th>3129</th>\n",
       "      <td>30</td>\n",
       "      <td>Sep 9, 2016</td>\n",
       "      <td>The Disappointments Room</td>\n",
       "      <td>$15,000,000.00</td>\n",
       "      <td>$2,423,467.00</td>\n",
       "      <td>$3,503,761.00</td>\n",
       "    </tr>\n",
       "    <tr>\n",
       "      <th>3584</th>\n",
       "      <td>85</td>\n",
       "      <td>Sep 9, 2016</td>\n",
       "      <td>When the Bough Breaks</td>\n",
       "      <td>$10,000,000.00</td>\n",
       "      <td>$29,747,603.00</td>\n",
       "      <td>$30,768,449.00</td>\n",
       "    </tr>\n",
       "  </tbody>\n",
       "</table>\n",
       "<p>5782 rows × 6 columns</p>\n",
       "</div>"
      ],
      "text/plain": [
       "      id release_date                     movie production_budget  \\\n",
       "5559  60  Apr 1, 1975           Death Race 2000       $300,000.00   \n",
       "5520  21  Apr 1, 1986   My Beautiful Laundrette       $400,000.00   \n",
       "2260  61  Apr 1, 1988   Bright Lights, Big City    $25,000,000.00   \n",
       "5769  70  Apr 1, 1996                      Bang        $10,000.00   \n",
       "1408   9  Apr 1, 2005                  Sin City    $40,000,000.00   \n",
       "...   ..          ...                       ...               ...   \n",
       "849   50  Sep 9, 2016                     Sully    $60,000,000.00   \n",
       "3287  88  Sep 9, 2016           Robinson Crusoe    $13,000,000.00   \n",
       "3712  13  Sep 9, 2016                     Kicks    $10,000,000.00   \n",
       "3129  30  Sep 9, 2016  The Disappointments Room    $15,000,000.00   \n",
       "3584  85  Sep 9, 2016     When the Bough Breaks    $10,000,000.00   \n",
       "\n",
       "       domestic_gross  worldwide_gross  \n",
       "5559            $0.00            $0.00  \n",
       "5520            $0.00            $0.00  \n",
       "2260   $16,118,077.00   $16,118,077.00  \n",
       "5769          $527.00          $527.00  \n",
       "1408   $74,103,820.00  $158,527,918.00  \n",
       "...               ...              ...  \n",
       "849   $125,070,033.00  $238,524,556.00  \n",
       "3287    $8,005,586.00   $42,446,455.00  \n",
       "3712      $150,191.00      $150,191.00  \n",
       "3129    $2,423,467.00    $3,503,761.00  \n",
       "3584   $29,747,603.00   $30,768,449.00  \n",
       "\n",
       "[5782 rows x 6 columns]"
      ]
     },
     "execution_count": 9,
     "metadata": {},
     "output_type": "execute_result"
    }
   ],
   "source": [
    "movie_budgets_tn.sort_values('release_date')"
   ]
  },
  {
   "cell_type": "markdown",
   "metadata": {},
   "source": [
    "Taking the monetary data from object type to a numerical type"
   ]
  },
  {
   "cell_type": "code",
   "execution_count": 10,
   "metadata": {
    "ExecuteTime": {
     "end_time": "2022-06-06T09:28:18.075430Z",
     "start_time": "2022-06-06T09:28:18.058282Z"
    }
   },
   "outputs": [
    {
     "name": "stderr",
     "output_type": "stream",
     "text": [
      "/var/folders/cp/0jhbh9k954525pdl5rw436r00000gn/T/ipykernel_61655/937607267.py:3: FutureWarning: The default value of regex will change from True to False in a future version. In addition, single character regular expressions will *not* be treated as literal strings when regex=True.\n",
      "  movie_budgets_tn[cols].apply(lambda x :x.str.replace('$',\"\")\n"
     ]
    }
   ],
   "source": [
    "cols = ['production_budget', 'domestic_gross', 'worldwide_gross']\n",
    "movie_budgets_tn[cols] = (\n",
    "    movie_budgets_tn[cols].apply(lambda x :x.str.replace('$',\"\")\n",
    "        .str.replace(\",\",'').astype(float))\n",
    ")"
   ]
  },
  {
   "cell_type": "code",
   "execution_count": 11,
   "metadata": {
    "ExecuteTime": {
     "end_time": "2022-06-06T09:28:18.085635Z",
     "start_time": "2022-06-06T09:28:18.076294Z"
    }
   },
   "outputs": [
    {
     "name": "stdout",
     "output_type": "stream",
     "text": [
      "<class 'pandas.core.frame.DataFrame'>\n",
      "RangeIndex: 5782 entries, 0 to 5781\n",
      "Data columns (total 6 columns):\n",
      " #   Column             Non-Null Count  Dtype  \n",
      "---  ------             --------------  -----  \n",
      " 0   id                 5782 non-null   int64  \n",
      " 1   release_date       5782 non-null   object \n",
      " 2   movie              5782 non-null   object \n",
      " 3   production_budget  5782 non-null   float64\n",
      " 4   domestic_gross     5782 non-null   float64\n",
      " 5   worldwide_gross    5782 non-null   float64\n",
      "dtypes: float64(3), int64(1), object(2)\n",
      "memory usage: 271.2+ KB\n"
     ]
    }
   ],
   "source": [
    "movie_budgets_tn.info()"
   ]
  },
  {
   "cell_type": "markdown",
   "metadata": {},
   "source": [
    "Setting index = movie title"
   ]
  },
  {
   "cell_type": "code",
   "execution_count": 12,
   "metadata": {
    "ExecuteTime": {
     "end_time": "2022-06-06T09:28:18.089972Z",
     "start_time": "2022-06-06T09:28:18.086729Z"
    }
   },
   "outputs": [],
   "source": [
    "movie_budgets_tn = movie_budgets_tn.set_index('movie').drop('id', axis = 1)"
   ]
  },
  {
   "cell_type": "code",
   "execution_count": 13,
   "metadata": {
    "ExecuteTime": {
     "end_time": "2022-06-06T09:28:18.098259Z",
     "start_time": "2022-06-06T09:28:18.090988Z"
    }
   },
   "outputs": [
    {
     "data": {
      "text/html": [
       "<div>\n",
       "<style scoped>\n",
       "    .dataframe tbody tr th:only-of-type {\n",
       "        vertical-align: middle;\n",
       "    }\n",
       "\n",
       "    .dataframe tbody tr th {\n",
       "        vertical-align: top;\n",
       "    }\n",
       "\n",
       "    .dataframe thead th {\n",
       "        text-align: right;\n",
       "    }\n",
       "</style>\n",
       "<table border=\"1\" class=\"dataframe\">\n",
       "  <thead>\n",
       "    <tr style=\"text-align: right;\">\n",
       "      <th></th>\n",
       "      <th>release_date</th>\n",
       "      <th>production_budget</th>\n",
       "      <th>domestic_gross</th>\n",
       "      <th>worldwide_gross</th>\n",
       "    </tr>\n",
       "    <tr>\n",
       "      <th>movie</th>\n",
       "      <th></th>\n",
       "      <th></th>\n",
       "      <th></th>\n",
       "      <th></th>\n",
       "    </tr>\n",
       "  </thead>\n",
       "  <tbody>\n",
       "    <tr>\n",
       "      <th>Avatar</th>\n",
       "      <td>Dec 18, 2009</td>\n",
       "      <td>425000000.0</td>\n",
       "      <td>760507625.0</td>\n",
       "      <td>2.776345e+09</td>\n",
       "    </tr>\n",
       "    <tr>\n",
       "      <th>Pirates of the Caribbean: On Stranger Tides</th>\n",
       "      <td>May 20, 2011</td>\n",
       "      <td>410600000.0</td>\n",
       "      <td>241063875.0</td>\n",
       "      <td>1.045664e+09</td>\n",
       "    </tr>\n",
       "    <tr>\n",
       "      <th>Dark Phoenix</th>\n",
       "      <td>Jun 7, 2019</td>\n",
       "      <td>350000000.0</td>\n",
       "      <td>42762350.0</td>\n",
       "      <td>1.497624e+08</td>\n",
       "    </tr>\n",
       "    <tr>\n",
       "      <th>Avengers: Age of Ultron</th>\n",
       "      <td>May 1, 2015</td>\n",
       "      <td>330600000.0</td>\n",
       "      <td>459005868.0</td>\n",
       "      <td>1.403014e+09</td>\n",
       "    </tr>\n",
       "    <tr>\n",
       "      <th>Star Wars Ep. VIII: The Last Jedi</th>\n",
       "      <td>Dec 15, 2017</td>\n",
       "      <td>317000000.0</td>\n",
       "      <td>620181382.0</td>\n",
       "      <td>1.316722e+09</td>\n",
       "    </tr>\n",
       "  </tbody>\n",
       "</table>\n",
       "</div>"
      ],
      "text/plain": [
       "                                             release_date  production_budget  \\\n",
       "movie                                                                          \n",
       "Avatar                                       Dec 18, 2009        425000000.0   \n",
       "Pirates of the Caribbean: On Stranger Tides  May 20, 2011        410600000.0   \n",
       "Dark Phoenix                                  Jun 7, 2019        350000000.0   \n",
       "Avengers: Age of Ultron                       May 1, 2015        330600000.0   \n",
       "Star Wars Ep. VIII: The Last Jedi            Dec 15, 2017        317000000.0   \n",
       "\n",
       "                                             domestic_gross  worldwide_gross  \n",
       "movie                                                                         \n",
       "Avatar                                          760507625.0     2.776345e+09  \n",
       "Pirates of the Caribbean: On Stranger Tides     241063875.0     1.045664e+09  \n",
       "Dark Phoenix                                     42762350.0     1.497624e+08  \n",
       "Avengers: Age of Ultron                         459005868.0     1.403014e+09  \n",
       "Star Wars Ep. VIII: The Last Jedi               620181382.0     1.316722e+09  "
      ]
     },
     "execution_count": 13,
     "metadata": {},
     "output_type": "execute_result"
    }
   ],
   "source": [
    "movie_budgets_tn.head()"
   ]
  },
  {
   "cell_type": "markdown",
   "metadata": {},
   "source": [
    "Utilizing the title as the index"
   ]
  },
  {
   "cell_type": "code",
   "execution_count": 14,
   "metadata": {
    "ExecuteTime": {
     "end_time": "2022-06-06T09:28:18.101996Z",
     "start_time": "2022-06-06T09:28:18.099569Z"
    }
   },
   "outputs": [],
   "source": [
    "movie_budgets_bom.set_index('title', inplace = True)"
   ]
  },
  {
   "cell_type": "code",
   "execution_count": 15,
   "metadata": {
    "ExecuteTime": {
     "end_time": "2022-06-06T09:28:18.108025Z",
     "start_time": "2022-06-06T09:28:18.102887Z"
    }
   },
   "outputs": [
    {
     "data": {
      "text/html": [
       "<div>\n",
       "<style scoped>\n",
       "    .dataframe tbody tr th:only-of-type {\n",
       "        vertical-align: middle;\n",
       "    }\n",
       "\n",
       "    .dataframe tbody tr th {\n",
       "        vertical-align: top;\n",
       "    }\n",
       "\n",
       "    .dataframe thead th {\n",
       "        text-align: right;\n",
       "    }\n",
       "</style>\n",
       "<table border=\"1\" class=\"dataframe\">\n",
       "  <thead>\n",
       "    <tr style=\"text-align: right;\">\n",
       "      <th></th>\n",
       "      <th>studio</th>\n",
       "      <th>domestic_gross</th>\n",
       "      <th>foreign_gross</th>\n",
       "      <th>year</th>\n",
       "    </tr>\n",
       "    <tr>\n",
       "      <th>title</th>\n",
       "      <th></th>\n",
       "      <th></th>\n",
       "      <th></th>\n",
       "      <th></th>\n",
       "    </tr>\n",
       "  </thead>\n",
       "  <tbody>\n",
       "    <tr>\n",
       "      <th>Toy Story 3</th>\n",
       "      <td>BV</td>\n",
       "      <td>415000000.0</td>\n",
       "      <td>652000000</td>\n",
       "      <td>2010</td>\n",
       "    </tr>\n",
       "    <tr>\n",
       "      <th>Alice in Wonderland (2010)</th>\n",
       "      <td>BV</td>\n",
       "      <td>334200000.0</td>\n",
       "      <td>691300000</td>\n",
       "      <td>2010</td>\n",
       "    </tr>\n",
       "    <tr>\n",
       "      <th>Harry Potter and the Deathly Hallows Part 1</th>\n",
       "      <td>WB</td>\n",
       "      <td>296000000.0</td>\n",
       "      <td>664300000</td>\n",
       "      <td>2010</td>\n",
       "    </tr>\n",
       "    <tr>\n",
       "      <th>Inception</th>\n",
       "      <td>WB</td>\n",
       "      <td>292600000.0</td>\n",
       "      <td>535700000</td>\n",
       "      <td>2010</td>\n",
       "    </tr>\n",
       "    <tr>\n",
       "      <th>Shrek Forever After</th>\n",
       "      <td>P/DW</td>\n",
       "      <td>238700000.0</td>\n",
       "      <td>513900000</td>\n",
       "      <td>2010</td>\n",
       "    </tr>\n",
       "  </tbody>\n",
       "</table>\n",
       "</div>"
      ],
      "text/plain": [
       "                                            studio  domestic_gross  \\\n",
       "title                                                                \n",
       "Toy Story 3                                     BV     415000000.0   \n",
       "Alice in Wonderland (2010)                      BV     334200000.0   \n",
       "Harry Potter and the Deathly Hallows Part 1     WB     296000000.0   \n",
       "Inception                                       WB     292600000.0   \n",
       "Shrek Forever After                           P/DW     238700000.0   \n",
       "\n",
       "                                            foreign_gross  year  \n",
       "title                                                            \n",
       "Toy Story 3                                     652000000  2010  \n",
       "Alice in Wonderland (2010)                      691300000  2010  \n",
       "Harry Potter and the Deathly Hallows Part 1     664300000  2010  \n",
       "Inception                                       535700000  2010  \n",
       "Shrek Forever After                             513900000  2010  "
      ]
     },
     "execution_count": 15,
     "metadata": {},
     "output_type": "execute_result"
    }
   ],
   "source": [
    "movie_budgets_bom.head()"
   ]
  },
  {
   "cell_type": "markdown",
   "metadata": {
    "ExecuteTime": {
     "end_time": "2022-05-23T11:11:17.117456Z",
     "start_time": "2022-05-23T11:11:17.111394Z"
    }
   },
   "source": [
    "Creating a profit and ROI column to perform comparison"
   ]
  },
  {
   "cell_type": "code",
   "execution_count": 16,
   "metadata": {
    "ExecuteTime": {
     "end_time": "2022-06-06T09:28:18.115063Z",
     "start_time": "2022-06-06T09:28:18.108862Z"
    }
   },
   "outputs": [
    {
     "data": {
      "text/html": [
       "<div>\n",
       "<style scoped>\n",
       "    .dataframe tbody tr th:only-of-type {\n",
       "        vertical-align: middle;\n",
       "    }\n",
       "\n",
       "    .dataframe tbody tr th {\n",
       "        vertical-align: top;\n",
       "    }\n",
       "\n",
       "    .dataframe thead th {\n",
       "        text-align: right;\n",
       "    }\n",
       "</style>\n",
       "<table border=\"1\" class=\"dataframe\">\n",
       "  <thead>\n",
       "    <tr style=\"text-align: right;\">\n",
       "      <th></th>\n",
       "      <th>release_date</th>\n",
       "      <th>production_budget</th>\n",
       "      <th>domestic_gross</th>\n",
       "      <th>worldwide_gross</th>\n",
       "    </tr>\n",
       "    <tr>\n",
       "      <th>movie</th>\n",
       "      <th></th>\n",
       "      <th></th>\n",
       "      <th></th>\n",
       "      <th></th>\n",
       "    </tr>\n",
       "  </thead>\n",
       "  <tbody>\n",
       "    <tr>\n",
       "      <th>Avatar</th>\n",
       "      <td>Dec 18, 2009</td>\n",
       "      <td>425000000.0</td>\n",
       "      <td>760507625.0</td>\n",
       "      <td>2.776345e+09</td>\n",
       "    </tr>\n",
       "    <tr>\n",
       "      <th>Pirates of the Caribbean: On Stranger Tides</th>\n",
       "      <td>May 20, 2011</td>\n",
       "      <td>410600000.0</td>\n",
       "      <td>241063875.0</td>\n",
       "      <td>1.045664e+09</td>\n",
       "    </tr>\n",
       "    <tr>\n",
       "      <th>Dark Phoenix</th>\n",
       "      <td>Jun 7, 2019</td>\n",
       "      <td>350000000.0</td>\n",
       "      <td>42762350.0</td>\n",
       "      <td>1.497624e+08</td>\n",
       "    </tr>\n",
       "    <tr>\n",
       "      <th>Avengers: Age of Ultron</th>\n",
       "      <td>May 1, 2015</td>\n",
       "      <td>330600000.0</td>\n",
       "      <td>459005868.0</td>\n",
       "      <td>1.403014e+09</td>\n",
       "    </tr>\n",
       "    <tr>\n",
       "      <th>Star Wars Ep. VIII: The Last Jedi</th>\n",
       "      <td>Dec 15, 2017</td>\n",
       "      <td>317000000.0</td>\n",
       "      <td>620181382.0</td>\n",
       "      <td>1.316722e+09</td>\n",
       "    </tr>\n",
       "  </tbody>\n",
       "</table>\n",
       "</div>"
      ],
      "text/plain": [
       "                                             release_date  production_budget  \\\n",
       "movie                                                                          \n",
       "Avatar                                       Dec 18, 2009        425000000.0   \n",
       "Pirates of the Caribbean: On Stranger Tides  May 20, 2011        410600000.0   \n",
       "Dark Phoenix                                  Jun 7, 2019        350000000.0   \n",
       "Avengers: Age of Ultron                       May 1, 2015        330600000.0   \n",
       "Star Wars Ep. VIII: The Last Jedi            Dec 15, 2017        317000000.0   \n",
       "\n",
       "                                             domestic_gross  worldwide_gross  \n",
       "movie                                                                         \n",
       "Avatar                                          760507625.0     2.776345e+09  \n",
       "Pirates of the Caribbean: On Stranger Tides     241063875.0     1.045664e+09  \n",
       "Dark Phoenix                                     42762350.0     1.497624e+08  \n",
       "Avengers: Age of Ultron                         459005868.0     1.403014e+09  \n",
       "Star Wars Ep. VIII: The Last Jedi               620181382.0     1.316722e+09  "
      ]
     },
     "execution_count": 16,
     "metadata": {},
     "output_type": "execute_result"
    }
   ],
   "source": [
    "movie_budgets_tn.head()"
   ]
  },
  {
   "cell_type": "code",
   "execution_count": 17,
   "metadata": {
    "ExecuteTime": {
     "end_time": "2022-06-06T09:28:18.120390Z",
     "start_time": "2022-06-06T09:28:18.117195Z"
    }
   },
   "outputs": [],
   "source": [
    "movie_budgets_tn['profit']=(\n",
    "    (movie_budgets_tn['worldwide_gross']+movie_budgets_tn['domestic_gross'])\n",
    "    -movie_budgets_tn['production_budget']\n",
    ")"
   ]
  },
  {
   "cell_type": "code",
   "execution_count": 18,
   "metadata": {
    "ExecuteTime": {
     "end_time": "2022-06-06T09:28:18.130768Z",
     "start_time": "2022-06-06T09:28:18.121361Z"
    }
   },
   "outputs": [
    {
     "data": {
      "text/html": [
       "<div>\n",
       "<style scoped>\n",
       "    .dataframe tbody tr th:only-of-type {\n",
       "        vertical-align: middle;\n",
       "    }\n",
       "\n",
       "    .dataframe tbody tr th {\n",
       "        vertical-align: top;\n",
       "    }\n",
       "\n",
       "    .dataframe thead th {\n",
       "        text-align: right;\n",
       "    }\n",
       "</style>\n",
       "<table border=\"1\" class=\"dataframe\">\n",
       "  <thead>\n",
       "    <tr style=\"text-align: right;\">\n",
       "      <th></th>\n",
       "      <th>release_date</th>\n",
       "      <th>production_budget</th>\n",
       "      <th>domestic_gross</th>\n",
       "      <th>worldwide_gross</th>\n",
       "      <th>profit</th>\n",
       "    </tr>\n",
       "    <tr>\n",
       "      <th>movie</th>\n",
       "      <th></th>\n",
       "      <th></th>\n",
       "      <th></th>\n",
       "      <th></th>\n",
       "      <th></th>\n",
       "    </tr>\n",
       "  </thead>\n",
       "  <tbody>\n",
       "    <tr>\n",
       "      <th>Avatar</th>\n",
       "      <td>Dec 18, 2009</td>\n",
       "      <td>425000000.0</td>\n",
       "      <td>760507625.0</td>\n",
       "      <td>2.776345e+09</td>\n",
       "      <td>3.111853e+09</td>\n",
       "    </tr>\n",
       "    <tr>\n",
       "      <th>Star Wars Ep. VII: The Force Awakens</th>\n",
       "      <td>Dec 18, 2015</td>\n",
       "      <td>306000000.0</td>\n",
       "      <td>936662225.0</td>\n",
       "      <td>2.053311e+09</td>\n",
       "      <td>2.683973e+09</td>\n",
       "    </tr>\n",
       "    <tr>\n",
       "      <th>Titanic</th>\n",
       "      <td>Dec 19, 1997</td>\n",
       "      <td>200000000.0</td>\n",
       "      <td>659363944.0</td>\n",
       "      <td>2.208208e+09</td>\n",
       "      <td>2.667572e+09</td>\n",
       "    </tr>\n",
       "    <tr>\n",
       "      <th>Avengers: Infinity War</th>\n",
       "      <td>Apr 27, 2018</td>\n",
       "      <td>300000000.0</td>\n",
       "      <td>678815482.0</td>\n",
       "      <td>2.048134e+09</td>\n",
       "      <td>2.426950e+09</td>\n",
       "    </tr>\n",
       "    <tr>\n",
       "      <th>Jurassic World</th>\n",
       "      <td>Jun 12, 2015</td>\n",
       "      <td>215000000.0</td>\n",
       "      <td>652270625.0</td>\n",
       "      <td>1.648855e+09</td>\n",
       "      <td>2.086125e+09</td>\n",
       "    </tr>\n",
       "    <tr>\n",
       "      <th>...</th>\n",
       "      <td>...</td>\n",
       "      <td>...</td>\n",
       "      <td>...</td>\n",
       "      <td>...</td>\n",
       "      <td>...</td>\n",
       "    </tr>\n",
       "    <tr>\n",
       "      <th>Army of the Dead</th>\n",
       "      <td>Dec 31, 2019</td>\n",
       "      <td>90000000.0</td>\n",
       "      <td>0.0</td>\n",
       "      <td>0.000000e+00</td>\n",
       "      <td>-9.000000e+07</td>\n",
       "    </tr>\n",
       "    <tr>\n",
       "      <th>Bright</th>\n",
       "      <td>Dec 13, 2017</td>\n",
       "      <td>90000000.0</td>\n",
       "      <td>0.0</td>\n",
       "      <td>0.000000e+00</td>\n",
       "      <td>-9.000000e+07</td>\n",
       "    </tr>\n",
       "    <tr>\n",
       "      <th>Men in Black: International</th>\n",
       "      <td>Jun 14, 2019</td>\n",
       "      <td>110000000.0</td>\n",
       "      <td>3100000.0</td>\n",
       "      <td>3.100000e+06</td>\n",
       "      <td>-1.038000e+08</td>\n",
       "    </tr>\n",
       "    <tr>\n",
       "      <th>Moonfall</th>\n",
       "      <td>Dec 31, 2020</td>\n",
       "      <td>150000000.0</td>\n",
       "      <td>0.0</td>\n",
       "      <td>0.000000e+00</td>\n",
       "      <td>-1.500000e+08</td>\n",
       "    </tr>\n",
       "    <tr>\n",
       "      <th>Dark Phoenix</th>\n",
       "      <td>Jun 7, 2019</td>\n",
       "      <td>350000000.0</td>\n",
       "      <td>42762350.0</td>\n",
       "      <td>1.497624e+08</td>\n",
       "      <td>-1.574753e+08</td>\n",
       "    </tr>\n",
       "  </tbody>\n",
       "</table>\n",
       "<p>5782 rows × 5 columns</p>\n",
       "</div>"
      ],
      "text/plain": [
       "                                      release_date  production_budget  \\\n",
       "movie                                                                   \n",
       "Avatar                                Dec 18, 2009        425000000.0   \n",
       "Star Wars Ep. VII: The Force Awakens  Dec 18, 2015        306000000.0   \n",
       "Titanic                               Dec 19, 1997        200000000.0   \n",
       "Avengers: Infinity War                Apr 27, 2018        300000000.0   \n",
       "Jurassic World                        Jun 12, 2015        215000000.0   \n",
       "...                                            ...                ...   \n",
       "Army of the Dead                      Dec 31, 2019         90000000.0   \n",
       "Bright                                Dec 13, 2017         90000000.0   \n",
       "Men in Black: International           Jun 14, 2019        110000000.0   \n",
       "Moonfall                              Dec 31, 2020        150000000.0   \n",
       "Dark Phoenix                           Jun 7, 2019        350000000.0   \n",
       "\n",
       "                                      domestic_gross  worldwide_gross  \\\n",
       "movie                                                                   \n",
       "Avatar                                   760507625.0     2.776345e+09   \n",
       "Star Wars Ep. VII: The Force Awakens     936662225.0     2.053311e+09   \n",
       "Titanic                                  659363944.0     2.208208e+09   \n",
       "Avengers: Infinity War                   678815482.0     2.048134e+09   \n",
       "Jurassic World                           652270625.0     1.648855e+09   \n",
       "...                                              ...              ...   \n",
       "Army of the Dead                                 0.0     0.000000e+00   \n",
       "Bright                                           0.0     0.000000e+00   \n",
       "Men in Black: International                3100000.0     3.100000e+06   \n",
       "Moonfall                                         0.0     0.000000e+00   \n",
       "Dark Phoenix                              42762350.0     1.497624e+08   \n",
       "\n",
       "                                            profit  \n",
       "movie                                               \n",
       "Avatar                                3.111853e+09  \n",
       "Star Wars Ep. VII: The Force Awakens  2.683973e+09  \n",
       "Titanic                               2.667572e+09  \n",
       "Avengers: Infinity War                2.426950e+09  \n",
       "Jurassic World                        2.086125e+09  \n",
       "...                                            ...  \n",
       "Army of the Dead                     -9.000000e+07  \n",
       "Bright                               -9.000000e+07  \n",
       "Men in Black: International          -1.038000e+08  \n",
       "Moonfall                             -1.500000e+08  \n",
       "Dark Phoenix                         -1.574753e+08  \n",
       "\n",
       "[5782 rows x 5 columns]"
      ]
     },
     "execution_count": 18,
     "metadata": {},
     "output_type": "execute_result"
    }
   ],
   "source": [
    "movie_budgets_tn.sort_values('profit', ascending = False)"
   ]
  },
  {
   "cell_type": "code",
   "execution_count": 19,
   "metadata": {
    "ExecuteTime": {
     "end_time": "2022-06-06T09:28:18.142498Z",
     "start_time": "2022-06-06T09:28:18.131752Z"
    }
   },
   "outputs": [
    {
     "data": {
      "text/html": [
       "<div>\n",
       "<style scoped>\n",
       "    .dataframe tbody tr th:only-of-type {\n",
       "        vertical-align: middle;\n",
       "    }\n",
       "\n",
       "    .dataframe tbody tr th {\n",
       "        vertical-align: top;\n",
       "    }\n",
       "\n",
       "    .dataframe thead th {\n",
       "        text-align: right;\n",
       "    }\n",
       "</style>\n",
       "<table border=\"1\" class=\"dataframe\">\n",
       "  <thead>\n",
       "    <tr style=\"text-align: right;\">\n",
       "      <th></th>\n",
       "      <th>release_date</th>\n",
       "      <th>production_budget</th>\n",
       "      <th>domestic_gross</th>\n",
       "      <th>worldwide_gross</th>\n",
       "      <th>profit</th>\n",
       "      <th>roi</th>\n",
       "    </tr>\n",
       "    <tr>\n",
       "      <th>movie</th>\n",
       "      <th></th>\n",
       "      <th></th>\n",
       "      <th></th>\n",
       "      <th></th>\n",
       "      <th></th>\n",
       "      <th></th>\n",
       "    </tr>\n",
       "  </thead>\n",
       "  <tbody>\n",
       "    <tr>\n",
       "      <th>Avatar</th>\n",
       "      <td>Dec 18, 2009</td>\n",
       "      <td>425000000.0</td>\n",
       "      <td>760507625.0</td>\n",
       "      <td>2.776345e+09</td>\n",
       "      <td>3.111853e+09</td>\n",
       "      <td>7.322007</td>\n",
       "    </tr>\n",
       "    <tr>\n",
       "      <th>Pirates of the Caribbean: On Stranger Tides</th>\n",
       "      <td>May 20, 2011</td>\n",
       "      <td>410600000.0</td>\n",
       "      <td>241063875.0</td>\n",
       "      <td>1.045664e+09</td>\n",
       "      <td>8.761278e+08</td>\n",
       "      <td>2.133774</td>\n",
       "    </tr>\n",
       "    <tr>\n",
       "      <th>Dark Phoenix</th>\n",
       "      <td>Jun 7, 2019</td>\n",
       "      <td>350000000.0</td>\n",
       "      <td>42762350.0</td>\n",
       "      <td>1.497624e+08</td>\n",
       "      <td>-1.574753e+08</td>\n",
       "      <td>-0.449929</td>\n",
       "    </tr>\n",
       "    <tr>\n",
       "      <th>Avengers: Age of Ultron</th>\n",
       "      <td>May 1, 2015</td>\n",
       "      <td>330600000.0</td>\n",
       "      <td>459005868.0</td>\n",
       "      <td>1.403014e+09</td>\n",
       "      <td>1.531420e+09</td>\n",
       "      <td>4.632244</td>\n",
       "    </tr>\n",
       "    <tr>\n",
       "      <th>Star Wars Ep. VIII: The Last Jedi</th>\n",
       "      <td>Dec 15, 2017</td>\n",
       "      <td>317000000.0</td>\n",
       "      <td>620181382.0</td>\n",
       "      <td>1.316722e+09</td>\n",
       "      <td>1.619903e+09</td>\n",
       "      <td>5.110105</td>\n",
       "    </tr>\n",
       "    <tr>\n",
       "      <th>...</th>\n",
       "      <td>...</td>\n",
       "      <td>...</td>\n",
       "      <td>...</td>\n",
       "      <td>...</td>\n",
       "      <td>...</td>\n",
       "      <td>...</td>\n",
       "    </tr>\n",
       "    <tr>\n",
       "      <th>Red 11</th>\n",
       "      <td>Dec 31, 2018</td>\n",
       "      <td>7000.0</td>\n",
       "      <td>0.0</td>\n",
       "      <td>0.000000e+00</td>\n",
       "      <td>-7.000000e+03</td>\n",
       "      <td>-1.000000</td>\n",
       "    </tr>\n",
       "    <tr>\n",
       "      <th>Following</th>\n",
       "      <td>Apr 2, 1999</td>\n",
       "      <td>6000.0</td>\n",
       "      <td>48482.0</td>\n",
       "      <td>2.404950e+05</td>\n",
       "      <td>2.829770e+05</td>\n",
       "      <td>47.162833</td>\n",
       "    </tr>\n",
       "    <tr>\n",
       "      <th>Return to the Land of Wonders</th>\n",
       "      <td>Jul 13, 2005</td>\n",
       "      <td>5000.0</td>\n",
       "      <td>1338.0</td>\n",
       "      <td>1.338000e+03</td>\n",
       "      <td>-2.324000e+03</td>\n",
       "      <td>-0.464800</td>\n",
       "    </tr>\n",
       "    <tr>\n",
       "      <th>A Plague So Pleasant</th>\n",
       "      <td>Sep 29, 2015</td>\n",
       "      <td>1400.0</td>\n",
       "      <td>0.0</td>\n",
       "      <td>0.000000e+00</td>\n",
       "      <td>-1.400000e+03</td>\n",
       "      <td>-1.000000</td>\n",
       "    </tr>\n",
       "    <tr>\n",
       "      <th>My Date With Drew</th>\n",
       "      <td>Aug 5, 2005</td>\n",
       "      <td>1100.0</td>\n",
       "      <td>181041.0</td>\n",
       "      <td>1.810410e+05</td>\n",
       "      <td>3.609820e+05</td>\n",
       "      <td>328.165455</td>\n",
       "    </tr>\n",
       "  </tbody>\n",
       "</table>\n",
       "<p>5782 rows × 6 columns</p>\n",
       "</div>"
      ],
      "text/plain": [
       "                                             release_date  production_budget  \\\n",
       "movie                                                                          \n",
       "Avatar                                       Dec 18, 2009        425000000.0   \n",
       "Pirates of the Caribbean: On Stranger Tides  May 20, 2011        410600000.0   \n",
       "Dark Phoenix                                  Jun 7, 2019        350000000.0   \n",
       "Avengers: Age of Ultron                       May 1, 2015        330600000.0   \n",
       "Star Wars Ep. VIII: The Last Jedi            Dec 15, 2017        317000000.0   \n",
       "...                                                   ...                ...   \n",
       "Red 11                                       Dec 31, 2018             7000.0   \n",
       "Following                                     Apr 2, 1999             6000.0   \n",
       "Return to the Land of Wonders                Jul 13, 2005             5000.0   \n",
       "A Plague So Pleasant                         Sep 29, 2015             1400.0   \n",
       "My Date With Drew                             Aug 5, 2005             1100.0   \n",
       "\n",
       "                                             domestic_gross  worldwide_gross  \\\n",
       "movie                                                                          \n",
       "Avatar                                          760507625.0     2.776345e+09   \n",
       "Pirates of the Caribbean: On Stranger Tides     241063875.0     1.045664e+09   \n",
       "Dark Phoenix                                     42762350.0     1.497624e+08   \n",
       "Avengers: Age of Ultron                         459005868.0     1.403014e+09   \n",
       "Star Wars Ep. VIII: The Last Jedi               620181382.0     1.316722e+09   \n",
       "...                                                     ...              ...   \n",
       "Red 11                                                  0.0     0.000000e+00   \n",
       "Following                                           48482.0     2.404950e+05   \n",
       "Return to the Land of Wonders                        1338.0     1.338000e+03   \n",
       "A Plague So Pleasant                                    0.0     0.000000e+00   \n",
       "My Date With Drew                                  181041.0     1.810410e+05   \n",
       "\n",
       "                                                   profit         roi  \n",
       "movie                                                                  \n",
       "Avatar                                       3.111853e+09    7.322007  \n",
       "Pirates of the Caribbean: On Stranger Tides  8.761278e+08    2.133774  \n",
       "Dark Phoenix                                -1.574753e+08   -0.449929  \n",
       "Avengers: Age of Ultron                      1.531420e+09    4.632244  \n",
       "Star Wars Ep. VIII: The Last Jedi            1.619903e+09    5.110105  \n",
       "...                                                   ...         ...  \n",
       "Red 11                                      -7.000000e+03   -1.000000  \n",
       "Following                                    2.829770e+05   47.162833  \n",
       "Return to the Land of Wonders               -2.324000e+03   -0.464800  \n",
       "A Plague So Pleasant                        -1.400000e+03   -1.000000  \n",
       "My Date With Drew                            3.609820e+05  328.165455  \n",
       "\n",
       "[5782 rows x 6 columns]"
      ]
     },
     "execution_count": 19,
     "metadata": {},
     "output_type": "execute_result"
    }
   ],
   "source": [
    "movie_budgets_tn['roi']=(\n",
    "    movie_budgets_tn['profit']/movie_budgets_tn['production_budget']\n",
    ")\n",
    "movie_budgets_tn"
   ]
  },
  {
   "cell_type": "markdown",
   "metadata": {},
   "source": [
    "Restricting the data to the Q1-Q3 interquartile range, because microsoft will not release a low budget film,\\\n",
    "but also will not be releasing a high budget film as their first film"
   ]
  },
  {
   "cell_type": "code",
   "execution_count": 20,
   "metadata": {
    "ExecuteTime": {
     "end_time": "2022-06-06T09:28:18.157018Z",
     "start_time": "2022-06-06T09:28:18.144102Z"
    }
   },
   "outputs": [
    {
     "data": {
      "text/html": [
       "<div>\n",
       "<style scoped>\n",
       "    .dataframe tbody tr th:only-of-type {\n",
       "        vertical-align: middle;\n",
       "    }\n",
       "\n",
       "    .dataframe tbody tr th {\n",
       "        vertical-align: top;\n",
       "    }\n",
       "\n",
       "    .dataframe thead th {\n",
       "        text-align: right;\n",
       "    }\n",
       "</style>\n",
       "<table border=\"1\" class=\"dataframe\">\n",
       "  <thead>\n",
       "    <tr style=\"text-align: right;\">\n",
       "      <th></th>\n",
       "      <th>production_budget</th>\n",
       "      <th>domestic_gross</th>\n",
       "      <th>worldwide_gross</th>\n",
       "      <th>profit</th>\n",
       "      <th>roi</th>\n",
       "    </tr>\n",
       "  </thead>\n",
       "  <tbody>\n",
       "    <tr>\n",
       "      <th>count</th>\n",
       "      <td>5.782000e+03</td>\n",
       "      <td>5.782000e+03</td>\n",
       "      <td>5.782000e+03</td>\n",
       "      <td>5.782000e+03</td>\n",
       "      <td>5782.000000</td>\n",
       "    </tr>\n",
       "    <tr>\n",
       "      <th>mean</th>\n",
       "      <td>3.158776e+07</td>\n",
       "      <td>4.187333e+07</td>\n",
       "      <td>9.148746e+07</td>\n",
       "      <td>1.017730e+08</td>\n",
       "      <td>6.783702</td>\n",
       "    </tr>\n",
       "    <tr>\n",
       "      <th>std</th>\n",
       "      <td>4.181208e+07</td>\n",
       "      <td>6.824060e+07</td>\n",
       "      <td>1.747200e+08</td>\n",
       "      <td>2.108880e+08</td>\n",
       "      <td>54.922090</td>\n",
       "    </tr>\n",
       "    <tr>\n",
       "      <th>min</th>\n",
       "      <td>1.100000e+03</td>\n",
       "      <td>0.000000e+00</td>\n",
       "      <td>0.000000e+00</td>\n",
       "      <td>-1.574753e+08</td>\n",
       "      <td>-1.000000</td>\n",
       "    </tr>\n",
       "    <tr>\n",
       "      <th>25%</th>\n",
       "      <td>5.000000e+06</td>\n",
       "      <td>1.429534e+06</td>\n",
       "      <td>4.125415e+06</td>\n",
       "      <td>-3.098222e+05</td>\n",
       "      <td>-0.202878</td>\n",
       "    </tr>\n",
       "    <tr>\n",
       "      <th>50%</th>\n",
       "      <td>1.700000e+07</td>\n",
       "      <td>1.722594e+07</td>\n",
       "      <td>2.798445e+07</td>\n",
       "      <td>2.499538e+07</td>\n",
       "      <td>1.659315</td>\n",
       "    </tr>\n",
       "    <tr>\n",
       "      <th>75%</th>\n",
       "      <td>4.000000e+07</td>\n",
       "      <td>5.234866e+07</td>\n",
       "      <td>9.764584e+07</td>\n",
       "      <td>1.111648e+08</td>\n",
       "      <td>4.893170</td>\n",
       "    </tr>\n",
       "    <tr>\n",
       "      <th>max</th>\n",
       "      <td>4.250000e+08</td>\n",
       "      <td>9.366622e+08</td>\n",
       "      <td>2.776345e+09</td>\n",
       "      <td>3.111853e+09</td>\n",
       "      <td>3599.000000</td>\n",
       "    </tr>\n",
       "  </tbody>\n",
       "</table>\n",
       "</div>"
      ],
      "text/plain": [
       "       production_budget  domestic_gross  worldwide_gross        profit  \\\n",
       "count       5.782000e+03    5.782000e+03     5.782000e+03  5.782000e+03   \n",
       "mean        3.158776e+07    4.187333e+07     9.148746e+07  1.017730e+08   \n",
       "std         4.181208e+07    6.824060e+07     1.747200e+08  2.108880e+08   \n",
       "min         1.100000e+03    0.000000e+00     0.000000e+00 -1.574753e+08   \n",
       "25%         5.000000e+06    1.429534e+06     4.125415e+06 -3.098222e+05   \n",
       "50%         1.700000e+07    1.722594e+07     2.798445e+07  2.499538e+07   \n",
       "75%         4.000000e+07    5.234866e+07     9.764584e+07  1.111648e+08   \n",
       "max         4.250000e+08    9.366622e+08     2.776345e+09  3.111853e+09   \n",
       "\n",
       "               roi  \n",
       "count  5782.000000  \n",
       "mean      6.783702  \n",
       "std      54.922090  \n",
       "min      -1.000000  \n",
       "25%      -0.202878  \n",
       "50%       1.659315  \n",
       "75%       4.893170  \n",
       "max    3599.000000  "
      ]
     },
     "execution_count": 20,
     "metadata": {},
     "output_type": "execute_result"
    }
   ],
   "source": [
    "movie_budgets_tn.describe()"
   ]
  },
  {
   "cell_type": "code",
   "execution_count": 21,
   "metadata": {
    "ExecuteTime": {
     "end_time": "2022-06-06T09:28:18.163356Z",
     "start_time": "2022-06-06T09:28:18.157884Z"
    }
   },
   "outputs": [
    {
     "data": {
      "text/plain": [
       "40000000.0"
      ]
     },
     "execution_count": 21,
     "metadata": {},
     "output_type": "execute_result"
    }
   ],
   "source": [
    "pb_q1 = movie_budgets_tn['production_budget'].quantile(0.25)\n",
    "pb_q3 = movie_budgets_tn['production_budget'].quantile(0.75)\n",
    "pb_q3\n"
   ]
  },
  {
   "cell_type": "code",
   "execution_count": 22,
   "metadata": {
    "ExecuteTime": {
     "end_time": "2022-06-06T09:28:18.169485Z",
     "start_time": "2022-06-06T09:28:18.164867Z"
    }
   },
   "outputs": [],
   "source": [
    "movie_budgets_filtered_iqr =(\n",
    "    movie_budgets_tn.query('@pb_q1 <= production_budget <= @pb_q3')\n",
    ")"
   ]
  },
  {
   "cell_type": "code",
   "execution_count": 23,
   "metadata": {
    "ExecuteTime": {
     "end_time": "2022-06-06T09:28:18.179434Z",
     "start_time": "2022-06-06T09:28:18.170617Z"
    }
   },
   "outputs": [
    {
     "data": {
      "text/html": [
       "<div>\n",
       "<style scoped>\n",
       "    .dataframe tbody tr th:only-of-type {\n",
       "        vertical-align: middle;\n",
       "    }\n",
       "\n",
       "    .dataframe tbody tr th {\n",
       "        vertical-align: top;\n",
       "    }\n",
       "\n",
       "    .dataframe thead th {\n",
       "        text-align: right;\n",
       "    }\n",
       "</style>\n",
       "<table border=\"1\" class=\"dataframe\">\n",
       "  <thead>\n",
       "    <tr style=\"text-align: right;\">\n",
       "      <th></th>\n",
       "      <th>release_date</th>\n",
       "      <th>production_budget</th>\n",
       "      <th>domestic_gross</th>\n",
       "      <th>worldwide_gross</th>\n",
       "      <th>profit</th>\n",
       "      <th>roi</th>\n",
       "    </tr>\n",
       "    <tr>\n",
       "      <th>movie</th>\n",
       "      <th></th>\n",
       "      <th></th>\n",
       "      <th></th>\n",
       "      <th></th>\n",
       "      <th></th>\n",
       "      <th></th>\n",
       "    </tr>\n",
       "  </thead>\n",
       "  <tbody>\n",
       "    <tr>\n",
       "      <th>Running Forever</th>\n",
       "      <td>Oct 27, 2015</td>\n",
       "      <td>5000000.0</td>\n",
       "      <td>0.0</td>\n",
       "      <td>0.0</td>\n",
       "      <td>-5000000.0</td>\n",
       "      <td>-1.000000</td>\n",
       "    </tr>\n",
       "    <tr>\n",
       "      <th>Nighthawks</th>\n",
       "      <td>Apr 10, 1981</td>\n",
       "      <td>5000000.0</td>\n",
       "      <td>14600000.0</td>\n",
       "      <td>19600000.0</td>\n",
       "      <td>29200000.0</td>\n",
       "      <td>5.840000</td>\n",
       "    </tr>\n",
       "    <tr>\n",
       "      <th>Eve's Bayou</th>\n",
       "      <td>Nov 7, 1997</td>\n",
       "      <td>5000000.0</td>\n",
       "      <td>14843425.0</td>\n",
       "      <td>14843425.0</td>\n",
       "      <td>24686850.0</td>\n",
       "      <td>4.937370</td>\n",
       "    </tr>\n",
       "    <tr>\n",
       "      <th>The Egyptian</th>\n",
       "      <td>Aug 24, 1954</td>\n",
       "      <td>5000000.0</td>\n",
       "      <td>15000000.0</td>\n",
       "      <td>15000000.0</td>\n",
       "      <td>25000000.0</td>\n",
       "      <td>5.000000</td>\n",
       "    </tr>\n",
       "    <tr>\n",
       "      <th>Halloween: The Curse of Michael Myers</th>\n",
       "      <td>Sep 29, 1995</td>\n",
       "      <td>5000000.0</td>\n",
       "      <td>15126948.0</td>\n",
       "      <td>15126948.0</td>\n",
       "      <td>25253896.0</td>\n",
       "      <td>5.050779</td>\n",
       "    </tr>\n",
       "    <tr>\n",
       "      <th>...</th>\n",
       "      <td>...</td>\n",
       "      <td>...</td>\n",
       "      <td>...</td>\n",
       "      <td>...</td>\n",
       "      <td>...</td>\n",
       "      <td>...</td>\n",
       "    </tr>\n",
       "    <tr>\n",
       "      <th>The Other Boleyn Girl</th>\n",
       "      <td>Feb 29, 2008</td>\n",
       "      <td>40000000.0</td>\n",
       "      <td>26814957.0</td>\n",
       "      <td>78269970.0</td>\n",
       "      <td>65084927.0</td>\n",
       "      <td>1.627123</td>\n",
       "    </tr>\n",
       "    <tr>\n",
       "      <th>Resident Evil: The Final Chapter</th>\n",
       "      <td>Jan 27, 2017</td>\n",
       "      <td>40000000.0</td>\n",
       "      <td>26844692.0</td>\n",
       "      <td>314101190.0</td>\n",
       "      <td>300945882.0</td>\n",
       "      <td>7.523647</td>\n",
       "    </tr>\n",
       "    <tr>\n",
       "      <th>The Musketeer</th>\n",
       "      <td>Sep 7, 2001</td>\n",
       "      <td>40000000.0</td>\n",
       "      <td>27053815.0</td>\n",
       "      <td>27053815.0</td>\n",
       "      <td>14107630.0</td>\n",
       "      <td>0.352691</td>\n",
       "    </tr>\n",
       "    <tr>\n",
       "      <th>Quest for Camelot</th>\n",
       "      <td>May 15, 1998</td>\n",
       "      <td>40000000.0</td>\n",
       "      <td>22772500.0</td>\n",
       "      <td>38172500.0</td>\n",
       "      <td>20945000.0</td>\n",
       "      <td>0.523625</td>\n",
       "    </tr>\n",
       "    <tr>\n",
       "      <th>The Sixth Sense</th>\n",
       "      <td>Aug 6, 1999</td>\n",
       "      <td>40000000.0</td>\n",
       "      <td>293506292.0</td>\n",
       "      <td>672806292.0</td>\n",
       "      <td>926312584.0</td>\n",
       "      <td>23.157815</td>\n",
       "    </tr>\n",
       "  </tbody>\n",
       "</table>\n",
       "<p>3026 rows × 6 columns</p>\n",
       "</div>"
      ],
      "text/plain": [
       "                                       release_date  production_budget  \\\n",
       "movie                                                                    \n",
       "Running Forever                        Oct 27, 2015          5000000.0   \n",
       "Nighthawks                             Apr 10, 1981          5000000.0   \n",
       "Eve's Bayou                             Nov 7, 1997          5000000.0   \n",
       "The Egyptian                           Aug 24, 1954          5000000.0   \n",
       "Halloween: The Curse of Michael Myers  Sep 29, 1995          5000000.0   \n",
       "...                                             ...                ...   \n",
       "The Other Boleyn Girl                  Feb 29, 2008         40000000.0   \n",
       "Resident Evil: The Final Chapter       Jan 27, 2017         40000000.0   \n",
       "The Musketeer                           Sep 7, 2001         40000000.0   \n",
       "Quest for Camelot                      May 15, 1998         40000000.0   \n",
       "The Sixth Sense                         Aug 6, 1999         40000000.0   \n",
       "\n",
       "                                       domestic_gross  worldwide_gross  \\\n",
       "movie                                                                    \n",
       "Running Forever                                   0.0              0.0   \n",
       "Nighthawks                                 14600000.0       19600000.0   \n",
       "Eve's Bayou                                14843425.0       14843425.0   \n",
       "The Egyptian                               15000000.0       15000000.0   \n",
       "Halloween: The Curse of Michael Myers      15126948.0       15126948.0   \n",
       "...                                               ...              ...   \n",
       "The Other Boleyn Girl                      26814957.0       78269970.0   \n",
       "Resident Evil: The Final Chapter           26844692.0      314101190.0   \n",
       "The Musketeer                              27053815.0       27053815.0   \n",
       "Quest for Camelot                          22772500.0       38172500.0   \n",
       "The Sixth Sense                           293506292.0      672806292.0   \n",
       "\n",
       "                                            profit        roi  \n",
       "movie                                                          \n",
       "Running Forever                         -5000000.0  -1.000000  \n",
       "Nighthawks                              29200000.0   5.840000  \n",
       "Eve's Bayou                             24686850.0   4.937370  \n",
       "The Egyptian                            25000000.0   5.000000  \n",
       "Halloween: The Curse of Michael Myers   25253896.0   5.050779  \n",
       "...                                            ...        ...  \n",
       "The Other Boleyn Girl                   65084927.0   1.627123  \n",
       "Resident Evil: The Final Chapter       300945882.0   7.523647  \n",
       "The Musketeer                           14107630.0   0.352691  \n",
       "Quest for Camelot                       20945000.0   0.523625  \n",
       "The Sixth Sense                        926312584.0  23.157815  \n",
       "\n",
       "[3026 rows x 6 columns]"
      ]
     },
     "execution_count": 23,
     "metadata": {},
     "output_type": "execute_result"
    }
   ],
   "source": [
    "movie_budgets_filtered_iqr.sort_values('production_budget')"
   ]
  },
  {
   "cell_type": "code",
   "execution_count": 24,
   "metadata": {
    "ExecuteTime": {
     "end_time": "2022-06-06T09:28:18.188929Z",
     "start_time": "2022-06-06T09:28:18.180321Z"
    }
   },
   "outputs": [
    {
     "data": {
      "text/html": [
       "<div>\n",
       "<style scoped>\n",
       "    .dataframe tbody tr th:only-of-type {\n",
       "        vertical-align: middle;\n",
       "    }\n",
       "\n",
       "    .dataframe tbody tr th {\n",
       "        vertical-align: top;\n",
       "    }\n",
       "\n",
       "    .dataframe thead th {\n",
       "        text-align: right;\n",
       "    }\n",
       "</style>\n",
       "<table border=\"1\" class=\"dataframe\">\n",
       "  <thead>\n",
       "    <tr style=\"text-align: right;\">\n",
       "      <th></th>\n",
       "      <th>production_budget</th>\n",
       "      <th>domestic_gross</th>\n",
       "      <th>worldwide_gross</th>\n",
       "      <th>profit</th>\n",
       "      <th>roi</th>\n",
       "    </tr>\n",
       "    <tr>\n",
       "      <th>movie</th>\n",
       "      <th></th>\n",
       "      <th></th>\n",
       "      <th></th>\n",
       "      <th></th>\n",
       "      <th></th>\n",
       "    </tr>\n",
       "  </thead>\n",
       "  <tbody>\n",
       "    <tr>\n",
       "      <th>The Sixth Sense</th>\n",
       "      <td>40000000.0</td>\n",
       "      <td>293506292.0</td>\n",
       "      <td>672806292.0</td>\n",
       "      <td>926312584.0</td>\n",
       "      <td>23.157815</td>\n",
       "    </tr>\n",
       "    <tr>\n",
       "      <th>Wedding Crashers</th>\n",
       "      <td>40000000.0</td>\n",
       "      <td>209218368.0</td>\n",
       "      <td>283218368.0</td>\n",
       "      <td>452436736.0</td>\n",
       "      <td>11.310918</td>\n",
       "    </tr>\n",
       "    <tr>\n",
       "      <th>The Karate Kid</th>\n",
       "      <td>40000000.0</td>\n",
       "      <td>176591618.0</td>\n",
       "      <td>351774938.0</td>\n",
       "      <td>488366556.0</td>\n",
       "      <td>12.209164</td>\n",
       "    </tr>\n",
       "    <tr>\n",
       "      <th>Fifty Shades of Grey</th>\n",
       "      <td>40000000.0</td>\n",
       "      <td>166167230.0</td>\n",
       "      <td>570998101.0</td>\n",
       "      <td>697165331.0</td>\n",
       "      <td>17.429133</td>\n",
       "    </tr>\n",
       "    <tr>\n",
       "      <th>The Proposal</th>\n",
       "      <td>40000000.0</td>\n",
       "      <td>163958031.0</td>\n",
       "      <td>314709717.0</td>\n",
       "      <td>438667748.0</td>\n",
       "      <td>10.966694</td>\n",
       "    </tr>\n",
       "    <tr>\n",
       "      <th>...</th>\n",
       "      <td>...</td>\n",
       "      <td>...</td>\n",
       "      <td>...</td>\n",
       "      <td>...</td>\n",
       "      <td>...</td>\n",
       "    </tr>\n",
       "    <tr>\n",
       "      <th>Should've Been Romeo</th>\n",
       "      <td>5000000.0</td>\n",
       "      <td>0.0</td>\n",
       "      <td>0.0</td>\n",
       "      <td>-5000000.0</td>\n",
       "      <td>-1.000000</td>\n",
       "    </tr>\n",
       "    <tr>\n",
       "      <th>Aztec Warrior</th>\n",
       "      <td>5000000.0</td>\n",
       "      <td>0.0</td>\n",
       "      <td>0.0</td>\n",
       "      <td>-5000000.0</td>\n",
       "      <td>-1.000000</td>\n",
       "    </tr>\n",
       "    <tr>\n",
       "      <th>Navy SEAL vs. Zombies</th>\n",
       "      <td>5000000.0</td>\n",
       "      <td>0.0</td>\n",
       "      <td>0.0</td>\n",
       "      <td>-5000000.0</td>\n",
       "      <td>-1.000000</td>\n",
       "    </tr>\n",
       "    <tr>\n",
       "      <th>The Hatching</th>\n",
       "      <td>5000000.0</td>\n",
       "      <td>0.0</td>\n",
       "      <td>0.0</td>\n",
       "      <td>-5000000.0</td>\n",
       "      <td>-1.000000</td>\n",
       "    </tr>\n",
       "    <tr>\n",
       "      <th>Running Forever</th>\n",
       "      <td>5000000.0</td>\n",
       "      <td>0.0</td>\n",
       "      <td>0.0</td>\n",
       "      <td>-5000000.0</td>\n",
       "      <td>-1.000000</td>\n",
       "    </tr>\n",
       "  </tbody>\n",
       "</table>\n",
       "<p>3026 rows × 5 columns</p>\n",
       "</div>"
      ],
      "text/plain": [
       "                       production_budget  domestic_gross  worldwide_gross  \\\n",
       "movie                                                                       \n",
       "The Sixth Sense               40000000.0     293506292.0      672806292.0   \n",
       "Wedding Crashers              40000000.0     209218368.0      283218368.0   \n",
       "The Karate Kid                40000000.0     176591618.0      351774938.0   \n",
       "Fifty Shades of Grey          40000000.0     166167230.0      570998101.0   \n",
       "The Proposal                  40000000.0     163958031.0      314709717.0   \n",
       "...                                  ...             ...              ...   \n",
       "Should've Been Romeo           5000000.0             0.0              0.0   \n",
       "Aztec Warrior                  5000000.0             0.0              0.0   \n",
       "Navy SEAL vs. Zombies          5000000.0             0.0              0.0   \n",
       "The Hatching                   5000000.0             0.0              0.0   \n",
       "Running Forever                5000000.0             0.0              0.0   \n",
       "\n",
       "                            profit        roi  \n",
       "movie                                          \n",
       "The Sixth Sense        926312584.0  23.157815  \n",
       "Wedding Crashers       452436736.0  11.310918  \n",
       "The Karate Kid         488366556.0  12.209164  \n",
       "Fifty Shades of Grey   697165331.0  17.429133  \n",
       "The Proposal           438667748.0  10.966694  \n",
       "...                            ...        ...  \n",
       "Should've Been Romeo    -5000000.0  -1.000000  \n",
       "Aztec Warrior           -5000000.0  -1.000000  \n",
       "Navy SEAL vs. Zombies   -5000000.0  -1.000000  \n",
       "The Hatching            -5000000.0  -1.000000  \n",
       "Running Forever         -5000000.0  -1.000000  \n",
       "\n",
       "[3026 rows x 5 columns]"
      ]
     },
     "execution_count": 24,
     "metadata": {},
     "output_type": "execute_result"
    }
   ],
   "source": [
    "movie_budgets_filtered_iqr.drop('release_date', axis = 1)"
   ]
  },
  {
   "cell_type": "code",
   "execution_count": 25,
   "metadata": {
    "ExecuteTime": {
     "end_time": "2022-06-06T09:28:18.195509Z",
     "start_time": "2022-06-06T09:28:18.189823Z"
    }
   },
   "outputs": [
    {
     "name": "stdout",
     "output_type": "stream",
     "text": [
      "<class 'pandas.core.frame.DataFrame'>\n",
      "Index: 3387 entries, Toy Story 3 to An Actor Prepares\n",
      "Data columns (total 4 columns):\n",
      " #   Column          Non-Null Count  Dtype  \n",
      "---  ------          --------------  -----  \n",
      " 0   studio          3382 non-null   object \n",
      " 1   domestic_gross  3359 non-null   float64\n",
      " 2   foreign_gross   2037 non-null   object \n",
      " 3   year            3387 non-null   int64  \n",
      "dtypes: float64(1), int64(1), object(2)\n",
      "memory usage: 132.3+ KB\n"
     ]
    }
   ],
   "source": [
    "movie_budgets_bom.info()"
   ]
  },
  {
   "cell_type": "code",
   "execution_count": 26,
   "metadata": {
    "ExecuteTime": {
     "end_time": "2022-06-06T09:28:18.204622Z",
     "start_time": "2022-06-06T09:28:18.196352Z"
    }
   },
   "outputs": [
    {
     "data": {
      "text/html": [
       "<div>\n",
       "<style scoped>\n",
       "    .dataframe tbody tr th:only-of-type {\n",
       "        vertical-align: middle;\n",
       "    }\n",
       "\n",
       "    .dataframe tbody tr th {\n",
       "        vertical-align: top;\n",
       "    }\n",
       "\n",
       "    .dataframe thead th {\n",
       "        text-align: right;\n",
       "    }\n",
       "</style>\n",
       "<table border=\"1\" class=\"dataframe\">\n",
       "  <thead>\n",
       "    <tr style=\"text-align: right;\">\n",
       "      <th></th>\n",
       "      <th>studio</th>\n",
       "      <th>domestic_gross</th>\n",
       "      <th>foreign_gross</th>\n",
       "      <th>year</th>\n",
       "    </tr>\n",
       "    <tr>\n",
       "      <th>title</th>\n",
       "      <th></th>\n",
       "      <th></th>\n",
       "      <th></th>\n",
       "      <th></th>\n",
       "    </tr>\n",
       "  </thead>\n",
       "  <tbody>\n",
       "    <tr>\n",
       "      <th>Toy Story 3</th>\n",
       "      <td>BV</td>\n",
       "      <td>415000000.0</td>\n",
       "      <td>652000000.0</td>\n",
       "      <td>2010</td>\n",
       "    </tr>\n",
       "    <tr>\n",
       "      <th>Alice in Wonderland (2010)</th>\n",
       "      <td>BV</td>\n",
       "      <td>334200000.0</td>\n",
       "      <td>691300000.0</td>\n",
       "      <td>2010</td>\n",
       "    </tr>\n",
       "    <tr>\n",
       "      <th>Harry Potter and the Deathly Hallows Part 1</th>\n",
       "      <td>WB</td>\n",
       "      <td>296000000.0</td>\n",
       "      <td>664300000.0</td>\n",
       "      <td>2010</td>\n",
       "    </tr>\n",
       "    <tr>\n",
       "      <th>Inception</th>\n",
       "      <td>WB</td>\n",
       "      <td>292600000.0</td>\n",
       "      <td>535700000.0</td>\n",
       "      <td>2010</td>\n",
       "    </tr>\n",
       "    <tr>\n",
       "      <th>Shrek Forever After</th>\n",
       "      <td>P/DW</td>\n",
       "      <td>238700000.0</td>\n",
       "      <td>513900000.0</td>\n",
       "      <td>2010</td>\n",
       "    </tr>\n",
       "    <tr>\n",
       "      <th>...</th>\n",
       "      <td>...</td>\n",
       "      <td>...</td>\n",
       "      <td>...</td>\n",
       "      <td>...</td>\n",
       "    </tr>\n",
       "    <tr>\n",
       "      <th>The Quake</th>\n",
       "      <td>Magn.</td>\n",
       "      <td>6200.0</td>\n",
       "      <td>NaN</td>\n",
       "      <td>2018</td>\n",
       "    </tr>\n",
       "    <tr>\n",
       "      <th>Edward II (2018 re-release)</th>\n",
       "      <td>FM</td>\n",
       "      <td>4800.0</td>\n",
       "      <td>NaN</td>\n",
       "      <td>2018</td>\n",
       "    </tr>\n",
       "    <tr>\n",
       "      <th>El Pacto</th>\n",
       "      <td>Sony</td>\n",
       "      <td>2500.0</td>\n",
       "      <td>NaN</td>\n",
       "      <td>2018</td>\n",
       "    </tr>\n",
       "    <tr>\n",
       "      <th>The Swan</th>\n",
       "      <td>Synergetic</td>\n",
       "      <td>2400.0</td>\n",
       "      <td>NaN</td>\n",
       "      <td>2018</td>\n",
       "    </tr>\n",
       "    <tr>\n",
       "      <th>An Actor Prepares</th>\n",
       "      <td>Grav.</td>\n",
       "      <td>1700.0</td>\n",
       "      <td>NaN</td>\n",
       "      <td>2018</td>\n",
       "    </tr>\n",
       "  </tbody>\n",
       "</table>\n",
       "<p>3387 rows × 4 columns</p>\n",
       "</div>"
      ],
      "text/plain": [
       "                                                 studio  domestic_gross  \\\n",
       "title                                                                     \n",
       "Toy Story 3                                          BV     415000000.0   \n",
       "Alice in Wonderland (2010)                           BV     334200000.0   \n",
       "Harry Potter and the Deathly Hallows Part 1          WB     296000000.0   \n",
       "Inception                                            WB     292600000.0   \n",
       "Shrek Forever After                                P/DW     238700000.0   \n",
       "...                                                 ...             ...   \n",
       "The Quake                                         Magn.          6200.0   \n",
       "Edward II (2018 re-release)                          FM          4800.0   \n",
       "El Pacto                                           Sony          2500.0   \n",
       "The Swan                                     Synergetic          2400.0   \n",
       "An Actor Prepares                                 Grav.          1700.0   \n",
       "\n",
       "                                             foreign_gross  year  \n",
       "title                                                             \n",
       "Toy Story 3                                    652000000.0  2010  \n",
       "Alice in Wonderland (2010)                     691300000.0  2010  \n",
       "Harry Potter and the Deathly Hallows Part 1    664300000.0  2010  \n",
       "Inception                                      535700000.0  2010  \n",
       "Shrek Forever After                            513900000.0  2010  \n",
       "...                                                    ...   ...  \n",
       "The Quake                                              NaN  2018  \n",
       "Edward II (2018 re-release)                            NaN  2018  \n",
       "El Pacto                                               NaN  2018  \n",
       "The Swan                                               NaN  2018  \n",
       "An Actor Prepares                                      NaN  2018  \n",
       "\n",
       "[3387 rows x 4 columns]"
      ]
     },
     "execution_count": 26,
     "metadata": {},
     "output_type": "execute_result"
    }
   ],
   "source": [
    "movie_budgets_bom['foreign_gross'] = (\n",
    "    movie_budgets_bom['foreign_gross']\n",
    "    .str.replace(',','').astype(float)\n",
    ")\n",
    "movie_budgets_bom"
   ]
  },
  {
   "cell_type": "code",
   "execution_count": 27,
   "metadata": {
    "ExecuteTime": {
     "end_time": "2022-06-06T09:28:18.208546Z",
     "start_time": "2022-06-06T09:28:18.205628Z"
    }
   },
   "outputs": [],
   "source": [
    "movie_budgets_bom.replace(np.nan, 0, inplace = True)"
   ]
  },
  {
   "cell_type": "code",
   "execution_count": 28,
   "metadata": {
    "ExecuteTime": {
     "end_time": "2022-06-06T09:28:18.220367Z",
     "start_time": "2022-06-06T09:28:18.213136Z"
    }
   },
   "outputs": [
    {
     "data": {
      "text/html": [
       "<div>\n",
       "<style scoped>\n",
       "    .dataframe tbody tr th:only-of-type {\n",
       "        vertical-align: middle;\n",
       "    }\n",
       "\n",
       "    .dataframe tbody tr th {\n",
       "        vertical-align: top;\n",
       "    }\n",
       "\n",
       "    .dataframe thead th {\n",
       "        text-align: right;\n",
       "    }\n",
       "</style>\n",
       "<table border=\"1\" class=\"dataframe\">\n",
       "  <thead>\n",
       "    <tr style=\"text-align: right;\">\n",
       "      <th></th>\n",
       "      <th>studio</th>\n",
       "      <th>domestic_gross</th>\n",
       "      <th>foreign_gross</th>\n",
       "      <th>year</th>\n",
       "    </tr>\n",
       "    <tr>\n",
       "      <th>title</th>\n",
       "      <th></th>\n",
       "      <th></th>\n",
       "      <th></th>\n",
       "      <th></th>\n",
       "    </tr>\n",
       "  </thead>\n",
       "  <tbody>\n",
       "    <tr>\n",
       "      <th>Toy Story 3</th>\n",
       "      <td>BV</td>\n",
       "      <td>415000000.0</td>\n",
       "      <td>652000000.0</td>\n",
       "      <td>2010</td>\n",
       "    </tr>\n",
       "    <tr>\n",
       "      <th>Flipped</th>\n",
       "      <td>WB</td>\n",
       "      <td>1800000.0</td>\n",
       "      <td>0.0</td>\n",
       "      <td>2010</td>\n",
       "    </tr>\n",
       "    <tr>\n",
       "      <th>Cairo Time</th>\n",
       "      <td>IFC</td>\n",
       "      <td>1600000.0</td>\n",
       "      <td>391000.0</td>\n",
       "      <td>2010</td>\n",
       "    </tr>\n",
       "    <tr>\n",
       "      <th>After.Life</th>\n",
       "      <td>Anch.</td>\n",
       "      <td>109000.0</td>\n",
       "      <td>1900000.0</td>\n",
       "      <td>2010</td>\n",
       "    </tr>\n",
       "    <tr>\n",
       "      <th>Golmaal 3</th>\n",
       "      <td>Eros</td>\n",
       "      <td>1100000.0</td>\n",
       "      <td>935000.0</td>\n",
       "      <td>2010</td>\n",
       "    </tr>\n",
       "    <tr>\n",
       "      <th>...</th>\n",
       "      <td>...</td>\n",
       "      <td>...</td>\n",
       "      <td>...</td>\n",
       "      <td>...</td>\n",
       "    </tr>\n",
       "    <tr>\n",
       "      <th>Mary Queen of Scots</th>\n",
       "      <td>Focus</td>\n",
       "      <td>16500000.0</td>\n",
       "      <td>29900000.0</td>\n",
       "      <td>2018</td>\n",
       "    </tr>\n",
       "    <tr>\n",
       "      <th>Tyler Perry's Acrimony</th>\n",
       "      <td>LGF</td>\n",
       "      <td>43500000.0</td>\n",
       "      <td>2900000.0</td>\n",
       "      <td>2018</td>\n",
       "    </tr>\n",
       "    <tr>\n",
       "      <th>Uncle Drew</th>\n",
       "      <td>LG/S</td>\n",
       "      <td>42500000.0</td>\n",
       "      <td>4200000.0</td>\n",
       "      <td>2018</td>\n",
       "    </tr>\n",
       "    <tr>\n",
       "      <th>Show Dogs</th>\n",
       "      <td>Global Road</td>\n",
       "      <td>17900000.0</td>\n",
       "      <td>21300000.0</td>\n",
       "      <td>2018</td>\n",
       "    </tr>\n",
       "    <tr>\n",
       "      <th>An Actor Prepares</th>\n",
       "      <td>Grav.</td>\n",
       "      <td>1700.0</td>\n",
       "      <td>0.0</td>\n",
       "      <td>2018</td>\n",
       "    </tr>\n",
       "  </tbody>\n",
       "</table>\n",
       "<p>3387 rows × 4 columns</p>\n",
       "</div>"
      ],
      "text/plain": [
       "                             studio  domestic_gross  foreign_gross  year\n",
       "title                                                                   \n",
       "Toy Story 3                      BV     415000000.0    652000000.0  2010\n",
       "Flipped                          WB       1800000.0            0.0  2010\n",
       "Cairo Time                      IFC       1600000.0       391000.0  2010\n",
       "After.Life                    Anch.        109000.0      1900000.0  2010\n",
       "Golmaal 3                      Eros       1100000.0       935000.0  2010\n",
       "...                             ...             ...            ...   ...\n",
       "Mary Queen of Scots           Focus      16500000.0     29900000.0  2018\n",
       "Tyler Perry's Acrimony          LGF      43500000.0      2900000.0  2018\n",
       "Uncle Drew                     LG/S      42500000.0      4200000.0  2018\n",
       "Show Dogs               Global Road      17900000.0     21300000.0  2018\n",
       "An Actor Prepares             Grav.          1700.0            0.0  2018\n",
       "\n",
       "[3387 rows x 4 columns]"
      ]
     },
     "execution_count": 28,
     "metadata": {},
     "output_type": "execute_result"
    }
   ],
   "source": [
    "movie_budgets_bom.sort_values('year')\n"
   ]
  },
  {
   "cell_type": "code",
   "execution_count": 29,
   "metadata": {
    "ExecuteTime": {
     "end_time": "2022-06-06T09:28:18.226392Z",
     "start_time": "2022-06-06T09:28:18.221169Z"
    }
   },
   "outputs": [
    {
     "name": "stdout",
     "output_type": "stream",
     "text": [
      "<class 'pandas.core.frame.DataFrame'>\n",
      "Index: 3387 entries, Toy Story 3 to An Actor Prepares\n",
      "Data columns (total 4 columns):\n",
      " #   Column          Non-Null Count  Dtype  \n",
      "---  ------          --------------  -----  \n",
      " 0   studio          3387 non-null   object \n",
      " 1   domestic_gross  3387 non-null   float64\n",
      " 2   foreign_gross   3387 non-null   float64\n",
      " 3   year            3387 non-null   int64  \n",
      "dtypes: float64(2), int64(1), object(1)\n",
      "memory usage: 132.3+ KB\n"
     ]
    }
   ],
   "source": [
    "movie_budgets_bom.info()"
   ]
  },
  {
   "cell_type": "code",
   "execution_count": 30,
   "metadata": {
    "ExecuteTime": {
     "end_time": "2022-06-06T09:28:18.229719Z",
     "start_time": "2022-06-06T09:28:18.227484Z"
    }
   },
   "outputs": [],
   "source": [
    "movie_budgets_bom['total_gross']=movie_budgets_bom['domestic_gross']\\\n",
    "+movie_budgets_bom['foreign_gross']"
   ]
  },
  {
   "cell_type": "code",
   "execution_count": 31,
   "metadata": {
    "ExecuteTime": {
     "end_time": "2022-06-06T09:28:18.241043Z",
     "start_time": "2022-06-06T09:28:18.230655Z"
    }
   },
   "outputs": [
    {
     "data": {
      "text/html": [
       "<div>\n",
       "<style scoped>\n",
       "    .dataframe tbody tr th:only-of-type {\n",
       "        vertical-align: middle;\n",
       "    }\n",
       "\n",
       "    .dataframe tbody tr th {\n",
       "        vertical-align: top;\n",
       "    }\n",
       "\n",
       "    .dataframe thead th {\n",
       "        text-align: right;\n",
       "    }\n",
       "</style>\n",
       "<table border=\"1\" class=\"dataframe\">\n",
       "  <thead>\n",
       "    <tr style=\"text-align: right;\">\n",
       "      <th></th>\n",
       "      <th>studio</th>\n",
       "      <th>domestic_gross</th>\n",
       "      <th>foreign_gross</th>\n",
       "      <th>year</th>\n",
       "      <th>total_gross</th>\n",
       "    </tr>\n",
       "    <tr>\n",
       "      <th>title</th>\n",
       "      <th></th>\n",
       "      <th></th>\n",
       "      <th></th>\n",
       "      <th></th>\n",
       "      <th></th>\n",
       "    </tr>\n",
       "  </thead>\n",
       "  <tbody>\n",
       "    <tr>\n",
       "      <th>'71</th>\n",
       "      <td>RAtt.</td>\n",
       "      <td>1300000.0</td>\n",
       "      <td>355000.0</td>\n",
       "      <td>2015</td>\n",
       "      <td>1.655000e+06</td>\n",
       "    </tr>\n",
       "    <tr>\n",
       "      <th>1,000 Times Good Night</th>\n",
       "      <td>FM</td>\n",
       "      <td>53900.0</td>\n",
       "      <td>0.0</td>\n",
       "      <td>2014</td>\n",
       "      <td>5.390000e+04</td>\n",
       "    </tr>\n",
       "    <tr>\n",
       "      <th>10 Cloverfield Lane</th>\n",
       "      <td>Par.</td>\n",
       "      <td>72100000.0</td>\n",
       "      <td>38100000.0</td>\n",
       "      <td>2016</td>\n",
       "      <td>1.102000e+08</td>\n",
       "    </tr>\n",
       "    <tr>\n",
       "      <th>10 Years</th>\n",
       "      <td>Anch.</td>\n",
       "      <td>203000.0</td>\n",
       "      <td>0.0</td>\n",
       "      <td>2012</td>\n",
       "      <td>2.030000e+05</td>\n",
       "    </tr>\n",
       "    <tr>\n",
       "      <th>1001 Grams</th>\n",
       "      <td>KL</td>\n",
       "      <td>11000.0</td>\n",
       "      <td>0.0</td>\n",
       "      <td>2015</td>\n",
       "      <td>1.100000e+04</td>\n",
       "    </tr>\n",
       "    <tr>\n",
       "      <th>...</th>\n",
       "      <td>...</td>\n",
       "      <td>...</td>\n",
       "      <td>...</td>\n",
       "      <td>...</td>\n",
       "      <td>...</td>\n",
       "    </tr>\n",
       "    <tr>\n",
       "      <th>Zoolander 2</th>\n",
       "      <td>Par.</td>\n",
       "      <td>28800000.0</td>\n",
       "      <td>27900000.0</td>\n",
       "      <td>2016</td>\n",
       "      <td>5.670000e+07</td>\n",
       "    </tr>\n",
       "    <tr>\n",
       "      <th>Zootopia</th>\n",
       "      <td>BV</td>\n",
       "      <td>341300000.0</td>\n",
       "      <td>682500000.0</td>\n",
       "      <td>2016</td>\n",
       "      <td>1.023800e+09</td>\n",
       "    </tr>\n",
       "    <tr>\n",
       "      <th>[Rec] 2</th>\n",
       "      <td>Magn.</td>\n",
       "      <td>27800.0</td>\n",
       "      <td>18500000.0</td>\n",
       "      <td>2010</td>\n",
       "      <td>1.852780e+07</td>\n",
       "    </tr>\n",
       "    <tr>\n",
       "      <th>mother!</th>\n",
       "      <td>Par.</td>\n",
       "      <td>17800000.0</td>\n",
       "      <td>26700000.0</td>\n",
       "      <td>2017</td>\n",
       "      <td>4.450000e+07</td>\n",
       "    </tr>\n",
       "    <tr>\n",
       "      <th>xXx: The Return of Xander Cage</th>\n",
       "      <td>Par.</td>\n",
       "      <td>44900000.0</td>\n",
       "      <td>301200000.0</td>\n",
       "      <td>2017</td>\n",
       "      <td>3.461000e+08</td>\n",
       "    </tr>\n",
       "  </tbody>\n",
       "</table>\n",
       "<p>3387 rows × 5 columns</p>\n",
       "</div>"
      ],
      "text/plain": [
       "                               studio  domestic_gross  foreign_gross  year  \\\n",
       "title                                                                        \n",
       "'71                             RAtt.       1300000.0       355000.0  2015   \n",
       "1,000 Times Good Night             FM         53900.0            0.0  2014   \n",
       "10 Cloverfield Lane              Par.      72100000.0     38100000.0  2016   \n",
       "10 Years                        Anch.        203000.0            0.0  2012   \n",
       "1001 Grams                         KL         11000.0            0.0  2015   \n",
       "...                               ...             ...            ...   ...   \n",
       "Zoolander 2                      Par.      28800000.0     27900000.0  2016   \n",
       "Zootopia                           BV     341300000.0    682500000.0  2016   \n",
       "[Rec] 2                         Magn.         27800.0     18500000.0  2010   \n",
       "mother!                          Par.      17800000.0     26700000.0  2017   \n",
       "xXx: The Return of Xander Cage   Par.      44900000.0    301200000.0  2017   \n",
       "\n",
       "                                 total_gross  \n",
       "title                                         \n",
       "'71                             1.655000e+06  \n",
       "1,000 Times Good Night          5.390000e+04  \n",
       "10 Cloverfield Lane             1.102000e+08  \n",
       "10 Years                        2.030000e+05  \n",
       "1001 Grams                      1.100000e+04  \n",
       "...                                      ...  \n",
       "Zoolander 2                     5.670000e+07  \n",
       "Zootopia                        1.023800e+09  \n",
       "[Rec] 2                         1.852780e+07  \n",
       "mother!                         4.450000e+07  \n",
       "xXx: The Return of Xander Cage  3.461000e+08  \n",
       "\n",
       "[3387 rows x 5 columns]"
      ]
     },
     "execution_count": 31,
     "metadata": {},
     "output_type": "execute_result"
    }
   ],
   "source": [
    "movie_budgets_bom.sort_values('title')"
   ]
  },
  {
   "cell_type": "code",
   "execution_count": null,
   "metadata": {
    "ExecuteTime": {
     "end_time": "2022-05-31T14:36:40.950387Z",
     "start_time": "2022-05-31T14:36:40.940768Z"
    }
   },
   "outputs": [],
   "source": []
  },
  {
   "cell_type": "code",
   "execution_count": null,
   "metadata": {
    "ExecuteTime": {
     "end_time": "2022-05-31T14:36:40.962478Z",
     "start_time": "2022-05-31T14:36:40.951569Z"
    }
   },
   "outputs": [],
   "source": []
  },
  {
   "cell_type": "code",
   "execution_count": null,
   "metadata": {
    "ExecuteTime": {
     "end_time": "2022-05-16T18:20:41.299358Z",
     "start_time": "2022-05-16T18:20:41.262052Z"
    }
   },
   "outputs": [],
   "source": []
  },
  {
   "cell_type": "markdown",
   "metadata": {
    "ExecuteTime": {
     "end_time": "2022-05-31T14:36:40.969557Z",
     "start_time": "2022-05-31T14:36:40.963401Z"
    }
   },
   "source": [
    "Organizing the review data sets, so that they can be merged with profit data sets"
   ]
  },
  {
   "cell_type": "code",
   "execution_count": 32,
   "metadata": {
    "ExecuteTime": {
     "end_time": "2022-06-06T09:28:18.254919Z",
     "start_time": "2022-06-06T09:28:18.241955Z"
    }
   },
   "outputs": [
    {
     "data": {
      "text/html": [
       "<div>\n",
       "<style scoped>\n",
       "    .dataframe tbody tr th:only-of-type {\n",
       "        vertical-align: middle;\n",
       "    }\n",
       "\n",
       "    .dataframe tbody tr th {\n",
       "        vertical-align: top;\n",
       "    }\n",
       "\n",
       "    .dataframe thead th {\n",
       "        text-align: right;\n",
       "    }\n",
       "</style>\n",
       "<table border=\"1\" class=\"dataframe\">\n",
       "  <thead>\n",
       "    <tr style=\"text-align: right;\">\n",
       "      <th></th>\n",
       "      <th>Unnamed: 0</th>\n",
       "      <th>genre_ids</th>\n",
       "      <th>id</th>\n",
       "      <th>original_language</th>\n",
       "      <th>original_title</th>\n",
       "      <th>popularity</th>\n",
       "      <th>release_date</th>\n",
       "      <th>title</th>\n",
       "      <th>vote_average</th>\n",
       "      <th>vote_count</th>\n",
       "    </tr>\n",
       "  </thead>\n",
       "  <tbody>\n",
       "    <tr>\n",
       "      <th>13258</th>\n",
       "      <td>13258</td>\n",
       "      <td>[99]</td>\n",
       "      <td>403294</td>\n",
       "      <td>en</td>\n",
       "      <td>9/11: Simulations</td>\n",
       "      <td>0.600</td>\n",
       "      <td>2014-07-04</td>\n",
       "      <td>9/11: Simulations</td>\n",
       "      <td>10.0</td>\n",
       "      <td>1</td>\n",
       "    </tr>\n",
       "    <tr>\n",
       "      <th>22787</th>\n",
       "      <td>22787</td>\n",
       "      <td>[27, 35]</td>\n",
       "      <td>444170</td>\n",
       "      <td>en</td>\n",
       "      <td>Lasagna Cat - Telephone Sex Survey Results</td>\n",
       "      <td>0.722</td>\n",
       "      <td>2017-02-23</td>\n",
       "      <td>Lasagna Cat - Telephone Sex Survey Results</td>\n",
       "      <td>10.0</td>\n",
       "      <td>1</td>\n",
       "    </tr>\n",
       "    <tr>\n",
       "      <th>22592</th>\n",
       "      <td>22592</td>\n",
       "      <td>[99]</td>\n",
       "      <td>488357</td>\n",
       "      <td>en</td>\n",
       "      <td>MOTO 9: The Movie</td>\n",
       "      <td>0.900</td>\n",
       "      <td>2017-11-21</td>\n",
       "      <td>MOTO 9: The Movie</td>\n",
       "      <td>10.0</td>\n",
       "      <td>1</td>\n",
       "    </tr>\n",
       "    <tr>\n",
       "      <th>22607</th>\n",
       "      <td>22607</td>\n",
       "      <td>[]</td>\n",
       "      <td>437448</td>\n",
       "      <td>en</td>\n",
       "      <td>The Letter Carrier</td>\n",
       "      <td>0.895</td>\n",
       "      <td>2017-01-27</td>\n",
       "      <td>The Letter Carrier</td>\n",
       "      <td>10.0</td>\n",
       "      <td>1</td>\n",
       "    </tr>\n",
       "    <tr>\n",
       "      <th>22610</th>\n",
       "      <td>22610</td>\n",
       "      <td>[9648, 37, 18, 10402]</td>\n",
       "      <td>463601</td>\n",
       "      <td>en</td>\n",
       "      <td>Hope This Goes Over Well/Living in an Empty World</td>\n",
       "      <td>0.894</td>\n",
       "      <td>2017-06-26</td>\n",
       "      <td>Hope This Goes Over Well/Living in an Empty World</td>\n",
       "      <td>10.0</td>\n",
       "      <td>1</td>\n",
       "    </tr>\n",
       "    <tr>\n",
       "      <th>...</th>\n",
       "      <td>...</td>\n",
       "      <td>...</td>\n",
       "      <td>...</td>\n",
       "      <td>...</td>\n",
       "      <td>...</td>\n",
       "      <td>...</td>\n",
       "      <td>...</td>\n",
       "      <td>...</td>\n",
       "      <td>...</td>\n",
       "      <td>...</td>\n",
       "    </tr>\n",
       "    <tr>\n",
       "      <th>11018</th>\n",
       "      <td>11018</td>\n",
       "      <td>[]</td>\n",
       "      <td>124727</td>\n",
       "      <td>en</td>\n",
       "      <td>Darkchylde</td>\n",
       "      <td>0.600</td>\n",
       "      <td>2013-08-09</td>\n",
       "      <td>Darkchylde</td>\n",
       "      <td>0.0</td>\n",
       "      <td>1</td>\n",
       "    </tr>\n",
       "    <tr>\n",
       "      <th>14168</th>\n",
       "      <td>14168</td>\n",
       "      <td>[]</td>\n",
       "      <td>167531</td>\n",
       "      <td>en</td>\n",
       "      <td>Summer Snow</td>\n",
       "      <td>0.600</td>\n",
       "      <td>2014-07-25</td>\n",
       "      <td>Summer Snow</td>\n",
       "      <td>0.0</td>\n",
       "      <td>1</td>\n",
       "    </tr>\n",
       "    <tr>\n",
       "      <th>14167</th>\n",
       "      <td>14167</td>\n",
       "      <td>[99, 10402]</td>\n",
       "      <td>221918</td>\n",
       "      <td>en</td>\n",
       "      <td>Butch Walker:  Out of Focus</td>\n",
       "      <td>0.600</td>\n",
       "      <td>2014-08-05</td>\n",
       "      <td>Butch Walker:  Out of Focus</td>\n",
       "      <td>0.0</td>\n",
       "      <td>1</td>\n",
       "    </tr>\n",
       "    <tr>\n",
       "      <th>20601</th>\n",
       "      <td>20601</td>\n",
       "      <td>[18, 35]</td>\n",
       "      <td>448105</td>\n",
       "      <td>en</td>\n",
       "      <td>The Angry Man</td>\n",
       "      <td>0.600</td>\n",
       "      <td>2017-04-08</td>\n",
       "      <td>The Angry Man</td>\n",
       "      <td>0.0</td>\n",
       "      <td>1</td>\n",
       "    </tr>\n",
       "    <tr>\n",
       "      <th>26516</th>\n",
       "      <td>26516</td>\n",
       "      <td>[53, 27]</td>\n",
       "      <td>309885</td>\n",
       "      <td>en</td>\n",
       "      <td>The Church</td>\n",
       "      <td>0.600</td>\n",
       "      <td>2018-10-05</td>\n",
       "      <td>The Church</td>\n",
       "      <td>0.0</td>\n",
       "      <td>1</td>\n",
       "    </tr>\n",
       "  </tbody>\n",
       "</table>\n",
       "<p>26517 rows × 10 columns</p>\n",
       "</div>"
      ],
      "text/plain": [
       "       Unnamed: 0              genre_ids      id original_language  \\\n",
       "13258       13258                   [99]  403294                en   \n",
       "22787       22787               [27, 35]  444170                en   \n",
       "22592       22592                   [99]  488357                en   \n",
       "22607       22607                     []  437448                en   \n",
       "22610       22610  [9648, 37, 18, 10402]  463601                en   \n",
       "...           ...                    ...     ...               ...   \n",
       "11018       11018                     []  124727                en   \n",
       "14168       14168                     []  167531                en   \n",
       "14167       14167            [99, 10402]  221918                en   \n",
       "20601       20601               [18, 35]  448105                en   \n",
       "26516       26516               [53, 27]  309885                en   \n",
       "\n",
       "                                          original_title  popularity  \\\n",
       "13258                                  9/11: Simulations       0.600   \n",
       "22787         Lasagna Cat - Telephone Sex Survey Results       0.722   \n",
       "22592                                  MOTO 9: The Movie       0.900   \n",
       "22607                                 The Letter Carrier       0.895   \n",
       "22610  Hope This Goes Over Well/Living in an Empty World       0.894   \n",
       "...                                                  ...         ...   \n",
       "11018                                         Darkchylde       0.600   \n",
       "14168                                        Summer Snow       0.600   \n",
       "14167                        Butch Walker:  Out of Focus       0.600   \n",
       "20601                                      The Angry Man       0.600   \n",
       "26516                                         The Church       0.600   \n",
       "\n",
       "      release_date                                              title  \\\n",
       "13258   2014-07-04                                  9/11: Simulations   \n",
       "22787   2017-02-23         Lasagna Cat - Telephone Sex Survey Results   \n",
       "22592   2017-11-21                                  MOTO 9: The Movie   \n",
       "22607   2017-01-27                                 The Letter Carrier   \n",
       "22610   2017-06-26  Hope This Goes Over Well/Living in an Empty World   \n",
       "...            ...                                                ...   \n",
       "11018   2013-08-09                                         Darkchylde   \n",
       "14168   2014-07-25                                        Summer Snow   \n",
       "14167   2014-08-05                        Butch Walker:  Out of Focus   \n",
       "20601   2017-04-08                                      The Angry Man   \n",
       "26516   2018-10-05                                         The Church   \n",
       "\n",
       "       vote_average  vote_count  \n",
       "13258          10.0           1  \n",
       "22787          10.0           1  \n",
       "22592          10.0           1  \n",
       "22607          10.0           1  \n",
       "22610          10.0           1  \n",
       "...             ...         ...  \n",
       "11018           0.0           1  \n",
       "14168           0.0           1  \n",
       "14167           0.0           1  \n",
       "20601           0.0           1  \n",
       "26516           0.0           1  \n",
       "\n",
       "[26517 rows x 10 columns]"
      ]
     },
     "execution_count": 32,
     "metadata": {},
     "output_type": "execute_result"
    }
   ],
   "source": [
    "tmb_movies.sort_values('vote_average', ascending=False)"
   ]
  },
  {
   "cell_type": "code",
   "execution_count": 33,
   "metadata": {
    "ExecuteTime": {
     "end_time": "2022-06-06T09:28:18.262217Z",
     "start_time": "2022-06-06T09:28:18.255839Z"
    }
   },
   "outputs": [
    {
     "data": {
      "text/html": [
       "<div>\n",
       "<style scoped>\n",
       "    .dataframe tbody tr th:only-of-type {\n",
       "        vertical-align: middle;\n",
       "    }\n",
       "\n",
       "    .dataframe tbody tr th {\n",
       "        vertical-align: top;\n",
       "    }\n",
       "\n",
       "    .dataframe thead th {\n",
       "        text-align: right;\n",
       "    }\n",
       "</style>\n",
       "<table border=\"1\" class=\"dataframe\">\n",
       "  <thead>\n",
       "    <tr style=\"text-align: right;\">\n",
       "      <th></th>\n",
       "      <th>release_date</th>\n",
       "      <th>production_budget</th>\n",
       "      <th>domestic_gross</th>\n",
       "      <th>worldwide_gross</th>\n",
       "      <th>profit</th>\n",
       "      <th>roi</th>\n",
       "    </tr>\n",
       "    <tr>\n",
       "      <th>movie</th>\n",
       "      <th></th>\n",
       "      <th></th>\n",
       "      <th></th>\n",
       "      <th></th>\n",
       "      <th></th>\n",
       "      <th></th>\n",
       "    </tr>\n",
       "  </thead>\n",
       "  <tbody>\n",
       "    <tr>\n",
       "      <th>Avatar</th>\n",
       "      <td>Dec 18, 2009</td>\n",
       "      <td>425000000.0</td>\n",
       "      <td>760507625.0</td>\n",
       "      <td>2.776345e+09</td>\n",
       "      <td>3.111853e+09</td>\n",
       "      <td>7.322007</td>\n",
       "    </tr>\n",
       "    <tr>\n",
       "      <th>Pirates of the Caribbean: On Stranger Tides</th>\n",
       "      <td>May 20, 2011</td>\n",
       "      <td>410600000.0</td>\n",
       "      <td>241063875.0</td>\n",
       "      <td>1.045664e+09</td>\n",
       "      <td>8.761278e+08</td>\n",
       "      <td>2.133774</td>\n",
       "    </tr>\n",
       "    <tr>\n",
       "      <th>Dark Phoenix</th>\n",
       "      <td>Jun 7, 2019</td>\n",
       "      <td>350000000.0</td>\n",
       "      <td>42762350.0</td>\n",
       "      <td>1.497624e+08</td>\n",
       "      <td>-1.574753e+08</td>\n",
       "      <td>-0.449929</td>\n",
       "    </tr>\n",
       "    <tr>\n",
       "      <th>Avengers: Age of Ultron</th>\n",
       "      <td>May 1, 2015</td>\n",
       "      <td>330600000.0</td>\n",
       "      <td>459005868.0</td>\n",
       "      <td>1.403014e+09</td>\n",
       "      <td>1.531420e+09</td>\n",
       "      <td>4.632244</td>\n",
       "    </tr>\n",
       "    <tr>\n",
       "      <th>Star Wars Ep. VIII: The Last Jedi</th>\n",
       "      <td>Dec 15, 2017</td>\n",
       "      <td>317000000.0</td>\n",
       "      <td>620181382.0</td>\n",
       "      <td>1.316722e+09</td>\n",
       "      <td>1.619903e+09</td>\n",
       "      <td>5.110105</td>\n",
       "    </tr>\n",
       "  </tbody>\n",
       "</table>\n",
       "</div>"
      ],
      "text/plain": [
       "                                             release_date  production_budget  \\\n",
       "movie                                                                          \n",
       "Avatar                                       Dec 18, 2009        425000000.0   \n",
       "Pirates of the Caribbean: On Stranger Tides  May 20, 2011        410600000.0   \n",
       "Dark Phoenix                                  Jun 7, 2019        350000000.0   \n",
       "Avengers: Age of Ultron                       May 1, 2015        330600000.0   \n",
       "Star Wars Ep. VIII: The Last Jedi            Dec 15, 2017        317000000.0   \n",
       "\n",
       "                                             domestic_gross  worldwide_gross  \\\n",
       "movie                                                                          \n",
       "Avatar                                          760507625.0     2.776345e+09   \n",
       "Pirates of the Caribbean: On Stranger Tides     241063875.0     1.045664e+09   \n",
       "Dark Phoenix                                     42762350.0     1.497624e+08   \n",
       "Avengers: Age of Ultron                         459005868.0     1.403014e+09   \n",
       "Star Wars Ep. VIII: The Last Jedi               620181382.0     1.316722e+09   \n",
       "\n",
       "                                                   profit       roi  \n",
       "movie                                                                \n",
       "Avatar                                       3.111853e+09  7.322007  \n",
       "Pirates of the Caribbean: On Stranger Tides  8.761278e+08  2.133774  \n",
       "Dark Phoenix                                -1.574753e+08 -0.449929  \n",
       "Avengers: Age of Ultron                      1.531420e+09  4.632244  \n",
       "Star Wars Ep. VIII: The Last Jedi            1.619903e+09  5.110105  "
      ]
     },
     "execution_count": 33,
     "metadata": {},
     "output_type": "execute_result"
    }
   ],
   "source": [
    "movie_budgets_tn.head()"
   ]
  },
  {
   "cell_type": "code",
   "execution_count": 34,
   "metadata": {
    "ExecuteTime": {
     "end_time": "2022-06-06T09:28:18.269952Z",
     "start_time": "2022-06-06T09:28:18.263226Z"
    }
   },
   "outputs": [
    {
     "data": {
      "text/html": [
       "<div>\n",
       "<style scoped>\n",
       "    .dataframe tbody tr th:only-of-type {\n",
       "        vertical-align: middle;\n",
       "    }\n",
       "\n",
       "    .dataframe tbody tr th {\n",
       "        vertical-align: top;\n",
       "    }\n",
       "\n",
       "    .dataframe thead th {\n",
       "        text-align: right;\n",
       "    }\n",
       "</style>\n",
       "<table border=\"1\" class=\"dataframe\">\n",
       "  <thead>\n",
       "    <tr style=\"text-align: right;\">\n",
       "      <th></th>\n",
       "      <th>Unnamed: 0</th>\n",
       "      <th>genre_ids</th>\n",
       "      <th>id</th>\n",
       "      <th>original_language</th>\n",
       "      <th>original_title</th>\n",
       "      <th>popularity</th>\n",
       "      <th>release_date</th>\n",
       "      <th>vote_average</th>\n",
       "      <th>vote_count</th>\n",
       "    </tr>\n",
       "    <tr>\n",
       "      <th>title</th>\n",
       "      <th></th>\n",
       "      <th></th>\n",
       "      <th></th>\n",
       "      <th></th>\n",
       "      <th></th>\n",
       "      <th></th>\n",
       "      <th></th>\n",
       "      <th></th>\n",
       "      <th></th>\n",
       "    </tr>\n",
       "  </thead>\n",
       "  <tbody>\n",
       "    <tr>\n",
       "      <th>Harry Potter and the Deathly Hallows: Part 1</th>\n",
       "      <td>0</td>\n",
       "      <td>[12, 14, 10751]</td>\n",
       "      <td>12444</td>\n",
       "      <td>en</td>\n",
       "      <td>Harry Potter and the Deathly Hallows: Part 1</td>\n",
       "      <td>33.533</td>\n",
       "      <td>2010-11-19</td>\n",
       "      <td>7.7</td>\n",
       "      <td>10788</td>\n",
       "    </tr>\n",
       "    <tr>\n",
       "      <th>How to Train Your Dragon</th>\n",
       "      <td>1</td>\n",
       "      <td>[14, 12, 16, 10751]</td>\n",
       "      <td>10191</td>\n",
       "      <td>en</td>\n",
       "      <td>How to Train Your Dragon</td>\n",
       "      <td>28.734</td>\n",
       "      <td>2010-03-26</td>\n",
       "      <td>7.7</td>\n",
       "      <td>7610</td>\n",
       "    </tr>\n",
       "    <tr>\n",
       "      <th>Iron Man 2</th>\n",
       "      <td>2</td>\n",
       "      <td>[12, 28, 878]</td>\n",
       "      <td>10138</td>\n",
       "      <td>en</td>\n",
       "      <td>Iron Man 2</td>\n",
       "      <td>28.515</td>\n",
       "      <td>2010-05-07</td>\n",
       "      <td>6.8</td>\n",
       "      <td>12368</td>\n",
       "    </tr>\n",
       "    <tr>\n",
       "      <th>Toy Story</th>\n",
       "      <td>3</td>\n",
       "      <td>[16, 35, 10751]</td>\n",
       "      <td>862</td>\n",
       "      <td>en</td>\n",
       "      <td>Toy Story</td>\n",
       "      <td>28.005</td>\n",
       "      <td>1995-11-22</td>\n",
       "      <td>7.9</td>\n",
       "      <td>10174</td>\n",
       "    </tr>\n",
       "    <tr>\n",
       "      <th>Inception</th>\n",
       "      <td>4</td>\n",
       "      <td>[28, 878, 12]</td>\n",
       "      <td>27205</td>\n",
       "      <td>en</td>\n",
       "      <td>Inception</td>\n",
       "      <td>27.920</td>\n",
       "      <td>2010-07-16</td>\n",
       "      <td>8.3</td>\n",
       "      <td>22186</td>\n",
       "    </tr>\n",
       "  </tbody>\n",
       "</table>\n",
       "</div>"
      ],
      "text/plain": [
       "                                              Unnamed: 0            genre_ids  \\\n",
       "title                                                                           \n",
       "Harry Potter and the Deathly Hallows: Part 1           0      [12, 14, 10751]   \n",
       "How to Train Your Dragon                               1  [14, 12, 16, 10751]   \n",
       "Iron Man 2                                             2        [12, 28, 878]   \n",
       "Toy Story                                              3      [16, 35, 10751]   \n",
       "Inception                                              4        [28, 878, 12]   \n",
       "\n",
       "                                                 id original_language  \\\n",
       "title                                                                   \n",
       "Harry Potter and the Deathly Hallows: Part 1  12444                en   \n",
       "How to Train Your Dragon                      10191                en   \n",
       "Iron Man 2                                    10138                en   \n",
       "Toy Story                                       862                en   \n",
       "Inception                                     27205                en   \n",
       "\n",
       "                                                                            original_title  \\\n",
       "title                                                                                        \n",
       "Harry Potter and the Deathly Hallows: Part 1  Harry Potter and the Deathly Hallows: Part 1   \n",
       "How to Train Your Dragon                                          How to Train Your Dragon   \n",
       "Iron Man 2                                                                      Iron Man 2   \n",
       "Toy Story                                                                        Toy Story   \n",
       "Inception                                                                        Inception   \n",
       "\n",
       "                                              popularity release_date  \\\n",
       "title                                                                   \n",
       "Harry Potter and the Deathly Hallows: Part 1      33.533   2010-11-19   \n",
       "How to Train Your Dragon                          28.734   2010-03-26   \n",
       "Iron Man 2                                        28.515   2010-05-07   \n",
       "Toy Story                                         28.005   1995-11-22   \n",
       "Inception                                         27.920   2010-07-16   \n",
       "\n",
       "                                              vote_average  vote_count  \n",
       "title                                                                   \n",
       "Harry Potter and the Deathly Hallows: Part 1           7.7       10788  \n",
       "How to Train Your Dragon                               7.7        7610  \n",
       "Iron Man 2                                             6.8       12368  \n",
       "Toy Story                                              7.9       10174  \n",
       "Inception                                              8.3       22186  "
      ]
     },
     "execution_count": 34,
     "metadata": {},
     "output_type": "execute_result"
    }
   ],
   "source": [
    "tmb_movies.set_index('title', inplace= True)\n",
    "tmb_movies.head()\n"
   ]
  },
  {
   "cell_type": "code",
   "execution_count": 35,
   "metadata": {
    "ExecuteTime": {
     "end_time": "2022-06-06T09:28:18.302714Z",
     "start_time": "2022-06-06T09:28:18.270885Z"
    }
   },
   "outputs": [],
   "source": [
    "movie_budgets_w_review = (\n",
    "    movie_budgets_filtered_iqr.merge(tmb_movies,\n",
    "    left_index= True, right_index= True)\n",
    ")"
   ]
  },
  {
   "cell_type": "code",
   "execution_count": 36,
   "metadata": {
    "ExecuteTime": {
     "end_time": "2022-06-06T09:28:18.312114Z",
     "start_time": "2022-06-06T09:28:18.303562Z"
    }
   },
   "outputs": [
    {
     "data": {
      "text/html": [
       "<div>\n",
       "<style scoped>\n",
       "    .dataframe tbody tr th:only-of-type {\n",
       "        vertical-align: middle;\n",
       "    }\n",
       "\n",
       "    .dataframe tbody tr th {\n",
       "        vertical-align: top;\n",
       "    }\n",
       "\n",
       "    .dataframe thead th {\n",
       "        text-align: right;\n",
       "    }\n",
       "</style>\n",
       "<table border=\"1\" class=\"dataframe\">\n",
       "  <thead>\n",
       "    <tr style=\"text-align: right;\">\n",
       "      <th></th>\n",
       "      <th>release_date_x</th>\n",
       "      <th>production_budget</th>\n",
       "      <th>domestic_gross</th>\n",
       "      <th>worldwide_gross</th>\n",
       "      <th>profit</th>\n",
       "      <th>roi</th>\n",
       "      <th>Unnamed: 0</th>\n",
       "      <th>genre_ids</th>\n",
       "      <th>id</th>\n",
       "      <th>original_language</th>\n",
       "      <th>original_title</th>\n",
       "      <th>popularity</th>\n",
       "      <th>release_date_y</th>\n",
       "      <th>vote_average</th>\n",
       "      <th>vote_count</th>\n",
       "    </tr>\n",
       "  </thead>\n",
       "  <tbody>\n",
       "    <tr>\n",
       "      <th>10 Cloverfield Lane</th>\n",
       "      <td>Mar 11, 2016</td>\n",
       "      <td>5000000.0</td>\n",
       "      <td>72082999.0</td>\n",
       "      <td>108286422.0</td>\n",
       "      <td>175369421.0</td>\n",
       "      <td>35.073884</td>\n",
       "      <td>17422</td>\n",
       "      <td>[53, 878, 18]</td>\n",
       "      <td>333371</td>\n",
       "      <td>en</td>\n",
       "      <td>10 Cloverfield Lane</td>\n",
       "      <td>17.892</td>\n",
       "      <td>2016-03-11</td>\n",
       "      <td>6.9</td>\n",
       "      <td>4629</td>\n",
       "    </tr>\n",
       "    <tr>\n",
       "      <th>10 Days in a Madhouse</th>\n",
       "      <td>Nov 11, 2015</td>\n",
       "      <td>12000000.0</td>\n",
       "      <td>14616.0</td>\n",
       "      <td>14616.0</td>\n",
       "      <td>-11970768.0</td>\n",
       "      <td>-0.997564</td>\n",
       "      <td>15907</td>\n",
       "      <td>[18]</td>\n",
       "      <td>345003</td>\n",
       "      <td>en</td>\n",
       "      <td>10 Days in a Madhouse</td>\n",
       "      <td>0.955</td>\n",
       "      <td>2015-11-20</td>\n",
       "      <td>5.4</td>\n",
       "      <td>7</td>\n",
       "    </tr>\n",
       "    <tr>\n",
       "      <th>12 Strong</th>\n",
       "      <td>Jan 19, 2018</td>\n",
       "      <td>35000000.0</td>\n",
       "      <td>45819713.0</td>\n",
       "      <td>71118378.0</td>\n",
       "      <td>81938091.0</td>\n",
       "      <td>2.341088</td>\n",
       "      <td>24032</td>\n",
       "      <td>[10752, 18, 36, 28]</td>\n",
       "      <td>429351</td>\n",
       "      <td>en</td>\n",
       "      <td>12 Strong</td>\n",
       "      <td>13.183</td>\n",
       "      <td>2018-01-19</td>\n",
       "      <td>5.6</td>\n",
       "      <td>1312</td>\n",
       "    </tr>\n",
       "    <tr>\n",
       "      <th>12 Years a Slave</th>\n",
       "      <td>Oct 18, 2013</td>\n",
       "      <td>20000000.0</td>\n",
       "      <td>56671993.0</td>\n",
       "      <td>181025343.0</td>\n",
       "      <td>217697336.0</td>\n",
       "      <td>10.884867</td>\n",
       "      <td>7911</td>\n",
       "      <td>[18, 36]</td>\n",
       "      <td>76203</td>\n",
       "      <td>en</td>\n",
       "      <td>12 Years a Slave</td>\n",
       "      <td>16.493</td>\n",
       "      <td>2013-10-30</td>\n",
       "      <td>7.9</td>\n",
       "      <td>6631</td>\n",
       "    </tr>\n",
       "    <tr>\n",
       "      <th>127 Hours</th>\n",
       "      <td>Nov 5, 2010</td>\n",
       "      <td>18000000.0</td>\n",
       "      <td>18335230.0</td>\n",
       "      <td>60217171.0</td>\n",
       "      <td>60552401.0</td>\n",
       "      <td>3.364022</td>\n",
       "      <td>93</td>\n",
       "      <td>[12, 18, 53]</td>\n",
       "      <td>44115</td>\n",
       "      <td>en</td>\n",
       "      <td>127 Hours</td>\n",
       "      <td>11.435</td>\n",
       "      <td>2010-11-05</td>\n",
       "      <td>7.0</td>\n",
       "      <td>4469</td>\n",
       "    </tr>\n",
       "  </tbody>\n",
       "</table>\n",
       "</div>"
      ],
      "text/plain": [
       "                      release_date_x  production_budget  domestic_gross  \\\n",
       "10 Cloverfield Lane     Mar 11, 2016          5000000.0      72082999.0   \n",
       "10 Days in a Madhouse   Nov 11, 2015         12000000.0         14616.0   \n",
       "12 Strong               Jan 19, 2018         35000000.0      45819713.0   \n",
       "12 Years a Slave        Oct 18, 2013         20000000.0      56671993.0   \n",
       "127 Hours                Nov 5, 2010         18000000.0      18335230.0   \n",
       "\n",
       "                       worldwide_gross       profit        roi  Unnamed: 0  \\\n",
       "10 Cloverfield Lane        108286422.0  175369421.0  35.073884       17422   \n",
       "10 Days in a Madhouse          14616.0  -11970768.0  -0.997564       15907   \n",
       "12 Strong                   71118378.0   81938091.0   2.341088       24032   \n",
       "12 Years a Slave           181025343.0  217697336.0  10.884867        7911   \n",
       "127 Hours                   60217171.0   60552401.0   3.364022          93   \n",
       "\n",
       "                                 genre_ids      id original_language  \\\n",
       "10 Cloverfield Lane          [53, 878, 18]  333371                en   \n",
       "10 Days in a Madhouse                 [18]  345003                en   \n",
       "12 Strong              [10752, 18, 36, 28]  429351                en   \n",
       "12 Years a Slave                  [18, 36]   76203                en   \n",
       "127 Hours                     [12, 18, 53]   44115                en   \n",
       "\n",
       "                              original_title  popularity release_date_y  \\\n",
       "10 Cloverfield Lane      10 Cloverfield Lane      17.892     2016-03-11   \n",
       "10 Days in a Madhouse  10 Days in a Madhouse       0.955     2015-11-20   \n",
       "12 Strong                          12 Strong      13.183     2018-01-19   \n",
       "12 Years a Slave            12 Years a Slave      16.493     2013-10-30   \n",
       "127 Hours                          127 Hours      11.435     2010-11-05   \n",
       "\n",
       "                       vote_average  vote_count  \n",
       "10 Cloverfield Lane             6.9        4629  \n",
       "10 Days in a Madhouse           5.4           7  \n",
       "12 Strong                       5.6        1312  \n",
       "12 Years a Slave                7.9        6631  \n",
       "127 Hours                       7.0        4469  "
      ]
     },
     "execution_count": 36,
     "metadata": {},
     "output_type": "execute_result"
    }
   ],
   "source": [
    "movie_budgets_w_review.head()"
   ]
  },
  {
   "cell_type": "code",
   "execution_count": 37,
   "metadata": {
    "ExecuteTime": {
     "end_time": "2022-06-06T09:28:18.319718Z",
     "start_time": "2022-06-06T09:28:18.312991Z"
    }
   },
   "outputs": [
    {
     "data": {
      "text/html": [
       "<div>\n",
       "<style scoped>\n",
       "    .dataframe tbody tr th:only-of-type {\n",
       "        vertical-align: middle;\n",
       "    }\n",
       "\n",
       "    .dataframe tbody tr th {\n",
       "        vertical-align: top;\n",
       "    }\n",
       "\n",
       "    .dataframe thead th {\n",
       "        text-align: right;\n",
       "    }\n",
       "</style>\n",
       "<table border=\"1\" class=\"dataframe\">\n",
       "  <thead>\n",
       "    <tr style=\"text-align: right;\">\n",
       "      <th></th>\n",
       "      <th>profit</th>\n",
       "      <th>roi</th>\n",
       "      <th>production_budget</th>\n",
       "      <th>vote_average</th>\n",
       "      <th>release_date_x</th>\n",
       "    </tr>\n",
       "  </thead>\n",
       "  <tbody>\n",
       "    <tr>\n",
       "      <th>10 Cloverfield Lane</th>\n",
       "      <td>175369421.0</td>\n",
       "      <td>35.073884</td>\n",
       "      <td>5000000.0</td>\n",
       "      <td>6.9</td>\n",
       "      <td>Mar 11, 2016</td>\n",
       "    </tr>\n",
       "    <tr>\n",
       "      <th>10 Days in a Madhouse</th>\n",
       "      <td>-11970768.0</td>\n",
       "      <td>-0.997564</td>\n",
       "      <td>12000000.0</td>\n",
       "      <td>5.4</td>\n",
       "      <td>Nov 11, 2015</td>\n",
       "    </tr>\n",
       "    <tr>\n",
       "      <th>12 Strong</th>\n",
       "      <td>81938091.0</td>\n",
       "      <td>2.341088</td>\n",
       "      <td>35000000.0</td>\n",
       "      <td>5.6</td>\n",
       "      <td>Jan 19, 2018</td>\n",
       "    </tr>\n",
       "    <tr>\n",
       "      <th>12 Years a Slave</th>\n",
       "      <td>217697336.0</td>\n",
       "      <td>10.884867</td>\n",
       "      <td>20000000.0</td>\n",
       "      <td>7.9</td>\n",
       "      <td>Oct 18, 2013</td>\n",
       "    </tr>\n",
       "    <tr>\n",
       "      <th>127 Hours</th>\n",
       "      <td>60552401.0</td>\n",
       "      <td>3.364022</td>\n",
       "      <td>18000000.0</td>\n",
       "      <td>7.0</td>\n",
       "      <td>Nov 5, 2010</td>\n",
       "    </tr>\n",
       "  </tbody>\n",
       "</table>\n",
       "</div>"
      ],
      "text/plain": [
       "                            profit        roi  production_budget  \\\n",
       "10 Cloverfield Lane    175369421.0  35.073884          5000000.0   \n",
       "10 Days in a Madhouse  -11970768.0  -0.997564         12000000.0   \n",
       "12 Strong               81938091.0   2.341088         35000000.0   \n",
       "12 Years a Slave       217697336.0  10.884867         20000000.0   \n",
       "127 Hours               60552401.0   3.364022         18000000.0   \n",
       "\n",
       "                       vote_average release_date_x  \n",
       "10 Cloverfield Lane             6.9   Mar 11, 2016  \n",
       "10 Days in a Madhouse           5.4   Nov 11, 2015  \n",
       "12 Strong                       5.6   Jan 19, 2018  \n",
       "12 Years a Slave                7.9   Oct 18, 2013  \n",
       "127 Hours                       7.0    Nov 5, 2010  "
      ]
     },
     "execution_count": 37,
     "metadata": {},
     "output_type": "execute_result"
    }
   ],
   "source": [
    "movie_budgets_w_review = (\n",
    "    movie_budgets_w_review\n",
    "    [['profit', 'roi', 'production_budget', 'vote_average', 'release_date_x']]\n",
    ")\n",
    "movie_budgets_w_review.head()"
   ]
  },
  {
   "cell_type": "code",
   "execution_count": 38,
   "metadata": {
    "ExecuteTime": {
     "end_time": "2022-06-06T09:28:18.326205Z",
     "start_time": "2022-06-06T09:28:18.320534Z"
    }
   },
   "outputs": [
    {
     "data": {
      "text/html": [
       "<div>\n",
       "<style scoped>\n",
       "    .dataframe tbody tr th:only-of-type {\n",
       "        vertical-align: middle;\n",
       "    }\n",
       "\n",
       "    .dataframe tbody tr th {\n",
       "        vertical-align: top;\n",
       "    }\n",
       "\n",
       "    .dataframe thead th {\n",
       "        text-align: right;\n",
       "    }\n",
       "</style>\n",
       "<table border=\"1\" class=\"dataframe\">\n",
       "  <thead>\n",
       "    <tr style=\"text-align: right;\">\n",
       "      <th></th>\n",
       "      <th>profit</th>\n",
       "      <th>roi</th>\n",
       "      <th>production_budget</th>\n",
       "      <th>vote_average</th>\n",
       "      <th>release_date_x</th>\n",
       "    </tr>\n",
       "  </thead>\n",
       "  <tbody>\n",
       "    <tr>\n",
       "      <th>10 Cloverfield Lane</th>\n",
       "      <td>175369421.0</td>\n",
       "      <td>35.073884</td>\n",
       "      <td>5000000.0</td>\n",
       "      <td>6.9</td>\n",
       "      <td>Mar 11, 2016</td>\n",
       "    </tr>\n",
       "    <tr>\n",
       "      <th>10 Days in a Madhouse</th>\n",
       "      <td>-11970768.0</td>\n",
       "      <td>-0.997564</td>\n",
       "      <td>12000000.0</td>\n",
       "      <td>5.4</td>\n",
       "      <td>Nov 11, 2015</td>\n",
       "    </tr>\n",
       "    <tr>\n",
       "      <th>12 Strong</th>\n",
       "      <td>81938091.0</td>\n",
       "      <td>2.341088</td>\n",
       "      <td>35000000.0</td>\n",
       "      <td>5.6</td>\n",
       "      <td>Jan 19, 2018</td>\n",
       "    </tr>\n",
       "    <tr>\n",
       "      <th>12 Years a Slave</th>\n",
       "      <td>217697336.0</td>\n",
       "      <td>10.884867</td>\n",
       "      <td>20000000.0</td>\n",
       "      <td>7.9</td>\n",
       "      <td>Oct 18, 2013</td>\n",
       "    </tr>\n",
       "    <tr>\n",
       "      <th>127 Hours</th>\n",
       "      <td>60552401.0</td>\n",
       "      <td>3.364022</td>\n",
       "      <td>18000000.0</td>\n",
       "      <td>7.0</td>\n",
       "      <td>Nov 5, 2010</td>\n",
       "    </tr>\n",
       "  </tbody>\n",
       "</table>\n",
       "</div>"
      ],
      "text/plain": [
       "                            profit        roi  production_budget  \\\n",
       "10 Cloverfield Lane    175369421.0  35.073884          5000000.0   \n",
       "10 Days in a Madhouse  -11970768.0  -0.997564         12000000.0   \n",
       "12 Strong               81938091.0   2.341088         35000000.0   \n",
       "12 Years a Slave       217697336.0  10.884867         20000000.0   \n",
       "127 Hours               60552401.0   3.364022         18000000.0   \n",
       "\n",
       "                       vote_average release_date_x  \n",
       "10 Cloverfield Lane             6.9   Mar 11, 2016  \n",
       "10 Days in a Madhouse           5.4   Nov 11, 2015  \n",
       "12 Strong                       5.6   Jan 19, 2018  \n",
       "12 Years a Slave                7.9   Oct 18, 2013  \n",
       "127 Hours                       7.0    Nov 5, 2010  "
      ]
     },
     "execution_count": 38,
     "metadata": {},
     "output_type": "execute_result"
    }
   ],
   "source": [
    "movie_budgets_w_review.head()\n"
   ]
  },
  {
   "cell_type": "code",
   "execution_count": 39,
   "metadata": {
    "ExecuteTime": {
     "end_time": "2022-06-06T09:28:18.328728Z",
     "start_time": "2022-06-06T09:28:18.327042Z"
    }
   },
   "outputs": [],
   "source": [
    "#avg_rating = pd.read_sql(\"\"\"SELECT * FROM movie_ratings;\"\"\", db_conn)"
   ]
  },
  {
   "cell_type": "code",
   "execution_count": 40,
   "metadata": {
    "ExecuteTime": {
     "end_time": "2022-06-06T09:28:18.331065Z",
     "start_time": "2022-06-06T09:28:18.329427Z"
    }
   },
   "outputs": [],
   "source": [
    "#avg_rating"
   ]
  },
  {
   "cell_type": "code",
   "execution_count": 41,
   "metadata": {
    "ExecuteTime": {
     "end_time": "2022-06-06T09:28:18.766412Z",
     "start_time": "2022-06-06T09:28:18.331914Z"
    }
   },
   "outputs": [],
   "source": [
    "avg_rating_genre=pd.read_sql(\"\"\"\n",
    "SELECT r.averagerating, primary_title, genres\n",
    "FROM movie_ratings r\n",
    "JOIN movie_basics b\n",
    "    ON r.movie_id = b.movie_id;\"\"\", db_conn)"
   ]
  },
  {
   "cell_type": "code",
   "execution_count": 42,
   "metadata": {
    "ExecuteTime": {
     "end_time": "2022-06-06T09:28:18.769745Z",
     "start_time": "2022-06-06T09:28:18.767233Z"
    }
   },
   "outputs": [],
   "source": [
    "avg_rating_genre.set_index('primary_title', inplace= True)"
   ]
  },
  {
   "cell_type": "code",
   "execution_count": 43,
   "metadata": {
    "ExecuteTime": {
     "end_time": "2022-06-06T09:28:18.774952Z",
     "start_time": "2022-06-06T09:28:18.770523Z"
    }
   },
   "outputs": [
    {
     "data": {
      "text/html": [
       "<div>\n",
       "<style scoped>\n",
       "    .dataframe tbody tr th:only-of-type {\n",
       "        vertical-align: middle;\n",
       "    }\n",
       "\n",
       "    .dataframe tbody tr th {\n",
       "        vertical-align: top;\n",
       "    }\n",
       "\n",
       "    .dataframe thead th {\n",
       "        text-align: right;\n",
       "    }\n",
       "</style>\n",
       "<table border=\"1\" class=\"dataframe\">\n",
       "  <thead>\n",
       "    <tr style=\"text-align: right;\">\n",
       "      <th></th>\n",
       "      <th>averagerating</th>\n",
       "      <th>genres</th>\n",
       "    </tr>\n",
       "    <tr>\n",
       "      <th>primary_title</th>\n",
       "      <th></th>\n",
       "      <th></th>\n",
       "    </tr>\n",
       "  </thead>\n",
       "  <tbody>\n",
       "    <tr>\n",
       "      <th>Laiye Je Yaarian</th>\n",
       "      <td>8.3</td>\n",
       "      <td>Romance</td>\n",
       "    </tr>\n",
       "    <tr>\n",
       "      <th>Borderless</th>\n",
       "      <td>8.9</td>\n",
       "      <td>Documentary</td>\n",
       "    </tr>\n",
       "    <tr>\n",
       "      <th>Just Inès</th>\n",
       "      <td>6.4</td>\n",
       "      <td>Drama</td>\n",
       "    </tr>\n",
       "    <tr>\n",
       "      <th>The Legend of Hercules</th>\n",
       "      <td>4.2</td>\n",
       "      <td>Action,Adventure,Fantasy</td>\n",
       "    </tr>\n",
       "    <tr>\n",
       "      <th>Até Onde?</th>\n",
       "      <td>6.5</td>\n",
       "      <td>Mystery,Thriller</td>\n",
       "    </tr>\n",
       "  </tbody>\n",
       "</table>\n",
       "</div>"
      ],
      "text/plain": [
       "                        averagerating                    genres\n",
       "primary_title                                                  \n",
       "Laiye Je Yaarian                  8.3                   Romance\n",
       "Borderless                        8.9               Documentary\n",
       "Just Inès                         6.4                     Drama\n",
       "The Legend of Hercules            4.2  Action,Adventure,Fantasy\n",
       "Até Onde?                         6.5          Mystery,Thriller"
      ]
     },
     "execution_count": 43,
     "metadata": {},
     "output_type": "execute_result"
    }
   ],
   "source": [
    "avg_rating_genre.head()"
   ]
  },
  {
   "cell_type": "markdown",
   "metadata": {
    "ExecuteTime": {
     "end_time": "2022-05-31T14:36:41.444412Z",
     "start_time": "2022-05-31T14:36:41.439932Z"
    }
   },
   "source": [
    "Creating a budget grouping of data to make visualization and comparison possible"
   ]
  },
  {
   "cell_type": "code",
   "execution_count": 44,
   "metadata": {
    "ExecuteTime": {
     "end_time": "2022-06-06T09:28:18.779832Z",
     "start_time": "2022-06-06T09:28:18.775873Z"
    }
   },
   "outputs": [
    {
     "data": {
      "text/plain": [
       "10 Cloverfield Lane       5000000.0\n",
       "10 Days in a Madhouse    12000000.0\n",
       "12 Strong                35000000.0\n",
       "12 Years a Slave         20000000.0\n",
       "127 Hours                18000000.0\n",
       "                            ...    \n",
       "Youth                    13000000.0\n",
       "Youth                    13000000.0\n",
       "Zambezia                 20000000.0\n",
       "Zoom                     35000000.0\n",
       "mother!                  30000000.0\n",
       "Name: production_budget, Length: 1189, dtype: float64"
      ]
     },
     "execution_count": 44,
     "metadata": {},
     "output_type": "execute_result"
    }
   ],
   "source": [
    "movie_budgets_w_review['production_budget'].round(decimals = -6)\n"
   ]
  },
  {
   "cell_type": "code",
   "execution_count": 45,
   "metadata": {
    "ExecuteTime": {
     "end_time": "2022-06-06T09:28:18.783072Z",
     "start_time": "2022-06-06T09:28:18.780656Z"
    }
   },
   "outputs": [],
   "source": [
    "movie_budgets_w_review['budget_group'] = movie_budgets_w_review\\\n",
    "['production_budget'].map(lambda x : x/1000000)"
   ]
  },
  {
   "cell_type": "code",
   "execution_count": 46,
   "metadata": {
    "ExecuteTime": {
     "end_time": "2022-06-06T09:28:18.785747Z",
     "start_time": "2022-06-06T09:28:18.783881Z"
    }
   },
   "outputs": [],
   "source": [
    "def round_5(x, base = 5):\n",
    "    return int(base * round(x/base))"
   ]
  },
  {
   "cell_type": "code",
   "execution_count": 47,
   "metadata": {
    "ExecuteTime": {
     "end_time": "2022-06-06T09:28:18.789569Z",
     "start_time": "2022-06-06T09:28:18.786659Z"
    }
   },
   "outputs": [],
   "source": [
    "movie_budgets_w_review['budget_group'] = movie_budgets_w_review['budget_group'].apply(lambda x : round_5(x))"
   ]
  },
  {
   "cell_type": "code",
   "execution_count": 48,
   "metadata": {
    "ExecuteTime": {
     "end_time": "2022-06-06T09:28:18.797421Z",
     "start_time": "2022-06-06T09:28:18.790518Z"
    }
   },
   "outputs": [
    {
     "data": {
      "text/html": [
       "<div>\n",
       "<style scoped>\n",
       "    .dataframe tbody tr th:only-of-type {\n",
       "        vertical-align: middle;\n",
       "    }\n",
       "\n",
       "    .dataframe tbody tr th {\n",
       "        vertical-align: top;\n",
       "    }\n",
       "\n",
       "    .dataframe thead th {\n",
       "        text-align: right;\n",
       "    }\n",
       "</style>\n",
       "<table border=\"1\" class=\"dataframe\">\n",
       "  <thead>\n",
       "    <tr style=\"text-align: right;\">\n",
       "      <th></th>\n",
       "      <th>profit</th>\n",
       "      <th>roi</th>\n",
       "      <th>production_budget</th>\n",
       "      <th>vote_average</th>\n",
       "      <th>release_date_x</th>\n",
       "      <th>budget_group</th>\n",
       "    </tr>\n",
       "  </thead>\n",
       "  <tbody>\n",
       "    <tr>\n",
       "      <th>10 Cloverfield Lane</th>\n",
       "      <td>175369421.0</td>\n",
       "      <td>35.073884</td>\n",
       "      <td>5000000.0</td>\n",
       "      <td>6.9</td>\n",
       "      <td>Mar 11, 2016</td>\n",
       "      <td>5</td>\n",
       "    </tr>\n",
       "    <tr>\n",
       "      <th>10 Days in a Madhouse</th>\n",
       "      <td>-11970768.0</td>\n",
       "      <td>-0.997564</td>\n",
       "      <td>12000000.0</td>\n",
       "      <td>5.4</td>\n",
       "      <td>Nov 11, 2015</td>\n",
       "      <td>10</td>\n",
       "    </tr>\n",
       "    <tr>\n",
       "      <th>12 Strong</th>\n",
       "      <td>81938091.0</td>\n",
       "      <td>2.341088</td>\n",
       "      <td>35000000.0</td>\n",
       "      <td>5.6</td>\n",
       "      <td>Jan 19, 2018</td>\n",
       "      <td>35</td>\n",
       "    </tr>\n",
       "    <tr>\n",
       "      <th>12 Years a Slave</th>\n",
       "      <td>217697336.0</td>\n",
       "      <td>10.884867</td>\n",
       "      <td>20000000.0</td>\n",
       "      <td>7.9</td>\n",
       "      <td>Oct 18, 2013</td>\n",
       "      <td>20</td>\n",
       "    </tr>\n",
       "    <tr>\n",
       "      <th>127 Hours</th>\n",
       "      <td>60552401.0</td>\n",
       "      <td>3.364022</td>\n",
       "      <td>18000000.0</td>\n",
       "      <td>7.0</td>\n",
       "      <td>Nov 5, 2010</td>\n",
       "      <td>20</td>\n",
       "    </tr>\n",
       "  </tbody>\n",
       "</table>\n",
       "</div>"
      ],
      "text/plain": [
       "                            profit        roi  production_budget  \\\n",
       "10 Cloverfield Lane    175369421.0  35.073884          5000000.0   \n",
       "10 Days in a Madhouse  -11970768.0  -0.997564         12000000.0   \n",
       "12 Strong               81938091.0   2.341088         35000000.0   \n",
       "12 Years a Slave       217697336.0  10.884867         20000000.0   \n",
       "127 Hours               60552401.0   3.364022         18000000.0   \n",
       "\n",
       "                       vote_average release_date_x  budget_group  \n",
       "10 Cloverfield Lane             6.9   Mar 11, 2016             5  \n",
       "10 Days in a Madhouse           5.4   Nov 11, 2015            10  \n",
       "12 Strong                       5.6   Jan 19, 2018            35  \n",
       "12 Years a Slave                7.9   Oct 18, 2013            20  \n",
       "127 Hours                       7.0    Nov 5, 2010            20  "
      ]
     },
     "execution_count": 48,
     "metadata": {},
     "output_type": "execute_result"
    }
   ],
   "source": [
    "movie_budgets_w_review.head()"
   ]
  },
  {
   "cell_type": "code",
   "execution_count": 49,
   "metadata": {
    "ExecuteTime": {
     "end_time": "2022-06-06T09:28:18.801793Z",
     "start_time": "2022-06-06T09:28:18.798447Z"
    }
   },
   "outputs": [
    {
     "data": {
      "text/plain": [
       "10 Cloverfield Lane       5\n",
       "10 Days in a Madhouse    10\n",
       "12 Strong                35\n",
       "12 Years a Slave         20\n",
       "127 Hours                20\n",
       "                         ..\n",
       "Youth                    15\n",
       "Youth                    15\n",
       "Zambezia                 20\n",
       "Zoom                     35\n",
       "mother!                  30\n",
       "Name: budget_group, Length: 1189, dtype: int64"
      ]
     },
     "execution_count": 49,
     "metadata": {},
     "output_type": "execute_result"
    }
   ],
   "source": [
    "movie_budgets_w_review['budget_group']"
   ]
  },
  {
   "cell_type": "code",
   "execution_count": 50,
   "metadata": {
    "ExecuteTime": {
     "end_time": "2022-06-06T09:28:18.805254Z",
     "start_time": "2022-06-06T09:28:18.802723Z"
    }
   },
   "outputs": [],
   "source": [
    "movie_budgets_w_review.reset_index(inplace = True)"
   ]
  },
  {
   "cell_type": "code",
   "execution_count": 51,
   "metadata": {
    "ExecuteTime": {
     "end_time": "2022-06-06T09:28:18.808235Z",
     "start_time": "2022-06-06T09:28:18.806016Z"
    }
   },
   "outputs": [],
   "source": [
    "movie_budgets_w_review.rename(columns= {'index': 'movie'}, inplace = True)"
   ]
  },
  {
   "cell_type": "code",
   "execution_count": 52,
   "metadata": {
    "ExecuteTime": {
     "end_time": "2022-06-06T09:28:18.815430Z",
     "start_time": "2022-06-06T09:28:18.809116Z"
    }
   },
   "outputs": [
    {
     "data": {
      "text/html": [
       "<div>\n",
       "<style scoped>\n",
       "    .dataframe tbody tr th:only-of-type {\n",
       "        vertical-align: middle;\n",
       "    }\n",
       "\n",
       "    .dataframe tbody tr th {\n",
       "        vertical-align: top;\n",
       "    }\n",
       "\n",
       "    .dataframe thead th {\n",
       "        text-align: right;\n",
       "    }\n",
       "</style>\n",
       "<table border=\"1\" class=\"dataframe\">\n",
       "  <thead>\n",
       "    <tr style=\"text-align: right;\">\n",
       "      <th></th>\n",
       "      <th>movie</th>\n",
       "      <th>profit</th>\n",
       "      <th>roi</th>\n",
       "      <th>production_budget</th>\n",
       "      <th>vote_average</th>\n",
       "      <th>release_date_x</th>\n",
       "      <th>budget_group</th>\n",
       "    </tr>\n",
       "  </thead>\n",
       "  <tbody>\n",
       "    <tr>\n",
       "      <th>0</th>\n",
       "      <td>10 Cloverfield Lane</td>\n",
       "      <td>175369421.0</td>\n",
       "      <td>35.073884</td>\n",
       "      <td>5000000.0</td>\n",
       "      <td>6.9</td>\n",
       "      <td>Mar 11, 2016</td>\n",
       "      <td>5</td>\n",
       "    </tr>\n",
       "    <tr>\n",
       "      <th>1</th>\n",
       "      <td>10 Days in a Madhouse</td>\n",
       "      <td>-11970768.0</td>\n",
       "      <td>-0.997564</td>\n",
       "      <td>12000000.0</td>\n",
       "      <td>5.4</td>\n",
       "      <td>Nov 11, 2015</td>\n",
       "      <td>10</td>\n",
       "    </tr>\n",
       "    <tr>\n",
       "      <th>2</th>\n",
       "      <td>12 Strong</td>\n",
       "      <td>81938091.0</td>\n",
       "      <td>2.341088</td>\n",
       "      <td>35000000.0</td>\n",
       "      <td>5.6</td>\n",
       "      <td>Jan 19, 2018</td>\n",
       "      <td>35</td>\n",
       "    </tr>\n",
       "    <tr>\n",
       "      <th>3</th>\n",
       "      <td>12 Years a Slave</td>\n",
       "      <td>217697336.0</td>\n",
       "      <td>10.884867</td>\n",
       "      <td>20000000.0</td>\n",
       "      <td>7.9</td>\n",
       "      <td>Oct 18, 2013</td>\n",
       "      <td>20</td>\n",
       "    </tr>\n",
       "    <tr>\n",
       "      <th>4</th>\n",
       "      <td>127 Hours</td>\n",
       "      <td>60552401.0</td>\n",
       "      <td>3.364022</td>\n",
       "      <td>18000000.0</td>\n",
       "      <td>7.0</td>\n",
       "      <td>Nov 5, 2010</td>\n",
       "      <td>20</td>\n",
       "    </tr>\n",
       "  </tbody>\n",
       "</table>\n",
       "</div>"
      ],
      "text/plain": [
       "                   movie       profit        roi  production_budget  \\\n",
       "0    10 Cloverfield Lane  175369421.0  35.073884          5000000.0   \n",
       "1  10 Days in a Madhouse  -11970768.0  -0.997564         12000000.0   \n",
       "2              12 Strong   81938091.0   2.341088         35000000.0   \n",
       "3       12 Years a Slave  217697336.0  10.884867         20000000.0   \n",
       "4              127 Hours   60552401.0   3.364022         18000000.0   \n",
       "\n",
       "   vote_average release_date_x  budget_group  \n",
       "0           6.9   Mar 11, 2016             5  \n",
       "1           5.4   Nov 11, 2015            10  \n",
       "2           5.6   Jan 19, 2018            35  \n",
       "3           7.9   Oct 18, 2013            20  \n",
       "4           7.0    Nov 5, 2010            20  "
      ]
     },
     "execution_count": 52,
     "metadata": {},
     "output_type": "execute_result"
    }
   ],
   "source": [
    "\n",
    "movie_budgets_w_review.head()"
   ]
  },
  {
   "cell_type": "code",
   "execution_count": 53,
   "metadata": {
    "ExecuteTime": {
     "end_time": "2022-06-06T09:28:18.823939Z",
     "start_time": "2022-06-06T09:28:18.816259Z"
    }
   },
   "outputs": [
    {
     "data": {
      "text/html": [
       "<div>\n",
       "<style scoped>\n",
       "    .dataframe tbody tr th:only-of-type {\n",
       "        vertical-align: middle;\n",
       "    }\n",
       "\n",
       "    .dataframe tbody tr th {\n",
       "        vertical-align: top;\n",
       "    }\n",
       "\n",
       "    .dataframe thead th {\n",
       "        text-align: right;\n",
       "    }\n",
       "</style>\n",
       "<table border=\"1\" class=\"dataframe\">\n",
       "  <thead>\n",
       "    <tr style=\"text-align: right;\">\n",
       "      <th></th>\n",
       "      <th>profit</th>\n",
       "      <th>roi</th>\n",
       "      <th>production_budget</th>\n",
       "      <th>vote_average</th>\n",
       "    </tr>\n",
       "    <tr>\n",
       "      <th>budget_group</th>\n",
       "      <th></th>\n",
       "      <th></th>\n",
       "      <th></th>\n",
       "      <th></th>\n",
       "    </tr>\n",
       "  </thead>\n",
       "  <tbody>\n",
       "    <tr>\n",
       "      <th>5</th>\n",
       "      <td>4.703846e+07</td>\n",
       "      <td>8.841384</td>\n",
       "      <td>5.728869e+06</td>\n",
       "      <td>6.138095</td>\n",
       "    </tr>\n",
       "    <tr>\n",
       "      <th>10</th>\n",
       "      <td>4.648407e+07</td>\n",
       "      <td>4.548705</td>\n",
       "      <td>1.008074e+07</td>\n",
       "      <td>6.355926</td>\n",
       "    </tr>\n",
       "    <tr>\n",
       "      <th>15</th>\n",
       "      <td>5.908965e+07</td>\n",
       "      <td>4.044592</td>\n",
       "      <td>1.469524e+07</td>\n",
       "      <td>6.288435</td>\n",
       "    </tr>\n",
       "    <tr>\n",
       "      <th>20</th>\n",
       "      <td>8.155366e+07</td>\n",
       "      <td>4.097472</td>\n",
       "      <td>1.976474e+07</td>\n",
       "      <td>6.180000</td>\n",
       "    </tr>\n",
       "    <tr>\n",
       "      <th>25</th>\n",
       "      <td>5.779423e+07</td>\n",
       "      <td>2.330625</td>\n",
       "      <td>2.492960e+07</td>\n",
       "      <td>6.313600</td>\n",
       "    </tr>\n",
       "  </tbody>\n",
       "</table>\n",
       "</div>"
      ],
      "text/plain": [
       "                    profit       roi  production_budget  vote_average\n",
       "budget_group                                                         \n",
       "5             4.703846e+07  8.841384       5.728869e+06      6.138095\n",
       "10            4.648407e+07  4.548705       1.008074e+07      6.355926\n",
       "15            5.908965e+07  4.044592       1.469524e+07      6.288435\n",
       "20            8.155366e+07  4.097472       1.976474e+07      6.180000\n",
       "25            5.779423e+07  2.330625       2.492960e+07      6.313600"
      ]
     },
     "execution_count": 53,
     "metadata": {},
     "output_type": "execute_result"
    }
   ],
   "source": [
    "budget_group = movie_budgets_w_review.groupby(['budget_group']).agg('mean')\n",
    "budget_group.head()"
   ]
  },
  {
   "cell_type": "code",
   "execution_count": 54,
   "metadata": {
    "ExecuteTime": {
     "end_time": "2022-06-06T09:28:18.829606Z",
     "start_time": "2022-06-06T09:28:18.824758Z"
    }
   },
   "outputs": [],
   "source": [
    "movie_budgets_pivot= movie_budgets_w_review.pivot_table(index = 'budget_group',\\\n",
    "values = ('profit', 'roi'), aggfunc= 'mean')"
   ]
  },
  {
   "cell_type": "code",
   "execution_count": 55,
   "metadata": {
    "ExecuteTime": {
     "end_time": "2022-06-06T09:28:18.835589Z",
     "start_time": "2022-06-06T09:28:18.830537Z"
    }
   },
   "outputs": [
    {
     "data": {
      "text/html": [
       "<div>\n",
       "<style scoped>\n",
       "    .dataframe tbody tr th:only-of-type {\n",
       "        vertical-align: middle;\n",
       "    }\n",
       "\n",
       "    .dataframe tbody tr th {\n",
       "        vertical-align: top;\n",
       "    }\n",
       "\n",
       "    .dataframe thead th {\n",
       "        text-align: right;\n",
       "    }\n",
       "</style>\n",
       "<table border=\"1\" class=\"dataframe\">\n",
       "  <thead>\n",
       "    <tr style=\"text-align: right;\">\n",
       "      <th></th>\n",
       "      <th>profit</th>\n",
       "      <th>roi</th>\n",
       "    </tr>\n",
       "    <tr>\n",
       "      <th>budget_group</th>\n",
       "      <th></th>\n",
       "      <th></th>\n",
       "    </tr>\n",
       "  </thead>\n",
       "  <tbody>\n",
       "    <tr>\n",
       "      <th>10</th>\n",
       "      <td>4.648407e+07</td>\n",
       "      <td>4.548705</td>\n",
       "    </tr>\n",
       "    <tr>\n",
       "      <th>5</th>\n",
       "      <td>4.703846e+07</td>\n",
       "      <td>8.841384</td>\n",
       "    </tr>\n",
       "    <tr>\n",
       "      <th>25</th>\n",
       "      <td>5.779423e+07</td>\n",
       "      <td>2.330625</td>\n",
       "    </tr>\n",
       "    <tr>\n",
       "      <th>15</th>\n",
       "      <td>5.908965e+07</td>\n",
       "      <td>4.044592</td>\n",
       "    </tr>\n",
       "    <tr>\n",
       "      <th>20</th>\n",
       "      <td>8.155366e+07</td>\n",
       "      <td>4.097472</td>\n",
       "    </tr>\n",
       "    <tr>\n",
       "      <th>30</th>\n",
       "      <td>9.543494e+07</td>\n",
       "      <td>3.209804</td>\n",
       "    </tr>\n",
       "    <tr>\n",
       "      <th>35</th>\n",
       "      <td>1.025647e+08</td>\n",
       "      <td>2.912725</td>\n",
       "    </tr>\n",
       "    <tr>\n",
       "      <th>40</th>\n",
       "      <td>1.270217e+08</td>\n",
       "      <td>3.205784</td>\n",
       "    </tr>\n",
       "  </tbody>\n",
       "</table>\n",
       "</div>"
      ],
      "text/plain": [
       "                    profit       roi\n",
       "budget_group                        \n",
       "10            4.648407e+07  4.548705\n",
       "5             4.703846e+07  8.841384\n",
       "25            5.779423e+07  2.330625\n",
       "15            5.908965e+07  4.044592\n",
       "20            8.155366e+07  4.097472\n",
       "30            9.543494e+07  3.209804\n",
       "35            1.025647e+08  2.912725\n",
       "40            1.270217e+08  3.205784"
      ]
     },
     "execution_count": 55,
     "metadata": {},
     "output_type": "execute_result"
    }
   ],
   "source": [
    "movie_budgets_pivot.sort_values('profit')"
   ]
  },
  {
   "cell_type": "code",
   "execution_count": null,
   "metadata": {
    "ExecuteTime": {
     "end_time": "2022-05-31T14:26:39.889210Z",
     "start_time": "2022-05-31T14:26:39.789850Z"
    }
   },
   "outputs": [],
   "source": []
  },
  {
   "cell_type": "code",
   "execution_count": null,
   "metadata": {
    "ExecuteTime": {
     "end_time": "2022-05-31T12:30:51.894494Z",
     "start_time": "2022-05-31T12:30:51.891522Z"
    }
   },
   "outputs": [],
   "source": []
  },
  {
   "cell_type": "code",
   "execution_count": null,
   "metadata": {},
   "outputs": [],
   "source": []
  },
  {
   "cell_type": "code",
   "execution_count": null,
   "metadata": {
    "ExecuteTime": {
     "end_time": "2022-05-31T14:26:39.966153Z",
     "start_time": "2022-05-31T14:26:39.890171Z"
    }
   },
   "outputs": [],
   "source": []
  },
  {
   "cell_type": "code",
   "execution_count": 56,
   "metadata": {
    "ExecuteTime": {
     "end_time": "2022-06-06T09:28:18.840643Z",
     "start_time": "2022-06-06T09:28:18.836505Z"
    }
   },
   "outputs": [
    {
     "data": {
      "text/html": [
       "<div>\n",
       "<style scoped>\n",
       "    .dataframe tbody tr th:only-of-type {\n",
       "        vertical-align: middle;\n",
       "    }\n",
       "\n",
       "    .dataframe tbody tr th {\n",
       "        vertical-align: top;\n",
       "    }\n",
       "\n",
       "    .dataframe thead th {\n",
       "        text-align: right;\n",
       "    }\n",
       "</style>\n",
       "<table border=\"1\" class=\"dataframe\">\n",
       "  <thead>\n",
       "    <tr style=\"text-align: right;\">\n",
       "      <th></th>\n",
       "      <th>profit</th>\n",
       "      <th>roi</th>\n",
       "    </tr>\n",
       "    <tr>\n",
       "      <th>budget_group</th>\n",
       "      <th></th>\n",
       "      <th></th>\n",
       "    </tr>\n",
       "  </thead>\n",
       "  <tbody>\n",
       "    <tr>\n",
       "      <th>5</th>\n",
       "      <td>4.703846e+07</td>\n",
       "      <td>8.841384</td>\n",
       "    </tr>\n",
       "    <tr>\n",
       "      <th>10</th>\n",
       "      <td>4.648407e+07</td>\n",
       "      <td>4.548705</td>\n",
       "    </tr>\n",
       "    <tr>\n",
       "      <th>15</th>\n",
       "      <td>5.908965e+07</td>\n",
       "      <td>4.044592</td>\n",
       "    </tr>\n",
       "    <tr>\n",
       "      <th>20</th>\n",
       "      <td>8.155366e+07</td>\n",
       "      <td>4.097472</td>\n",
       "    </tr>\n",
       "    <tr>\n",
       "      <th>25</th>\n",
       "      <td>5.779423e+07</td>\n",
       "      <td>2.330625</td>\n",
       "    </tr>\n",
       "    <tr>\n",
       "      <th>30</th>\n",
       "      <td>9.543494e+07</td>\n",
       "      <td>3.209804</td>\n",
       "    </tr>\n",
       "    <tr>\n",
       "      <th>35</th>\n",
       "      <td>1.025647e+08</td>\n",
       "      <td>2.912725</td>\n",
       "    </tr>\n",
       "    <tr>\n",
       "      <th>40</th>\n",
       "      <td>1.270217e+08</td>\n",
       "      <td>3.205784</td>\n",
       "    </tr>\n",
       "  </tbody>\n",
       "</table>\n",
       "</div>"
      ],
      "text/plain": [
       "                    profit       roi\n",
       "budget_group                        \n",
       "5             4.703846e+07  8.841384\n",
       "10            4.648407e+07  4.548705\n",
       "15            5.908965e+07  4.044592\n",
       "20            8.155366e+07  4.097472\n",
       "25            5.779423e+07  2.330625\n",
       "30            9.543494e+07  3.209804\n",
       "35            1.025647e+08  2.912725\n",
       "40            1.270217e+08  3.205784"
      ]
     },
     "execution_count": 56,
     "metadata": {},
     "output_type": "execute_result"
    }
   ],
   "source": [
    "movie_budgets_pivot"
   ]
  },
  {
   "cell_type": "code",
   "execution_count": null,
   "metadata": {
    "ExecuteTime": {
     "end_time": "2022-05-31T14:26:40.058445Z",
     "start_time": "2022-05-31T14:26:39.972972Z"
    }
   },
   "outputs": [],
   "source": []
  },
  {
   "cell_type": "code",
   "execution_count": 57,
   "metadata": {
    "ExecuteTime": {
     "end_time": "2022-06-06T09:28:18.847291Z",
     "start_time": "2022-06-06T09:28:18.841382Z"
    }
   },
   "outputs": [
    {
     "data": {
      "text/html": [
       "<div>\n",
       "<style scoped>\n",
       "    .dataframe tbody tr th:only-of-type {\n",
       "        vertical-align: middle;\n",
       "    }\n",
       "\n",
       "    .dataframe tbody tr th {\n",
       "        vertical-align: top;\n",
       "    }\n",
       "\n",
       "    .dataframe thead th {\n",
       "        text-align: right;\n",
       "    }\n",
       "</style>\n",
       "<table border=\"1\" class=\"dataframe\">\n",
       "  <thead>\n",
       "    <tr style=\"text-align: right;\">\n",
       "      <th></th>\n",
       "      <th>averagerating</th>\n",
       "      <th>genres</th>\n",
       "    </tr>\n",
       "    <tr>\n",
       "      <th>primary_title</th>\n",
       "      <th></th>\n",
       "      <th></th>\n",
       "    </tr>\n",
       "  </thead>\n",
       "  <tbody>\n",
       "    <tr>\n",
       "      <th>Laiye Je Yaarian</th>\n",
       "      <td>8.3</td>\n",
       "      <td>Romance</td>\n",
       "    </tr>\n",
       "    <tr>\n",
       "      <th>Borderless</th>\n",
       "      <td>8.9</td>\n",
       "      <td>Documentary</td>\n",
       "    </tr>\n",
       "    <tr>\n",
       "      <th>Just Inès</th>\n",
       "      <td>6.4</td>\n",
       "      <td>Drama</td>\n",
       "    </tr>\n",
       "    <tr>\n",
       "      <th>The Legend of Hercules</th>\n",
       "      <td>4.2</td>\n",
       "      <td>Action,Adventure,Fantasy</td>\n",
       "    </tr>\n",
       "    <tr>\n",
       "      <th>Até Onde?</th>\n",
       "      <td>6.5</td>\n",
       "      <td>Mystery,Thriller</td>\n",
       "    </tr>\n",
       "    <tr>\n",
       "      <th>...</th>\n",
       "      <td>...</td>\n",
       "      <td>...</td>\n",
       "    </tr>\n",
       "    <tr>\n",
       "      <th>Caisa</th>\n",
       "      <td>8.1</td>\n",
       "      <td>Documentary</td>\n",
       "    </tr>\n",
       "    <tr>\n",
       "      <th>Code Geass: Lelouch of the Rebellion - Glorification</th>\n",
       "      <td>7.5</td>\n",
       "      <td>Action,Animation,Sci-Fi</td>\n",
       "    </tr>\n",
       "    <tr>\n",
       "      <th>Sisters</th>\n",
       "      <td>4.7</td>\n",
       "      <td>Action,Drama</td>\n",
       "    </tr>\n",
       "    <tr>\n",
       "      <th>The Projectionist</th>\n",
       "      <td>7.0</td>\n",
       "      <td>Documentary</td>\n",
       "    </tr>\n",
       "    <tr>\n",
       "      <th>Sathru</th>\n",
       "      <td>6.3</td>\n",
       "      <td>Thriller</td>\n",
       "    </tr>\n",
       "  </tbody>\n",
       "</table>\n",
       "<p>73856 rows × 2 columns</p>\n",
       "</div>"
      ],
      "text/plain": [
       "                                                    averagerating  \\\n",
       "primary_title                                                       \n",
       "Laiye Je Yaarian                                              8.3   \n",
       "Borderless                                                    8.9   \n",
       "Just Inès                                                     6.4   \n",
       "The Legend of Hercules                                        4.2   \n",
       "Até Onde?                                                     6.5   \n",
       "...                                                           ...   \n",
       "Caisa                                                         8.1   \n",
       "Code Geass: Lelouch of the Rebellion - Glorific...            7.5   \n",
       "Sisters                                                       4.7   \n",
       "The Projectionist                                             7.0   \n",
       "Sathru                                                        6.3   \n",
       "\n",
       "                                                                      genres  \n",
       "primary_title                                                                 \n",
       "Laiye Je Yaarian                                                     Romance  \n",
       "Borderless                                                       Documentary  \n",
       "Just Inès                                                              Drama  \n",
       "The Legend of Hercules                              Action,Adventure,Fantasy  \n",
       "Até Onde?                                                   Mystery,Thriller  \n",
       "...                                                                      ...  \n",
       "Caisa                                                            Documentary  \n",
       "Code Geass: Lelouch of the Rebellion - Glorific...   Action,Animation,Sci-Fi  \n",
       "Sisters                                                         Action,Drama  \n",
       "The Projectionist                                                Documentary  \n",
       "Sathru                                                              Thriller  \n",
       "\n",
       "[73856 rows x 2 columns]"
      ]
     },
     "execution_count": 57,
     "metadata": {},
     "output_type": "execute_result"
    }
   ],
   "source": [
    "avg_rating_genre"
   ]
  },
  {
   "cell_type": "code",
   "execution_count": 58,
   "metadata": {
    "ExecuteTime": {
     "end_time": "2022-06-06T09:28:18.850927Z",
     "start_time": "2022-06-06T09:28:18.848150Z"
    }
   },
   "outputs": [],
   "source": [
    "movie_budgets_w_review = movie_budgets_w_review.set_index('movie')"
   ]
  },
  {
   "cell_type": "code",
   "execution_count": 59,
   "metadata": {
    "ExecuteTime": {
     "end_time": "2022-06-06T09:28:18.958532Z",
     "start_time": "2022-06-06T09:28:18.852091Z"
    }
   },
   "outputs": [
    {
     "data": {
      "text/html": [
       "<div>\n",
       "<style scoped>\n",
       "    .dataframe tbody tr th:only-of-type {\n",
       "        vertical-align: middle;\n",
       "    }\n",
       "\n",
       "    .dataframe tbody tr th {\n",
       "        vertical-align: top;\n",
       "    }\n",
       "\n",
       "    .dataframe thead th {\n",
       "        text-align: right;\n",
       "    }\n",
       "</style>\n",
       "<table border=\"1\" class=\"dataframe\">\n",
       "  <thead>\n",
       "    <tr style=\"text-align: right;\">\n",
       "      <th></th>\n",
       "      <th>profit</th>\n",
       "      <th>roi</th>\n",
       "      <th>production_budget</th>\n",
       "      <th>vote_average</th>\n",
       "      <th>release_date_x</th>\n",
       "      <th>budget_group</th>\n",
       "      <th>averagerating</th>\n",
       "      <th>genres</th>\n",
       "    </tr>\n",
       "  </thead>\n",
       "  <tbody>\n",
       "    <tr>\n",
       "      <th>10 Cloverfield Lane</th>\n",
       "      <td>175369421.0</td>\n",
       "      <td>35.073884</td>\n",
       "      <td>5000000.0</td>\n",
       "      <td>6.9</td>\n",
       "      <td>Mar 11, 2016</td>\n",
       "      <td>5</td>\n",
       "      <td>7.2</td>\n",
       "      <td>Drama,Horror,Mystery</td>\n",
       "    </tr>\n",
       "    <tr>\n",
       "      <th>10 Days in a Madhouse</th>\n",
       "      <td>-11970768.0</td>\n",
       "      <td>-0.997564</td>\n",
       "      <td>12000000.0</td>\n",
       "      <td>5.4</td>\n",
       "      <td>Nov 11, 2015</td>\n",
       "      <td>10</td>\n",
       "      <td>6.7</td>\n",
       "      <td>Drama</td>\n",
       "    </tr>\n",
       "    <tr>\n",
       "      <th>12 Strong</th>\n",
       "      <td>81938091.0</td>\n",
       "      <td>2.341088</td>\n",
       "      <td>35000000.0</td>\n",
       "      <td>5.6</td>\n",
       "      <td>Jan 19, 2018</td>\n",
       "      <td>35</td>\n",
       "      <td>6.6</td>\n",
       "      <td>Action,Drama,History</td>\n",
       "    </tr>\n",
       "    <tr>\n",
       "      <th>12 Years a Slave</th>\n",
       "      <td>217697336.0</td>\n",
       "      <td>10.884867</td>\n",
       "      <td>20000000.0</td>\n",
       "      <td>7.9</td>\n",
       "      <td>Oct 18, 2013</td>\n",
       "      <td>20</td>\n",
       "      <td>8.1</td>\n",
       "      <td>Biography,Drama,History</td>\n",
       "    </tr>\n",
       "    <tr>\n",
       "      <th>127 Hours</th>\n",
       "      <td>60552401.0</td>\n",
       "      <td>3.364022</td>\n",
       "      <td>18000000.0</td>\n",
       "      <td>7.0</td>\n",
       "      <td>Nov 5, 2010</td>\n",
       "      <td>20</td>\n",
       "      <td>7.6</td>\n",
       "      <td>Adventure,Biography,Drama</td>\n",
       "    </tr>\n",
       "  </tbody>\n",
       "</table>\n",
       "</div>"
      ],
      "text/plain": [
       "                            profit        roi  production_budget  \\\n",
       "10 Cloverfield Lane    175369421.0  35.073884          5000000.0   \n",
       "10 Days in a Madhouse  -11970768.0  -0.997564         12000000.0   \n",
       "12 Strong               81938091.0   2.341088         35000000.0   \n",
       "12 Years a Slave       217697336.0  10.884867         20000000.0   \n",
       "127 Hours               60552401.0   3.364022         18000000.0   \n",
       "\n",
       "                       vote_average release_date_x  budget_group  \\\n",
       "10 Cloverfield Lane             6.9   Mar 11, 2016             5   \n",
       "10 Days in a Madhouse           5.4   Nov 11, 2015            10   \n",
       "12 Strong                       5.6   Jan 19, 2018            35   \n",
       "12 Years a Slave                7.9   Oct 18, 2013            20   \n",
       "127 Hours                       7.0    Nov 5, 2010            20   \n",
       "\n",
       "                       averagerating                     genres  \n",
       "10 Cloverfield Lane              7.2       Drama,Horror,Mystery  \n",
       "10 Days in a Madhouse            6.7                      Drama  \n",
       "12 Strong                        6.6       Action,Drama,History  \n",
       "12 Years a Slave                 8.1    Biography,Drama,History  \n",
       "127 Hours                        7.6  Adventure,Biography,Drama  "
      ]
     },
     "execution_count": 59,
     "metadata": {},
     "output_type": "execute_result"
    }
   ],
   "source": [
    "movie_rating_review = movie_budgets_w_review.merge(avg_rating_genre,\\\n",
    "right_index= True, left_index= True)\n",
    "movie_rating_review.head()"
   ]
  },
  {
   "cell_type": "code",
   "execution_count": 60,
   "metadata": {
    "ExecuteTime": {
     "end_time": "2022-06-06T09:28:18.962940Z",
     "start_time": "2022-06-06T09:28:18.959498Z"
    }
   },
   "outputs": [],
   "source": [
    "movie_rating_review['genres'] = movie_rating_review['genres'].str.split(\",\")\n"
   ]
  },
  {
   "cell_type": "code",
   "execution_count": 61,
   "metadata": {
    "ExecuteTime": {
     "end_time": "2022-06-06T09:28:18.971104Z",
     "start_time": "2022-06-06T09:28:18.963897Z"
    }
   },
   "outputs": [
    {
     "data": {
      "text/html": [
       "<div>\n",
       "<style scoped>\n",
       "    .dataframe tbody tr th:only-of-type {\n",
       "        vertical-align: middle;\n",
       "    }\n",
       "\n",
       "    .dataframe tbody tr th {\n",
       "        vertical-align: top;\n",
       "    }\n",
       "\n",
       "    .dataframe thead th {\n",
       "        text-align: right;\n",
       "    }\n",
       "</style>\n",
       "<table border=\"1\" class=\"dataframe\">\n",
       "  <thead>\n",
       "    <tr style=\"text-align: right;\">\n",
       "      <th></th>\n",
       "      <th>profit</th>\n",
       "      <th>roi</th>\n",
       "      <th>production_budget</th>\n",
       "      <th>vote_average</th>\n",
       "      <th>release_date_x</th>\n",
       "      <th>budget_group</th>\n",
       "      <th>averagerating</th>\n",
       "      <th>genres</th>\n",
       "    </tr>\n",
       "  </thead>\n",
       "  <tbody>\n",
       "    <tr>\n",
       "      <th>10 Cloverfield Lane</th>\n",
       "      <td>175369421.0</td>\n",
       "      <td>35.073884</td>\n",
       "      <td>5000000.0</td>\n",
       "      <td>6.9</td>\n",
       "      <td>Mar 11, 2016</td>\n",
       "      <td>5</td>\n",
       "      <td>7.2</td>\n",
       "      <td>[Drama, Horror, Mystery]</td>\n",
       "    </tr>\n",
       "    <tr>\n",
       "      <th>10 Days in a Madhouse</th>\n",
       "      <td>-11970768.0</td>\n",
       "      <td>-0.997564</td>\n",
       "      <td>12000000.0</td>\n",
       "      <td>5.4</td>\n",
       "      <td>Nov 11, 2015</td>\n",
       "      <td>10</td>\n",
       "      <td>6.7</td>\n",
       "      <td>[Drama]</td>\n",
       "    </tr>\n",
       "    <tr>\n",
       "      <th>12 Strong</th>\n",
       "      <td>81938091.0</td>\n",
       "      <td>2.341088</td>\n",
       "      <td>35000000.0</td>\n",
       "      <td>5.6</td>\n",
       "      <td>Jan 19, 2018</td>\n",
       "      <td>35</td>\n",
       "      <td>6.6</td>\n",
       "      <td>[Action, Drama, History]</td>\n",
       "    </tr>\n",
       "    <tr>\n",
       "      <th>12 Years a Slave</th>\n",
       "      <td>217697336.0</td>\n",
       "      <td>10.884867</td>\n",
       "      <td>20000000.0</td>\n",
       "      <td>7.9</td>\n",
       "      <td>Oct 18, 2013</td>\n",
       "      <td>20</td>\n",
       "      <td>8.1</td>\n",
       "      <td>[Biography, Drama, History]</td>\n",
       "    </tr>\n",
       "    <tr>\n",
       "      <th>127 Hours</th>\n",
       "      <td>60552401.0</td>\n",
       "      <td>3.364022</td>\n",
       "      <td>18000000.0</td>\n",
       "      <td>7.0</td>\n",
       "      <td>Nov 5, 2010</td>\n",
       "      <td>20</td>\n",
       "      <td>7.6</td>\n",
       "      <td>[Adventure, Biography, Drama]</td>\n",
       "    </tr>\n",
       "  </tbody>\n",
       "</table>\n",
       "</div>"
      ],
      "text/plain": [
       "                            profit        roi  production_budget  \\\n",
       "10 Cloverfield Lane    175369421.0  35.073884          5000000.0   \n",
       "10 Days in a Madhouse  -11970768.0  -0.997564         12000000.0   \n",
       "12 Strong               81938091.0   2.341088         35000000.0   \n",
       "12 Years a Slave       217697336.0  10.884867         20000000.0   \n",
       "127 Hours               60552401.0   3.364022         18000000.0   \n",
       "\n",
       "                       vote_average release_date_x  budget_group  \\\n",
       "10 Cloverfield Lane             6.9   Mar 11, 2016             5   \n",
       "10 Days in a Madhouse           5.4   Nov 11, 2015            10   \n",
       "12 Strong                       5.6   Jan 19, 2018            35   \n",
       "12 Years a Slave                7.9   Oct 18, 2013            20   \n",
       "127 Hours                       7.0    Nov 5, 2010            20   \n",
       "\n",
       "                       averagerating                         genres  \n",
       "10 Cloverfield Lane              7.2       [Drama, Horror, Mystery]  \n",
       "10 Days in a Madhouse            6.7                        [Drama]  \n",
       "12 Strong                        6.6       [Action, Drama, History]  \n",
       "12 Years a Slave                 8.1    [Biography, Drama, History]  \n",
       "127 Hours                        7.6  [Adventure, Biography, Drama]  "
      ]
     },
     "execution_count": 61,
     "metadata": {},
     "output_type": "execute_result"
    }
   ],
   "source": [
    "movie_rating_review.head()"
   ]
  },
  {
   "cell_type": "code",
   "execution_count": null,
   "metadata": {
    "ExecuteTime": {
     "end_time": "2022-05-29T12:28:27.991460Z",
     "start_time": "2022-05-29T12:28:27.984149Z"
    }
   },
   "outputs": [],
   "source": []
  },
  {
   "cell_type": "code",
   "execution_count": null,
   "metadata": {
    "ExecuteTime": {
     "end_time": "2022-05-23T13:26:30.515303Z",
     "start_time": "2022-05-23T13:26:30.503410Z"
    }
   },
   "outputs": [],
   "source": []
  },
  {
   "cell_type": "code",
   "execution_count": 62,
   "metadata": {
    "ExecuteTime": {
     "end_time": "2022-06-06T09:28:18.981737Z",
     "start_time": "2022-06-06T09:28:18.971931Z"
    }
   },
   "outputs": [
    {
     "data": {
      "text/html": [
       "<div>\n",
       "<style scoped>\n",
       "    .dataframe tbody tr th:only-of-type {\n",
       "        vertical-align: middle;\n",
       "    }\n",
       "\n",
       "    .dataframe tbody tr th {\n",
       "        vertical-align: top;\n",
       "    }\n",
       "\n",
       "    .dataframe thead th {\n",
       "        text-align: right;\n",
       "    }\n",
       "</style>\n",
       "<table border=\"1\" class=\"dataframe\">\n",
       "  <thead>\n",
       "    <tr style=\"text-align: right;\">\n",
       "      <th></th>\n",
       "      <th>profit</th>\n",
       "      <th>roi</th>\n",
       "      <th>production_budget</th>\n",
       "      <th>vote_average</th>\n",
       "      <th>release_date_x</th>\n",
       "      <th>budget_group</th>\n",
       "      <th>averagerating</th>\n",
       "      <th>genres</th>\n",
       "    </tr>\n",
       "  </thead>\n",
       "  <tbody>\n",
       "    <tr>\n",
       "      <th>10 Cloverfield Lane</th>\n",
       "      <td>175369421.0</td>\n",
       "      <td>35.073884</td>\n",
       "      <td>5000000.0</td>\n",
       "      <td>6.9</td>\n",
       "      <td>Mar 11, 2016</td>\n",
       "      <td>5</td>\n",
       "      <td>7.2</td>\n",
       "      <td>Drama</td>\n",
       "    </tr>\n",
       "    <tr>\n",
       "      <th>10 Cloverfield Lane</th>\n",
       "      <td>175369421.0</td>\n",
       "      <td>35.073884</td>\n",
       "      <td>5000000.0</td>\n",
       "      <td>6.9</td>\n",
       "      <td>Mar 11, 2016</td>\n",
       "      <td>5</td>\n",
       "      <td>7.2</td>\n",
       "      <td>Horror</td>\n",
       "    </tr>\n",
       "    <tr>\n",
       "      <th>10 Cloverfield Lane</th>\n",
       "      <td>175369421.0</td>\n",
       "      <td>35.073884</td>\n",
       "      <td>5000000.0</td>\n",
       "      <td>6.9</td>\n",
       "      <td>Mar 11, 2016</td>\n",
       "      <td>5</td>\n",
       "      <td>7.2</td>\n",
       "      <td>Mystery</td>\n",
       "    </tr>\n",
       "    <tr>\n",
       "      <th>10 Days in a Madhouse</th>\n",
       "      <td>-11970768.0</td>\n",
       "      <td>-0.997564</td>\n",
       "      <td>12000000.0</td>\n",
       "      <td>5.4</td>\n",
       "      <td>Nov 11, 2015</td>\n",
       "      <td>10</td>\n",
       "      <td>6.7</td>\n",
       "      <td>Drama</td>\n",
       "    </tr>\n",
       "    <tr>\n",
       "      <th>12 Strong</th>\n",
       "      <td>81938091.0</td>\n",
       "      <td>2.341088</td>\n",
       "      <td>35000000.0</td>\n",
       "      <td>5.6</td>\n",
       "      <td>Jan 19, 2018</td>\n",
       "      <td>35</td>\n",
       "      <td>6.6</td>\n",
       "      <td>Action</td>\n",
       "    </tr>\n",
       "  </tbody>\n",
       "</table>\n",
       "</div>"
      ],
      "text/plain": [
       "                            profit        roi  production_budget  \\\n",
       "10 Cloverfield Lane    175369421.0  35.073884          5000000.0   \n",
       "10 Cloverfield Lane    175369421.0  35.073884          5000000.0   \n",
       "10 Cloverfield Lane    175369421.0  35.073884          5000000.0   \n",
       "10 Days in a Madhouse  -11970768.0  -0.997564         12000000.0   \n",
       "12 Strong               81938091.0   2.341088         35000000.0   \n",
       "\n",
       "                       vote_average release_date_x  budget_group  \\\n",
       "10 Cloverfield Lane             6.9   Mar 11, 2016             5   \n",
       "10 Cloverfield Lane             6.9   Mar 11, 2016             5   \n",
       "10 Cloverfield Lane             6.9   Mar 11, 2016             5   \n",
       "10 Days in a Madhouse           5.4   Nov 11, 2015            10   \n",
       "12 Strong                       5.6   Jan 19, 2018            35   \n",
       "\n",
       "                       averagerating   genres  \n",
       "10 Cloverfield Lane              7.2    Drama  \n",
       "10 Cloverfield Lane              7.2   Horror  \n",
       "10 Cloverfield Lane              7.2  Mystery  \n",
       "10 Days in a Madhouse            6.7    Drama  \n",
       "12 Strong                        6.6   Action  "
      ]
     },
     "execution_count": 62,
     "metadata": {},
     "output_type": "execute_result"
    }
   ],
   "source": [
    "movie_rating_review_exploded = movie_rating_review.explode(\"genres\")\n",
    "movie_rating_review_exploded.head()"
   ]
  },
  {
   "cell_type": "code",
   "execution_count": 63,
   "metadata": {
    "ExecuteTime": {
     "end_time": "2022-06-06T09:28:18.992613Z",
     "start_time": "2022-06-06T09:28:18.982576Z"
    }
   },
   "outputs": [
    {
     "data": {
      "text/html": [
       "<div>\n",
       "<style scoped>\n",
       "    .dataframe tbody tr th:only-of-type {\n",
       "        vertical-align: middle;\n",
       "    }\n",
       "\n",
       "    .dataframe tbody tr th {\n",
       "        vertical-align: top;\n",
       "    }\n",
       "\n",
       "    .dataframe thead th {\n",
       "        text-align: right;\n",
       "    }\n",
       "</style>\n",
       "<table border=\"1\" class=\"dataframe\">\n",
       "  <thead>\n",
       "    <tr style=\"text-align: right;\">\n",
       "      <th></th>\n",
       "      <th>budget_group</th>\n",
       "      <th>profit</th>\n",
       "      <th>roi</th>\n",
       "    </tr>\n",
       "    <tr>\n",
       "      <th>genres</th>\n",
       "      <th></th>\n",
       "      <th></th>\n",
       "      <th></th>\n",
       "    </tr>\n",
       "  </thead>\n",
       "  <tbody>\n",
       "    <tr>\n",
       "      <th>Action</th>\n",
       "      <td>22.233677</td>\n",
       "      <td>6.069633e+07</td>\n",
       "      <td>4.240434</td>\n",
       "    </tr>\n",
       "    <tr>\n",
       "      <th>Adventure</th>\n",
       "      <td>22.213740</td>\n",
       "      <td>5.102604e+07</td>\n",
       "      <td>2.615027</td>\n",
       "    </tr>\n",
       "    <tr>\n",
       "      <th>Animation</th>\n",
       "      <td>17.682927</td>\n",
       "      <td>4.354921e+07</td>\n",
       "      <td>4.223576</td>\n",
       "    </tr>\n",
       "    <tr>\n",
       "      <th>Biography</th>\n",
       "      <td>19.401198</td>\n",
       "      <td>5.388147e+07</td>\n",
       "      <td>3.187390</td>\n",
       "    </tr>\n",
       "    <tr>\n",
       "      <th>Comedy</th>\n",
       "      <td>18.921114</td>\n",
       "      <td>7.026779e+07</td>\n",
       "      <td>4.503218</td>\n",
       "    </tr>\n",
       "  </tbody>\n",
       "</table>\n",
       "</div>"
      ],
      "text/plain": [
       "           budget_group        profit       roi\n",
       "genres                                         \n",
       "Action        22.233677  6.069633e+07  4.240434\n",
       "Adventure     22.213740  5.102604e+07  2.615027\n",
       "Animation     17.682927  4.354921e+07  4.223576\n",
       "Biography     19.401198  5.388147e+07  3.187390\n",
       "Comedy        18.921114  7.026779e+07  4.503218"
      ]
     },
     "execution_count": 63,
     "metadata": {},
     "output_type": "execute_result"
    }
   ],
   "source": [
    "genre_pivot = pd.pivot_table(movie_rating_review_exploded, index = 'genres',\\\n",
    "values = ['profit', 'roi', 'budget_group'], aggfunc= 'mean')\n",
    "genre_pivot.head()\n"
   ]
  },
  {
   "cell_type": "code",
   "execution_count": 64,
   "metadata": {
    "ExecuteTime": {
     "end_time": "2022-06-06T09:28:18.999326Z",
     "start_time": "2022-06-06T09:28:18.993459Z"
    }
   },
   "outputs": [
    {
     "data": {
      "text/html": [
       "<div>\n",
       "<style scoped>\n",
       "    .dataframe tbody tr th:only-of-type {\n",
       "        vertical-align: middle;\n",
       "    }\n",
       "\n",
       "    .dataframe tbody tr th {\n",
       "        vertical-align: top;\n",
       "    }\n",
       "\n",
       "    .dataframe thead th {\n",
       "        text-align: right;\n",
       "    }\n",
       "</style>\n",
       "<table border=\"1\" class=\"dataframe\">\n",
       "  <thead>\n",
       "    <tr style=\"text-align: right;\">\n",
       "      <th></th>\n",
       "      <th>profit</th>\n",
       "      <th>roi</th>\n",
       "      <th>production_budget</th>\n",
       "      <th>vote_average</th>\n",
       "      <th>release_date_x</th>\n",
       "      <th>budget_group</th>\n",
       "    </tr>\n",
       "    <tr>\n",
       "      <th>movie</th>\n",
       "      <th></th>\n",
       "      <th></th>\n",
       "      <th></th>\n",
       "      <th></th>\n",
       "      <th></th>\n",
       "      <th></th>\n",
       "    </tr>\n",
       "  </thead>\n",
       "  <tbody>\n",
       "    <tr>\n",
       "      <th>10 Cloverfield Lane</th>\n",
       "      <td>175369421.0</td>\n",
       "      <td>35.073884</td>\n",
       "      <td>5000000.0</td>\n",
       "      <td>6.9</td>\n",
       "      <td>Mar 11, 2016</td>\n",
       "      <td>5</td>\n",
       "    </tr>\n",
       "    <tr>\n",
       "      <th>10 Days in a Madhouse</th>\n",
       "      <td>-11970768.0</td>\n",
       "      <td>-0.997564</td>\n",
       "      <td>12000000.0</td>\n",
       "      <td>5.4</td>\n",
       "      <td>Nov 11, 2015</td>\n",
       "      <td>10</td>\n",
       "    </tr>\n",
       "    <tr>\n",
       "      <th>12 Strong</th>\n",
       "      <td>81938091.0</td>\n",
       "      <td>2.341088</td>\n",
       "      <td>35000000.0</td>\n",
       "      <td>5.6</td>\n",
       "      <td>Jan 19, 2018</td>\n",
       "      <td>35</td>\n",
       "    </tr>\n",
       "    <tr>\n",
       "      <th>12 Years a Slave</th>\n",
       "      <td>217697336.0</td>\n",
       "      <td>10.884867</td>\n",
       "      <td>20000000.0</td>\n",
       "      <td>7.9</td>\n",
       "      <td>Oct 18, 2013</td>\n",
       "      <td>20</td>\n",
       "    </tr>\n",
       "    <tr>\n",
       "      <th>127 Hours</th>\n",
       "      <td>60552401.0</td>\n",
       "      <td>3.364022</td>\n",
       "      <td>18000000.0</td>\n",
       "      <td>7.0</td>\n",
       "      <td>Nov 5, 2010</td>\n",
       "      <td>20</td>\n",
       "    </tr>\n",
       "  </tbody>\n",
       "</table>\n",
       "</div>"
      ],
      "text/plain": [
       "                            profit        roi  production_budget  \\\n",
       "movie                                                              \n",
       "10 Cloverfield Lane    175369421.0  35.073884          5000000.0   \n",
       "10 Days in a Madhouse  -11970768.0  -0.997564         12000000.0   \n",
       "12 Strong               81938091.0   2.341088         35000000.0   \n",
       "12 Years a Slave       217697336.0  10.884867         20000000.0   \n",
       "127 Hours               60552401.0   3.364022         18000000.0   \n",
       "\n",
       "                       vote_average release_date_x  budget_group  \n",
       "movie                                                             \n",
       "10 Cloverfield Lane             6.9   Mar 11, 2016             5  \n",
       "10 Days in a Madhouse           5.4   Nov 11, 2015            10  \n",
       "12 Strong                       5.6   Jan 19, 2018            35  \n",
       "12 Years a Slave                7.9   Oct 18, 2013            20  \n",
       "127 Hours                       7.0    Nov 5, 2010            20  "
      ]
     },
     "execution_count": 64,
     "metadata": {},
     "output_type": "execute_result"
    }
   ],
   "source": [
    "movie_budgets_w_review.head()"
   ]
  },
  {
   "cell_type": "code",
   "execution_count": null,
   "metadata": {
    "ExecuteTime": {
     "end_time": "2022-05-31T14:34:05.135598Z",
     "start_time": "2022-05-31T14:34:04.960934Z"
    }
   },
   "outputs": [],
   "source": []
  },
  {
   "cell_type": "code",
   "execution_count": 65,
   "metadata": {
    "ExecuteTime": {
     "end_time": "2022-06-06T09:28:19.057849Z",
     "start_time": "2022-06-06T09:28:19.000117Z"
    }
   },
   "outputs": [],
   "source": [
    "movie_budgets_w_review['release_date']=pd.to_datetime(movie_budgets_w_review\\\n",
    "['release_date_x'])"
   ]
  },
  {
   "cell_type": "code",
   "execution_count": 66,
   "metadata": {
    "ExecuteTime": {
     "end_time": "2022-06-06T09:28:19.061497Z",
     "start_time": "2022-06-06T09:28:19.058700Z"
    }
   },
   "outputs": [],
   "source": [
    "movie_budgets_w_review['release_month'] = movie_budgets_w_review\\\n",
    "['release_date'].dt.month"
   ]
  },
  {
   "cell_type": "code",
   "execution_count": 67,
   "metadata": {
    "ExecuteTime": {
     "end_time": "2022-06-06T09:28:19.064957Z",
     "start_time": "2022-06-06T09:28:19.062254Z"
    }
   },
   "outputs": [],
   "source": [
    "movie_budgets_w_review.drop('release_date_x', axis = 1, inplace=True)\n"
   ]
  },
  {
   "cell_type": "code",
   "execution_count": 68,
   "metadata": {
    "ExecuteTime": {
     "end_time": "2022-06-06T09:28:19.068168Z",
     "start_time": "2022-06-06T09:28:19.065813Z"
    }
   },
   "outputs": [],
   "source": [
    "movie_budget_vis = movie_budgets_w_review.drop('vote_average', axis = 1)"
   ]
  },
  {
   "cell_type": "code",
   "execution_count": 69,
   "metadata": {
    "ExecuteTime": {
     "end_time": "2022-06-06T09:28:19.072576Z",
     "start_time": "2022-06-06T09:28:19.069079Z"
    }
   },
   "outputs": [],
   "source": [
    "movie_budget_vis = movie_budget_vis.drop_duplicates()"
   ]
  },
  {
   "cell_type": "markdown",
   "metadata": {},
   "source": []
  },
  {
   "cell_type": "code",
   "execution_count": 70,
   "metadata": {
    "ExecuteTime": {
     "end_time": "2022-06-06T09:28:19.079002Z",
     "start_time": "2022-06-06T09:28:19.073439Z"
    }
   },
   "outputs": [
    {
     "data": {
      "text/html": [
       "<div>\n",
       "<style scoped>\n",
       "    .dataframe tbody tr th:only-of-type {\n",
       "        vertical-align: middle;\n",
       "    }\n",
       "\n",
       "    .dataframe tbody tr th {\n",
       "        vertical-align: top;\n",
       "    }\n",
       "\n",
       "    .dataframe thead th {\n",
       "        text-align: right;\n",
       "    }\n",
       "</style>\n",
       "<table border=\"1\" class=\"dataframe\">\n",
       "  <thead>\n",
       "    <tr style=\"text-align: right;\">\n",
       "      <th></th>\n",
       "      <th>profit</th>\n",
       "      <th>roi</th>\n",
       "      <th>production_budget</th>\n",
       "      <th>budget_group</th>\n",
       "      <th>release_date</th>\n",
       "      <th>release_month</th>\n",
       "    </tr>\n",
       "    <tr>\n",
       "      <th>movie</th>\n",
       "      <th></th>\n",
       "      <th></th>\n",
       "      <th></th>\n",
       "      <th></th>\n",
       "      <th></th>\n",
       "      <th></th>\n",
       "    </tr>\n",
       "  </thead>\n",
       "  <tbody>\n",
       "    <tr>\n",
       "      <th>10 Cloverfield Lane</th>\n",
       "      <td>175369421.0</td>\n",
       "      <td>35.073884</td>\n",
       "      <td>5000000.0</td>\n",
       "      <td>5</td>\n",
       "      <td>2016-03-11</td>\n",
       "      <td>3</td>\n",
       "    </tr>\n",
       "    <tr>\n",
       "      <th>10 Days in a Madhouse</th>\n",
       "      <td>-11970768.0</td>\n",
       "      <td>-0.997564</td>\n",
       "      <td>12000000.0</td>\n",
       "      <td>10</td>\n",
       "      <td>2015-11-11</td>\n",
       "      <td>11</td>\n",
       "    </tr>\n",
       "    <tr>\n",
       "      <th>12 Strong</th>\n",
       "      <td>81938091.0</td>\n",
       "      <td>2.341088</td>\n",
       "      <td>35000000.0</td>\n",
       "      <td>35</td>\n",
       "      <td>2018-01-19</td>\n",
       "      <td>1</td>\n",
       "    </tr>\n",
       "    <tr>\n",
       "      <th>12 Years a Slave</th>\n",
       "      <td>217697336.0</td>\n",
       "      <td>10.884867</td>\n",
       "      <td>20000000.0</td>\n",
       "      <td>20</td>\n",
       "      <td>2013-10-18</td>\n",
       "      <td>10</td>\n",
       "    </tr>\n",
       "    <tr>\n",
       "      <th>127 Hours</th>\n",
       "      <td>60552401.0</td>\n",
       "      <td>3.364022</td>\n",
       "      <td>18000000.0</td>\n",
       "      <td>20</td>\n",
       "      <td>2010-11-05</td>\n",
       "      <td>11</td>\n",
       "    </tr>\n",
       "  </tbody>\n",
       "</table>\n",
       "</div>"
      ],
      "text/plain": [
       "                            profit        roi  production_budget  \\\n",
       "movie                                                              \n",
       "10 Cloverfield Lane    175369421.0  35.073884          5000000.0   \n",
       "10 Days in a Madhouse  -11970768.0  -0.997564         12000000.0   \n",
       "12 Strong               81938091.0   2.341088         35000000.0   \n",
       "12 Years a Slave       217697336.0  10.884867         20000000.0   \n",
       "127 Hours               60552401.0   3.364022         18000000.0   \n",
       "\n",
       "                       budget_group release_date  release_month  \n",
       "movie                                                            \n",
       "10 Cloverfield Lane               5   2016-03-11              3  \n",
       "10 Days in a Madhouse            10   2015-11-11             11  \n",
       "12 Strong                        35   2018-01-19              1  \n",
       "12 Years a Slave                 20   2013-10-18             10  \n",
       "127 Hours                        20   2010-11-05             11  "
      ]
     },
     "execution_count": 70,
     "metadata": {},
     "output_type": "execute_result"
    }
   ],
   "source": [
    "movie_budget_vis.head()"
   ]
  },
  {
   "cell_type": "code",
   "execution_count": 71,
   "metadata": {
    "ExecuteTime": {
     "end_time": "2022-06-06T09:28:19.084958Z",
     "start_time": "2022-06-06T09:28:19.079819Z"
    }
   },
   "outputs": [],
   "source": [
    "movie_budget_months = movie_budgets_w_review.pivot_table\\\n",
    "(index = 'release_month', values = ['roi', 'profit'], aggfunc= 'mean')"
   ]
  },
  {
   "cell_type": "code",
   "execution_count": 72,
   "metadata": {
    "ExecuteTime": {
     "end_time": "2022-06-06T09:28:19.090165Z",
     "start_time": "2022-06-06T09:28:19.085808Z"
    }
   },
   "outputs": [
    {
     "data": {
      "text/html": [
       "<div>\n",
       "<style scoped>\n",
       "    .dataframe tbody tr th:only-of-type {\n",
       "        vertical-align: middle;\n",
       "    }\n",
       "\n",
       "    .dataframe tbody tr th {\n",
       "        vertical-align: top;\n",
       "    }\n",
       "\n",
       "    .dataframe thead th {\n",
       "        text-align: right;\n",
       "    }\n",
       "</style>\n",
       "<table border=\"1\" class=\"dataframe\">\n",
       "  <thead>\n",
       "    <tr style=\"text-align: right;\">\n",
       "      <th></th>\n",
       "      <th>profit</th>\n",
       "      <th>roi</th>\n",
       "    </tr>\n",
       "    <tr>\n",
       "      <th>release_month</th>\n",
       "      <th></th>\n",
       "      <th></th>\n",
       "    </tr>\n",
       "  </thead>\n",
       "  <tbody>\n",
       "    <tr>\n",
       "      <th>1</th>\n",
       "      <td>8.161076e+07</td>\n",
       "      <td>7.731025</td>\n",
       "    </tr>\n",
       "    <tr>\n",
       "      <th>2</th>\n",
       "      <td>7.150254e+07</td>\n",
       "      <td>5.435679</td>\n",
       "    </tr>\n",
       "    <tr>\n",
       "      <th>3</th>\n",
       "      <td>4.244249e+07</td>\n",
       "      <td>3.391571</td>\n",
       "    </tr>\n",
       "    <tr>\n",
       "      <th>4</th>\n",
       "      <td>5.697493e+07</td>\n",
       "      <td>2.736767</td>\n",
       "    </tr>\n",
       "    <tr>\n",
       "      <th>5</th>\n",
       "      <td>5.481040e+07</td>\n",
       "      <td>3.249346</td>\n",
       "    </tr>\n",
       "  </tbody>\n",
       "</table>\n",
       "</div>"
      ],
      "text/plain": [
       "                     profit       roi\n",
       "release_month                        \n",
       "1              8.161076e+07  7.731025\n",
       "2              7.150254e+07  5.435679\n",
       "3              4.244249e+07  3.391571\n",
       "4              5.697493e+07  2.736767\n",
       "5              5.481040e+07  3.249346"
      ]
     },
     "execution_count": 72,
     "metadata": {},
     "output_type": "execute_result"
    }
   ],
   "source": [
    "movie_budget_months.head()"
   ]
  },
  {
   "cell_type": "code",
   "execution_count": null,
   "metadata": {
    "ExecuteTime": {
     "end_time": "2022-05-31T14:27:13.188647Z",
     "start_time": "2022-05-31T14:27:13.061779Z"
    }
   },
   "outputs": [],
   "source": []
  },
  {
   "cell_type": "code",
   "execution_count": null,
   "metadata": {
    "ExecuteTime": {
     "end_time": "2022-05-31T14:31:02.909916Z",
     "start_time": "2022-05-31T14:31:02.795223Z"
    }
   },
   "outputs": [],
   "source": []
  },
  {
   "cell_type": "code",
   "execution_count": null,
   "metadata": {
    "ExecuteTime": {
     "end_time": "2022-05-31T14:32:41.624854Z",
     "start_time": "2022-05-31T14:32:41.510001Z"
    }
   },
   "outputs": [],
   "source": []
  },
  {
   "cell_type": "code",
   "execution_count": null,
   "metadata": {
    "ExecuteTime": {
     "end_time": "2022-05-31T11:01:05.401328Z",
     "start_time": "2022-05-31T11:01:05.309619Z"
    }
   },
   "outputs": [],
   "source": []
  },
  {
   "cell_type": "code",
   "execution_count": null,
   "metadata": {
    "ExecuteTime": {
     "end_time": "2022-05-31T11:01:05.401328Z",
     "start_time": "2022-05-31T11:01:05.309619Z"
    }
   },
   "outputs": [],
   "source": []
  },
  {
   "cell_type": "code",
   "execution_count": 73,
   "metadata": {
    "ExecuteTime": {
     "end_time": "2022-06-06T09:28:19.094078Z",
     "start_time": "2022-06-06T09:28:19.090942Z"
    }
   },
   "outputs": [
    {
     "data": {
      "text/plain": [
       "budget_group\n",
       "5     5.728869e+06\n",
       "10    1.008074e+07\n",
       "15    1.469524e+07\n",
       "20    1.976474e+07\n",
       "25    2.492960e+07\n",
       "30    2.985984e+07\n",
       "35    3.505854e+07\n",
       "40    3.953750e+07\n",
       "Name: production_budget, dtype: float64"
      ]
     },
     "execution_count": 73,
     "metadata": {},
     "output_type": "execute_result"
    }
   ],
   "source": [
    "budget_group['production_budget']"
   ]
  },
  {
   "cell_type": "markdown",
   "metadata": {},
   "source": [
    "# Visualization"
   ]
  },
  {
   "cell_type": "markdown",
   "metadata": {
    "ExecuteTime": {
     "end_time": "2022-06-01T11:56:37.058980Z",
     "start_time": "2022-06-01T11:56:37.056826Z"
    }
   },
   "source": [
    "    Now that the data tables have been set to where they can be compared based\n",
    "    on profit and ROI, we will begin the data visualization faze"
   ]
  },
  {
   "cell_type": "code",
   "execution_count": 74,
   "metadata": {
    "ExecuteTime": {
     "end_time": "2022-06-06T09:28:19.101535Z",
     "start_time": "2022-06-06T09:28:19.094924Z"
    }
   },
   "outputs": [
    {
     "data": {
      "text/html": [
       "<div>\n",
       "<style scoped>\n",
       "    .dataframe tbody tr th:only-of-type {\n",
       "        vertical-align: middle;\n",
       "    }\n",
       "\n",
       "    .dataframe tbody tr th {\n",
       "        vertical-align: top;\n",
       "    }\n",
       "\n",
       "    .dataframe thead th {\n",
       "        text-align: right;\n",
       "    }\n",
       "</style>\n",
       "<table border=\"1\" class=\"dataframe\">\n",
       "  <thead>\n",
       "    <tr style=\"text-align: right;\">\n",
       "      <th></th>\n",
       "      <th>release_date</th>\n",
       "      <th>production_budget</th>\n",
       "      <th>domestic_gross</th>\n",
       "      <th>worldwide_gross</th>\n",
       "      <th>profit</th>\n",
       "      <th>roi</th>\n",
       "    </tr>\n",
       "    <tr>\n",
       "      <th>movie</th>\n",
       "      <th></th>\n",
       "      <th></th>\n",
       "      <th></th>\n",
       "      <th></th>\n",
       "      <th></th>\n",
       "      <th></th>\n",
       "    </tr>\n",
       "  </thead>\n",
       "  <tbody>\n",
       "    <tr>\n",
       "      <th>The Sixth Sense</th>\n",
       "      <td>Aug 6, 1999</td>\n",
       "      <td>40000000.0</td>\n",
       "      <td>293506292.0</td>\n",
       "      <td>672806292.0</td>\n",
       "      <td>926312584.0</td>\n",
       "      <td>23.157815</td>\n",
       "    </tr>\n",
       "    <tr>\n",
       "      <th>Wedding Crashers</th>\n",
       "      <td>Jul 15, 2005</td>\n",
       "      <td>40000000.0</td>\n",
       "      <td>209218368.0</td>\n",
       "      <td>283218368.0</td>\n",
       "      <td>452436736.0</td>\n",
       "      <td>11.310918</td>\n",
       "    </tr>\n",
       "    <tr>\n",
       "      <th>The Karate Kid</th>\n",
       "      <td>Jun 11, 2010</td>\n",
       "      <td>40000000.0</td>\n",
       "      <td>176591618.0</td>\n",
       "      <td>351774938.0</td>\n",
       "      <td>488366556.0</td>\n",
       "      <td>12.209164</td>\n",
       "    </tr>\n",
       "    <tr>\n",
       "      <th>Fifty Shades of Grey</th>\n",
       "      <td>Feb 13, 2015</td>\n",
       "      <td>40000000.0</td>\n",
       "      <td>166167230.0</td>\n",
       "      <td>570998101.0</td>\n",
       "      <td>697165331.0</td>\n",
       "      <td>17.429133</td>\n",
       "    </tr>\n",
       "    <tr>\n",
       "      <th>The Proposal</th>\n",
       "      <td>Jun 19, 2009</td>\n",
       "      <td>40000000.0</td>\n",
       "      <td>163958031.0</td>\n",
       "      <td>314709717.0</td>\n",
       "      <td>438667748.0</td>\n",
       "      <td>10.966694</td>\n",
       "    </tr>\n",
       "  </tbody>\n",
       "</table>\n",
       "</div>"
      ],
      "text/plain": [
       "                      release_date  production_budget  domestic_gross  \\\n",
       "movie                                                                   \n",
       "The Sixth Sense        Aug 6, 1999         40000000.0     293506292.0   \n",
       "Wedding Crashers      Jul 15, 2005         40000000.0     209218368.0   \n",
       "The Karate Kid        Jun 11, 2010         40000000.0     176591618.0   \n",
       "Fifty Shades of Grey  Feb 13, 2015         40000000.0     166167230.0   \n",
       "The Proposal          Jun 19, 2009         40000000.0     163958031.0   \n",
       "\n",
       "                      worldwide_gross       profit        roi  \n",
       "movie                                                          \n",
       "The Sixth Sense           672806292.0  926312584.0  23.157815  \n",
       "Wedding Crashers          283218368.0  452436736.0  11.310918  \n",
       "The Karate Kid            351774938.0  488366556.0  12.209164  \n",
       "Fifty Shades of Grey      570998101.0  697165331.0  17.429133  \n",
       "The Proposal              314709717.0  438667748.0  10.966694  "
      ]
     },
     "execution_count": 74,
     "metadata": {},
     "output_type": "execute_result"
    }
   ],
   "source": [
    "movie_budgets_filtered_iqr.head()"
   ]
  },
  {
   "cell_type": "code",
   "execution_count": 75,
   "metadata": {
    "ExecuteTime": {
     "end_time": "2022-06-06T09:28:19.194724Z",
     "start_time": "2022-06-06T09:28:19.103000Z"
    }
   },
   "outputs": [
    {
     "data": {
      "text/plain": [
       "<AxesSubplot:xlabel='production_budget', ylabel='roi'>"
      ]
     },
     "execution_count": 75,
     "metadata": {},
     "output_type": "execute_result"
    },
    {
     "data": {
      "image/png": "[encoded data removed]",
      "text/plain": [
       "<Figure size 432x288 with 1 Axes>"
      ]
     },
     "metadata": {
      "needs_background": "light"
     },
     "output_type": "display_data"
    }
   ],
   "source": [
    "movie_budget_vis.plot.scatter(y = 'roi', x ='production_budget')"
   ]
  },
  {
   "cell_type": "code",
   "execution_count": 76,
   "metadata": {
    "ExecuteTime": {
     "end_time": "2022-06-06T09:28:19.271124Z",
     "start_time": "2022-06-06T09:28:19.195614Z"
    }
   },
   "outputs": [
    {
     "data": {
      "text/plain": [
       "<AxesSubplot:xlabel='roi', ylabel='production_budget'>"
      ]
     },
     "execution_count": 76,
     "metadata": {},
     "output_type": "execute_result"
    },
    {
     "data": {
      "image/png": "[encoded data removed]",
      "text/plain": [
       "<Figure size 432x288 with 1 Axes>"
      ]
     },
     "metadata": {
      "needs_background": "light"
     },
     "output_type": "display_data"
    }
   ],
   "source": [
    "movie_budget_vis.plot.scatter(x = 'roi', y = 'production_budget')"
   ]
  },
  {
   "cell_type": "code",
   "execution_count": 77,
   "metadata": {
    "ExecuteTime": {
     "end_time": "2022-06-06T09:28:19.279296Z",
     "start_time": "2022-06-06T09:28:19.272488Z"
    }
   },
   "outputs": [
    {
     "data": {
      "text/html": [
       "<div>\n",
       "<style scoped>\n",
       "    .dataframe tbody tr th:only-of-type {\n",
       "        vertical-align: middle;\n",
       "    }\n",
       "\n",
       "    .dataframe tbody tr th {\n",
       "        vertical-align: top;\n",
       "    }\n",
       "\n",
       "    .dataframe thead th {\n",
       "        text-align: right;\n",
       "    }\n",
       "</style>\n",
       "<table border=\"1\" class=\"dataframe\">\n",
       "  <thead>\n",
       "    <tr style=\"text-align: right;\">\n",
       "      <th></th>\n",
       "      <th>profit</th>\n",
       "      <th>roi</th>\n",
       "      <th>production_budget</th>\n",
       "      <th>vote_average</th>\n",
       "    </tr>\n",
       "    <tr>\n",
       "      <th>budget_group</th>\n",
       "      <th></th>\n",
       "      <th></th>\n",
       "      <th></th>\n",
       "      <th></th>\n",
       "    </tr>\n",
       "  </thead>\n",
       "  <tbody>\n",
       "    <tr>\n",
       "      <th>5</th>\n",
       "      <td>4.703846e+07</td>\n",
       "      <td>8.841384</td>\n",
       "      <td>5.728869e+06</td>\n",
       "      <td>6.138095</td>\n",
       "    </tr>\n",
       "    <tr>\n",
       "      <th>10</th>\n",
       "      <td>4.648407e+07</td>\n",
       "      <td>4.548705</td>\n",
       "      <td>1.008074e+07</td>\n",
       "      <td>6.355926</td>\n",
       "    </tr>\n",
       "    <tr>\n",
       "      <th>15</th>\n",
       "      <td>5.908965e+07</td>\n",
       "      <td>4.044592</td>\n",
       "      <td>1.469524e+07</td>\n",
       "      <td>6.288435</td>\n",
       "    </tr>\n",
       "    <tr>\n",
       "      <th>20</th>\n",
       "      <td>8.155366e+07</td>\n",
       "      <td>4.097472</td>\n",
       "      <td>1.976474e+07</td>\n",
       "      <td>6.180000</td>\n",
       "    </tr>\n",
       "    <tr>\n",
       "      <th>25</th>\n",
       "      <td>5.779423e+07</td>\n",
       "      <td>2.330625</td>\n",
       "      <td>2.492960e+07</td>\n",
       "      <td>6.313600</td>\n",
       "    </tr>\n",
       "  </tbody>\n",
       "</table>\n",
       "</div>"
      ],
      "text/plain": [
       "                    profit       roi  production_budget  vote_average\n",
       "budget_group                                                         \n",
       "5             4.703846e+07  8.841384       5.728869e+06      6.138095\n",
       "10            4.648407e+07  4.548705       1.008074e+07      6.355926\n",
       "15            5.908965e+07  4.044592       1.469524e+07      6.288435\n",
       "20            8.155366e+07  4.097472       1.976474e+07      6.180000\n",
       "25            5.779423e+07  2.330625       2.492960e+07      6.313600"
      ]
     },
     "execution_count": 77,
     "metadata": {},
     "output_type": "execute_result"
    }
   ],
   "source": [
    "budget_group.head()"
   ]
  },
  {
   "cell_type": "code",
   "execution_count": 108,
   "metadata": {
    "ExecuteTime": {
     "end_time": "2022-06-06T09:35:33.758195Z",
     "start_time": "2022-06-06T09:35:33.651086Z"
    }
   },
   "outputs": [
    {
     "data": {
      "text/plain": [
       "Text(0, 0.5, 'Returned ROI')"
      ]
     },
     "execution_count": 108,
     "metadata": {},
     "output_type": "execute_result"
    },
    {
     "data": {
      "image/png": "[encoded data removed]",
      "text/plain": [
       "<Figure size 432x288 with 1 Axes>"
      ]
     },
     "metadata": {
      "needs_background": "light"
     },
     "output_type": "display_data"
    }
   ],
   "source": [
    "budget_group.plot.bar( y= 'roi')\n",
    "plt.xlabel('Production budget, each group is $5M')\n",
    "plt.ylabel('Returned ROI')"
   ]
  },
  {
   "cell_type": "code",
   "execution_count": 79,
   "metadata": {
    "ExecuteTime": {
     "end_time": "2022-06-06T09:28:19.464954Z",
     "start_time": "2022-06-06T09:28:19.369615Z"
    }
   },
   "outputs": [
    {
     "data": {
      "text/plain": [
       "Text(0, 0.5, 'Profit in $100M')"
      ]
     },
     "execution_count": 79,
     "metadata": {},
     "output_type": "execute_result"
    },
    {
     "data": {
      "image/png": "[encoded data removed]",
      "text/plain": [
       "<Figure size 432x288 with 1 Axes>"
      ]
     },
     "metadata": {
      "needs_background": "light"
     },
     "output_type": "display_data"
    }
   ],
   "source": [
    "budget_group.plot.hist(y = 'profit')\n",
    "plt.xlabel('Production budget, each group is $5M')\n",
    "plt.ylabel('Profit in $100M')"
   ]
  },
  {
   "cell_type": "code",
   "execution_count": 80,
   "metadata": {
    "ExecuteTime": {
     "end_time": "2022-06-06T09:28:19.471006Z",
     "start_time": "2022-06-06T09:28:19.465836Z"
    }
   },
   "outputs": [
    {
     "data": {
      "text/html": [
       "<div>\n",
       "<style scoped>\n",
       "    .dataframe tbody tr th:only-of-type {\n",
       "        vertical-align: middle;\n",
       "    }\n",
       "\n",
       "    .dataframe tbody tr th {\n",
       "        vertical-align: top;\n",
       "    }\n",
       "\n",
       "    .dataframe thead th {\n",
       "        text-align: right;\n",
       "    }\n",
       "</style>\n",
       "<table border=\"1\" class=\"dataframe\">\n",
       "  <thead>\n",
       "    <tr style=\"text-align: right;\">\n",
       "      <th></th>\n",
       "      <th>profit</th>\n",
       "      <th>roi</th>\n",
       "    </tr>\n",
       "    <tr>\n",
       "      <th>budget_group</th>\n",
       "      <th></th>\n",
       "      <th></th>\n",
       "    </tr>\n",
       "  </thead>\n",
       "  <tbody>\n",
       "    <tr>\n",
       "      <th>5</th>\n",
       "      <td>4.703846e+07</td>\n",
       "      <td>8.841384</td>\n",
       "    </tr>\n",
       "    <tr>\n",
       "      <th>10</th>\n",
       "      <td>4.648407e+07</td>\n",
       "      <td>4.548705</td>\n",
       "    </tr>\n",
       "    <tr>\n",
       "      <th>15</th>\n",
       "      <td>5.908965e+07</td>\n",
       "      <td>4.044592</td>\n",
       "    </tr>\n",
       "    <tr>\n",
       "      <th>20</th>\n",
       "      <td>8.155366e+07</td>\n",
       "      <td>4.097472</td>\n",
       "    </tr>\n",
       "    <tr>\n",
       "      <th>25</th>\n",
       "      <td>5.779423e+07</td>\n",
       "      <td>2.330625</td>\n",
       "    </tr>\n",
       "  </tbody>\n",
       "</table>\n",
       "</div>"
      ],
      "text/plain": [
       "                    profit       roi\n",
       "budget_group                        \n",
       "5             4.703846e+07  8.841384\n",
       "10            4.648407e+07  4.548705\n",
       "15            5.908965e+07  4.044592\n",
       "20            8.155366e+07  4.097472\n",
       "25            5.779423e+07  2.330625"
      ]
     },
     "execution_count": 80,
     "metadata": {},
     "output_type": "execute_result"
    }
   ],
   "source": [
    "movie_budgets_pivot.head()"
   ]
  },
  {
   "cell_type": "code",
   "execution_count": 105,
   "metadata": {
    "ExecuteTime": {
     "end_time": "2022-06-06T09:34:01.401486Z",
     "start_time": "2022-06-06T09:34:01.291346Z"
    }
   },
   "outputs": [
    {
     "data": {
      "text/plain": [
       "Text(0.5, 1.0, 'Production Budget & ROI')"
      ]
     },
     "execution_count": 105,
     "metadata": {},
     "output_type": "execute_result"
    },
    {
     "data": {
      "image/png": "[encoded data removed]",
      "text/plain": [
       "<Figure size 432x288 with 1 Axes>"
      ]
     },
     "metadata": {
      "needs_background": "light"
     },
     "output_type": "display_data"
    }
   ],
   "source": [
    "movie_budgets_pivot.plot.bar( y = 'profit')\n",
    "plt.xlabel('Production Budget, Each group in  $10s Million')\n",
    "plt.ylabel('ROI')\n",
    "plt.title('Production Budget & ROI')"
   ]
  },
  {
   "cell_type": "code",
   "execution_count": 106,
   "metadata": {
    "ExecuteTime": {
     "end_time": "2022-06-06T09:34:15.538254Z",
     "start_time": "2022-06-06T09:34:15.426197Z"
    }
   },
   "outputs": [
    {
     "data": {
      "text/plain": [
       "Text(0.5, 1.0, 'Production Budget & ROI')"
      ]
     },
     "execution_count": 106,
     "metadata": {},
     "output_type": "execute_result"
    },
    {
     "data": {
      "image/png": "[encoded data removed]",
      "text/plain": [
       "<Figure size 432x288 with 1 Axes>"
      ]
     },
     "metadata": {
      "needs_background": "light"
     },
     "output_type": "display_data"
    }
   ],
   "source": [
    "movie_budgets_pivot.plot.bar(y = 'roi')\n",
    "plt.xlabel('Production Budget, Each group in $10s Million')\n",
    "plt.ylabel('ROI')\n",
    "plt.title('Production Budget & ROI')"
   ]
  },
  {
   "cell_type": "code",
   "execution_count": 83,
   "metadata": {
    "ExecuteTime": {
     "end_time": "2022-06-06T09:28:19.724596Z",
     "start_time": "2022-06-06T09:28:19.647337Z"
    }
   },
   "outputs": [
    {
     "data": {
      "text/plain": [
       "<AxesSubplot:xlabel='budget_group', ylabel='profit'>"
      ]
     },
     "execution_count": 83,
     "metadata": {},
     "output_type": "execute_result"
    },
    {
     "data": {
      "image/png": "[encoded data removed]",
      "text/plain": [
       "<Figure size 432x288 with 1 Axes>"
      ]
     },
     "metadata": {
      "needs_background": "light"
     },
     "output_type": "display_data"
    }
   ],
   "source": [
    "sns.scatterplot(data = movie_budgets_pivot, y = 'profit', x = 'budget_group')"
   ]
  },
  {
   "cell_type": "code",
   "execution_count": 84,
   "metadata": {
    "ExecuteTime": {
     "end_time": "2022-06-06T09:28:19.730481Z",
     "start_time": "2022-06-06T09:28:19.725513Z"
    }
   },
   "outputs": [
    {
     "data": {
      "text/html": [
       "<div>\n",
       "<style scoped>\n",
       "    .dataframe tbody tr th:only-of-type {\n",
       "        vertical-align: middle;\n",
       "    }\n",
       "\n",
       "    .dataframe tbody tr th {\n",
       "        vertical-align: top;\n",
       "    }\n",
       "\n",
       "    .dataframe thead th {\n",
       "        text-align: right;\n",
       "    }\n",
       "</style>\n",
       "<table border=\"1\" class=\"dataframe\">\n",
       "  <thead>\n",
       "    <tr style=\"text-align: right;\">\n",
       "      <th></th>\n",
       "      <th>budget_group</th>\n",
       "      <th>profit</th>\n",
       "      <th>roi</th>\n",
       "    </tr>\n",
       "    <tr>\n",
       "      <th>genres</th>\n",
       "      <th></th>\n",
       "      <th></th>\n",
       "      <th></th>\n",
       "    </tr>\n",
       "  </thead>\n",
       "  <tbody>\n",
       "    <tr>\n",
       "      <th>Action</th>\n",
       "      <td>22.233677</td>\n",
       "      <td>6.069633e+07</td>\n",
       "      <td>4.240434</td>\n",
       "    </tr>\n",
       "    <tr>\n",
       "      <th>Adventure</th>\n",
       "      <td>22.213740</td>\n",
       "      <td>5.102604e+07</td>\n",
       "      <td>2.615027</td>\n",
       "    </tr>\n",
       "    <tr>\n",
       "      <th>Animation</th>\n",
       "      <td>17.682927</td>\n",
       "      <td>4.354921e+07</td>\n",
       "      <td>4.223576</td>\n",
       "    </tr>\n",
       "    <tr>\n",
       "      <th>Biography</th>\n",
       "      <td>19.401198</td>\n",
       "      <td>5.388147e+07</td>\n",
       "      <td>3.187390</td>\n",
       "    </tr>\n",
       "    <tr>\n",
       "      <th>Comedy</th>\n",
       "      <td>18.921114</td>\n",
       "      <td>7.026779e+07</td>\n",
       "      <td>4.503218</td>\n",
       "    </tr>\n",
       "  </tbody>\n",
       "</table>\n",
       "</div>"
      ],
      "text/plain": [
       "           budget_group        profit       roi\n",
       "genres                                         \n",
       "Action        22.233677  6.069633e+07  4.240434\n",
       "Adventure     22.213740  5.102604e+07  2.615027\n",
       "Animation     17.682927  4.354921e+07  4.223576\n",
       "Biography     19.401198  5.388147e+07  3.187390\n",
       "Comedy        18.921114  7.026779e+07  4.503218"
      ]
     },
     "execution_count": 84,
     "metadata": {},
     "output_type": "execute_result"
    }
   ],
   "source": [
    "genre_pivot.head()"
   ]
  },
  {
   "cell_type": "code",
   "execution_count": 111,
   "metadata": {
    "ExecuteTime": {
     "end_time": "2022-06-06T09:36:36.702583Z",
     "start_time": "2022-06-06T09:36:36.687353Z"
    }
   },
   "outputs": [
    {
     "data": {
      "text/html": [
       "<div>\n",
       "<style scoped>\n",
       "    .dataframe tbody tr th:only-of-type {\n",
       "        vertical-align: middle;\n",
       "    }\n",
       "\n",
       "    .dataframe tbody tr th {\n",
       "        vertical-align: top;\n",
       "    }\n",
       "\n",
       "    .dataframe thead th {\n",
       "        text-align: right;\n",
       "    }\n",
       "</style>\n",
       "<table border=\"1\" class=\"dataframe\">\n",
       "  <thead>\n",
       "    <tr style=\"text-align: right;\">\n",
       "      <th></th>\n",
       "      <th>budget_group</th>\n",
       "      <th>profit</th>\n",
       "      <th>roi</th>\n",
       "    </tr>\n",
       "    <tr>\n",
       "      <th>genres</th>\n",
       "      <th></th>\n",
       "      <th></th>\n",
       "      <th></th>\n",
       "    </tr>\n",
       "  </thead>\n",
       "  <tbody>\n",
       "    <tr>\n",
       "      <th>Musical</th>\n",
       "      <td>12.777778</td>\n",
       "      <td>3.443918e+08</td>\n",
       "      <td>17.805335</td>\n",
       "    </tr>\n",
       "    <tr>\n",
       "      <th>Fantasy</th>\n",
       "      <td>17.328767</td>\n",
       "      <td>1.555064e+08</td>\n",
       "      <td>11.192185</td>\n",
       "    </tr>\n",
       "    <tr>\n",
       "      <th>Family</th>\n",
       "      <td>18.880597</td>\n",
       "      <td>1.059813e+08</td>\n",
       "      <td>6.049510</td>\n",
       "    </tr>\n",
       "    <tr>\n",
       "      <th>Sport</th>\n",
       "      <td>17.211538</td>\n",
       "      <td>9.307353e+07</td>\n",
       "      <td>14.024284</td>\n",
       "    </tr>\n",
       "    <tr>\n",
       "      <th>Music</th>\n",
       "      <td>17.065217</td>\n",
       "      <td>8.280215e+07</td>\n",
       "      <td>4.781997</td>\n",
       "    </tr>\n",
       "  </tbody>\n",
       "</table>\n",
       "</div>"
      ],
      "text/plain": [
       "         budget_group        profit        roi\n",
       "genres                                        \n",
       "Musical     12.777778  3.443918e+08  17.805335\n",
       "Fantasy     17.328767  1.555064e+08  11.192185\n",
       "Family      18.880597  1.059813e+08   6.049510\n",
       "Sport       17.211538  9.307353e+07  14.024284\n",
       "Music       17.065217  8.280215e+07   4.781997"
      ]
     },
     "execution_count": 111,
     "metadata": {},
     "output_type": "execute_result"
    }
   ],
   "source": [
    "genre_pivot_sorted_profit = genre_pivot.sort_values('profit', ascending=False)\n",
    "genre_pivot.head()"
   ]
  },
  {
   "cell_type": "code",
   "execution_count": 112,
   "metadata": {
    "ExecuteTime": {
     "end_time": "2022-06-06T09:36:46.986208Z",
     "start_time": "2022-06-06T09:36:46.833561Z"
    }
   },
   "outputs": [
    {
     "data": {
      "text/plain": [
       "<AxesSubplot:ylabel='genres'>"
      ]
     },
     "execution_count": 112,
     "metadata": {},
     "output_type": "execute_result"
    },
    {
     "data": {
      "image/png": "[encoded data removed]",
      "text/plain": [
       "<Figure size 432x288 with 1 Axes>"
      ]
     },
     "metadata": {
      "needs_background": "light"
     },
     "output_type": "display_data"
    }
   ],
   "source": [
    "genre_pivot_sorted_profit.plot.barh( y = 'profit')"
   ]
  },
  {
   "cell_type": "code",
   "execution_count": 113,
   "metadata": {
    "ExecuteTime": {
     "end_time": "2022-06-06T09:37:08.966267Z",
     "start_time": "2022-06-06T09:37:08.948663Z"
    }
   },
   "outputs": [
    {
     "data": {
      "text/html": [
       "<div>\n",
       "<style scoped>\n",
       "    .dataframe tbody tr th:only-of-type {\n",
       "        vertical-align: middle;\n",
       "    }\n",
       "\n",
       "    .dataframe tbody tr th {\n",
       "        vertical-align: top;\n",
       "    }\n",
       "\n",
       "    .dataframe thead th {\n",
       "        text-align: right;\n",
       "    }\n",
       "</style>\n",
       "<table border=\"1\" class=\"dataframe\">\n",
       "  <thead>\n",
       "    <tr style=\"text-align: right;\">\n",
       "      <th></th>\n",
       "      <th>budget_group</th>\n",
       "      <th>profit</th>\n",
       "      <th>roi</th>\n",
       "    </tr>\n",
       "    <tr>\n",
       "      <th>genres</th>\n",
       "      <th></th>\n",
       "      <th></th>\n",
       "      <th></th>\n",
       "    </tr>\n",
       "  </thead>\n",
       "  <tbody>\n",
       "    <tr>\n",
       "      <th>Musical</th>\n",
       "      <td>12.777778</td>\n",
       "      <td>3.443918e+08</td>\n",
       "      <td>17.805335</td>\n",
       "    </tr>\n",
       "    <tr>\n",
       "      <th>Fantasy</th>\n",
       "      <td>17.328767</td>\n",
       "      <td>1.555064e+08</td>\n",
       "      <td>11.192185</td>\n",
       "    </tr>\n",
       "    <tr>\n",
       "      <th>Family</th>\n",
       "      <td>18.880597</td>\n",
       "      <td>1.059813e+08</td>\n",
       "      <td>6.049510</td>\n",
       "    </tr>\n",
       "    <tr>\n",
       "      <th>Sport</th>\n",
       "      <td>17.211538</td>\n",
       "      <td>9.307353e+07</td>\n",
       "      <td>14.024284</td>\n",
       "    </tr>\n",
       "    <tr>\n",
       "      <th>Music</th>\n",
       "      <td>17.065217</td>\n",
       "      <td>8.280215e+07</td>\n",
       "      <td>4.781997</td>\n",
       "    </tr>\n",
       "  </tbody>\n",
       "</table>\n",
       "</div>"
      ],
      "text/plain": [
       "         budget_group        profit        roi\n",
       "genres                                        \n",
       "Musical     12.777778  3.443918e+08  17.805335\n",
       "Fantasy     17.328767  1.555064e+08  11.192185\n",
       "Family      18.880597  1.059813e+08   6.049510\n",
       "Sport       17.211538  9.307353e+07  14.024284\n",
       "Music       17.065217  8.280215e+07   4.781997"
      ]
     },
     "execution_count": 113,
     "metadata": {},
     "output_type": "execute_result"
    }
   ],
   "source": [
    "genre_pivot_sorted_roi= genre_pivot.sort_values('roi', ascending=False)\n",
    "genre_pivot.head()"
   ]
  },
  {
   "cell_type": "code",
   "execution_count": 114,
   "metadata": {
    "ExecuteTime": {
     "end_time": "2022-06-06T09:37:21.032933Z",
     "start_time": "2022-06-06T09:37:20.883038Z"
    }
   },
   "outputs": [
    {
     "data": {
      "text/plain": [
       "<AxesSubplot:ylabel='genres'>"
      ]
     },
     "execution_count": 114,
     "metadata": {},
     "output_type": "execute_result"
    },
    {
     "data": {
      "image/png": "[encoded data removed]",
      "text/plain": [
       "<Figure size 432x288 with 1 Axes>"
      ]
     },
     "metadata": {
      "needs_background": "light"
     },
     "output_type": "display_data"
    }
   ],
   "source": [
    "genre_pivot_sorted_roi.plot.barh(y='roi')"
   ]
  },
  {
   "cell_type": "code",
   "execution_count": 96,
   "metadata": {
    "ExecuteTime": {
     "end_time": "2022-06-06T09:31:05.835798Z",
     "start_time": "2022-06-06T09:31:05.723775Z"
    }
   },
   "outputs": [
    {
     "data": {
      "image/png": "[encoded data removed]",
      "text/plain": [
       "<Figure size 432x288 with 1 Axes>"
      ]
     },
     "metadata": {
      "needs_background": "light"
     },
     "output_type": "display_data"
    },
    {
     "data": {
      "text/plain": [
       "<Figure size 576x720 with 0 Axes>"
      ]
     },
     "metadata": {},
     "output_type": "display_data"
    }
   ],
   "source": [
    "movie_budget_months.plot.bar( y = 'profit')\n",
    "plt.yticks(np.arange(0,10, step = 2))\n",
    "plt.figure(figsize= (8,10))\n",
    "plt.show()"
   ]
  },
  {
   "cell_type": "code",
   "execution_count": 97,
   "metadata": {
    "ExecuteTime": {
     "end_time": "2022-06-06T09:31:10.786214Z",
     "start_time": "2022-06-06T09:31:10.771490Z"
    }
   },
   "outputs": [
    {
     "data": {
      "text/html": [
       "<div>\n",
       "<style scoped>\n",
       "    .dataframe tbody tr th:only-of-type {\n",
       "        vertical-align: middle;\n",
       "    }\n",
       "\n",
       "    .dataframe tbody tr th {\n",
       "        vertical-align: top;\n",
       "    }\n",
       "\n",
       "    .dataframe thead th {\n",
       "        text-align: right;\n",
       "    }\n",
       "</style>\n",
       "<table border=\"1\" class=\"dataframe\">\n",
       "  <thead>\n",
       "    <tr style=\"text-align: right;\">\n",
       "      <th></th>\n",
       "      <th>profit</th>\n",
       "      <th>roi</th>\n",
       "    </tr>\n",
       "    <tr>\n",
       "      <th>release_month</th>\n",
       "      <th></th>\n",
       "      <th></th>\n",
       "    </tr>\n",
       "  </thead>\n",
       "  <tbody>\n",
       "    <tr>\n",
       "      <th>1</th>\n",
       "      <td>8.161076e+07</td>\n",
       "      <td>7.731025</td>\n",
       "    </tr>\n",
       "    <tr>\n",
       "      <th>2</th>\n",
       "      <td>7.150254e+07</td>\n",
       "      <td>5.435679</td>\n",
       "    </tr>\n",
       "    <tr>\n",
       "      <th>3</th>\n",
       "      <td>4.244249e+07</td>\n",
       "      <td>3.391571</td>\n",
       "    </tr>\n",
       "    <tr>\n",
       "      <th>4</th>\n",
       "      <td>5.697493e+07</td>\n",
       "      <td>2.736767</td>\n",
       "    </tr>\n",
       "    <tr>\n",
       "      <th>5</th>\n",
       "      <td>5.481040e+07</td>\n",
       "      <td>3.249346</td>\n",
       "    </tr>\n",
       "  </tbody>\n",
       "</table>\n",
       "</div>"
      ],
      "text/plain": [
       "                     profit       roi\n",
       "release_month                        \n",
       "1              8.161076e+07  7.731025\n",
       "2              7.150254e+07  5.435679\n",
       "3              4.244249e+07  3.391571\n",
       "4              5.697493e+07  2.736767\n",
       "5              5.481040e+07  3.249346"
      ]
     },
     "execution_count": 97,
     "metadata": {},
     "output_type": "execute_result"
    }
   ],
   "source": [
    "movie_budget_months.head()"
   ]
  },
  {
   "cell_type": "code",
   "execution_count": 98,
   "metadata": {
    "ExecuteTime": {
     "end_time": "2022-06-06T09:31:14.009422Z",
     "start_time": "2022-06-06T09:31:13.902720Z"
    }
   },
   "outputs": [
    {
     "data": {
      "text/plain": [
       "Text(0, 0.5, 'ROI of Movie')"
      ]
     },
     "execution_count": 98,
     "metadata": {},
     "output_type": "execute_result"
    },
    {
     "data": {
      "image/png": "[encoded data removed]",
      "text/plain": [
       "<Figure size 432x288 with 1 Axes>"
      ]
     },
     "metadata": {
      "needs_background": "light"
     },
     "output_type": "display_data"
    }
   ],
   "source": [
    "movie_budget_months.plot.line(y = 'roi')\n",
    "plt.xlabel('Month Movie Released')\n",
    "plt.ylabel('ROI of Movie')"
   ]
  },
  {
   "cell_type": "code",
   "execution_count": 99,
   "metadata": {
    "ExecuteTime": {
     "end_time": "2022-06-06T09:31:16.830157Z",
     "start_time": "2022-06-06T09:31:16.757107Z"
    }
   },
   "outputs": [
    {
     "data": {
      "text/plain": [
       "Text(0, 0.5, 'Profit of Movie in $100 millions')"
      ]
     },
     "execution_count": 99,
     "metadata": {},
     "output_type": "execute_result"
    },
    {
     "data": {
      "image/png": "[encoded data removed]",
      "text/plain": [
       "<Figure size 432x288 with 1 Axes>"
      ]
     },
     "metadata": {
      "needs_background": "light"
     },
     "output_type": "display_data"
    }
   ],
   "source": [
    "movie_budget_months.plot.line( y = 'profit')\n",
    "plt.xlabel(\"Month Movie Released\")\n",
    "plt.ylabel('Profit of Movie in $100 millions')"
   ]
  },
  {
   "cell_type": "code",
   "execution_count": 100,
   "metadata": {
    "ExecuteTime": {
     "end_time": "2022-06-06T09:31:19.550445Z",
     "start_time": "2022-06-06T09:31:19.544656Z"
    }
   },
   "outputs": [
    {
     "data": {
      "text/html": [
       "<div>\n",
       "<style scoped>\n",
       "    .dataframe tbody tr th:only-of-type {\n",
       "        vertical-align: middle;\n",
       "    }\n",
       "\n",
       "    .dataframe tbody tr th {\n",
       "        vertical-align: top;\n",
       "    }\n",
       "\n",
       "    .dataframe thead th {\n",
       "        text-align: right;\n",
       "    }\n",
       "</style>\n",
       "<table border=\"1\" class=\"dataframe\">\n",
       "  <thead>\n",
       "    <tr style=\"text-align: right;\">\n",
       "      <th></th>\n",
       "      <th>profit</th>\n",
       "      <th>roi</th>\n",
       "      <th>production_budget</th>\n",
       "      <th>budget_group</th>\n",
       "      <th>release_date</th>\n",
       "      <th>release_month</th>\n",
       "    </tr>\n",
       "    <tr>\n",
       "      <th>movie</th>\n",
       "      <th></th>\n",
       "      <th></th>\n",
       "      <th></th>\n",
       "      <th></th>\n",
       "      <th></th>\n",
       "      <th></th>\n",
       "    </tr>\n",
       "  </thead>\n",
       "  <tbody>\n",
       "    <tr>\n",
       "      <th>10 Cloverfield Lane</th>\n",
       "      <td>175369421.0</td>\n",
       "      <td>35.073884</td>\n",
       "      <td>5000000.0</td>\n",
       "      <td>5</td>\n",
       "      <td>2016-03-11</td>\n",
       "      <td>3</td>\n",
       "    </tr>\n",
       "    <tr>\n",
       "      <th>10 Days in a Madhouse</th>\n",
       "      <td>-11970768.0</td>\n",
       "      <td>-0.997564</td>\n",
       "      <td>12000000.0</td>\n",
       "      <td>10</td>\n",
       "      <td>2015-11-11</td>\n",
       "      <td>11</td>\n",
       "    </tr>\n",
       "    <tr>\n",
       "      <th>12 Strong</th>\n",
       "      <td>81938091.0</td>\n",
       "      <td>2.341088</td>\n",
       "      <td>35000000.0</td>\n",
       "      <td>35</td>\n",
       "      <td>2018-01-19</td>\n",
       "      <td>1</td>\n",
       "    </tr>\n",
       "    <tr>\n",
       "      <th>12 Years a Slave</th>\n",
       "      <td>217697336.0</td>\n",
       "      <td>10.884867</td>\n",
       "      <td>20000000.0</td>\n",
       "      <td>20</td>\n",
       "      <td>2013-10-18</td>\n",
       "      <td>10</td>\n",
       "    </tr>\n",
       "    <tr>\n",
       "      <th>127 Hours</th>\n",
       "      <td>60552401.0</td>\n",
       "      <td>3.364022</td>\n",
       "      <td>18000000.0</td>\n",
       "      <td>20</td>\n",
       "      <td>2010-11-05</td>\n",
       "      <td>11</td>\n",
       "    </tr>\n",
       "  </tbody>\n",
       "</table>\n",
       "</div>"
      ],
      "text/plain": [
       "                            profit        roi  production_budget  \\\n",
       "movie                                                              \n",
       "10 Cloverfield Lane    175369421.0  35.073884          5000000.0   \n",
       "10 Days in a Madhouse  -11970768.0  -0.997564         12000000.0   \n",
       "12 Strong               81938091.0   2.341088         35000000.0   \n",
       "12 Years a Slave       217697336.0  10.884867         20000000.0   \n",
       "127 Hours               60552401.0   3.364022         18000000.0   \n",
       "\n",
       "                       budget_group release_date  release_month  \n",
       "movie                                                            \n",
       "10 Cloverfield Lane               5   2016-03-11              3  \n",
       "10 Days in a Madhouse            10   2015-11-11             11  \n",
       "12 Strong                        35   2018-01-19              1  \n",
       "12 Years a Slave                 20   2013-10-18             10  \n",
       "127 Hours                        20   2010-11-05             11  "
      ]
     },
     "execution_count": 100,
     "metadata": {},
     "output_type": "execute_result"
    }
   ],
   "source": [
    "movie_budget_vis.head()"
   ]
  },
  {
   "cell_type": "code",
   "execution_count": 101,
   "metadata": {
    "ExecuteTime": {
     "end_time": "2022-06-06T09:31:22.470926Z",
     "start_time": "2022-06-06T09:31:22.454812Z"
    }
   },
   "outputs": [
    {
     "data": {
      "text/html": [
       "<div>\n",
       "<style scoped>\n",
       "    .dataframe tbody tr th:only-of-type {\n",
       "        vertical-align: middle;\n",
       "    }\n",
       "\n",
       "    .dataframe tbody tr th {\n",
       "        vertical-align: top;\n",
       "    }\n",
       "\n",
       "    .dataframe thead th {\n",
       "        text-align: right;\n",
       "    }\n",
       "</style>\n",
       "<table border=\"1\" class=\"dataframe\">\n",
       "  <thead>\n",
       "    <tr style=\"text-align: right;\">\n",
       "      <th></th>\n",
       "      <th>profit</th>\n",
       "      <th>roi</th>\n",
       "      <th>production_budget</th>\n",
       "      <th>vote_average</th>\n",
       "    </tr>\n",
       "    <tr>\n",
       "      <th>budget_group</th>\n",
       "      <th></th>\n",
       "      <th></th>\n",
       "      <th></th>\n",
       "      <th></th>\n",
       "    </tr>\n",
       "  </thead>\n",
       "  <tbody>\n",
       "    <tr>\n",
       "      <th>5</th>\n",
       "      <td>4.703846e+07</td>\n",
       "      <td>8.841384</td>\n",
       "      <td>5.728869e+06</td>\n",
       "      <td>6.138095</td>\n",
       "    </tr>\n",
       "    <tr>\n",
       "      <th>10</th>\n",
       "      <td>4.648407e+07</td>\n",
       "      <td>4.548705</td>\n",
       "      <td>1.008074e+07</td>\n",
       "      <td>6.355926</td>\n",
       "    </tr>\n",
       "    <tr>\n",
       "      <th>15</th>\n",
       "      <td>5.908965e+07</td>\n",
       "      <td>4.044592</td>\n",
       "      <td>1.469524e+07</td>\n",
       "      <td>6.288435</td>\n",
       "    </tr>\n",
       "    <tr>\n",
       "      <th>20</th>\n",
       "      <td>8.155366e+07</td>\n",
       "      <td>4.097472</td>\n",
       "      <td>1.976474e+07</td>\n",
       "      <td>6.180000</td>\n",
       "    </tr>\n",
       "    <tr>\n",
       "      <th>25</th>\n",
       "      <td>5.779423e+07</td>\n",
       "      <td>2.330625</td>\n",
       "      <td>2.492960e+07</td>\n",
       "      <td>6.313600</td>\n",
       "    </tr>\n",
       "  </tbody>\n",
       "</table>\n",
       "</div>"
      ],
      "text/plain": [
       "                    profit       roi  production_budget  vote_average\n",
       "budget_group                                                         \n",
       "5             4.703846e+07  8.841384       5.728869e+06      6.138095\n",
       "10            4.648407e+07  4.548705       1.008074e+07      6.355926\n",
       "15            5.908965e+07  4.044592       1.469524e+07      6.288435\n",
       "20            8.155366e+07  4.097472       1.976474e+07      6.180000\n",
       "25            5.779423e+07  2.330625       2.492960e+07      6.313600"
      ]
     },
     "execution_count": 101,
     "metadata": {},
     "output_type": "execute_result"
    }
   ],
   "source": [
    "budget_group.head()"
   ]
  },
  {
   "cell_type": "code",
   "execution_count": null,
   "metadata": {
    "ExecuteTime": {
     "end_time": "2022-06-01T12:20:27.512746Z",
     "start_time": "2022-06-01T12:20:27.337091Z"
    }
   },
   "outputs": [],
   "source": []
  },
  {
   "cell_type": "code",
   "execution_count": null,
   "metadata": {
    "ExecuteTime": {
     "end_time": "2022-06-06T09:28:20.246873Z",
     "start_time": "2022-06-06T09:28:20.246865Z"
    }
   },
   "outputs": [],
   "source": []
  },
  {
   "cell_type": "code",
   "execution_count": 102,
   "metadata": {
    "ExecuteTime": {
     "end_time": "2022-06-06T09:31:28.113586Z",
     "start_time": "2022-06-06T09:31:27.832161Z"
    }
   },
   "outputs": [
    {
     "data": {
      "text/plain": [
       "Text(0.5, 1.0, 'Release month Effect on ROI')"
      ]
     },
     "execution_count": 102,
     "metadata": {},
     "output_type": "execute_result"
    },
    {
     "data": {
      "image/png": "[encoded data removed]",
      "text/plain": [
       "<Figure size 432x288 with 1 Axes>"
      ]
     },
     "metadata": {
      "needs_background": "light"
     },
     "output_type": "display_data"
    }
   ],
   "source": [
    "sns.barplot(data= movie_budget_vis, x= 'release_month', y = 'roi', color= 'blue')\n",
    "plt.xlabel(\"Month Movie Released\")\n",
    "plt.ylabel('ROI')\n",
    "plt.title('Release month Effect on ROI')"
   ]
  },
  {
   "cell_type": "code",
   "execution_count": 103,
   "metadata": {
    "ExecuteTime": {
     "end_time": "2022-06-06T09:31:35.573533Z",
     "start_time": "2022-06-06T09:31:35.291934Z"
    }
   },
   "outputs": [
    {
     "data": {
      "text/plain": [
       "Text(0.5, 1.0, 'Release month Effect on Profit')"
      ]
     },
     "execution_count": 103,
     "metadata": {},
     "output_type": "execute_result"
    },
    {
     "data": {
      "image/png": "[encoded data removed]",
      "text/plain": [
       "<Figure size 432x288 with 1 Axes>"
      ]
     },
     "metadata": {
      "needs_background": "light"
     },
     "output_type": "display_data"
    }
   ],
   "source": [
    "sns.barplot(data = movie_budget_vis,  x = 'release_month', y = 'profit', color = 'blue')\n",
    "plt.xlabel(\"Month Movie Released\")\n",
    "plt.ylabel('Profit of Movie in $100 millions')\n",
    "plt.title('Release month Effect on Profit')\n"
   ]
  },
  {
   "cell_type": "code",
   "execution_count": null,
   "metadata": {
    "ExecuteTime": {
     "end_time": "2022-06-06T09:28:20.249378Z",
     "start_time": "2022-06-06T09:28:20.249371Z"
    }
   },
   "outputs": [],
   "source": [
    "movie_budget_vis.head()"
   ]
  },
  {
   "cell_type": "code",
   "execution_count": null,
   "metadata": {
    "ExecuteTime": {
     "end_time": "2022-06-02T10:45:26.131593Z",
     "start_time": "2022-06-02T10:45:26.022572Z"
    }
   },
   "outputs": [],
   "source": []
  },
  {
   "cell_type": "code",
   "execution_count": null,
   "metadata": {
    "ExecuteTime": {
     "end_time": "2022-06-02T10:40:24.187748Z",
     "start_time": "2022-06-02T10:40:22.000Z"
    }
   },
   "outputs": [],
   "source": []
  },
  {
   "cell_type": "markdown",
   "metadata": {},
   "source": [
    "# Conclusion:\n",
    "    In conclusion, the data shows that the the best movie to release as our first movie, if we want to maximize profit, would be a musical, released in June with a production budget of $30 milliion.  We could next dive into the idea of releasing a critically acclaimed movie, by looking at avg rating and reviews.  This would allow us to build momentum and give us a good lead into a second movie."
   ]
  },
  {
   "cell_type": "code",
   "execution_count": null,
   "metadata": {},
   "outputs": [],
   "source": []
  }
 ],
 "metadata": {
  "kernelspec": {
   "display_name": "Python 3 (ipykernel)",
   "language": "python",
   "name": "python3"
  },
  "language_info": {
   "codemirror_mode": {
    "name": "ipython",
    "version": 3
   },
   "file_extension": ".py",
   "mimetype": "text/x-python",
   "name": "python",
   "nbconvert_exporter": "python",
   "pygments_lexer": "ipython3",
   "version": "3.9.7"
  },
  "toc": {
   "base_numbering": 1,
   "nav_menu": {},
   "number_sections": true,
   "sideBar": true,
   "skip_h1_title": false,
   "title_cell": "Table of Contents",
   "title_sidebar": "Contents",
   "toc_cell": false,
   "toc_position": {},
   "toc_section_display": true,
   "toc_window_display": true
  },
  "varInspector": {
   "cols": {
    "lenName": 16,
    "lenType": 16,
    "lenVar": 40
   },
   "kernels_config": {
    "python": {
     "delete_cmd_postfix": "",
     "delete_cmd_prefix": "del ",
     "library": "var_list.py",
     "varRefreshCmd": "print(var_dic_list())"
    },
    "r": {
     "delete_cmd_postfix": ") ",
     "delete_cmd_prefix": "rm(",
     "library": "var_list.r",
     "varRefreshCmd": "cat(var_dic_list()) "
    }
   },
   "position": {
    "height": "144.852px",
    "left": "993px",
    "right": "20px",
    "top": "39px",
    "width": "350px"
   },
   "types_to_exclude": [
    "module",
    "function",
    "builtin_function_or_method",
    "instance",
    "_Feature"
   ],
   "window_display": true
  }
 },
 "nbformat": 4,
 "nbformat_minor": 4
}
